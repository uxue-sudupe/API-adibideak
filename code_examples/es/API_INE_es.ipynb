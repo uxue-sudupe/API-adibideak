{
  "nbformat": 4,
  "nbformat_minor": 0,
  "metadata": {
    "colab": {
      "provenance": [],
      "authorship_tag": "ABX9TyPhcyxOVLp5jpmx420Zo3wA"
    },
    "kernelspec": {
      "name": "ir",
      "display_name": "R"
    },
    "language_info": {
      "name": "R"
    }
  },
  "cells": [
    {
      "cell_type": "markdown",
      "source": [
        "[![Abrir en Colab](https://colab.research.google.com/assets/colab-badge.svg)](https://colab.research.google.com/github/uxue-sudupe/API-adibideak/blob/main/code_examples/es/API_INE_es.ipynb)"
      ],
      "metadata": {
        "id": "_9q2UvYf8hVf"
      }
    },
    {
      "cell_type": "markdown",
      "source": [
        "# Datos abiertos de INE - Servicios web\n",
        "\n",
        "## 1. INTRODUCCIÓN\n",
        "\n",
        "Los datos que se encuentran en la base de datos del INE (INEbase) se pueden obtener a través de servicios web, además de consultarlos en su [página web](https://www.ine.es/dyngs/INEbase/listaoperaciones.htm).\n",
        "\n",
        "* respuestas en castellano e inglés\n",
        "* es gratuito y no requiere clave API\n",
        "* en la reutilización de datos es necesario citar la fuente\n",
        "\n",
        "La información a la que se podrá acceder a través del servicio API del INE proviene de tres fuentes:\n",
        "\n",
        "* Base de datos Tempus3\n",
        "* Repositorio de archivos PC-Axis\n",
        "* Repositorio de archivos tpx\n",
        "\n",
        "Utilizaremos la biblioteca [ineapir](https://github.com/es-ine/ineapir) preparada por el INE. Se trata de una biblioteca en lenguaje de programación R que permite buscar y acceder a los datos del INEbase utilizando diferentes filtros."
      ],
      "metadata": {
        "id": "jYPSjUjMyD_H"
      }
    },
    {
      "cell_type": "code",
      "source": [
        "# Instalar la biblioteca necesaria (desde Github)\n",
        "\n",
        "remotes::install_github(\"es-ine/ineapir\")\n",
        "\n",
        "library(ineapir)"
      ],
      "metadata": {
        "colab": {
          "base_uri": "https://localhost:8080/"
        },
        "id": "pqAZNQjBsfZh",
        "outputId": "b96e86f4-588b-49f6-ad2b-808367875366"
      },
      "execution_count": null,
      "outputs": [
        {
          "output_type": "stream",
          "name": "stderr",
          "text": [
            "Skipping install of 'ineapir' from a github remote, the SHA1 (6676cb69) has not changed since last install.\n",
            "  Use `force = TRUE` to force installation\n",
            "\n"
          ]
        }
      ]
    },
    {
      "cell_type": "markdown",
      "source": [
        "## 2. CONJUNTOS DE DATOS Y CÓDIGOS DE IDENTIFICACIÓN DE INEBASE\n",
        "\n",
        "No existe un listado o catálogo de todos los conjuntos/tablas de datos que se encuentran en el INEbase.\n",
        "\n",
        "Sin embargo, en la base de datos Tempus3 se están unificando las operaciones del INE. De momento recoge información de todas las operaciones estadísticas coyunturales y de algunas operaciones estadísticas estructurales. A medida que se integra en la base de datos, cambia el listado de operaciones de Tempus3.\n",
        "\n",
        "La lista de operaciones disponibles se puede consultar con la función `get_metadata_operations`.\n"
      ],
      "metadata": {
        "id": "Bg-LR3gNxcGh"
      }
    },
    {
      "cell_type": "code",
      "source": [
        "tempus3_operaciones <- get_metadata_operations()\n",
        "tempus3_operaciones"
      ],
      "metadata": {
        "colab": {
          "base_uri": "https://localhost:8080/",
          "height": 1000
        },
        "id": "20Lg6oLAzJt6",
        "outputId": "18fec2aa-ee5b-4536-d5d5-b269b49a8d07"
      },
      "execution_count": null,
      "outputs": [
        {
          "output_type": "display_data",
          "data": {
            "text/html": [
              "<table class=\"dataframe\">\n",
              "<caption>A data.frame: 110 × 5</caption>\n",
              "<thead>\n",
              "\t<tr><th scope=col>Id</th><th scope=col>Cod_IOE</th><th scope=col>Nombre</th><th scope=col>Codigo</th><th scope=col>Url</th></tr>\n",
              "\t<tr><th scope=col>&lt;int&gt;</th><th scope=col>&lt;chr&gt;</th><th scope=col>&lt;chr&gt;</th><th scope=col>&lt;chr&gt;</th><th scope=col>&lt;chr&gt;</th></tr>\n",
              "</thead>\n",
              "<tbody>\n",
              "\t<tr><td> 4</td><td>30147</td><td>Estadística de Efectos de Comercio Impagados                                                   </td><td>EI      </td><td>NA                                                                                                   </td></tr>\n",
              "\t<tr><td> 6</td><td>30211</td><td>Índice de Coste Laboral Armonizado                                                             </td><td>ICLA    </td><td>NA                                                                                                   </td></tr>\n",
              "\t<tr><td> 7</td><td>30168</td><td>Estadística de Transmisión de Derechos de la Propiedad                                         </td><td>ETDP    </td><td>NA                                                                                                   </td></tr>\n",
              "\t<tr><td>10</td><td>30256</td><td><span style=white-space:pre-wrap>Indicadores Urbanos                                                                            </span></td><td><span style=white-space:pre-wrap>UA      </span></td><td>https://www.ine.es/dyngs/INEbase/es/operacion.htm?c=Estadistica_C&amp;cid=1254736176957&amp;idp=1254735976608</td></tr>\n",
              "\t<tr><td>13</td><td>30219</td><td>Estadística del Procedimiento Concursal                                                        </td><td>EPC     </td><td>NA                                                                                                   </td></tr>\n",
              "\t<tr><td>14</td><td>30182</td><td>Índices de Precios del Sector Servicios                                                        </td><td>IPS     </td><td>NA                                                                                                   </td></tr>\n",
              "\t<tr><td>15</td><td>30457</td><td>Índice de Precios de la Vivienda (IPV)                                                         </td><td>IPV     </td><td>NA                                                                                                   </td></tr>\n",
              "\t<tr><td>16</td><td><span style=white-space:pre-wrap>     </span></td><td><span style=white-space:pre-wrap>Distribución de Nombres                                                                        </span></td><td><span style=white-space:pre-wrap>TNOM    </span></td><td>https://www.ine.es/dyngs/INEbase/es/operacion.htm?c=Estadistica_C&amp;cid=1254736177009&amp;idp=1254735572981</td></tr>\n",
              "\t<tr><td>18</td><td>30180</td><td>Índice de Precios de Consumo Armonizado (IPCA)                                                 </td><td>IPCA    </td><td>NA                                                                                                   </td></tr>\n",
              "\t<tr><td>20</td><td>30013</td><td>Contabilidad Nacional Trimestral de España. Base 2000                                          </td><td>CNTR2000</td><td>NA                                                                                                   </td></tr>\n",
              "\t<tr><td>21</td><td>30259</td><td>Estimaciones de la Población Actual (ePOBa)                                                    </td><td>EPOBA   </td><td>NA                                                                                                   </td></tr>\n",
              "\t<tr><td>22</td><td>30245</td><td>Cifras Oficiales de Población de los Municipios Españoles: Revisión del Padrón Municipal       </td><td>DPOP    </td><td>NA                                                                                                   </td></tr>\n",
              "\t<tr><td>23</td><td>30417</td><td>Estadística de Defunciones según la Causa de Muerte                                            </td><td>ECM     </td><td>NA                                                                                                   </td></tr>\n",
              "\t<tr><td>24</td><td>30048</td><td>Estadística Estructural de Empresas: Sector Industrial                                         </td><td>EEE:IND </td><td>NA                                                                                                   </td></tr>\n",
              "\t<tr><td>25</td><td>30138</td><td>Índice de Precios de Consumo (IPC)                                                             </td><td>IPC     </td><td>NA                                                                                                   </td></tr>\n",
              "\t<tr><td>26</td><td>30050</td><td>Índices de Producción Industrial                                                               </td><td>IPI     </td><td>NA                                                                                                   </td></tr>\n",
              "\t<tr><td>27</td><td>30051</td><td>Índices de Precios Industriales                                                                </td><td>IPRI    </td><td>NA                                                                                                   </td></tr>\n",
              "\t<tr><td>30</td><td>     </td><td>Encuesta de coyuntura de comercio al por menor. Base 1994                                      </td><td>CCM     </td><td>NA                                                                                                   </td></tr>\n",
              "\t<tr><td>31</td><td>30183</td><td>Indicadores de Actividad del Sector Servicios                                                  </td><td>IAS     </td><td>NA                                                                                                   </td></tr>\n",
              "\t<tr><td>32</td><td>30103</td><td>Índices de Comercio al por Menor                                                               </td><td>ICM     </td><td>NA                                                                                                   </td></tr>\n",
              "\t<tr><td>33</td><td>30264</td><td>Indicadores Demográficos Básicos                                                               </td><td>IDB     </td><td>NA                                                                                                   </td></tr>\n",
              "\t<tr><td>35</td><td>     </td><td>Poblaciones de hecho desde 1900 hasta 1991. Cifras oficiales sacadas de los Censos respectivos.</td><td>DPOH    </td><td>NA                                                                                                   </td></tr>\n",
              "\t<tr><td>36</td><td>     </td><td>Poblaciones de derecho desde 1986 hasta 1995. Cifras oficiales sacadas del Padrón.             </td><td>DPOD    </td><td>NA                                                                                                   </td></tr>\n",
              "\t<tr><td>39</td><td>30162</td><td>Encuesta de Ocupación en Alojamientos Turísticos                                               </td><td>EOT     </td><td>NA                                                                                                   </td></tr>\n",
              "\t<tr><td>40</td><td>30149</td><td>Estadística de Hipotecas                                                                       </td><td>HPT     </td><td>NA                                                                                                   </td></tr>\n",
              "\t<tr><td>41</td><td>30053</td><td>Índices de Entradas de Pedidos                                                                 </td><td>IEP     </td><td>NA                                                                                                   </td></tr>\n",
              "\t<tr><td>42</td><td>30052</td><td>Índices de Cifras de Negocios en la Industria                                                  </td><td>ICN     </td><td>NA                                                                                                   </td></tr>\n",
              "\t<tr><td>43</td><td>30203</td><td>Explotación Estadística del Directorio Central de Empresas                                     </td><td>DIR     </td><td>NA                                                                                                   </td></tr>\n",
              "\t<tr><td>44</td><td>30198</td><td>Encuesta sobre Comercio Internacional de Servicios y otras Operaciones Internacionales         </td><td>ICES    </td><td>NA                                                                                                   </td></tr>\n",
              "\t<tr><td>48</td><td>30071</td><td>Índices de Precios de Exportación y de Importación de Productos Industriales                   </td><td>IPRX-M  </td><td>NA                                                                                                   </td></tr>\n",
              "\t<tr><td>⋮</td><td>⋮</td><td>⋮</td><td>⋮</td><td>⋮</td></tr>\n",
              "\t<tr><td>328</td><td>30239</td><td>Encuesta de Ocupación en Albergues                                                                    </td><td>EOA   </td><td>NA                                                                                                   </td></tr>\n",
              "\t<tr><td>329</td><td>16029</td><td>Encuesta de Gasto Turístico                                                                           </td><td>EG    </td><td>NA                                                                                                   </td></tr>\n",
              "\t<tr><td>330</td><td>16028</td><td>Movimientos Turísticos en Fronteras                                                                   </td><td>FR    </td><td>NA                                                                                                   </td></tr>\n",
              "\t<tr><td>331</td><td><span style=white-space:pre-wrap>     </span></td><td><span style=white-space:pre-wrap>Índice de Garantía de la Competitividad                                                               </span></td><td><span style=white-space:pre-wrap>IGC   </span></td><td>https://www.ine.es/dyngs/INEbase/es/operacion.htm?c=Estadistica_C&amp;cid=1254736177109&amp;idp=1254735976607</td></tr>\n",
              "\t<tr><td>333</td><td>30456</td><td>Mujeres y Hombres en España                                                                           </td><td>MYH   </td><td>NA                                                                                                   </td></tr>\n",
              "\t<tr><td>334</td><td>16023</td><td>Encuesta de turismo de residentes                                                                     </td><td>ETR   </td><td>NA                                                                                                   </td></tr>\n",
              "\t<tr><td>336</td><td>30279</td><td>Estadística de Adquisiciones de Nacionalidad Española de Residentes                                   </td><td>ANES  </td><td>NA                                                                                                   </td></tr>\n",
              "\t<tr><td>345</td><td>30030</td><td>Contabilidad nacional anual de España: agregados por rama de actividad                                </td><td>CNEAG </td><td>NA                                                                                                   </td></tr>\n",
              "\t<tr><td>353</td><td>30325</td><td><span style=white-space:pre-wrap>Atlas de distribución de renta de los hogares                                                         </span></td><td><span style=white-space:pre-wrap>ADRH  </span></td><td>https://www.ine.es/dyngs/INEbase/es/operacion.htm?c=Estadistica_C&amp;cid=1254736177088&amp;idp=1254735976608</td></tr>\n",
              "\t<tr><td>402</td><td>     </td><td>Movilidad COVID19                                                                                     </td><td>MMOV  </td><td>https://www.ine.es/experimental/movilidad/experimental_em.htm                                        </td></tr>\n",
              "\t<tr><td>406</td><td>30324</td><td><span style=white-space:pre-wrap>Estimacion del numero de defunciones semanales (EDeS)                                                 </span></td><td><span style=white-space:pre-wrap>EDES  </span></td><td>https://www.ine.es/dyngs/INEbase/es/operacion.htm?c=Estadistica_C&amp;cid=1254736177074&amp;idp=1254735573002</td></tr>\n",
              "\t<tr><td>407</td><td>     </td><td>Encuesta Cuatrienal de Estructural Salarial                                                           </td><td>EAES:Q</td><td>NA                                                                                                   </td></tr>\n",
              "\t<tr><td>410</td><td>     </td><td>Viviendas turísticas en España                                                                        </td><td>VTE   </td><td>https://www.ine.es/experimental/viv_turistica/experimental_viv_turistica.htm                         </td></tr>\n",
              "\t<tr><td>412</td><td>     </td><td>Distribución del gasto en destino realizado por los visitantes extranjeros en sus visitas a España    </td><td>GDVE  </td><td>https://www.ine.es/experimental/gasto_tarjetas/trimestral.htm                                        </td></tr>\n",
              "\t<tr><td>424</td><td>30323</td><td><span style=white-space:pre-wrap>Estimación Mensual de Nacimientos                                                                     </span></td><td><span style=white-space:pre-wrap>EMN   </span></td><td>https://www.ine.es/dyngs/INEbase/es/operacion.htm?c=Estadistica_C&amp;cid=1254736177079&amp;idp=1254735573002</td></tr>\n",
              "\t<tr><td>425</td><td>     </td><td>Comercio diario al por menor de grandes empresas                                                      </td><td>CDMGE </td><td>https://www.ine.es/experimental/cdmge/                                                               </td></tr>\n",
              "\t<tr><td>426</td><td>     </td><td>Coyuntura demográfica de empresas                                                                     </td><td>CODEM </td><td>https://www.ine.es/experimental/codem/experimental_codem.htm                                         </td></tr>\n",
              "\t<tr><td>429</td><td>     </td><td>Ocupación en alojamientos turísticos                                                                  </td><td>OAT   </td><td>https://www.ine.es/experimental/ocupacion/experimental_ocupacion.htm                                 </td></tr>\n",
              "\t<tr><td>432</td><td>     </td><td>Índice de Precios de Vivienda en Alquiler                                                             </td><td>IPVA  </td><td>NA                                                                                                   </td></tr>\n",
              "\t<tr><td>433</td><td>     </td><td>Indicador Multidimensional de Calidad de Vida                                                         </td><td>IMCV  </td><td>https://www.ine.es/experimental/imcv/experimental_ind_multi_calidad_vida.htm                         </td></tr>\n",
              "\t<tr><td>436</td><td>     </td><td>Medición del turismo receptor a partir de la posición de los teléfonos móviles                        </td><td>TMOV  </td><td>https://www.ine.es/experimental/turismo_moviles/experimental_turismo_moviles.htm#!turismo_receptor   </td></tr>\n",
              "\t<tr><td>437</td><td>     </td><td>Medición del turismo emisor a partir de la posición de los teléfonos móviles                          </td><td>TMOV  </td><td>https://www.ine.es/experimental/turismo_moviles/experimental_turismo_moviles.htm#!turismo_emisor     </td></tr>\n",
              "\t<tr><td>438</td><td>     </td><td>Medición del turismo interno interprovincial a partir de la posición de los teléfonos móviles         </td><td>TMOV  </td><td>https://www.ine.es/experimental/turismo_moviles/experimental_turismo_moviles_interno.htm             </td></tr>\n",
              "\t<tr><td>450</td><td>30282</td><td><span style=white-space:pre-wrap>Estadística Continua de Población                                                                     </span></td><td><span style=white-space:pre-wrap>ECP   </span></td><td>https://www.ine.es/dyngs/INEbase/es/operacion.htm?c=Estadistica_C&amp;cid=1254736177095&amp;idp=1254735572981</td></tr>\n",
              "\t<tr><td>452</td><td>     </td><td>Distribución del gasto realizado por los residentes en sus visitas al Extranjero según país de destino</td><td>GDRE  </td><td>https://www.ine.es/experimental/turismo_gasto/turistas_residentes_gasto_extranjero.htm               </td></tr>\n",
              "\t<tr><td>455</td><td>30283</td><td><span style=white-space:pre-wrap>Estadística de Migraciones y Cambios de Residencia                                                    </span></td><td><span style=white-space:pre-wrap>EMCR  </span></td><td>https://www.ine.es/dyngs/INEbase/es/operacion.htm?c=Estadistica_C&amp;cid=1254736177098&amp;idp=1254735573002</td></tr>\n",
              "\t<tr><td>464</td><td>30098</td><td><span style=white-space:pre-wrap>Comercio Internacional de Servicios por Modos de Suministro (MoS)                                     </span></td><td><span style=white-space:pre-wrap>MOS   </span></td><td>https://www.ine.es/dyngs/INEbase/es/operacion.htm?c=Estadistica_C&amp;cid=1254736177111&amp;idp=1254735576778</td></tr>\n",
              "\t<tr><td>465</td><td>30240</td><td><span style=white-space:pre-wrap>Comercio Internacional de Servicios por Características de las Empresas (STEC)                        </span></td><td><span style=white-space:pre-wrap>STEC  </span></td><td>https://www.ine.es/dyngs/INEbase/es/operacion.htm?c=Estadistica_C&amp;cid=1254736177112&amp;idp=1254735576778</td></tr>\n",
              "\t<tr><td>474</td><td>30099</td><td>Estadística sobre Cadenas de Valor Globales                                                           </td><td>ECVG  </td><td>NA                                                                                                   </td></tr>\n",
              "\t<tr><td>476</td><td>     </td><td>Cuentas de Emisiones a la Atmósfera Trimestrales                                                      </td><td>CMEA  </td><td>https://www.ine.es/experimental/ceatr/experimental_ceatr.htm                                         </td></tr>\n",
              "</tbody>\n",
              "</table>\n"
            ],
            "text/markdown": "\nA data.frame: 110 × 5\n\n| Id &lt;int&gt; | Cod_IOE &lt;chr&gt; | Nombre &lt;chr&gt; | Codigo &lt;chr&gt; | Url &lt;chr&gt; |\n|---|---|---|---|---|\n|  4 | 30147 | Estadística de Efectos de Comercio Impagados                                                    | EI       | NA                                                                                                    |\n|  6 | 30211 | Índice de Coste Laboral Armonizado                                                              | ICLA     | NA                                                                                                    |\n|  7 | 30168 | Estadística de Transmisión de Derechos de la Propiedad                                          | ETDP     | NA                                                                                                    |\n| 10 | 30256 | Indicadores Urbanos                                                                             | UA       | https://www.ine.es/dyngs/INEbase/es/operacion.htm?c=Estadistica_C&amp;cid=1254736176957&amp;idp=1254735976608 |\n| 13 | 30219 | Estadística del Procedimiento Concursal                                                         | EPC      | NA                                                                                                    |\n| 14 | 30182 | Índices de Precios del Sector Servicios                                                         | IPS      | NA                                                                                                    |\n| 15 | 30457 | Índice de Precios de la Vivienda (IPV)                                                          | IPV      | NA                                                                                                    |\n| 16 | <!----> | Distribución de Nombres                                                                         | TNOM     | https://www.ine.es/dyngs/INEbase/es/operacion.htm?c=Estadistica_C&amp;cid=1254736177009&amp;idp=1254735572981 |\n| 18 | 30180 | Índice de Precios de Consumo Armonizado (IPCA)                                                  | IPCA     | NA                                                                                                    |\n| 20 | 30013 | Contabilidad Nacional Trimestral de España. Base 2000                                           | CNTR2000 | NA                                                                                                    |\n| 21 | 30259 | Estimaciones de la Población Actual (ePOBa)                                                     | EPOBA    | NA                                                                                                    |\n| 22 | 30245 | Cifras Oficiales de Población de los Municipios Españoles: Revisión del Padrón Municipal        | DPOP     | NA                                                                                                    |\n| 23 | 30417 | Estadística de Defunciones según la Causa de Muerte                                             | ECM      | NA                                                                                                    |\n| 24 | 30048 | Estadística Estructural de Empresas: Sector Industrial                                          | EEE:IND  | NA                                                                                                    |\n| 25 | 30138 | Índice de Precios de Consumo (IPC)                                                              | IPC      | NA                                                                                                    |\n| 26 | 30050 | Índices de Producción Industrial                                                                | IPI      | NA                                                                                                    |\n| 27 | 30051 | Índices de Precios Industriales                                                                 | IPRI     | NA                                                                                                    |\n| 30 | <!----> | Encuesta de coyuntura de comercio al por menor. Base 1994                                       | CCM      | NA                                                                                                    |\n| 31 | 30183 | Indicadores de Actividad del Sector Servicios                                                   | IAS      | NA                                                                                                    |\n| 32 | 30103 | Índices de Comercio al por Menor                                                                | ICM      | NA                                                                                                    |\n| 33 | 30264 | Indicadores Demográficos Básicos                                                                | IDB      | NA                                                                                                    |\n| 35 | <!----> | Poblaciones de hecho desde 1900 hasta 1991. Cifras oficiales sacadas de los Censos respectivos. | DPOH     | NA                                                                                                    |\n| 36 | <!----> | Poblaciones de derecho desde 1986 hasta 1995. Cifras oficiales sacadas del Padrón.              | DPOD     | NA                                                                                                    |\n| 39 | 30162 | Encuesta de Ocupación en Alojamientos Turísticos                                                | EOT      | NA                                                                                                    |\n| 40 | 30149 | Estadística de Hipotecas                                                                        | HPT      | NA                                                                                                    |\n| 41 | 30053 | Índices de Entradas de Pedidos                                                                  | IEP      | NA                                                                                                    |\n| 42 | 30052 | Índices de Cifras de Negocios en la Industria                                                   | ICN      | NA                                                                                                    |\n| 43 | 30203 | Explotación Estadística del Directorio Central de Empresas                                      | DIR      | NA                                                                                                    |\n| 44 | 30198 | Encuesta sobre Comercio Internacional de Servicios y otras Operaciones Internacionales          | ICES     | NA                                                                                                    |\n| 48 | 30071 | Índices de Precios de Exportación y de Importación de Productos Industriales                    | IPRX-M   | NA                                                                                                    |\n| ⋮ | ⋮ | ⋮ | ⋮ | ⋮ |\n| 328 | 30239 | Encuesta de Ocupación en Albergues                                                                     | EOA    | NA                                                                                                    |\n| 329 | 16029 | Encuesta de Gasto Turístico                                                                            | EG     | NA                                                                                                    |\n| 330 | 16028 | Movimientos Turísticos en Fronteras                                                                    | FR     | NA                                                                                                    |\n| 331 | <!----> | Índice de Garantía de la Competitividad                                                                | IGC    | https://www.ine.es/dyngs/INEbase/es/operacion.htm?c=Estadistica_C&amp;cid=1254736177109&amp;idp=1254735976607 |\n| 333 | 30456 | Mujeres y Hombres en España                                                                            | MYH    | NA                                                                                                    |\n| 334 | 16023 | Encuesta de turismo de residentes                                                                      | ETR    | NA                                                                                                    |\n| 336 | 30279 | Estadística de Adquisiciones de Nacionalidad Española de Residentes                                    | ANES   | NA                                                                                                    |\n| 345 | 30030 | Contabilidad nacional anual de España: agregados por rama de actividad                                 | CNEAG  | NA                                                                                                    |\n| 353 | 30325 | Atlas de distribución de renta de los hogares                                                          | ADRH   | https://www.ine.es/dyngs/INEbase/es/operacion.htm?c=Estadistica_C&amp;cid=1254736177088&amp;idp=1254735976608 |\n| 402 | <!----> | Movilidad COVID19                                                                                      | MMOV   | https://www.ine.es/experimental/movilidad/experimental_em.htm                                         |\n| 406 | 30324 | Estimacion del numero de defunciones semanales (EDeS)                                                  | EDES   | https://www.ine.es/dyngs/INEbase/es/operacion.htm?c=Estadistica_C&amp;cid=1254736177074&amp;idp=1254735573002 |\n| 407 | <!----> | Encuesta Cuatrienal de Estructural Salarial                                                            | EAES:Q | NA                                                                                                    |\n| 410 | <!----> | Viviendas turísticas en España                                                                         | VTE    | https://www.ine.es/experimental/viv_turistica/experimental_viv_turistica.htm                          |\n| 412 | <!----> | Distribución del gasto en destino realizado por los visitantes extranjeros en sus visitas a España     | GDVE   | https://www.ine.es/experimental/gasto_tarjetas/trimestral.htm                                         |\n| 424 | 30323 | Estimación Mensual de Nacimientos                                                                      | EMN    | https://www.ine.es/dyngs/INEbase/es/operacion.htm?c=Estadistica_C&amp;cid=1254736177079&amp;idp=1254735573002 |\n| 425 | <!----> | Comercio diario al por menor de grandes empresas                                                       | CDMGE  | https://www.ine.es/experimental/cdmge/                                                                |\n| 426 | <!----> | Coyuntura demográfica de empresas                                                                      | CODEM  | https://www.ine.es/experimental/codem/experimental_codem.htm                                          |\n| 429 | <!----> | Ocupación en alojamientos turísticos                                                                   | OAT    | https://www.ine.es/experimental/ocupacion/experimental_ocupacion.htm                                  |\n| 432 | <!----> | Índice de Precios de Vivienda en Alquiler                                                              | IPVA   | NA                                                                                                    |\n| 433 | <!----> | Indicador Multidimensional de Calidad de Vida                                                          | IMCV   | https://www.ine.es/experimental/imcv/experimental_ind_multi_calidad_vida.htm                          |\n| 436 | <!----> | Medición del turismo receptor a partir de la posición de los teléfonos móviles                         | TMOV   | https://www.ine.es/experimental/turismo_moviles/experimental_turismo_moviles.htm#!turismo_receptor    |\n| 437 | <!----> | Medición del turismo emisor a partir de la posición de los teléfonos móviles                           | TMOV   | https://www.ine.es/experimental/turismo_moviles/experimental_turismo_moviles.htm#!turismo_emisor      |\n| 438 | <!----> | Medición del turismo interno interprovincial a partir de la posición de los teléfonos móviles          | TMOV   | https://www.ine.es/experimental/turismo_moviles/experimental_turismo_moviles_interno.htm              |\n| 450 | 30282 | Estadística Continua de Población                                                                      | ECP    | https://www.ine.es/dyngs/INEbase/es/operacion.htm?c=Estadistica_C&amp;cid=1254736177095&amp;idp=1254735572981 |\n| 452 | <!----> | Distribución del gasto realizado por los residentes en sus visitas al Extranjero según país de destino | GDRE   | https://www.ine.es/experimental/turismo_gasto/turistas_residentes_gasto_extranjero.htm                |\n| 455 | 30283 | Estadística de Migraciones y Cambios de Residencia                                                     | EMCR   | https://www.ine.es/dyngs/INEbase/es/operacion.htm?c=Estadistica_C&amp;cid=1254736177098&amp;idp=1254735573002 |\n| 464 | 30098 | Comercio Internacional de Servicios por Modos de Suministro (MoS)                                      | MOS    | https://www.ine.es/dyngs/INEbase/es/operacion.htm?c=Estadistica_C&amp;cid=1254736177111&amp;idp=1254735576778 |\n| 465 | 30240 | Comercio Internacional de Servicios por Características de las Empresas (STEC)                         | STEC   | https://www.ine.es/dyngs/INEbase/es/operacion.htm?c=Estadistica_C&amp;cid=1254736177112&amp;idp=1254735576778 |\n| 474 | 30099 | Estadística sobre Cadenas de Valor Globales                                                            | ECVG   | NA                                                                                                    |\n| 476 | <!----> | Cuentas de Emisiones a la Atmósfera Trimestrales                                                       | CMEA   | https://www.ine.es/experimental/ceatr/experimental_ceatr.htm                                          |\n\n",
            "text/latex": "A data.frame: 110 × 5\n\\begin{tabular}{lllll}\n Id & Cod\\_IOE & Nombre & Codigo & Url\\\\\n <int> & <chr> & <chr> & <chr> & <chr>\\\\\n\\hline\n\t  4 & 30147 & Estadística de Efectos de Comercio Impagados                                                    & EI       & NA                                                                                                   \\\\\n\t  6 & 30211 & Índice de Coste Laboral Armonizado                                                              & ICLA     & NA                                                                                                   \\\\\n\t  7 & 30168 & Estadística de Transmisión de Derechos de la Propiedad                                          & ETDP     & NA                                                                                                   \\\\\n\t 10 & 30256 & Indicadores Urbanos                                                                             & UA       & https://www.ine.es/dyngs/INEbase/es/operacion.htm?c=Estadistica\\_C\\&cid=1254736176957\\&idp=1254735976608\\\\\n\t 13 & 30219 & Estadística del Procedimiento Concursal                                                         & EPC      & NA                                                                                                   \\\\\n\t 14 & 30182 & Índices de Precios del Sector Servicios                                                         & IPS      & NA                                                                                                   \\\\\n\t 15 & 30457 & Índice de Precios de la Vivienda (IPV)                                                          & IPV      & NA                                                                                                   \\\\\n\t 16 &       & Distribución de Nombres                                                                         & TNOM     & https://www.ine.es/dyngs/INEbase/es/operacion.htm?c=Estadistica\\_C\\&cid=1254736177009\\&idp=1254735572981\\\\\n\t 18 & 30180 & Índice de Precios de Consumo Armonizado (IPCA)                                                  & IPCA     & NA                                                                                                   \\\\\n\t 20 & 30013 & Contabilidad Nacional Trimestral de España. Base 2000                                           & CNTR2000 & NA                                                                                                   \\\\\n\t 21 & 30259 & Estimaciones de la Población Actual (ePOBa)                                                     & EPOBA    & NA                                                                                                   \\\\\n\t 22 & 30245 & Cifras Oficiales de Población de los Municipios Españoles: Revisión del Padrón Municipal        & DPOP     & NA                                                                                                   \\\\\n\t 23 & 30417 & Estadística de Defunciones según la Causa de Muerte                                             & ECM      & NA                                                                                                   \\\\\n\t 24 & 30048 & Estadística Estructural de Empresas: Sector Industrial                                          & EEE:IND  & NA                                                                                                   \\\\\n\t 25 & 30138 & Índice de Precios de Consumo (IPC)                                                              & IPC      & NA                                                                                                   \\\\\n\t 26 & 30050 & Índices de Producción Industrial                                                                & IPI      & NA                                                                                                   \\\\\n\t 27 & 30051 & Índices de Precios Industriales                                                                 & IPRI     & NA                                                                                                   \\\\\n\t 30 &       & Encuesta de coyuntura de comercio al por menor. Base 1994                                       & CCM      & NA                                                                                                   \\\\\n\t 31 & 30183 & Indicadores de Actividad del Sector Servicios                                                   & IAS      & NA                                                                                                   \\\\\n\t 32 & 30103 & Índices de Comercio al por Menor                                                                & ICM      & NA                                                                                                   \\\\\n\t 33 & 30264 & Indicadores Demográficos Básicos                                                                & IDB      & NA                                                                                                   \\\\\n\t 35 &       & Poblaciones de hecho desde 1900 hasta 1991. Cifras oficiales sacadas de los Censos respectivos. & DPOH     & NA                                                                                                   \\\\\n\t 36 &       & Poblaciones de derecho desde 1986 hasta 1995. Cifras oficiales sacadas del Padrón.              & DPOD     & NA                                                                                                   \\\\\n\t 39 & 30162 & Encuesta de Ocupación en Alojamientos Turísticos                                                & EOT      & NA                                                                                                   \\\\\n\t 40 & 30149 & Estadística de Hipotecas                                                                        & HPT      & NA                                                                                                   \\\\\n\t 41 & 30053 & Índices de Entradas de Pedidos                                                                  & IEP      & NA                                                                                                   \\\\\n\t 42 & 30052 & Índices de Cifras de Negocios en la Industria                                                   & ICN      & NA                                                                                                   \\\\\n\t 43 & 30203 & Explotación Estadística del Directorio Central de Empresas                                      & DIR      & NA                                                                                                   \\\\\n\t 44 & 30198 & Encuesta sobre Comercio Internacional de Servicios y otras Operaciones Internacionales          & ICES     & NA                                                                                                   \\\\\n\t 48 & 30071 & Índices de Precios de Exportación y de Importación de Productos Industriales                    & IPRX-M   & NA                                                                                                   \\\\\n\t ⋮ & ⋮ & ⋮ & ⋮ & ⋮\\\\\n\t 328 & 30239 & Encuesta de Ocupación en Albergues                                                                     & EOA    & NA                                                                                                   \\\\\n\t 329 & 16029 & Encuesta de Gasto Turístico                                                                            & EG     & NA                                                                                                   \\\\\n\t 330 & 16028 & Movimientos Turísticos en Fronteras                                                                    & FR     & NA                                                                                                   \\\\\n\t 331 &       & Índice de Garantía de la Competitividad                                                                & IGC    & https://www.ine.es/dyngs/INEbase/es/operacion.htm?c=Estadistica\\_C\\&cid=1254736177109\\&idp=1254735976607\\\\\n\t 333 & 30456 & Mujeres y Hombres en España                                                                            & MYH    & NA                                                                                                   \\\\\n\t 334 & 16023 & Encuesta de turismo de residentes                                                                      & ETR    & NA                                                                                                   \\\\\n\t 336 & 30279 & Estadística de Adquisiciones de Nacionalidad Española de Residentes                                    & ANES   & NA                                                                                                   \\\\\n\t 345 & 30030 & Contabilidad nacional anual de España: agregados por rama de actividad                                 & CNEAG  & NA                                                                                                   \\\\\n\t 353 & 30325 & Atlas de distribución de renta de los hogares                                                          & ADRH   & https://www.ine.es/dyngs/INEbase/es/operacion.htm?c=Estadistica\\_C\\&cid=1254736177088\\&idp=1254735976608\\\\\n\t 402 &       & Movilidad COVID19                                                                                      & MMOV   & https://www.ine.es/experimental/movilidad/experimental\\_em.htm                                        \\\\\n\t 406 & 30324 & Estimacion del numero de defunciones semanales (EDeS)                                                  & EDES   & https://www.ine.es/dyngs/INEbase/es/operacion.htm?c=Estadistica\\_C\\&cid=1254736177074\\&idp=1254735573002\\\\\n\t 407 &       & Encuesta Cuatrienal de Estructural Salarial                                                            & EAES:Q & NA                                                                                                   \\\\\n\t 410 &       & Viviendas turísticas en España                                                                         & VTE    & https://www.ine.es/experimental/viv\\_turistica/experimental\\_viv\\_turistica.htm                         \\\\\n\t 412 &       & Distribución del gasto en destino realizado por los visitantes extranjeros en sus visitas a España     & GDVE   & https://www.ine.es/experimental/gasto\\_tarjetas/trimestral.htm                                        \\\\\n\t 424 & 30323 & Estimación Mensual de Nacimientos                                                                      & EMN    & https://www.ine.es/dyngs/INEbase/es/operacion.htm?c=Estadistica\\_C\\&cid=1254736177079\\&idp=1254735573002\\\\\n\t 425 &       & Comercio diario al por menor de grandes empresas                                                       & CDMGE  & https://www.ine.es/experimental/cdmge/                                                               \\\\\n\t 426 &       & Coyuntura demográfica de empresas                                                                      & CODEM  & https://www.ine.es/experimental/codem/experimental\\_codem.htm                                         \\\\\n\t 429 &       & Ocupación en alojamientos turísticos                                                                   & OAT    & https://www.ine.es/experimental/ocupacion/experimental\\_ocupacion.htm                                 \\\\\n\t 432 &       & Índice de Precios de Vivienda en Alquiler                                                              & IPVA   & NA                                                                                                   \\\\\n\t 433 &       & Indicador Multidimensional de Calidad de Vida                                                          & IMCV   & https://www.ine.es/experimental/imcv/experimental\\_ind\\_multi\\_calidad\\_vida.htm                         \\\\\n\t 436 &       & Medición del turismo receptor a partir de la posición de los teléfonos móviles                         & TMOV   & https://www.ine.es/experimental/turismo\\_moviles/experimental\\_turismo\\_moviles.htm\\#!turismo\\_receptor   \\\\\n\t 437 &       & Medición del turismo emisor a partir de la posición de los teléfonos móviles                           & TMOV   & https://www.ine.es/experimental/turismo\\_moviles/experimental\\_turismo\\_moviles.htm\\#!turismo\\_emisor     \\\\\n\t 438 &       & Medición del turismo interno interprovincial a partir de la posición de los teléfonos móviles          & TMOV   & https://www.ine.es/experimental/turismo\\_moviles/experimental\\_turismo\\_moviles\\_interno.htm             \\\\\n\t 450 & 30282 & Estadística Continua de Población                                                                      & ECP    & https://www.ine.es/dyngs/INEbase/es/operacion.htm?c=Estadistica\\_C\\&cid=1254736177095\\&idp=1254735572981\\\\\n\t 452 &       & Distribución del gasto realizado por los residentes en sus visitas al Extranjero según país de destino & GDRE   & https://www.ine.es/experimental/turismo\\_gasto/turistas\\_residentes\\_gasto\\_extranjero.htm               \\\\\n\t 455 & 30283 & Estadística de Migraciones y Cambios de Residencia                                                     & EMCR   & https://www.ine.es/dyngs/INEbase/es/operacion.htm?c=Estadistica\\_C\\&cid=1254736177098\\&idp=1254735573002\\\\\n\t 464 & 30098 & Comercio Internacional de Servicios por Modos de Suministro (MoS)                                      & MOS    & https://www.ine.es/dyngs/INEbase/es/operacion.htm?c=Estadistica\\_C\\&cid=1254736177111\\&idp=1254735576778\\\\\n\t 465 & 30240 & Comercio Internacional de Servicios por Características de las Empresas (STEC)                         & STEC   & https://www.ine.es/dyngs/INEbase/es/operacion.htm?c=Estadistica\\_C\\&cid=1254736177112\\&idp=1254735576778\\\\\n\t 474 & 30099 & Estadística sobre Cadenas de Valor Globales                                                            & ECVG   & NA                                                                                                   \\\\\n\t 476 &       & Cuentas de Emisiones a la Atmósfera Trimestrales                                                       & CMEA   & https://www.ine.es/experimental/ceatr/experimental\\_ceatr.htm                                         \\\\\n\\end{tabular}\n",
            "text/plain": [
              "    Id  Cod_IOE\n",
              "1    4  30147  \n",
              "2    6  30211  \n",
              "3    7  30168  \n",
              "4   10  30256  \n",
              "5   13  30219  \n",
              "6   14  30182  \n",
              "7   15  30457  \n",
              "8   16         \n",
              "9   18  30180  \n",
              "10  20  30013  \n",
              "11  21  30259  \n",
              "12  22  30245  \n",
              "13  23  30417  \n",
              "14  24  30048  \n",
              "15  25  30138  \n",
              "16  26  30050  \n",
              "17  27  30051  \n",
              "18  30         \n",
              "19  31  30183  \n",
              "20  32  30103  \n",
              "21  33  30264  \n",
              "22  35         \n",
              "23  36         \n",
              "24  39  30162  \n",
              "25  40  30149  \n",
              "26  41  30053  \n",
              "27  42  30052  \n",
              "28  43  30203  \n",
              "29  44  30198  \n",
              "30  48  30071  \n",
              "⋮   ⋮   ⋮      \n",
              "81  328 30239  \n",
              "82  329 16029  \n",
              "83  330 16028  \n",
              "84  331        \n",
              "85  333 30456  \n",
              "86  334 16023  \n",
              "87  336 30279  \n",
              "88  345 30030  \n",
              "89  353 30325  \n",
              "90  402        \n",
              "91  406 30324  \n",
              "92  407        \n",
              "93  410        \n",
              "94  412        \n",
              "95  424 30323  \n",
              "96  425        \n",
              "97  426        \n",
              "98  429        \n",
              "99  432        \n",
              "100 433        \n",
              "101 436        \n",
              "102 437        \n",
              "103 438        \n",
              "104 450 30282  \n",
              "105 452        \n",
              "106 455 30283  \n",
              "107 464 30098  \n",
              "108 465 30240  \n",
              "109 474 30099  \n",
              "110 476        \n",
              "    Nombre                                                                                                \n",
              "1   Estadística de Efectos de Comercio Impagados                                                          \n",
              "2   Índice de Coste Laboral Armonizado                                                                    \n",
              "3   Estadística de Transmisión de Derechos de la Propiedad                                                \n",
              "4   Indicadores Urbanos                                                                                   \n",
              "5   Estadística del Procedimiento Concursal                                                               \n",
              "6   Índices de Precios del Sector Servicios                                                               \n",
              "7   Índice de Precios de la Vivienda (IPV)                                                                \n",
              "8   Distribución de Nombres                                                                               \n",
              "9   Índice de Precios de Consumo Armonizado (IPCA)                                                        \n",
              "10  Contabilidad Nacional Trimestral de España. Base 2000                                                 \n",
              "11  Estimaciones de la Población Actual (ePOBa)                                                           \n",
              "12  Cifras Oficiales de Población de los Municipios Españoles: Revisión del Padrón Municipal              \n",
              "13  Estadística de Defunciones según la Causa de Muerte                                                   \n",
              "14  Estadística Estructural de Empresas: Sector Industrial                                                \n",
              "15  Índice de Precios de Consumo (IPC)                                                                    \n",
              "16  Índices de Producción Industrial                                                                      \n",
              "17  Índices de Precios Industriales                                                                       \n",
              "18  Encuesta de coyuntura de comercio al por menor. Base 1994                                             \n",
              "19  Indicadores de Actividad del Sector Servicios                                                         \n",
              "20  Índices de Comercio al por Menor                                                                      \n",
              "21  Indicadores Demográficos Básicos                                                                      \n",
              "22  Poblaciones de hecho desde 1900 hasta 1991. Cifras oficiales sacadas de los Censos respectivos.       \n",
              "23  Poblaciones de derecho desde 1986 hasta 1995. Cifras oficiales sacadas del Padrón.                    \n",
              "24  Encuesta de Ocupación en Alojamientos Turísticos                                                      \n",
              "25  Estadística de Hipotecas                                                                              \n",
              "26  Índices de Entradas de Pedidos                                                                        \n",
              "27  Índices de Cifras de Negocios en la Industria                                                         \n",
              "28  Explotación Estadística del Directorio Central de Empresas                                            \n",
              "29  Encuesta sobre Comercio Internacional de Servicios y otras Operaciones Internacionales                \n",
              "30  Índices de Precios de Exportación y de Importación de Productos Industriales                          \n",
              "⋮   ⋮                                                                                                     \n",
              "81  Encuesta de Ocupación en Albergues                                                                    \n",
              "82  Encuesta de Gasto Turístico                                                                           \n",
              "83  Movimientos Turísticos en Fronteras                                                                   \n",
              "84  Índice de Garantía de la Competitividad                                                               \n",
              "85  Mujeres y Hombres en España                                                                           \n",
              "86  Encuesta de turismo de residentes                                                                     \n",
              "87  Estadística de Adquisiciones de Nacionalidad Española de Residentes                                   \n",
              "88  Contabilidad nacional anual de España: agregados por rama de actividad                                \n",
              "89  Atlas de distribución de renta de los hogares                                                         \n",
              "90  Movilidad COVID19                                                                                     \n",
              "91  Estimacion del numero de defunciones semanales (EDeS)                                                 \n",
              "92  Encuesta Cuatrienal de Estructural Salarial                                                           \n",
              "93  Viviendas turísticas en España                                                                        \n",
              "94  Distribución del gasto en destino realizado por los visitantes extranjeros en sus visitas a España    \n",
              "95  Estimación Mensual de Nacimientos                                                                     \n",
              "96  Comercio diario al por menor de grandes empresas                                                      \n",
              "97  Coyuntura demográfica de empresas                                                                     \n",
              "98  Ocupación en alojamientos turísticos                                                                  \n",
              "99  Índice de Precios de Vivienda en Alquiler                                                             \n",
              "100 Indicador Multidimensional de Calidad de Vida                                                         \n",
              "101 Medición del turismo receptor a partir de la posición de los teléfonos móviles                        \n",
              "102 Medición del turismo emisor a partir de la posición de los teléfonos móviles                          \n",
              "103 Medición del turismo interno interprovincial a partir de la posición de los teléfonos móviles         \n",
              "104 Estadística Continua de Población                                                                     \n",
              "105 Distribución del gasto realizado por los residentes en sus visitas al Extranjero según país de destino\n",
              "106 Estadística de Migraciones y Cambios de Residencia                                                    \n",
              "107 Comercio Internacional de Servicios por Modos de Suministro (MoS)                                     \n",
              "108 Comercio Internacional de Servicios por Características de las Empresas (STEC)                        \n",
              "109 Estadística sobre Cadenas de Valor Globales                                                           \n",
              "110 Cuentas de Emisiones a la Atmósfera Trimestrales                                                      \n",
              "    Codigo  \n",
              "1   EI      \n",
              "2   ICLA    \n",
              "3   ETDP    \n",
              "4   UA      \n",
              "5   EPC     \n",
              "6   IPS     \n",
              "7   IPV     \n",
              "8   TNOM    \n",
              "9   IPCA    \n",
              "10  CNTR2000\n",
              "11  EPOBA   \n",
              "12  DPOP    \n",
              "13  ECM     \n",
              "14  EEE:IND \n",
              "15  IPC     \n",
              "16  IPI     \n",
              "17  IPRI    \n",
              "18  CCM     \n",
              "19  IAS     \n",
              "20  ICM     \n",
              "21  IDB     \n",
              "22  DPOH    \n",
              "23  DPOD    \n",
              "24  EOT     \n",
              "25  HPT     \n",
              "26  IEP     \n",
              "27  ICN     \n",
              "28  DIR     \n",
              "29  ICES    \n",
              "30  IPRX-M  \n",
              "⋮   ⋮       \n",
              "81  EOA     \n",
              "82  EG      \n",
              "83  FR      \n",
              "84  IGC     \n",
              "85  MYH     \n",
              "86  ETR     \n",
              "87  ANES    \n",
              "88  CNEAG   \n",
              "89  ADRH    \n",
              "90  MMOV    \n",
              "91  EDES    \n",
              "92  EAES:Q  \n",
              "93  VTE     \n",
              "94  GDVE    \n",
              "95  EMN     \n",
              "96  CDMGE   \n",
              "97  CODEM   \n",
              "98  OAT     \n",
              "99  IPVA    \n",
              "100 IMCV    \n",
              "101 TMOV    \n",
              "102 TMOV    \n",
              "103 TMOV    \n",
              "104 ECP     \n",
              "105 GDRE    \n",
              "106 EMCR    \n",
              "107 MOS     \n",
              "108 STEC    \n",
              "109 ECVG    \n",
              "110 CMEA    \n",
              "    Url                                                                                                  \n",
              "1   NA                                                                                                   \n",
              "2   NA                                                                                                   \n",
              "3   NA                                                                                                   \n",
              "4   https://www.ine.es/dyngs/INEbase/es/operacion.htm?c=Estadistica_C&cid=1254736176957&idp=1254735976608\n",
              "5   NA                                                                                                   \n",
              "6   NA                                                                                                   \n",
              "7   NA                                                                                                   \n",
              "8   https://www.ine.es/dyngs/INEbase/es/operacion.htm?c=Estadistica_C&cid=1254736177009&idp=1254735572981\n",
              "9   NA                                                                                                   \n",
              "10  NA                                                                                                   \n",
              "11  NA                                                                                                   \n",
              "12  NA                                                                                                   \n",
              "13  NA                                                                                                   \n",
              "14  NA                                                                                                   \n",
              "15  NA                                                                                                   \n",
              "16  NA                                                                                                   \n",
              "17  NA                                                                                                   \n",
              "18  NA                                                                                                   \n",
              "19  NA                                                                                                   \n",
              "20  NA                                                                                                   \n",
              "21  NA                                                                                                   \n",
              "22  NA                                                                                                   \n",
              "23  NA                                                                                                   \n",
              "24  NA                                                                                                   \n",
              "25  NA                                                                                                   \n",
              "26  NA                                                                                                   \n",
              "27  NA                                                                                                   \n",
              "28  NA                                                                                                   \n",
              "29  NA                                                                                                   \n",
              "30  NA                                                                                                   \n",
              "⋮   ⋮                                                                                                    \n",
              "81  NA                                                                                                   \n",
              "82  NA                                                                                                   \n",
              "83  NA                                                                                                   \n",
              "84  https://www.ine.es/dyngs/INEbase/es/operacion.htm?c=Estadistica_C&cid=1254736177109&idp=1254735976607\n",
              "85  NA                                                                                                   \n",
              "86  NA                                                                                                   \n",
              "87  NA                                                                                                   \n",
              "88  NA                                                                                                   \n",
              "89  https://www.ine.es/dyngs/INEbase/es/operacion.htm?c=Estadistica_C&cid=1254736177088&idp=1254735976608\n",
              "90  https://www.ine.es/experimental/movilidad/experimental_em.htm                                        \n",
              "91  https://www.ine.es/dyngs/INEbase/es/operacion.htm?c=Estadistica_C&cid=1254736177074&idp=1254735573002\n",
              "92  NA                                                                                                   \n",
              "93  https://www.ine.es/experimental/viv_turistica/experimental_viv_turistica.htm                         \n",
              "94  https://www.ine.es/experimental/gasto_tarjetas/trimestral.htm                                        \n",
              "95  https://www.ine.es/dyngs/INEbase/es/operacion.htm?c=Estadistica_C&cid=1254736177079&idp=1254735573002\n",
              "96  https://www.ine.es/experimental/cdmge/                                                               \n",
              "97  https://www.ine.es/experimental/codem/experimental_codem.htm                                         \n",
              "98  https://www.ine.es/experimental/ocupacion/experimental_ocupacion.htm                                 \n",
              "99  NA                                                                                                   \n",
              "100 https://www.ine.es/experimental/imcv/experimental_ind_multi_calidad_vida.htm                         \n",
              "101 https://www.ine.es/experimental/turismo_moviles/experimental_turismo_moviles.htm#!turismo_receptor   \n",
              "102 https://www.ine.es/experimental/turismo_moviles/experimental_turismo_moviles.htm#!turismo_emisor     \n",
              "103 https://www.ine.es/experimental/turismo_moviles/experimental_turismo_moviles_interno.htm             \n",
              "104 https://www.ine.es/dyngs/INEbase/es/operacion.htm?c=Estadistica_C&cid=1254736177095&idp=1254735572981\n",
              "105 https://www.ine.es/experimental/turismo_gasto/turistas_residentes_gasto_extranjero.htm               \n",
              "106 https://www.ine.es/dyngs/INEbase/es/operacion.htm?c=Estadistica_C&cid=1254736177098&idp=1254735573002\n",
              "107 https://www.ine.es/dyngs/INEbase/es/operacion.htm?c=Estadistica_C&cid=1254736177111&idp=1254735576778\n",
              "108 https://www.ine.es/dyngs/INEbase/es/operacion.htm?c=Estadistica_C&cid=1254736177112&idp=1254735576778\n",
              "109 NA                                                                                                   \n",
              "110 https://www.ine.es/experimental/ceatr/experimental_ceatr.htm                                         "
            ]
          },
          "metadata": {}
        }
      ]
    },
    {
      "cell_type": "code",
      "source": [
        "# Si queremos guardar una copia de las operaciones de Tempus3 en formato excel\n",
        "\n",
        "install.packages(\"openxlsx\")\n",
        "library(openxlsx)\n",
        "\n",
        "write.xlsx(tempus3_operaciones, file=\"Tempus3_Operaciones.xlsx\")"
      ],
      "metadata": {
        "colab": {
          "base_uri": "https://localhost:8080/"
        },
        "id": "ejOwrc5NZHRQ",
        "outputId": "dfe2a678-5d1b-4763-a162-21c649d79809"
      },
      "execution_count": null,
      "outputs": [
        {
          "output_type": "stream",
          "name": "stderr",
          "text": [
            "Installing package into ‘/usr/local/lib/R/site-library’\n",
            "(as ‘lib’ is unspecified)\n",
            "\n"
          ]
        }
      ]
    },
    {
      "cell_type": "markdown",
      "source": [
        "Como a la hora de descargar los datos por API es necesario el número de identificación de tablas o series, aquí se explica cómo localizar el \"id\"."
      ],
      "metadata": {
        "id": "H0-jMtIdzRMa"
      }
    },
    {
      "cell_type": "markdown",
      "source": [
        "### 2.1 Tablas/series de la base de datos Tempus3\n",
        "\n",
        "En este caso, los números de identificación de tablas y series se pueden encontrar sin salir de la interfaz de R. Una vez conocido el código de la operación (extraído del punto superior), se pueden consultar las tablas que se incluyen dentro de dicha operación utilizando la función `get_metadata_tables_operation`.\n",
        "\n",
        "Para saber el `id` de las series debemos utilizar otra función, la de `get_metadata_series_operation`.\n",
        "\n",
        "El orden es: Operación > Tabla > Serie > Datos"
      ],
      "metadata": {
        "id": "wpgtyK7j211T"
      }
    },
    {
      "cell_type": "code",
      "source": [
        "# Tablas del Índice de Precios de Consumo (IPC)\n",
        "\n",
        "IPC_tablas <- get_metadata_tables_operation(operation = \"IPC\", tip=\"A\")       # En el parámetro \"operation\" se debe especificar el código de la operación\n",
        "                                                                              # tip =\"A\" para literales, de lo contrario se extraen códigos\n",
        "head(IPC_tablas)"
      ],
      "metadata": {
        "colab": {
          "base_uri": "https://localhost:8080/",
          "height": 286
        },
        "id": "Vb6AwOWJ2Zx0",
        "outputId": "cd4605d4-f8c1-4cad-f265-05a80145d718"
      },
      "execution_count": null,
      "outputs": [
        {
          "output_type": "display_data",
          "data": {
            "text/html": [
              "<table class=\"dataframe\">\n",
              "<caption>A data.frame: 6 × 9</caption>\n",
              "<thead>\n",
              "\t<tr><th></th><th scope=col>Id</th><th scope=col>Nombre</th><th scope=col>Codigo</th><th scope=col>T3_Periodicidad</th><th scope=col>T3_Publicacion</th><th scope=col>T3_Periodo_ini</th><th scope=col>Anyo_Periodo_ini</th><th scope=col>FechaRef_fin</th><th scope=col>Ultima_Modificacion</th></tr>\n",
              "\t<tr><th></th><th scope=col>&lt;int&gt;</th><th scope=col>&lt;chr&gt;</th><th scope=col>&lt;chr&gt;</th><th scope=col>&lt;chr&gt;</th><th scope=col>&lt;chr&gt;</th><th scope=col>&lt;chr&gt;</th><th scope=col>&lt;chr&gt;</th><th scope=col>&lt;chr&gt;</th><th scope=col>&lt;chr&gt;</th></tr>\n",
              "</thead>\n",
              "<tbody>\n",
              "\t<tr><th scope=row>1</th><td>24077</td><td>Índice general nacional. Series desde enero de 1961                      </td><td>NAC            </td><td>Mensual</td><td>Índice de Precios de Consumo                </td><td>ene.</td><td>1961</td><td>null</td><td>2025-09-12T09:00:00.000+02:00</td></tr>\n",
              "\t<tr><th scope=row>2</th><td>25331</td><td>Ponderaciones: general y de grupos ECOICOP                               </td><td>NAC-CCAA-PROV_P</td><td>Anual  </td><td>Índice de Precios de Consumo. Medias anuales</td><td>A   </td><td>2017</td><td>null</td><td>2024-01-12T09:00:00.000+01:00</td></tr>\n",
              "\t<tr><th scope=row>3</th><td>35083</td><td>Índices nacionales: Componentes para el análisis de la COVID-19          </td><td>2016_NAC       </td><td>Mensual</td><td>Índice de Precios de Consumo                </td><td>ene.</td><td>2017</td><td>null</td><td>2022-01-14T09:00:00.000+01:00</td></tr>\n",
              "\t<tr><th scope=row>4</th><td>50902</td><td>Índices nacionales: general y de grupos ECOICOP                          </td><td>2021_NAC       </td><td>Mensual</td><td>Índice de Precios de Consumo                </td><td>ene.</td><td>2002</td><td>null</td><td>2025-09-29T09:00:00.000+02:00</td></tr>\n",
              "\t<tr><th scope=row>5</th><td>50908</td><td>Índices nacionales a impuestos constantes: general y de grupos ECOICOP   </td><td>2021_NAC_ICTES </td><td>Mensual</td><td>Índice de Precios de Consumo                </td><td>ene.</td><td>2011</td><td>null</td><td>2025-09-12T09:00:00.000+02:00</td></tr>\n",
              "\t<tr><th scope=row>6</th><td>50911</td><td>Tasa de variacion del índice general nacional. Series desde enero de 1961</td><td>2021_NAC       </td><td>Mensual</td><td>Índice de Precios de Consumo                </td><td>ene.</td><td>1961</td><td>null</td><td>2025-09-29T09:00:00.000+02:00</td></tr>\n",
              "</tbody>\n",
              "</table>\n"
            ],
            "text/markdown": "\nA data.frame: 6 × 9\n\n| <!--/--> | Id &lt;int&gt; | Nombre &lt;chr&gt; | Codigo &lt;chr&gt; | T3_Periodicidad &lt;chr&gt; | T3_Publicacion &lt;chr&gt; | T3_Periodo_ini &lt;chr&gt; | Anyo_Periodo_ini &lt;chr&gt; | FechaRef_fin &lt;chr&gt; | Ultima_Modificacion &lt;chr&gt; |\n|---|---|---|---|---|---|---|---|---|---|\n| 1 | 24077 | Índice general nacional. Series desde enero de 1961                       | NAC             | Mensual | Índice de Precios de Consumo                 | ene. | 1961 | null | 2025-09-12T09:00:00.000+02:00 |\n| 2 | 25331 | Ponderaciones: general y de grupos ECOICOP                                | NAC-CCAA-PROV_P | Anual   | Índice de Precios de Consumo. Medias anuales | A    | 2017 | null | 2024-01-12T09:00:00.000+01:00 |\n| 3 | 35083 | Índices nacionales: Componentes para el análisis de la COVID-19           | 2016_NAC        | Mensual | Índice de Precios de Consumo                 | ene. | 2017 | null | 2022-01-14T09:00:00.000+01:00 |\n| 4 | 50902 | Índices nacionales: general y de grupos ECOICOP                           | 2021_NAC        | Mensual | Índice de Precios de Consumo                 | ene. | 2002 | null | 2025-09-29T09:00:00.000+02:00 |\n| 5 | 50908 | Índices nacionales a impuestos constantes: general y de grupos ECOICOP    | 2021_NAC_ICTES  | Mensual | Índice de Precios de Consumo                 | ene. | 2011 | null | 2025-09-12T09:00:00.000+02:00 |\n| 6 | 50911 | Tasa de variacion del índice general nacional. Series desde enero de 1961 | 2021_NAC        | Mensual | Índice de Precios de Consumo                 | ene. | 1961 | null | 2025-09-29T09:00:00.000+02:00 |\n\n",
            "text/latex": "A data.frame: 6 × 9\n\\begin{tabular}{r|lllllllll}\n  & Id & Nombre & Codigo & T3\\_Periodicidad & T3\\_Publicacion & T3\\_Periodo\\_ini & Anyo\\_Periodo\\_ini & FechaRef\\_fin & Ultima\\_Modificacion\\\\\n  & <int> & <chr> & <chr> & <chr> & <chr> & <chr> & <chr> & <chr> & <chr>\\\\\n\\hline\n\t1 & 24077 & Índice general nacional. Series desde enero de 1961                       & NAC             & Mensual & Índice de Precios de Consumo                 & ene. & 1961 & null & 2025-09-12T09:00:00.000+02:00\\\\\n\t2 & 25331 & Ponderaciones: general y de grupos ECOICOP                                & NAC-CCAA-PROV\\_P & Anual   & Índice de Precios de Consumo. Medias anuales & A    & 2017 & null & 2024-01-12T09:00:00.000+01:00\\\\\n\t3 & 35083 & Índices nacionales: Componentes para el análisis de la COVID-19           & 2016\\_NAC        & Mensual & Índice de Precios de Consumo                 & ene. & 2017 & null & 2022-01-14T09:00:00.000+01:00\\\\\n\t4 & 50902 & Índices nacionales: general y de grupos ECOICOP                           & 2021\\_NAC        & Mensual & Índice de Precios de Consumo                 & ene. & 2002 & null & 2025-09-29T09:00:00.000+02:00\\\\\n\t5 & 50908 & Índices nacionales a impuestos constantes: general y de grupos ECOICOP    & 2021\\_NAC\\_ICTES  & Mensual & Índice de Precios de Consumo                 & ene. & 2011 & null & 2025-09-12T09:00:00.000+02:00\\\\\n\t6 & 50911 & Tasa de variacion del índice general nacional. Series desde enero de 1961 & 2021\\_NAC        & Mensual & Índice de Precios de Consumo                 & ene. & 1961 & null & 2025-09-29T09:00:00.000+02:00\\\\\n\\end{tabular}\n",
            "text/plain": [
              "  Id   \n",
              "1 24077\n",
              "2 25331\n",
              "3 35083\n",
              "4 50902\n",
              "5 50908\n",
              "6 50911\n",
              "  Nombre                                                                   \n",
              "1 Índice general nacional. Series desde enero de 1961                      \n",
              "2 Ponderaciones: general y de grupos ECOICOP                               \n",
              "3 Índices nacionales: Componentes para el análisis de la COVID-19          \n",
              "4 Índices nacionales: general y de grupos ECOICOP                          \n",
              "5 Índices nacionales a impuestos constantes: general y de grupos ECOICOP   \n",
              "6 Tasa de variacion del índice general nacional. Series desde enero de 1961\n",
              "  Codigo          T3_Periodicidad T3_Publicacion                              \n",
              "1 NAC             Mensual         Índice de Precios de Consumo                \n",
              "2 NAC-CCAA-PROV_P Anual           Índice de Precios de Consumo. Medias anuales\n",
              "3 2016_NAC        Mensual         Índice de Precios de Consumo                \n",
              "4 2021_NAC        Mensual         Índice de Precios de Consumo                \n",
              "5 2021_NAC_ICTES  Mensual         Índice de Precios de Consumo                \n",
              "6 2021_NAC        Mensual         Índice de Precios de Consumo                \n",
              "  T3_Periodo_ini Anyo_Periodo_ini FechaRef_fin Ultima_Modificacion          \n",
              "1 ene.           1961             null         2025-09-12T09:00:00.000+02:00\n",
              "2 A              2017             null         2024-01-12T09:00:00.000+01:00\n",
              "3 ene.           2017             null         2022-01-14T09:00:00.000+01:00\n",
              "4 ene.           2002             null         2025-09-29T09:00:00.000+02:00\n",
              "5 ene.           2011             null         2025-09-12T09:00:00.000+02:00\n",
              "6 ene.           1961             null         2025-09-29T09:00:00.000+02:00"
            ]
          },
          "metadata": {}
        }
      ]
    },
    {
      "cell_type": "code",
      "source": [
        "# Series del Índice de Precios de Consumo (IPC)\n",
        "\n",
        "IPC_series <- get_metadata_series_operation(operation = \"IPC\", tip =\"A\")       # En el parámetro \"operation\" se debe especificar el código de la operación\n",
        "head(IPC_series)"
      ],
      "metadata": {
        "colab": {
          "base_uri": "https://localhost:8080/",
          "height": 286
        },
        "id": "mnqpJXln3lCx",
        "outputId": "4cd9c40e-2552-4225-8354-81babe79ee66"
      },
      "execution_count": null,
      "outputs": [
        {
          "output_type": "display_data",
          "data": {
            "text/html": [
              "<table class=\"dataframe\">\n",
              "<caption>A data.frame: 6 × 9</caption>\n",
              "<thead>\n",
              "\t<tr><th></th><th scope=col>COD</th><th scope=col>T3_Operacion</th><th scope=col>Nombre</th><th scope=col>Decimales</th><th scope=col>T3_Periodicidad</th><th scope=col>T3_Publicacion</th><th scope=col>T3_Clasificacion</th><th scope=col>T3_Escala</th><th scope=col>T3_Unidad</th></tr>\n",
              "\t<tr><th></th><th scope=col>&lt;chr&gt;</th><th scope=col>&lt;chr&gt;</th><th scope=col>&lt;chr&gt;</th><th scope=col>&lt;int&gt;</th><th scope=col>&lt;chr&gt;</th><th scope=col>&lt;chr&gt;</th><th scope=col>&lt;chr&gt;</th><th scope=col>&lt;chr&gt;</th><th scope=col>&lt;chr&gt;</th></tr>\n",
              "</thead>\n",
              "<tbody>\n",
              "\t<tr><th scope=row>1</th><td>IPC53262</td><td>Índice de Precios de Consumo (IPC)</td><td>Baleares. Tasa de variación en lo que va de año medicina   </td><td>1</td><td>Mensual</td><td>Índice de Precios de Consumo</td><td>Base 2001</td><td> </td><td>Tasas </td></tr>\n",
              "\t<tr><th scope=row>2</th><td>IPC53306</td><td>Índice de Precios de Consumo (IPC)</td><td>Baleares. Dato base. Transporte                            </td><td>3</td><td>Mensual</td><td>Índice de Precios de Consumo</td><td>Base 2001</td><td> </td><td>Índice</td></tr>\n",
              "\t<tr><th scope=row>3</th><td>IPC53307</td><td>Índice de Precios de Consumo (IPC)</td><td>Baleares. Tasa de variación mensual. Transporte            </td><td>1</td><td>Mensual</td><td>Índice de Precios de Consumo</td><td>Base 2001</td><td> </td><td>Tasas </td></tr>\n",
              "\t<tr><th scope=row>4</th><td>IPC53308</td><td>Índice de Precios de Consumo (IPC)</td><td>Baleares. Tasa de variación anual. Transporte              </td><td>1</td><td>Mensual</td><td>Índice de Precios de Consumo</td><td>Base 2001</td><td> </td><td>Tasas </td></tr>\n",
              "\t<tr><th scope=row>5</th><td>IPC53311</td><td>Índice de Precios de Consumo (IPC)</td><td>Baleares. Tasa de variación en lo que va de año. Transporte</td><td>1</td><td>Mensual</td><td>Índice de Precios de Consumo</td><td>Base 2001</td><td> </td><td>Tasas </td></tr>\n",
              "\t<tr><th scope=row>6</th><td>IPC53327</td><td>Índice de Precios de Consumo (IPC)</td><td>Baleares. Dato base. Comunicaciones                        </td><td>3</td><td>Mensual</td><td>Índice de Precios de Consumo</td><td>Base 2001</td><td> </td><td>Índice</td></tr>\n",
              "</tbody>\n",
              "</table>\n"
            ],
            "text/markdown": "\nA data.frame: 6 × 9\n\n| <!--/--> | COD &lt;chr&gt; | T3_Operacion &lt;chr&gt; | Nombre &lt;chr&gt; | Decimales &lt;int&gt; | T3_Periodicidad &lt;chr&gt; | T3_Publicacion &lt;chr&gt; | T3_Clasificacion &lt;chr&gt; | T3_Escala &lt;chr&gt; | T3_Unidad &lt;chr&gt; |\n|---|---|---|---|---|---|---|---|---|---|\n| 1 | IPC53262 | Índice de Precios de Consumo (IPC) | Baleares. Tasa de variación en lo que va de año medicina    | 1 | Mensual | Índice de Precios de Consumo | Base 2001 | <!----> | Tasas  |\n| 2 | IPC53306 | Índice de Precios de Consumo (IPC) | Baleares. Dato base. Transporte                             | 3 | Mensual | Índice de Precios de Consumo | Base 2001 | <!----> | Índice |\n| 3 | IPC53307 | Índice de Precios de Consumo (IPC) | Baleares. Tasa de variación mensual. Transporte             | 1 | Mensual | Índice de Precios de Consumo | Base 2001 | <!----> | Tasas  |\n| 4 | IPC53308 | Índice de Precios de Consumo (IPC) | Baleares. Tasa de variación anual. Transporte               | 1 | Mensual | Índice de Precios de Consumo | Base 2001 | <!----> | Tasas  |\n| 5 | IPC53311 | Índice de Precios de Consumo (IPC) | Baleares. Tasa de variación en lo que va de año. Transporte | 1 | Mensual | Índice de Precios de Consumo | Base 2001 | <!----> | Tasas  |\n| 6 | IPC53327 | Índice de Precios de Consumo (IPC) | Baleares. Dato base. Comunicaciones                         | 3 | Mensual | Índice de Precios de Consumo | Base 2001 | <!----> | Índice |\n\n",
            "text/latex": "A data.frame: 6 × 9\n\\begin{tabular}{r|lllllllll}\n  & COD & T3\\_Operacion & Nombre & Decimales & T3\\_Periodicidad & T3\\_Publicacion & T3\\_Clasificacion & T3\\_Escala & T3\\_Unidad\\\\\n  & <chr> & <chr> & <chr> & <int> & <chr> & <chr> & <chr> & <chr> & <chr>\\\\\n\\hline\n\t1 & IPC53262 & Índice de Precios de Consumo (IPC) & Baleares. Tasa de variación en lo que va de año medicina    & 1 & Mensual & Índice de Precios de Consumo & Base 2001 &   & Tasas \\\\\n\t2 & IPC53306 & Índice de Precios de Consumo (IPC) & Baleares. Dato base. Transporte                             & 3 & Mensual & Índice de Precios de Consumo & Base 2001 &   & Índice\\\\\n\t3 & IPC53307 & Índice de Precios de Consumo (IPC) & Baleares. Tasa de variación mensual. Transporte             & 1 & Mensual & Índice de Precios de Consumo & Base 2001 &   & Tasas \\\\\n\t4 & IPC53308 & Índice de Precios de Consumo (IPC) & Baleares. Tasa de variación anual. Transporte               & 1 & Mensual & Índice de Precios de Consumo & Base 2001 &   & Tasas \\\\\n\t5 & IPC53311 & Índice de Precios de Consumo (IPC) & Baleares. Tasa de variación en lo que va de año. Transporte & 1 & Mensual & Índice de Precios de Consumo & Base 2001 &   & Tasas \\\\\n\t6 & IPC53327 & Índice de Precios de Consumo (IPC) & Baleares. Dato base. Comunicaciones                         & 3 & Mensual & Índice de Precios de Consumo & Base 2001 &   & Índice\\\\\n\\end{tabular}\n",
            "text/plain": [
              "  COD      T3_Operacion                      \n",
              "1 IPC53262 Índice de Precios de Consumo (IPC)\n",
              "2 IPC53306 Índice de Precios de Consumo (IPC)\n",
              "3 IPC53307 Índice de Precios de Consumo (IPC)\n",
              "4 IPC53308 Índice de Precios de Consumo (IPC)\n",
              "5 IPC53311 Índice de Precios de Consumo (IPC)\n",
              "6 IPC53327 Índice de Precios de Consumo (IPC)\n",
              "  Nombre                                                      Decimales\n",
              "1 Baleares. Tasa de variación en lo que va de año medicina    1        \n",
              "2 Baleares. Dato base. Transporte                             3        \n",
              "3 Baleares. Tasa de variación mensual. Transporte             1        \n",
              "4 Baleares. Tasa de variación anual. Transporte               1        \n",
              "5 Baleares. Tasa de variación en lo que va de año. Transporte 1        \n",
              "6 Baleares. Dato base. Comunicaciones                         3        \n",
              "  T3_Periodicidad T3_Publicacion               T3_Clasificacion T3_Escala\n",
              "1 Mensual         Índice de Precios de Consumo Base 2001                 \n",
              "2 Mensual         Índice de Precios de Consumo Base 2001                 \n",
              "3 Mensual         Índice de Precios de Consumo Base 2001                 \n",
              "4 Mensual         Índice de Precios de Consumo Base 2001                 \n",
              "5 Mensual         Índice de Precios de Consumo Base 2001                 \n",
              "6 Mensual         Índice de Precios de Consumo Base 2001                 \n",
              "  T3_Unidad\n",
              "1 Tasas    \n",
              "2 Índice   \n",
              "3 Tasas    \n",
              "4 Tasas    \n",
              "5 Tasas    \n",
              "6 Índice   "
            ]
          },
          "metadata": {}
        }
      ]
    },
    {
      "cell_type": "code",
      "source": [
        "# Si queremos guardar en excel las series del IPC\n",
        "\n",
        "write.xlsx(IPC_series, file=\"IPC_series.xlsx\")"
      ],
      "metadata": {
        "id": "RPmlRh5Di6ej"
      },
      "execution_count": null,
      "outputs": []
    },
    {
      "cell_type": "markdown",
      "source": [
        "En algunos casos puede ser más fácil salir de la interfaz R y buscar el código de identificación en la página web. En la página del INE, el código de tablas y series existentes en Tempus3 se encuentra de la siguiente manera:\n",
        "\n",
        "***Código de identificación de una tabla en Tempus3***\n",
        "\n",
        "![](https://raw.githubusercontent.com/uxue-sudupe/API-adibideak/main/img/Id_tabla_Tempus.png)\n",
        "\n",
        "\n",
        "\n",
        "***Código de identificación de una serie en tempus3***\n",
        "\n",
        "![](https://raw.githubusercontent.com/uxue-sudupe/API-adibideak/main/img/Id_serie_Tempus.png)"
      ],
      "metadata": {
        "id": "hCgzCAYsAX73"
      }
    },
    {
      "cell_type": "markdown",
      "source": [
        "### 2.2 Tablas en formato  pc-axis\n",
        "\n",
        "Hay que salir del interfaz R y buscar el código de identificación en la página web:\n",
        "\n",
        "***Código de identificación de la tabla pc-axis***\n",
        "\n",
        "![](https://raw.githubusercontent.com/uxue-sudupe/API-adibideak/main/img/Id_tabla_pc-axis.png)"
      ],
      "metadata": {
        "id": "NSudSVCza5Qm"
      }
    },
    {
      "cell_type": "markdown",
      "source": [
        "### 2.3 Tablas en formato tpx\n",
        "\n",
        "Hay que salir del interfaz R y buscar el código de identificación en la página web:\n",
        "\n",
        "***Código de identificación de la tabla tpx***\n",
        "\n",
        "![](https://raw.githubusercontent.com/uxue-sudupe/API-adibideak/main/img/Id_tabla_tpx.png)"
      ],
      "metadata": {
        "id": "MpGAIwPgLCi1"
      }
    },
    {
      "cell_type": "markdown",
      "source": [
        "## 3. METADATOS ESTRUCTURALES\n",
        "\n",
        "Los metadatos del servicio web del INE no siguen estándares. Para encontrar los códigos y descripciones de las variables y valores utilizados en las tablas utilizaremos las siguientes funciones:\n"
      ],
      "metadata": {
        "id": "qoTA4NSsnE0E"
      }
    },
    {
      "cell_type": "markdown",
      "source": [
        "### 3.1 Variables\n",
        "\n",
        "La función `get_metadata_variables` recibe los códigos y descripciones de todas las variables del INEbase. También se pueden solicitar variables de una sola operación."
      ],
      "metadata": {
        "id": "8Ta1Nn4KyJWZ"
      }
    },
    {
      "cell_type": "code",
      "source": [
        "#  Listado de variables de toda la base de datos INEbase (códigos y descripciones)\n",
        "\n",
        "variables <- get_metadata_variables()\n",
        "head(variables)"
      ],
      "metadata": {
        "colab": {
          "base_uri": "https://localhost:8080/",
          "height": 286
        },
        "id": "Zv9ygGextMVR",
        "outputId": "08a6d1fc-e5a5-4093-eb5d-14bffc15fb5e"
      },
      "execution_count": null,
      "outputs": [
        {
          "output_type": "display_data",
          "data": {
            "text/html": [
              "<table class=\"dataframe\">\n",
              "<caption>A data.frame: 6 × 3</caption>\n",
              "<thead>\n",
              "\t<tr><th></th><th scope=col>Id</th><th scope=col>Nombre</th><th scope=col>Codigo</th></tr>\n",
              "\t<tr><th></th><th scope=col>&lt;int&gt;</th><th scope=col>&lt;chr&gt;</th><th scope=col>&lt;chr&gt;</th></tr>\n",
              "</thead>\n",
              "<tbody>\n",
              "\t<tr><th scope=row>1</th><td>349</td><td>Totales Territoriales           </td><td>NAC </td></tr>\n",
              "\t<tr><th scope=row>2</th><td>954</td><td>Total                           </td><td>    </td></tr>\n",
              "\t<tr><th scope=row>3</th><td> 70</td><td>Comunidades y Ciudades Autónomas</td><td>CCAA</td></tr>\n",
              "\t<tr><th scope=row>4</th><td>516</td><td>Nacionalidad                    </td><td>1   </td></tr>\n",
              "\t<tr><th scope=row>5</th><td>955</td><td>Cultivos, pastos y huertos      </td><td>    </td></tr>\n",
              "\t<tr><th scope=row>6</th><td>956</td><td>SAU y Otras tierras             </td><td>    </td></tr>\n",
              "</tbody>\n",
              "</table>\n"
            ],
            "text/markdown": "\nA data.frame: 6 × 3\n\n| <!--/--> | Id &lt;int&gt; | Nombre &lt;chr&gt; | Codigo &lt;chr&gt; |\n|---|---|---|---|\n| 1 | 349 | Totales Territoriales            | NAC  |\n| 2 | 954 | Total                            | <!----> |\n| 3 |  70 | Comunidades y Ciudades Autónomas | CCAA |\n| 4 | 516 | Nacionalidad                     | 1    |\n| 5 | 955 | Cultivos, pastos y huertos       | <!----> |\n| 6 | 956 | SAU y Otras tierras              | <!----> |\n\n",
            "text/latex": "A data.frame: 6 × 3\n\\begin{tabular}{r|lll}\n  & Id & Nombre & Codigo\\\\\n  & <int> & <chr> & <chr>\\\\\n\\hline\n\t1 & 349 & Totales Territoriales            & NAC \\\\\n\t2 & 954 & Total                            &     \\\\\n\t3 &  70 & Comunidades y Ciudades Autónomas & CCAA\\\\\n\t4 & 516 & Nacionalidad                     & 1   \\\\\n\t5 & 955 & Cultivos, pastos y huertos       &     \\\\\n\t6 & 956 & SAU y Otras tierras              &     \\\\\n\\end{tabular}\n",
            "text/plain": [
              "  Id  Nombre                           Codigo\n",
              "1 349 Totales Territoriales            NAC   \n",
              "2 954 Total                                  \n",
              "3  70 Comunidades y Ciudades Autónomas CCAA  \n",
              "4 516 Nacionalidad                     1     \n",
              "5 955 Cultivos, pastos y huertos             \n",
              "6 956 SAU y Otras tierras                    "
            ]
          },
          "metadata": {}
        }
      ]
    },
    {
      "cell_type": "code",
      "source": [
        "# Si queremos guardar la respuesta en un archivo excel\n",
        "\n",
        "write.xlsx(variables, \"API_INE_variables.xlsx\")"
      ],
      "metadata": {
        "id": "bN0lL1EhMv01"
      },
      "execution_count": null,
      "outputs": []
    },
    {
      "cell_type": "code",
      "source": [
        "# Listado de variables de una operación\n",
        "\n",
        "IPC_variables <- get_metadata_variables(operation=\"IPC\")\n",
        "head(IPC_variables)"
      ],
      "metadata": {
        "colab": {
          "base_uri": "https://localhost:8080/",
          "height": 286
        },
        "id": "BbeAGgURNbK9",
        "outputId": "b970ea7c-e20f-4d84-b0f8-3c33388875c4"
      },
      "execution_count": null,
      "outputs": [
        {
          "output_type": "display_data",
          "data": {
            "text/html": [
              "<table class=\"dataframe\">\n",
              "<caption>A data.frame: 6 × 3</caption>\n",
              "<thead>\n",
              "\t<tr><th></th><th scope=col>Id</th><th scope=col>Nombre</th><th scope=col>Codigo</th></tr>\n",
              "\t<tr><th></th><th scope=col>&lt;int&gt;</th><th scope=col>&lt;chr&gt;</th><th scope=col>&lt;chr&gt;</th></tr>\n",
              "</thead>\n",
              "<tbody>\n",
              "\t<tr><th scope=row>1</th><td>  3</td><td>Tipo de dato                    </td><td>    </td></tr>\n",
              "\t<tr><th scope=row>2</th><td> 70</td><td>Comunidades y Ciudades Autónomas</td><td>CCAA</td></tr>\n",
              "\t<tr><th scope=row>3</th><td>115</td><td>Provincias                      </td><td>PROV</td></tr>\n",
              "\t<tr><th scope=row>4</th><td>269</td><td>Grupos especiales 2001          </td><td>    </td></tr>\n",
              "\t<tr><th scope=row>5</th><td>270</td><td>Rúbricas 2001                   </td><td>    </td></tr>\n",
              "\t<tr><th scope=row>6</th><td>349</td><td>Totales Territoriales           </td><td>NAC </td></tr>\n",
              "</tbody>\n",
              "</table>\n"
            ],
            "text/markdown": "\nA data.frame: 6 × 3\n\n| <!--/--> | Id &lt;int&gt; | Nombre &lt;chr&gt; | Codigo &lt;chr&gt; |\n|---|---|---|---|\n| 1 |   3 | Tipo de dato                     | <!----> |\n| 2 |  70 | Comunidades y Ciudades Autónomas | CCAA |\n| 3 | 115 | Provincias                       | PROV |\n| 4 | 269 | Grupos especiales 2001           | <!----> |\n| 5 | 270 | Rúbricas 2001                    | <!----> |\n| 6 | 349 | Totales Territoriales            | NAC  |\n\n",
            "text/latex": "A data.frame: 6 × 3\n\\begin{tabular}{r|lll}\n  & Id & Nombre & Codigo\\\\\n  & <int> & <chr> & <chr>\\\\\n\\hline\n\t1 &   3 & Tipo de dato                     &     \\\\\n\t2 &  70 & Comunidades y Ciudades Autónomas & CCAA\\\\\n\t3 & 115 & Provincias                       & PROV\\\\\n\t4 & 269 & Grupos especiales 2001           &     \\\\\n\t5 & 270 & Rúbricas 2001                    &     \\\\\n\t6 & 349 & Totales Territoriales            & NAC \\\\\n\\end{tabular}\n",
            "text/plain": [
              "  Id  Nombre                           Codigo\n",
              "1   3 Tipo de dato                           \n",
              "2  70 Comunidades y Ciudades Autónomas CCAA  \n",
              "3 115 Provincias                       PROV  \n",
              "4 269 Grupos especiales 2001                 \n",
              "5 270 Rúbricas 2001                          \n",
              "6 349 Totales Territoriales            NAC   "
            ]
          },
          "metadata": {}
        }
      ]
    },
    {
      "cell_type": "markdown",
      "source": [
        "### 3.2 Valores\n",
        "\n",
        " La función `get_metadata_values`, traduce los códigos y descripciones de los valores que toman las variables del INEbase."
      ],
      "metadata": {
        "id": "VS0z4d9myacz"
      }
    },
    {
      "cell_type": "code",
      "source": [
        "# \"Sexua\" aldagaiaren baloreak\n",
        "\n",
        "variables_18 <- get_metadata_values(variable=18)\n",
        "variables_18\n",
        "\n",
        "\n",
        "variables_548 <- get_metadata_values(variable=548)\n",
        "variables_548"
      ],
      "metadata": {
        "colab": {
          "base_uri": "https://localhost:8080/",
          "height": 493
        },
        "id": "qFo_5m-9nCFl",
        "outputId": "543c1fd4-ec7a-404f-c31c-f9cc5048c45e"
      },
      "execution_count": null,
      "outputs": [
        {
          "output_type": "display_data",
          "data": {
            "text/html": [
              "<table class=\"dataframe\">\n",
              "<caption>A data.frame: 5 × 5</caption>\n",
              "<thead>\n",
              "\t<tr><th scope=col>Id</th><th scope=col>Fk_Variable</th><th scope=col>Nombre</th><th scope=col>Codigo</th><th scope=col>FK_JerarquiaPadres</th></tr>\n",
              "\t<tr><th scope=col>&lt;int&gt;</th><th scope=col>&lt;int&gt;</th><th scope=col>&lt;chr&gt;</th><th scope=col>&lt;chr&gt;</th><th scope=col>&lt;list&gt;</th></tr>\n",
              "</thead>\n",
              "<tbody>\n",
              "\t<tr><td>   451</td><td>18</td><td>Total      </td><td> </td><td>NULL</td></tr>\n",
              "\t<tr><td>   452</td><td>18</td><td>Hombres    </td><td>1</td><td>NULL</td></tr>\n",
              "\t<tr><td>   453</td><td>18</td><td>Mujeres    </td><td>6</td><td>NULL</td></tr>\n",
              "\t<tr><td>   454</td><td>18</td><td>Ambos sexos</td><td> </td><td>451</td></tr>\n",
              "\t<tr><td>438439</td><td>18</td><td>No consta  </td><td> </td><td>NULL</td></tr>\n",
              "</tbody>\n",
              "</table>\n"
            ],
            "text/markdown": "\nA data.frame: 5 × 5\n\n| Id &lt;int&gt; | Fk_Variable &lt;int&gt; | Nombre &lt;chr&gt; | Codigo &lt;chr&gt; | FK_JerarquiaPadres &lt;list&gt; |\n|---|---|---|---|---|\n|    451 | 18 | Total       | <!----> | NULL |\n|    452 | 18 | Hombres     | 1 | NULL |\n|    453 | 18 | Mujeres     | 6 | NULL |\n|    454 | 18 | Ambos sexos | <!----> | 451 |\n| 438439 | 18 | No consta   | <!----> | NULL |\n\n",
            "text/latex": "A data.frame: 5 × 5\n\\begin{tabular}{lllll}\n Id & Fk\\_Variable & Nombre & Codigo & FK\\_JerarquiaPadres\\\\\n <int> & <int> & <chr> & <chr> & <list>\\\\\n\\hline\n\t    451 & 18 & Total       &   & NULL\\\\\n\t    452 & 18 & Hombres     & 1 & NULL\\\\\n\t    453 & 18 & Mujeres     & 6 & NULL\\\\\n\t    454 & 18 & Ambos sexos &   & 451\\\\\n\t 438439 & 18 & No consta   &   & NULL\\\\\n\\end{tabular}\n",
            "text/plain": [
              "  Id     Fk_Variable Nombre      Codigo FK_JerarquiaPadres\n",
              "1    451 18          Total              NULL              \n",
              "2    452 18          Hombres     1      NULL              \n",
              "3    453 18          Mujeres     6      NULL              \n",
              "4    454 18          Ambos sexos        451               \n",
              "5 438439 18          No consta          NULL              "
            ]
          },
          "metadata": {}
        },
        {
          "output_type": "display_data",
          "data": {
            "text/html": [
              "<table class=\"dataframe\">\n",
              "<caption>A data.frame: 5 × 5</caption>\n",
              "<thead>\n",
              "\t<tr><th scope=col>Id</th><th scope=col>Fk_Variable</th><th scope=col>Nombre</th><th scope=col>Codigo</th><th scope=col>FK_JerarquiaPadres</th></tr>\n",
              "\t<tr><th scope=col>&lt;int&gt;</th><th scope=col>&lt;int&gt;</th><th scope=col>&lt;chr&gt;</th><th scope=col>&lt;chr&gt;</th><th scope=col>&lt;list&gt;</th></tr>\n",
              "</thead>\n",
              "<tbody>\n",
              "\t<tr><td>   451</td><td>548</td><td>Total      </td><td> </td><td>NULL</td></tr>\n",
              "\t<tr><td>   452</td><td>548</td><td>Hombres    </td><td>1</td><td>NULL</td></tr>\n",
              "\t<tr><td>   453</td><td>548</td><td>Mujeres    </td><td>6</td><td>NULL</td></tr>\n",
              "\t<tr><td>   454</td><td>548</td><td>Ambos sexos</td><td> </td><td>451</td></tr>\n",
              "\t<tr><td>438439</td><td>548</td><td>No consta  </td><td> </td><td>NULL</td></tr>\n",
              "</tbody>\n",
              "</table>\n"
            ],
            "text/markdown": "\nA data.frame: 5 × 5\n\n| Id &lt;int&gt; | Fk_Variable &lt;int&gt; | Nombre &lt;chr&gt; | Codigo &lt;chr&gt; | FK_JerarquiaPadres &lt;list&gt; |\n|---|---|---|---|---|\n|    451 | 548 | Total       | <!----> | NULL |\n|    452 | 548 | Hombres     | 1 | NULL |\n|    453 | 548 | Mujeres     | 6 | NULL |\n|    454 | 548 | Ambos sexos | <!----> | 451 |\n| 438439 | 548 | No consta   | <!----> | NULL |\n\n",
            "text/latex": "A data.frame: 5 × 5\n\\begin{tabular}{lllll}\n Id & Fk\\_Variable & Nombre & Codigo & FK\\_JerarquiaPadres\\\\\n <int> & <int> & <chr> & <chr> & <list>\\\\\n\\hline\n\t    451 & 548 & Total       &   & NULL\\\\\n\t    452 & 548 & Hombres     & 1 & NULL\\\\\n\t    453 & 548 & Mujeres     & 6 & NULL\\\\\n\t    454 & 548 & Ambos sexos &   & 451\\\\\n\t 438439 & 548 & No consta   &   & NULL\\\\\n\\end{tabular}\n",
            "text/plain": [
              "  Id     Fk_Variable Nombre      Codigo FK_JerarquiaPadres\n",
              "1    451 548         Total              NULL              \n",
              "2    452 548         Hombres     1      NULL              \n",
              "3    453 548         Mujeres     6      NULL              \n",
              "4    454 548         Ambos sexos        451               \n",
              "5 438439 548         No consta          NULL              "
            ]
          },
          "metadata": {}
        }
      ]
    },
    {
      "cell_type": "markdown",
      "source": [
        "### 3.3 Variables y valores\n",
        "\n",
        "Con la función: `get_metadata_series_varval`, se obtiene la correspondencia de las variables y de todos los valores que éstas toman. Es obligatorio introducir el código de una operación.\n"
      ],
      "metadata": {
        "id": "JNQi0_L0O_9s"
      }
    },
    {
      "cell_type": "code",
      "source": [
        "varbal<- get_metadata_series_varval(operation=\"MYH\")\n",
        "varbal\n"
      ],
      "metadata": {
        "colab": {
          "base_uri": "https://localhost:8080/",
          "height": 1000
        },
        "id": "sO1iR9sWO7ks",
        "outputId": "b0d2912e-da7b-4d87-cb43-48230a4ecef2"
      },
      "execution_count": null,
      "outputs": [
        {
          "output_type": "display_data",
          "data": {
            "text/html": [
              "<table class=\"dataframe\">\n",
              "<caption>A data.frame: 629 × 4</caption>\n",
              "<thead>\n",
              "\t<tr><th scope=col>Id</th><th scope=col>Fk_Variable</th><th scope=col>Nombre</th><th scope=col>Codigo</th></tr>\n",
              "\t<tr><th scope=col>&lt;int&gt;</th><th scope=col>&lt;int&gt;</th><th scope=col>&lt;chr&gt;</th><th scope=col>&lt;chr&gt;</th></tr>\n",
              "</thead>\n",
              "<tbody>\n",
              "\t<tr><td>    72</td><td> 3</td><td>Dato base                                                                       </td><td> </td></tr>\n",
              "\t<tr><td>    77</td><td> 3</td><td>Porcentaje                                                                      </td><td> </td></tr>\n",
              "\t<tr><td> 11406</td><td> 3</td><td>Valor absoluto                                                                  </td><td> </td></tr>\n",
              "\t<tr><td> 23184</td><td> 3</td><td>Proyección a largo plazo                                                        </td><td> </td></tr>\n",
              "\t<tr><td> 23238</td><td> 3</td><td>Por mil                                                                         </td><td> </td></tr>\n",
              "\t<tr><td>283908</td><td> 3</td><td>Tasa de actividad                                                               </td><td> </td></tr>\n",
              "\t<tr><td>283909</td><td> 3</td><td>Tasa de empleo de la población                                                  </td><td> </td></tr>\n",
              "\t<tr><td>283910</td><td> 3</td><td>Tasa de paro de la población                                                    </td><td> </td></tr>\n",
              "\t<tr><td>283950</td><td> 3</td><td>Número medio de horas efectivas trabajadas                                      </td><td> </td></tr>\n",
              "\t<tr><td>284296</td><td> 3</td><td>Porcentaje respecto al sexo                                                     </td><td> </td></tr>\n",
              "\t<tr><td>284297</td><td> 3</td><td>Porcentaje respecto a la ocupación                                              </td><td> </td></tr>\n",
              "\t<tr><td>284298</td><td> 3</td><td>Porcentaje respecto a la edad                                                   </td><td> </td></tr>\n",
              "\t<tr><td>298062</td><td> 3</td><td>Porcentaje respecto al empleo total                                             </td><td> </td></tr>\n",
              "\t<tr><td>298063</td><td> 3</td><td>Porcentaje respecto al empleo total de personas del mismo sexo                  </td><td> </td></tr>\n",
              "\t<tr><td>298085</td><td> 3</td><td>Porcentaje respecto a la edad y al sexo                                         </td><td> </td></tr>\n",
              "\t<tr><td>298450</td><td> 3</td><td>Porcentaje respecto al desempleo total                                          </td><td> </td></tr>\n",
              "\t<tr><td>298452</td><td> 3</td><td>Participación de los trabajadores (asalariados) respecto al total de asalariados</td><td> </td></tr>\n",
              "\t<tr><td>298453</td><td> 3</td><td>Participación de los trabajadores respecto al empleo total                      </td><td> </td></tr>\n",
              "\t<tr><td>298958</td><td> 3</td><td>Número medio de horas diarias dedicadas                                         </td><td> </td></tr>\n",
              "\t<tr><td>   451</td><td>18</td><td>Total                                                                           </td><td> </td></tr>\n",
              "\t<tr><td>   452</td><td>18</td><td>Hombres                                                                         </td><td>1</td></tr>\n",
              "\t<tr><td>   453</td><td>18</td><td>Mujeres                                                                         </td><td>6</td></tr>\n",
              "\t<tr><td>  8695</td><td>37</td><td>Total                                                                           </td><td> </td></tr>\n",
              "\t<tr><td>  8696</td><td>37</td><td>Adulto solo con menos de 65 años                                                </td><td> </td></tr>\n",
              "\t<tr><td>  8697</td><td>37</td><td>Adulto solo de 65 o más años                                                    </td><td> </td></tr>\n",
              "\t<tr><td>  8698</td><td>37</td><td>Pareja sin hijos                                                                </td><td> </td></tr>\n",
              "\t<tr><td>  8702</td><td>37</td><td>Un adulto con hijos                                                             </td><td> </td></tr>\n",
              "\t<tr><td>  8703</td><td>37</td><td>Otro tipo de hogar                                                              </td><td> </td></tr>\n",
              "\t<tr><td>284018</td><td>37</td><td>Hogares de una persona                                                          </td><td> </td></tr>\n",
              "\t<tr><td>284019</td><td>37</td><td>2 adultos sin niños dependientes                                                </td><td> </td></tr>\n",
              "\t<tr><td>⋮</td><td>⋮</td><td>⋮</td><td>⋮</td></tr>\n",
              "\t<tr><td>298687</td><td>653</td><td>Enseñanza de idiomas                                                             </td><td></td></tr>\n",
              "\t<tr><td>298688</td><td>653</td><td>Enseñanzas deportivas                                                            </td><td></td></tr>\n",
              "\t<tr><td>298689</td><td>653</td><td>Educación de adultos                                                             </td><td></td></tr>\n",
              "\t<tr><td>298790</td><td>660</td><td>Eurostat                                                                         </td><td></td></tr>\n",
              "\t<tr><td>303786</td><td>696</td><td>Curso 2009/2010                                                                  </td><td></td></tr>\n",
              "\t<tr><td>303790</td><td>697</td><td>Ciencias,matemáticas y tecnologia                                                </td><td></td></tr>\n",
              "\t<tr><td>303816</td><td>697</td><td>Ciencias, matemáticas y tecnologia                                               </td><td></td></tr>\n",
              "\t<tr><td>311039</td><td>697</td><td>Ciencias naturales, matemáticas y estadística                                    </td><td></td></tr>\n",
              "\t<tr><td>369997</td><td>851</td><td>Son demasiado caros                                                              </td><td></td></tr>\n",
              "\t<tr><td>369998</td><td>851</td><td>Organizan el cuidado de hijos solos o con su pareja                              </td><td></td></tr>\n",
              "\t<tr><td>369999</td><td>851</td><td>Organizan el cuidado de hijos solos o con la ayuda de abuelos, parientes o amigos</td><td></td></tr>\n",
              "\t<tr><td>370000</td><td>851</td><td>No se necesitan para todos los hijos o los hijos cuidan de si mismos             </td><td></td></tr>\n",
              "\t<tr><td>370001</td><td>851</td><td>Por otros motivos (*)                                                            </td><td></td></tr>\n",
              "\t<tr><td>370002</td><td>851</td><td>No sabe/No contesta                                                              </td><td></td></tr>\n",
              "\t<tr><td>370003</td><td>852</td><td>Dejó de trabajar                                                                 </td><td></td></tr>\n",
              "\t<tr><td>370004</td><td>852</td><td>Redujo el tiempo de trabajo                                                      </td><td></td></tr>\n",
              "\t<tr><td>370005</td><td>852</td><td>Ni dejó de trabajar ni redujo el tiempo de trabajo                               </td><td></td></tr>\n",
              "\t<tr><td>370006</td><td>852</td><td>Nunca tuvo que cuidar de familiares dependientes                                 </td><td></td></tr>\n",
              "\t<tr><td>370007</td><td>852</td><td>No sabe/No contesta                                                              </td><td></td></tr>\n",
              "\t<tr><td>370008</td><td>853</td><td>Excedencia por cuidado de hijos                                                  </td><td></td></tr>\n",
              "\t<tr><td>370009</td><td>853</td><td>Combinación de excedencia con permiso de maternidad/paternidad                   </td><td></td></tr>\n",
              "\t<tr><td>370010</td><td>853</td><td>No fue excedencia, únicamente fue permiso de maternidad/paternidad               </td><td></td></tr>\n",
              "\t<tr><td>370011</td><td>853</td><td>La interrupción fue por una causa distinta a las anteriores                      </td><td></td></tr>\n",
              "\t<tr><td>370012</td><td>853</td><td>No sabe/No contesta                                                              </td><td></td></tr>\n",
              "\t<tr><td>392427</td><td>998</td><td>Por no haber servicios adecuados para cuidado de hijos u otros familiares        </td><td></td></tr>\n",
              "\t<tr><td>392428</td><td>998</td><td>Por no poder costear los servicios de cuidado de hijos u otros familiares        </td><td></td></tr>\n",
              "\t<tr><td>392429</td><td>998</td><td>Querer cuidar personalmente de hijos u otros familiares                          </td><td></td></tr>\n",
              "\t<tr><td>392430</td><td>998</td><td>Por otros factores decisivos                                                     </td><td></td></tr>\n",
              "\t<tr><td>392431</td><td>998</td><td>No sabe                                                                          </td><td></td></tr>\n",
              "\t<tr><td>392432</td><td>998</td><td>Total                                                                            </td><td></td></tr>\n",
              "</tbody>\n",
              "</table>\n"
            ],
            "text/markdown": "\nA data.frame: 629 × 4\n\n| Id &lt;int&gt; | Fk_Variable &lt;int&gt; | Nombre &lt;chr&gt; | Codigo &lt;chr&gt; |\n|---|---|---|---|\n|     72 |  3 | Dato base                                                                        | <!----> |\n|     77 |  3 | Porcentaje                                                                       | <!----> |\n|  11406 |  3 | Valor absoluto                                                                   | <!----> |\n|  23184 |  3 | Proyección a largo plazo                                                         | <!----> |\n|  23238 |  3 | Por mil                                                                          | <!----> |\n| 283908 |  3 | Tasa de actividad                                                                | <!----> |\n| 283909 |  3 | Tasa de empleo de la población                                                   | <!----> |\n| 283910 |  3 | Tasa de paro de la población                                                     | <!----> |\n| 283950 |  3 | Número medio de horas efectivas trabajadas                                       | <!----> |\n| 284296 |  3 | Porcentaje respecto al sexo                                                      | <!----> |\n| 284297 |  3 | Porcentaje respecto a la ocupación                                               | <!----> |\n| 284298 |  3 | Porcentaje respecto a la edad                                                    | <!----> |\n| 298062 |  3 | Porcentaje respecto al empleo total                                              | <!----> |\n| 298063 |  3 | Porcentaje respecto al empleo total de personas del mismo sexo                   | <!----> |\n| 298085 |  3 | Porcentaje respecto a la edad y al sexo                                          | <!----> |\n| 298450 |  3 | Porcentaje respecto al desempleo total                                           | <!----> |\n| 298452 |  3 | Participación de los trabajadores (asalariados) respecto al total de asalariados | <!----> |\n| 298453 |  3 | Participación de los trabajadores respecto al empleo total                       | <!----> |\n| 298958 |  3 | Número medio de horas diarias dedicadas                                          | <!----> |\n|    451 | 18 | Total                                                                            | <!----> |\n|    452 | 18 | Hombres                                                                          | 1 |\n|    453 | 18 | Mujeres                                                                          | 6 |\n|   8695 | 37 | Total                                                                            | <!----> |\n|   8696 | 37 | Adulto solo con menos de 65 años                                                 | <!----> |\n|   8697 | 37 | Adulto solo de 65 o más años                                                     | <!----> |\n|   8698 | 37 | Pareja sin hijos                                                                 | <!----> |\n|   8702 | 37 | Un adulto con hijos                                                              | <!----> |\n|   8703 | 37 | Otro tipo de hogar                                                               | <!----> |\n| 284018 | 37 | Hogares de una persona                                                           | <!----> |\n| 284019 | 37 | 2 adultos sin niños dependientes                                                 | <!----> |\n| ⋮ | ⋮ | ⋮ | ⋮ |\n| 298687 | 653 | Enseñanza de idiomas                                                              | <!----> |\n| 298688 | 653 | Enseñanzas deportivas                                                             | <!----> |\n| 298689 | 653 | Educación de adultos                                                              | <!----> |\n| 298790 | 660 | Eurostat                                                                          | <!----> |\n| 303786 | 696 | Curso 2009/2010                                                                   | <!----> |\n| 303790 | 697 | Ciencias,matemáticas y tecnologia                                                 | <!----> |\n| 303816 | 697 | Ciencias, matemáticas y tecnologia                                                | <!----> |\n| 311039 | 697 | Ciencias naturales, matemáticas y estadística                                     | <!----> |\n| 369997 | 851 | Son demasiado caros                                                               | <!----> |\n| 369998 | 851 | Organizan el cuidado de hijos solos o con su pareja                               | <!----> |\n| 369999 | 851 | Organizan el cuidado de hijos solos o con la ayuda de abuelos, parientes o amigos | <!----> |\n| 370000 | 851 | No se necesitan para todos los hijos o los hijos cuidan de si mismos              | <!----> |\n| 370001 | 851 | Por otros motivos (*)                                                             | <!----> |\n| 370002 | 851 | No sabe/No contesta                                                               | <!----> |\n| 370003 | 852 | Dejó de trabajar                                                                  | <!----> |\n| 370004 | 852 | Redujo el tiempo de trabajo                                                       | <!----> |\n| 370005 | 852 | Ni dejó de trabajar ni redujo el tiempo de trabajo                                | <!----> |\n| 370006 | 852 | Nunca tuvo que cuidar de familiares dependientes                                  | <!----> |\n| 370007 | 852 | No sabe/No contesta                                                               | <!----> |\n| 370008 | 853 | Excedencia por cuidado de hijos                                                   | <!----> |\n| 370009 | 853 | Combinación de excedencia con permiso de maternidad/paternidad                    | <!----> |\n| 370010 | 853 | No fue excedencia, únicamente fue permiso de maternidad/paternidad                | <!----> |\n| 370011 | 853 | La interrupción fue por una causa distinta a las anteriores                       | <!----> |\n| 370012 | 853 | No sabe/No contesta                                                               | <!----> |\n| 392427 | 998 | Por no haber servicios adecuados para cuidado de hijos u otros familiares         | <!----> |\n| 392428 | 998 | Por no poder costear los servicios de cuidado de hijos u otros familiares         | <!----> |\n| 392429 | 998 | Querer cuidar personalmente de hijos u otros familiares                           | <!----> |\n| 392430 | 998 | Por otros factores decisivos                                                      | <!----> |\n| 392431 | 998 | No sabe                                                                           | <!----> |\n| 392432 | 998 | Total                                                                             | <!----> |\n\n",
            "text/latex": "A data.frame: 629 × 4\n\\begin{tabular}{llll}\n Id & Fk\\_Variable & Nombre & Codigo\\\\\n <int> & <int> & <chr> & <chr>\\\\\n\\hline\n\t     72 &  3 & Dato base                                                                        &  \\\\\n\t     77 &  3 & Porcentaje                                                                       &  \\\\\n\t  11406 &  3 & Valor absoluto                                                                   &  \\\\\n\t  23184 &  3 & Proyección a largo plazo                                                         &  \\\\\n\t  23238 &  3 & Por mil                                                                          &  \\\\\n\t 283908 &  3 & Tasa de actividad                                                                &  \\\\\n\t 283909 &  3 & Tasa de empleo de la población                                                   &  \\\\\n\t 283910 &  3 & Tasa de paro de la población                                                     &  \\\\\n\t 283950 &  3 & Número medio de horas efectivas trabajadas                                       &  \\\\\n\t 284296 &  3 & Porcentaje respecto al sexo                                                      &  \\\\\n\t 284297 &  3 & Porcentaje respecto a la ocupación                                               &  \\\\\n\t 284298 &  3 & Porcentaje respecto a la edad                                                    &  \\\\\n\t 298062 &  3 & Porcentaje respecto al empleo total                                              &  \\\\\n\t 298063 &  3 & Porcentaje respecto al empleo total de personas del mismo sexo                   &  \\\\\n\t 298085 &  3 & Porcentaje respecto a la edad y al sexo                                          &  \\\\\n\t 298450 &  3 & Porcentaje respecto al desempleo total                                           &  \\\\\n\t 298452 &  3 & Participación de los trabajadores (asalariados) respecto al total de asalariados &  \\\\\n\t 298453 &  3 & Participación de los trabajadores respecto al empleo total                       &  \\\\\n\t 298958 &  3 & Número medio de horas diarias dedicadas                                          &  \\\\\n\t    451 & 18 & Total                                                                            &  \\\\\n\t    452 & 18 & Hombres                                                                          & 1\\\\\n\t    453 & 18 & Mujeres                                                                          & 6\\\\\n\t   8695 & 37 & Total                                                                            &  \\\\\n\t   8696 & 37 & Adulto solo con menos de 65 años                                                 &  \\\\\n\t   8697 & 37 & Adulto solo de 65 o más años                                                     &  \\\\\n\t   8698 & 37 & Pareja sin hijos                                                                 &  \\\\\n\t   8702 & 37 & Un adulto con hijos                                                              &  \\\\\n\t   8703 & 37 & Otro tipo de hogar                                                               &  \\\\\n\t 284018 & 37 & Hogares de una persona                                                           &  \\\\\n\t 284019 & 37 & 2 adultos sin niños dependientes                                                 &  \\\\\n\t ⋮ & ⋮ & ⋮ & ⋮\\\\\n\t 298687 & 653 & Enseñanza de idiomas                                                              & \\\\\n\t 298688 & 653 & Enseñanzas deportivas                                                             & \\\\\n\t 298689 & 653 & Educación de adultos                                                              & \\\\\n\t 298790 & 660 & Eurostat                                                                          & \\\\\n\t 303786 & 696 & Curso 2009/2010                                                                   & \\\\\n\t 303790 & 697 & Ciencias,matemáticas y tecnologia                                                 & \\\\\n\t 303816 & 697 & Ciencias, matemáticas y tecnologia                                                & \\\\\n\t 311039 & 697 & Ciencias naturales, matemáticas y estadística                                     & \\\\\n\t 369997 & 851 & Son demasiado caros                                                               & \\\\\n\t 369998 & 851 & Organizan el cuidado de hijos solos o con su pareja                               & \\\\\n\t 369999 & 851 & Organizan el cuidado de hijos solos o con la ayuda de abuelos, parientes o amigos & \\\\\n\t 370000 & 851 & No se necesitan para todos los hijos o los hijos cuidan de si mismos              & \\\\\n\t 370001 & 851 & Por otros motivos (*)                                                             & \\\\\n\t 370002 & 851 & No sabe/No contesta                                                               & \\\\\n\t 370003 & 852 & Dejó de trabajar                                                                  & \\\\\n\t 370004 & 852 & Redujo el tiempo de trabajo                                                       & \\\\\n\t 370005 & 852 & Ni dejó de trabajar ni redujo el tiempo de trabajo                                & \\\\\n\t 370006 & 852 & Nunca tuvo que cuidar de familiares dependientes                                  & \\\\\n\t 370007 & 852 & No sabe/No contesta                                                               & \\\\\n\t 370008 & 853 & Excedencia por cuidado de hijos                                                   & \\\\\n\t 370009 & 853 & Combinación de excedencia con permiso de maternidad/paternidad                    & \\\\\n\t 370010 & 853 & No fue excedencia, únicamente fue permiso de maternidad/paternidad                & \\\\\n\t 370011 & 853 & La interrupción fue por una causa distinta a las anteriores                       & \\\\\n\t 370012 & 853 & No sabe/No contesta                                                               & \\\\\n\t 392427 & 998 & Por no haber servicios adecuados para cuidado de hijos u otros familiares         & \\\\\n\t 392428 & 998 & Por no poder costear los servicios de cuidado de hijos u otros familiares         & \\\\\n\t 392429 & 998 & Querer cuidar personalmente de hijos u otros familiares                           & \\\\\n\t 392430 & 998 & Por otros factores decisivos                                                      & \\\\\n\t 392431 & 998 & No sabe                                                                           & \\\\\n\t 392432 & 998 & Total                                                                             & \\\\\n\\end{tabular}\n",
            "text/plain": [
              "    Id     Fk_Variable\n",
              "1       72  3         \n",
              "2       77  3         \n",
              "3    11406  3         \n",
              "4    23184  3         \n",
              "5    23238  3         \n",
              "6   283908  3         \n",
              "7   283909  3         \n",
              "8   283910  3         \n",
              "9   283950  3         \n",
              "10  284296  3         \n",
              "11  284297  3         \n",
              "12  284298  3         \n",
              "13  298062  3         \n",
              "14  298063  3         \n",
              "15  298085  3         \n",
              "16  298450  3         \n",
              "17  298452  3         \n",
              "18  298453  3         \n",
              "19  298958  3         \n",
              "20     451 18         \n",
              "21     452 18         \n",
              "22     453 18         \n",
              "23    8695 37         \n",
              "24    8696 37         \n",
              "25    8697 37         \n",
              "26    8698 37         \n",
              "27    8702 37         \n",
              "28    8703 37         \n",
              "29  284018 37         \n",
              "30  284019 37         \n",
              "⋮   ⋮      ⋮          \n",
              "600 298687 653        \n",
              "601 298688 653        \n",
              "602 298689 653        \n",
              "603 298790 660        \n",
              "604 303786 696        \n",
              "605 303790 697        \n",
              "606 303816 697        \n",
              "607 311039 697        \n",
              "608 369997 851        \n",
              "609 369998 851        \n",
              "610 369999 851        \n",
              "611 370000 851        \n",
              "612 370001 851        \n",
              "613 370002 851        \n",
              "614 370003 852        \n",
              "615 370004 852        \n",
              "616 370005 852        \n",
              "617 370006 852        \n",
              "618 370007 852        \n",
              "619 370008 853        \n",
              "620 370009 853        \n",
              "621 370010 853        \n",
              "622 370011 853        \n",
              "623 370012 853        \n",
              "624 392427 998        \n",
              "625 392428 998        \n",
              "626 392429 998        \n",
              "627 392430 998        \n",
              "628 392431 998        \n",
              "629 392432 998        \n",
              "    Nombre                                                                           \n",
              "1   Dato base                                                                        \n",
              "2   Porcentaje                                                                       \n",
              "3   Valor absoluto                                                                   \n",
              "4   Proyección a largo plazo                                                         \n",
              "5   Por mil                                                                          \n",
              "6   Tasa de actividad                                                                \n",
              "7   Tasa de empleo de la población                                                   \n",
              "8   Tasa de paro de la población                                                     \n",
              "9   Número medio de horas efectivas trabajadas                                       \n",
              "10  Porcentaje respecto al sexo                                                      \n",
              "11  Porcentaje respecto a la ocupación                                               \n",
              "12  Porcentaje respecto a la edad                                                    \n",
              "13  Porcentaje respecto al empleo total                                              \n",
              "14  Porcentaje respecto al empleo total de personas del mismo sexo                   \n",
              "15  Porcentaje respecto a la edad y al sexo                                          \n",
              "16  Porcentaje respecto al desempleo total                                           \n",
              "17  Participación de los trabajadores (asalariados) respecto al total de asalariados \n",
              "18  Participación de los trabajadores respecto al empleo total                       \n",
              "19  Número medio de horas diarias dedicadas                                          \n",
              "20  Total                                                                            \n",
              "21  Hombres                                                                          \n",
              "22  Mujeres                                                                          \n",
              "23  Total                                                                            \n",
              "24  Adulto solo con menos de 65 años                                                 \n",
              "25  Adulto solo de 65 o más años                                                     \n",
              "26  Pareja sin hijos                                                                 \n",
              "27  Un adulto con hijos                                                              \n",
              "28  Otro tipo de hogar                                                               \n",
              "29  Hogares de una persona                                                           \n",
              "30  2 adultos sin niños dependientes                                                 \n",
              "⋮   ⋮                                                                                \n",
              "600 Enseñanza de idiomas                                                             \n",
              "601 Enseñanzas deportivas                                                            \n",
              "602 Educación de adultos                                                             \n",
              "603 Eurostat                                                                         \n",
              "604 Curso 2009/2010                                                                  \n",
              "605 Ciencias,matemáticas y tecnologia                                                \n",
              "606 Ciencias, matemáticas y tecnologia                                               \n",
              "607 Ciencias naturales, matemáticas y estadística                                    \n",
              "608 Son demasiado caros                                                              \n",
              "609 Organizan el cuidado de hijos solos o con su pareja                              \n",
              "610 Organizan el cuidado de hijos solos o con la ayuda de abuelos, parientes o amigos\n",
              "611 No se necesitan para todos los hijos o los hijos cuidan de si mismos             \n",
              "612 Por otros motivos (*)                                                            \n",
              "613 No sabe/No contesta                                                              \n",
              "614 Dejó de trabajar                                                                 \n",
              "615 Redujo el tiempo de trabajo                                                      \n",
              "616 Ni dejó de trabajar ni redujo el tiempo de trabajo                               \n",
              "617 Nunca tuvo que cuidar de familiares dependientes                                 \n",
              "618 No sabe/No contesta                                                              \n",
              "619 Excedencia por cuidado de hijos                                                  \n",
              "620 Combinación de excedencia con permiso de maternidad/paternidad                   \n",
              "621 No fue excedencia, únicamente fue permiso de maternidad/paternidad               \n",
              "622 La interrupción fue por una causa distinta a las anteriores                      \n",
              "623 No sabe/No contesta                                                              \n",
              "624 Por no haber servicios adecuados para cuidado de hijos u otros familiares        \n",
              "625 Por no poder costear los servicios de cuidado de hijos u otros familiares        \n",
              "626 Querer cuidar personalmente de hijos u otros familiares                          \n",
              "627 Por otros factores decisivos                                                     \n",
              "628 No sabe                                                                          \n",
              "629 Total                                                                            \n",
              "    Codigo\n",
              "1         \n",
              "2         \n",
              "3         \n",
              "4         \n",
              "5         \n",
              "6         \n",
              "7         \n",
              "8         \n",
              "9         \n",
              "10        \n",
              "11        \n",
              "12        \n",
              "13        \n",
              "14        \n",
              "15        \n",
              "16        \n",
              "17        \n",
              "18        \n",
              "19        \n",
              "20        \n",
              "21  1     \n",
              "22  6     \n",
              "23        \n",
              "24        \n",
              "25        \n",
              "26        \n",
              "27        \n",
              "28        \n",
              "29        \n",
              "30        \n",
              "⋮   ⋮     \n",
              "600       \n",
              "601       \n",
              "602       \n",
              "603       \n",
              "604       \n",
              "605       \n",
              "606       \n",
              "607       \n",
              "608       \n",
              "609       \n",
              "610       \n",
              "611       \n",
              "612       \n",
              "613       \n",
              "614       \n",
              "615       \n",
              "616       \n",
              "617       \n",
              "618       \n",
              "619       \n",
              "620       \n",
              "621       \n",
              "622       \n",
              "623       \n",
              "624       \n",
              "625       \n",
              "626       \n",
              "627       \n",
              "628       \n",
              "629       "
            ]
          },
          "metadata": {}
        }
      ]
    },
    {
      "cell_type": "markdown",
      "source": [
        "## 4. BUSCAR Y OBTENER DATOS\n",
        "\n",
        "Se pueden descargar todos los datos de una tabla, serie u operación. Se utilizan diferentes funciones en función del elemento que se quiere descargar (tabla, serie u operación).\n",
        "\n",
        "En caso de querer filtrar los datos antes de la descarga, la sintaxis de los filtros también varía según la fuente de datos (Tempus3, pc-axis o tpx)."
      ],
      "metadata": {
        "id": "yXQ8MzkxqCDJ"
      }
    },
    {
      "cell_type": "markdown",
      "source": [
        "### 4.1 Obtener los datos de una serie\n",
        "\n",
        "Para obtener todos los datos de una serie, se necesita el parámetro `codSerie`, es decir, el código de identificación de la serie. Se utiliza la función `get_data_series`.\n"
      ],
      "metadata": {
        "id": "HSeC07X0k0-J"
      }
    },
    {
      "cell_type": "code",
      "source": [
        "# IPC de los alimentos de Álava (serie IPC271788)\n",
        "\n",
        "#  Se trata de los datos de esta URL: https://servicios.ine.es/wstempus/js/ES/DATOS_SERIE/IPC271788?date=19900101:20300101\n",
        "\n",
        "IPC_alimentos_Alava <- get_data_series(codSeries = \"IPC271788\",\n",
        "                            tip=\"A\",                     # tip = \"A\" para literales, en caso contrario aparecerá el código\n",
        "                            unnest=TRUE,                 # unnest = TRUE para mostrar los datos en una tabla\n",
        "                            dateStart = \"1990/01/01\")    # el filtro del tiempo se puede poner de muchas maneras: nlast, dateStart, dateEnd. Si no se indica nada, sólo da el último dato\n",
        "\n",
        "head(IPC_alimentos_Alava)\n",
        "\n"
      ],
      "metadata": {
        "colab": {
          "base_uri": "https://localhost:8080/",
          "height": 286
        },
        "id": "hb1bVD40lCAi",
        "outputId": "158235c7-2a76-4625-a04b-af4f063ba1d7"
      },
      "execution_count": null,
      "outputs": [
        {
          "output_type": "display_data",
          "data": {
            "text/html": [
              "<table class=\"dataframe\">\n",
              "<caption>A data.frame: 6 × 9</caption>\n",
              "<thead>\n",
              "\t<tr><th></th><th scope=col>COD</th><th scope=col>Nombre</th><th scope=col>T3_Unidad</th><th scope=col>T3_Escala</th><th scope=col>Fecha</th><th scope=col>T3_TipoDato</th><th scope=col>T3_Periodo</th><th scope=col>Anyo</th><th scope=col>Valor</th></tr>\n",
              "\t<tr><th></th><th scope=col>&lt;chr&gt;</th><th scope=col>&lt;chr&gt;</th><th scope=col>&lt;chr&gt;</th><th scope=col>&lt;chr&gt;</th><th scope=col>&lt;chr&gt;</th><th scope=col>&lt;chr&gt;</th><th scope=col>&lt;chr&gt;</th><th scope=col>&lt;int&gt;</th><th scope=col>&lt;dbl&gt;</th></tr>\n",
              "</thead>\n",
              "<tbody>\n",
              "\t<tr><th scope=row>1</th><td>IPC271788</td><td>Araba/Álava. Alimentos. Índice. </td><td>Índice</td><td> </td><td>2002-01-01T00:00:00.000+01:00</td><td>Definitivo</td><td>M01</td><td>2002</td><td>59.637</td></tr>\n",
              "\t<tr><th scope=row>1.1</th><td>IPC271788</td><td>Araba/Álava. Alimentos. Índice. </td><td>Índice</td><td> </td><td>2002-02-01T00:00:00.000+01:00</td><td>Definitivo</td><td>M02</td><td>2002</td><td>59.291</td></tr>\n",
              "\t<tr><th scope=row>1.2</th><td>IPC271788</td><td>Araba/Álava. Alimentos. Índice. </td><td>Índice</td><td> </td><td>2002-03-01T00:00:00.000+01:00</td><td>Definitivo</td><td>M03</td><td>2002</td><td>59.355</td></tr>\n",
              "\t<tr><th scope=row>1.3</th><td>IPC271788</td><td>Araba/Álava. Alimentos. Índice. </td><td>Índice</td><td> </td><td>2002-04-01T00:00:00.000+02:00</td><td>Definitivo</td><td>M04</td><td>2002</td><td>59.765</td></tr>\n",
              "\t<tr><th scope=row>1.4</th><td>IPC271788</td><td>Araba/Álava. Alimentos. Índice. </td><td>Índice</td><td> </td><td>2002-05-01T00:00:00.000+02:00</td><td>Definitivo</td><td>M05</td><td>2002</td><td>59.983</td></tr>\n",
              "\t<tr><th scope=row>1.5</th><td>IPC271788</td><td>Araba/Álava. Alimentos. Índice. </td><td>Índice</td><td> </td><td>2002-06-01T00:00:00.000+02:00</td><td>Definitivo</td><td>M06</td><td>2002</td><td>60.071</td></tr>\n",
              "</tbody>\n",
              "</table>\n"
            ],
            "text/markdown": "\nA data.frame: 6 × 9\n\n| <!--/--> | COD &lt;chr&gt; | Nombre &lt;chr&gt; | T3_Unidad &lt;chr&gt; | T3_Escala &lt;chr&gt; | Fecha &lt;chr&gt; | T3_TipoDato &lt;chr&gt; | T3_Periodo &lt;chr&gt; | Anyo &lt;int&gt; | Valor &lt;dbl&gt; |\n|---|---|---|---|---|---|---|---|---|---|\n| 1 | IPC271788 | Araba/Álava. Alimentos. Índice.  | Índice | <!----> | 2002-01-01T00:00:00.000+01:00 | Definitivo | M01 | 2002 | 59.637 |\n| 1.1 | IPC271788 | Araba/Álava. Alimentos. Índice.  | Índice | <!----> | 2002-02-01T00:00:00.000+01:00 | Definitivo | M02 | 2002 | 59.291 |\n| 1.2 | IPC271788 | Araba/Álava. Alimentos. Índice.  | Índice | <!----> | 2002-03-01T00:00:00.000+01:00 | Definitivo | M03 | 2002 | 59.355 |\n| 1.3 | IPC271788 | Araba/Álava. Alimentos. Índice.  | Índice | <!----> | 2002-04-01T00:00:00.000+02:00 | Definitivo | M04 | 2002 | 59.765 |\n| 1.4 | IPC271788 | Araba/Álava. Alimentos. Índice.  | Índice | <!----> | 2002-05-01T00:00:00.000+02:00 | Definitivo | M05 | 2002 | 59.983 |\n| 1.5 | IPC271788 | Araba/Álava. Alimentos. Índice.  | Índice | <!----> | 2002-06-01T00:00:00.000+02:00 | Definitivo | M06 | 2002 | 60.071 |\n\n",
            "text/latex": "A data.frame: 6 × 9\n\\begin{tabular}{r|lllllllll}\n  & COD & Nombre & T3\\_Unidad & T3\\_Escala & Fecha & T3\\_TipoDato & T3\\_Periodo & Anyo & Valor\\\\\n  & <chr> & <chr> & <chr> & <chr> & <chr> & <chr> & <chr> & <int> & <dbl>\\\\\n\\hline\n\t1 & IPC271788 & Araba/Álava. Alimentos. Índice.  & Índice &   & 2002-01-01T00:00:00.000+01:00 & Definitivo & M01 & 2002 & 59.637\\\\\n\t1.1 & IPC271788 & Araba/Álava. Alimentos. Índice.  & Índice &   & 2002-02-01T00:00:00.000+01:00 & Definitivo & M02 & 2002 & 59.291\\\\\n\t1.2 & IPC271788 & Araba/Álava. Alimentos. Índice.  & Índice &   & 2002-03-01T00:00:00.000+01:00 & Definitivo & M03 & 2002 & 59.355\\\\\n\t1.3 & IPC271788 & Araba/Álava. Alimentos. Índice.  & Índice &   & 2002-04-01T00:00:00.000+02:00 & Definitivo & M04 & 2002 & 59.765\\\\\n\t1.4 & IPC271788 & Araba/Álava. Alimentos. Índice.  & Índice &   & 2002-05-01T00:00:00.000+02:00 & Definitivo & M05 & 2002 & 59.983\\\\\n\t1.5 & IPC271788 & Araba/Álava. Alimentos. Índice.  & Índice &   & 2002-06-01T00:00:00.000+02:00 & Definitivo & M06 & 2002 & 60.071\\\\\n\\end{tabular}\n",
            "text/plain": [
              "    COD       Nombre                           T3_Unidad T3_Escala\n",
              "1   IPC271788 Araba/Álava. Alimentos. Índice.  Índice             \n",
              "1.1 IPC271788 Araba/Álava. Alimentos. Índice.  Índice             \n",
              "1.2 IPC271788 Araba/Álava. Alimentos. Índice.  Índice             \n",
              "1.3 IPC271788 Araba/Álava. Alimentos. Índice.  Índice             \n",
              "1.4 IPC271788 Araba/Álava. Alimentos. Índice.  Índice             \n",
              "1.5 IPC271788 Araba/Álava. Alimentos. Índice.  Índice             \n",
              "    Fecha                         T3_TipoDato T3_Periodo Anyo Valor \n",
              "1   2002-01-01T00:00:00.000+01:00 Definitivo  M01        2002 59.637\n",
              "1.1 2002-02-01T00:00:00.000+01:00 Definitivo  M02        2002 59.291\n",
              "1.2 2002-03-01T00:00:00.000+01:00 Definitivo  M03        2002 59.355\n",
              "1.3 2002-04-01T00:00:00.000+02:00 Definitivo  M04        2002 59.765\n",
              "1.4 2002-05-01T00:00:00.000+02:00 Definitivo  M05        2002 59.983\n",
              "1.5 2002-06-01T00:00:00.000+02:00 Definitivo  M06        2002 60.071"
            ]
          },
          "metadata": {}
        }
      ]
    },
    {
      "cell_type": "markdown",
      "source": [
        "### 4.1 Obtener la tabla completa\n",
        "\n",
        "Para obtener todos los datos de una tabla, se necesita el parámetro de `idTable`, es decir, el código de identificación de la tabla. Se utiliza la función `get_data_table`."
      ],
      "metadata": {
        "id": "ebjU5eqb4zt6"
      }
    },
    {
      "cell_type": "code",
      "source": [
        "# Número de médicos, en el último año: https://www.ine.es/jaxi/Datos.htm?tpx=75015#_tabs-tabla, id= 75015\n",
        "\n",
        "medicos <- get_data_table(idTable = 75015)\n",
        "head(medicos)"
      ],
      "metadata": {
        "colab": {
          "base_uri": "https://localhost:8080/",
          "height": 286
        },
        "id": "a1vEe1lq4deW",
        "outputId": "669eb1c9-0079-429a-af06-0a07917828a9"
      },
      "execution_count": null,
      "outputs": [
        {
          "output_type": "display_data",
          "data": {
            "text/html": [
              "<table class=\"dataframe\">\n",
              "<caption>A data.frame: 6 × 2</caption>\n",
              "<thead>\n",
              "\t<tr><th></th><th scope=col>Nombre</th><th scope=col>Data</th></tr>\n",
              "\t<tr><th></th><th scope=col>&lt;chr&gt;</th><th scope=col>&lt;list&gt;</th></tr>\n",
              "</thead>\n",
              "<tbody>\n",
              "\t<tr><th scope=row>1</th><td>TOTAL, Total, Total                    </td><td>310558, 0</td></tr>\n",
              "\t<tr><th scope=row>2</th><td>TOTAL, Total, Hombres                  </td><td>141458, 0</td></tr>\n",
              "\t<tr><th scope=row>3</th><td>TOTAL, Total, Mujeres                  </td><td>169100, 0</td></tr>\n",
              "\t<tr><th scope=row>4</th><td>TOTAL, Colegiados no jubilados, Total  </td><td>250754, 0</td></tr>\n",
              "\t<tr><th scope=row>5</th><td>TOTAL, Colegiados no jubilados, Hombres</td><td>101563, 0</td></tr>\n",
              "\t<tr><th scope=row>6</th><td>TOTAL, Colegiados no jubilados, Mujeres</td><td>149191, 0</td></tr>\n",
              "</tbody>\n",
              "</table>\n"
            ],
            "text/markdown": "\nA data.frame: 6 × 2\n\n| <!--/--> | Nombre &lt;chr&gt; | Data &lt;list&gt; |\n|---|---|---|\n| 1 | TOTAL, Total, Total                     | 310558, 0 |\n| 2 | TOTAL, Total, Hombres                   | 141458, 0 |\n| 3 | TOTAL, Total, Mujeres                   | 169100, 0 |\n| 4 | TOTAL, Colegiados no jubilados, Total   | 250754, 0 |\n| 5 | TOTAL, Colegiados no jubilados, Hombres | 101563, 0 |\n| 6 | TOTAL, Colegiados no jubilados, Mujeres | 149191, 0 |\n\n",
            "text/latex": "A data.frame: 6 × 2\n\\begin{tabular}{r|ll}\n  & Nombre & Data\\\\\n  & <chr> & <list>\\\\\n\\hline\n\t1 & TOTAL, Total, Total                     & 310558, 0\\\\\n\t2 & TOTAL, Total, Hombres                   & 141458, 0\\\\\n\t3 & TOTAL, Total, Mujeres                   & 169100, 0\\\\\n\t4 & TOTAL, Colegiados no jubilados, Total   & 250754, 0\\\\\n\t5 & TOTAL, Colegiados no jubilados, Hombres & 101563, 0\\\\\n\t6 & TOTAL, Colegiados no jubilados, Mujeres & 149191, 0\\\\\n\\end{tabular}\n",
            "text/plain": [
              "  Nombre                                  Data     \n",
              "1 TOTAL, Total, Total                     310558, 0\n",
              "2 TOTAL, Total, Hombres                   141458, 0\n",
              "3 TOTAL, Total, Mujeres                   169100, 0\n",
              "4 TOTAL, Colegiados no jubilados, Total   250754, 0\n",
              "5 TOTAL, Colegiados no jubilados, Hombres 101563, 0\n",
              "6 TOTAL, Colegiados no jubilados, Mujeres 149191, 0"
            ]
          },
          "metadata": {}
        }
      ]
    },
    {
      "cell_type": "markdown",
      "source": [
        "### 4.2 Filtrar datos\n",
        "\n",
        "Para filtrar los datos utilizaremos también la función `get_data_table` y el parámetro `filter`. Los filtros se pueden colocar para todas o algunas de las dimensiones/variables y seleccionar una o varias valores/categorías. Será necesario conocer el código de las variables y valores que hemos visto en el punto 3.\n",
        "\n",
        "Distinguiremos tres tipos posibles de fuentes de tablas (tablas Tempus 3, tablas pc-axis y tablas tpx)."
      ],
      "metadata": {
        "id": "pEFH_abn5GQw"
      }
    },
    {
      "cell_type": "markdown",
      "source": [
        "#### 4.2.1 Filtrar datos en Tempus3\n",
        "\n",
        "Para poder filtrar es necesario conocer los códigos de identificación numérica `Id` de las variables y las categorías que queremos filtrar.\n",
        "\n",
        "Debemos obtener información de variables y valores de la tabla de interés, por ejemplo [Índices por comunidades autónomas: general y de grupos ECOICOP](https://www.ine.es/jaxiT3/Tabla.htm?t=50913) (Id = 50913).\n"
      ],
      "metadata": {
        "id": "PWs2h7qMvyFv"
      }
    },
    {
      "cell_type": "code",
      "source": [
        "metadatos <- get_metadata_table_varval(idTable = 50913)\n",
        "head(metadatos)"
      ],
      "metadata": {
        "colab": {
          "base_uri": "https://localhost:8080/",
          "height": 286
        },
        "id": "4zuDXRouvwfI",
        "outputId": "13d17a8c-c16f-4764-9aec-1f43b875faa6"
      },
      "execution_count": null,
      "outputs": [
        {
          "output_type": "display_data",
          "data": {
            "text/html": [
              "<table class=\"dataframe\">\n",
              "<caption>A data.frame: 6 × 4</caption>\n",
              "<thead>\n",
              "\t<tr><th></th><th scope=col>Id</th><th scope=col>Fk_Variable</th><th scope=col>Nombre</th><th scope=col>Codigo</th></tr>\n",
              "\t<tr><th></th><th scope=col>&lt;int&gt;</th><th scope=col>&lt;int&gt;</th><th scope=col>&lt;chr&gt;</th><th scope=col>&lt;chr&gt;</th></tr>\n",
              "</thead>\n",
              "<tbody>\n",
              "\t<tr><th scope=row>1</th><td>16473</td><td>349</td><td>Nacional               </td><td>00</td></tr>\n",
              "\t<tr><th scope=row>2</th><td> 8997</td><td> 70</td><td>Andalucía              </td><td>01</td></tr>\n",
              "\t<tr><th scope=row>3</th><td> 8998</td><td> 70</td><td>Aragón                 </td><td>02</td></tr>\n",
              "\t<tr><th scope=row>4</th><td> 8999</td><td> 70</td><td>Asturias, Principado de</td><td>03</td></tr>\n",
              "\t<tr><th scope=row>5</th><td> 9000</td><td> 70</td><td>Balears, Illes         </td><td>04</td></tr>\n",
              "\t<tr><th scope=row>6</th><td> 9001</td><td> 70</td><td>Canarias               </td><td>05</td></tr>\n",
              "</tbody>\n",
              "</table>\n"
            ],
            "text/markdown": "\nA data.frame: 6 × 4\n\n| <!--/--> | Id &lt;int&gt; | Fk_Variable &lt;int&gt; | Nombre &lt;chr&gt; | Codigo &lt;chr&gt; |\n|---|---|---|---|---|\n| 1 | 16473 | 349 | Nacional                | 00 |\n| 2 |  8997 |  70 | Andalucía               | 01 |\n| 3 |  8998 |  70 | Aragón                  | 02 |\n| 4 |  8999 |  70 | Asturias, Principado de | 03 |\n| 5 |  9000 |  70 | Balears, Illes          | 04 |\n| 6 |  9001 |  70 | Canarias                | 05 |\n\n",
            "text/latex": "A data.frame: 6 × 4\n\\begin{tabular}{r|llll}\n  & Id & Fk\\_Variable & Nombre & Codigo\\\\\n  & <int> & <int> & <chr> & <chr>\\\\\n\\hline\n\t1 & 16473 & 349 & Nacional                & 00\\\\\n\t2 &  8997 &  70 & Andalucía               & 01\\\\\n\t3 &  8998 &  70 & Aragón                  & 02\\\\\n\t4 &  8999 &  70 & Asturias, Principado de & 03\\\\\n\t5 &  9000 &  70 & Balears, Illes          & 04\\\\\n\t6 &  9001 &  70 & Canarias                & 05\\\\\n\\end{tabular}\n",
            "text/plain": [
              "  Id    Fk_Variable Nombre                  Codigo\n",
              "1 16473 349         Nacional                00    \n",
              "2  8997  70         Andalucía               01    \n",
              "3  8998  70         Aragón                  02    \n",
              "4  8999  70         Asturias, Principado de 03    \n",
              "5  9000  70         Balears, Illes          04    \n",
              "6  9001  70         Canarias                05    "
            ]
          },
          "metadata": {}
        }
      ]
    },
    {
      "cell_type": "code",
      "source": [
        "# Construimos el filtro y pedimos los datos: tasa de variación interanual del Índice general para la CAE\n",
        "\n",
        "filtro <- list(\"3\" = \"74\" ,      # id de #variable = 3, categoría id = 74 tasa de variación interanual\n",
        "               \"762\" = \"304092\", # id de #variable = 762, categoria id = 304092 índice general\n",
        "               \"70\" = \"9012\"     # id = 70, categoría id = 9012 C.A.E\n",
        "               )\n",
        "\n",
        "# datos, filtrados\n",
        "IPC_general_CAE <- get_data_table(idTable = 50913, filter = filtro, unnest = TRUE,\n",
        "                      tip = \"A\", nlast = 5)\n",
        "IPC_general_CAE\n"
      ],
      "metadata": {
        "colab": {
          "base_uri": "https://localhost:8080/",
          "height": 224
        },
        "id": "6zSlz4j4w69o",
        "outputId": "92ae640d-a5aa-4a04-f7ba-4b44412cef88"
      },
      "execution_count": null,
      "outputs": [
        {
          "output_type": "display_data",
          "data": {
            "text/html": [
              "<table class=\"dataframe\">\n",
              "<caption>A data.frame: 4 × 9</caption>\n",
              "<thead>\n",
              "\t<tr><th></th><th scope=col>COD</th><th scope=col>Nombre</th><th scope=col>T3_Unidad</th><th scope=col>T3_Escala</th><th scope=col>Fecha</th><th scope=col>T3_TipoDato</th><th scope=col>T3_Periodo</th><th scope=col>Anyo</th><th scope=col>Valor</th></tr>\n",
              "\t<tr><th></th><th scope=col>&lt;chr&gt;</th><th scope=col>&lt;chr&gt;</th><th scope=col>&lt;chr&gt;</th><th scope=col>&lt;chr&gt;</th><th scope=col>&lt;chr&gt;</th><th scope=col>&lt;chr&gt;</th><th scope=col>&lt;chr&gt;</th><th scope=col>&lt;int&gt;</th><th scope=col>&lt;dbl&gt;</th></tr>\n",
              "</thead>\n",
              "<tbody>\n",
              "\t<tr><th scope=row>1</th><td>IPC255465</td><td>País Vasco. Índice general. Variación anual. </td><td>Tasas</td><td> </td><td>2025-08-01T00:00:00.000+02:00</td><td>Definitivo</td><td>M08</td><td>2025</td><td>2.8</td></tr>\n",
              "\t<tr><th scope=row>1.1</th><td>IPC255465</td><td>País Vasco. Índice general. Variación anual. </td><td>Tasas</td><td> </td><td>2025-07-01T00:00:00.000+02:00</td><td>Definitivo</td><td>M07</td><td>2025</td><td>3.0</td></tr>\n",
              "\t<tr><th scope=row>1.2</th><td>IPC255465</td><td>País Vasco. Índice general. Variación anual. </td><td>Tasas</td><td> </td><td>2025-06-01T00:00:00.000+02:00</td><td>Definitivo</td><td>M06</td><td>2025</td><td>2.8</td></tr>\n",
              "\t<tr><th scope=row>1.3</th><td>IPC255465</td><td>País Vasco. Índice general. Variación anual. </td><td>Tasas</td><td> </td><td>2025-05-01T00:00:00.000+02:00</td><td>Definitivo</td><td>M05</td><td>2025</td><td>2.4</td></tr>\n",
              "</tbody>\n",
              "</table>\n"
            ],
            "text/markdown": "\nA data.frame: 4 × 9\n\n| <!--/--> | COD &lt;chr&gt; | Nombre &lt;chr&gt; | T3_Unidad &lt;chr&gt; | T3_Escala &lt;chr&gt; | Fecha &lt;chr&gt; | T3_TipoDato &lt;chr&gt; | T3_Periodo &lt;chr&gt; | Anyo &lt;int&gt; | Valor &lt;dbl&gt; |\n|---|---|---|---|---|---|---|---|---|---|\n| 1 | IPC255465 | País Vasco. Índice general. Variación anual.  | Tasas | <!----> | 2025-08-01T00:00:00.000+02:00 | Definitivo | M08 | 2025 | 2.8 |\n| 1.1 | IPC255465 | País Vasco. Índice general. Variación anual.  | Tasas | <!----> | 2025-07-01T00:00:00.000+02:00 | Definitivo | M07 | 2025 | 3.0 |\n| 1.2 | IPC255465 | País Vasco. Índice general. Variación anual.  | Tasas | <!----> | 2025-06-01T00:00:00.000+02:00 | Definitivo | M06 | 2025 | 2.8 |\n| 1.3 | IPC255465 | País Vasco. Índice general. Variación anual.  | Tasas | <!----> | 2025-05-01T00:00:00.000+02:00 | Definitivo | M05 | 2025 | 2.4 |\n\n",
            "text/latex": "A data.frame: 4 × 9\n\\begin{tabular}{r|lllllllll}\n  & COD & Nombre & T3\\_Unidad & T3\\_Escala & Fecha & T3\\_TipoDato & T3\\_Periodo & Anyo & Valor\\\\\n  & <chr> & <chr> & <chr> & <chr> & <chr> & <chr> & <chr> & <int> & <dbl>\\\\\n\\hline\n\t1 & IPC255465 & País Vasco. Índice general. Variación anual.  & Tasas &   & 2025-08-01T00:00:00.000+02:00 & Definitivo & M08 & 2025 & 2.8\\\\\n\t1.1 & IPC255465 & País Vasco. Índice general. Variación anual.  & Tasas &   & 2025-07-01T00:00:00.000+02:00 & Definitivo & M07 & 2025 & 3.0\\\\\n\t1.2 & IPC255465 & País Vasco. Índice general. Variación anual.  & Tasas &   & 2025-06-01T00:00:00.000+02:00 & Definitivo & M06 & 2025 & 2.8\\\\\n\t1.3 & IPC255465 & País Vasco. Índice general. Variación anual.  & Tasas &   & 2025-05-01T00:00:00.000+02:00 & Definitivo & M05 & 2025 & 2.4\\\\\n\\end{tabular}\n",
            "text/plain": [
              "    COD       Nombre                                        T3_Unidad T3_Escala\n",
              "1   IPC255465 País Vasco. Índice general. Variación anual.  Tasas              \n",
              "1.1 IPC255465 País Vasco. Índice general. Variación anual.  Tasas              \n",
              "1.2 IPC255465 País Vasco. Índice general. Variación anual.  Tasas              \n",
              "1.3 IPC255465 País Vasco. Índice general. Variación anual.  Tasas              \n",
              "    Fecha                         T3_TipoDato T3_Periodo Anyo Valor\n",
              "1   2025-08-01T00:00:00.000+02:00 Definitivo  M08        2025 2.8  \n",
              "1.1 2025-07-01T00:00:00.000+02:00 Definitivo  M07        2025 3.0  \n",
              "1.2 2025-06-01T00:00:00.000+02:00 Definitivo  M06        2025 2.8  \n",
              "1.3 2025-05-01T00:00:00.000+02:00 Definitivo  M05        2025 2.4  "
            ]
          },
          "metadata": {}
        }
      ]
    },
    {
      "cell_type": "markdown",
      "source": [
        "#### 4.2.2 Filtrar datos en datos pc-axis\n",
        "\n",
        "Para poder filtrar es necesario conocer los códigos alfanuméricos de identificación `Codigo` de las variables y los valores que queremos filtrar. Por lo tanto, debemos:\n",
        "\n",
        "Solicitar metadatos de las series que componen la tabla de interés con la función `get_metadata_table_varval`.\n",
        "\n",
        "\n"
      ],
      "metadata": {
        "id": "7ce3ro-zymRe"
      }
    },
    {
      "cell_type": "code",
      "source": [
        "# Población por edad (3 grupos de edad), españoles/extranjeros, sexo y año\n",
        "\n",
        "metadata <- get_metadata_table_varval(idTable = \"t20/e245/p08/l0/01001.px\")\n",
        "metadata"
      ],
      "metadata": {
        "colab": {
          "base_uri": "https://localhost:8080/",
          "height": 443
        },
        "id": "BOScshXJzOin",
        "outputId": "348c2bc1-6d66-441b-dcf5-9a3483d1cf7f"
      },
      "execution_count": null,
      "outputs": [
        {
          "output_type": "display_data",
          "data": {
            "text/html": [
              "<table class=\"dataframe\">\n",
              "<caption>A data.frame: 11 × 4</caption>\n",
              "<thead>\n",
              "\t<tr><th></th><th scope=col>Nombre</th><th scope=col>Codigo</th><th scope=col>Variable.Nombre</th><th scope=col>Variable.Codigo</th></tr>\n",
              "\t<tr><th></th><th scope=col>&lt;chr&gt;</th><th scope=col>&lt;chr&gt;</th><th scope=col>&lt;chr&gt;</th><th scope=col>&lt;chr&gt;</th></tr>\n",
              "</thead>\n",
              "<tbody>\n",
              "\t<tr><th scope=row>1</th><td>TOTAL EDADES </td><td>totaledades  </td><td>edad (3 grupos de edad)</td><td>edad3gruposdeedad   </td></tr>\n",
              "\t<tr><th scope=row>2</th><td>TOTAL        </td><td>total        </td><td>Españoles/Extranjeros  </td><td>espanolesextranjeros</td></tr>\n",
              "\t<tr><th scope=row>3</th><td>Ambos sexos  </td><td>ambossexos   </td><td>Sexo                   </td><td>sexo                </td></tr>\n",
              "\t<tr><th scope=row>6</th><td>Hombres      </td><td>hombres      </td><td>Sexo                   </td><td>sexo                </td></tr>\n",
              "\t<tr><th scope=row>9</th><td>Mujeres      </td><td>mujeres      </td><td>Sexo                   </td><td>sexo                </td></tr>\n",
              "\t<tr><th scope=row>11</th><td>Españoles    </td><td>espanoles    </td><td>Españoles/Extranjeros  </td><td>espanolesextranjeros</td></tr>\n",
              "\t<tr><th scope=row>20</th><td>Extranjeros  </td><td>extranjeros  </td><td>Españoles/Extranjeros  </td><td>espanolesextranjeros</td></tr>\n",
              "\t<tr><th scope=row>29</th><td>% Extranjeros</td><td>extranjeros~1</td><td>Españoles/Extranjeros  </td><td>espanolesextranjeros</td></tr>\n",
              "\t<tr><th scope=row>37</th><td>0-15 años    </td><td>015anos      </td><td>edad (3 grupos de edad)</td><td>edad3gruposdeedad   </td></tr>\n",
              "\t<tr><th scope=row>73</th><td>16-64 años   </td><td>1664anos     </td><td>edad (3 grupos de edad)</td><td>edad3gruposdeedad   </td></tr>\n",
              "\t<tr><th scope=row>109</th><td>65 y más     </td><td>65ymas       </td><td>edad (3 grupos de edad)</td><td>edad3gruposdeedad   </td></tr>\n",
              "</tbody>\n",
              "</table>\n"
            ],
            "text/markdown": "\nA data.frame: 11 × 4\n\n| <!--/--> | Nombre &lt;chr&gt; | Codigo &lt;chr&gt; | Variable.Nombre &lt;chr&gt; | Variable.Codigo &lt;chr&gt; |\n|---|---|---|---|---|\n| 1 | TOTAL EDADES  | totaledades   | edad (3 grupos de edad) | edad3gruposdeedad    |\n| 2 | TOTAL         | total         | Españoles/Extranjeros   | espanolesextranjeros |\n| 3 | Ambos sexos   | ambossexos    | Sexo                    | sexo                 |\n| 6 | Hombres       | hombres       | Sexo                    | sexo                 |\n| 9 | Mujeres       | mujeres       | Sexo                    | sexo                 |\n| 11 | Españoles     | espanoles     | Españoles/Extranjeros   | espanolesextranjeros |\n| 20 | Extranjeros   | extranjeros   | Españoles/Extranjeros   | espanolesextranjeros |\n| 29 | % Extranjeros | extranjeros~1 | Españoles/Extranjeros   | espanolesextranjeros |\n| 37 | 0-15 años     | 015anos       | edad (3 grupos de edad) | edad3gruposdeedad    |\n| 73 | 16-64 años    | 1664anos      | edad (3 grupos de edad) | edad3gruposdeedad    |\n| 109 | 65 y más      | 65ymas        | edad (3 grupos de edad) | edad3gruposdeedad    |\n\n",
            "text/latex": "A data.frame: 11 × 4\n\\begin{tabular}{r|llll}\n  & Nombre & Codigo & Variable.Nombre & Variable.Codigo\\\\\n  & <chr> & <chr> & <chr> & <chr>\\\\\n\\hline\n\t1 & TOTAL EDADES  & totaledades   & edad (3 grupos de edad) & edad3gruposdeedad   \\\\\n\t2 & TOTAL         & total         & Españoles/Extranjeros   & espanolesextranjeros\\\\\n\t3 & Ambos sexos   & ambossexos    & Sexo                    & sexo                \\\\\n\t6 & Hombres       & hombres       & Sexo                    & sexo                \\\\\n\t9 & Mujeres       & mujeres       & Sexo                    & sexo                \\\\\n\t11 & Españoles     & espanoles     & Españoles/Extranjeros   & espanolesextranjeros\\\\\n\t20 & Extranjeros   & extranjeros   & Españoles/Extranjeros   & espanolesextranjeros\\\\\n\t29 & \\% Extranjeros & extranjeros\\textasciitilde{}1 & Españoles/Extranjeros   & espanolesextranjeros\\\\\n\t37 & 0-15 años     & 015anos       & edad (3 grupos de edad) & edad3gruposdeedad   \\\\\n\t73 & 16-64 años    & 1664anos      & edad (3 grupos de edad) & edad3gruposdeedad   \\\\\n\t109 & 65 y más      & 65ymas        & edad (3 grupos de edad) & edad3gruposdeedad   \\\\\n\\end{tabular}\n",
            "text/plain": [
              "    Nombre        Codigo        Variable.Nombre         Variable.Codigo     \n",
              "1   TOTAL EDADES  totaledades   edad (3 grupos de edad) edad3gruposdeedad   \n",
              "2   TOTAL         total         Españoles/Extranjeros   espanolesextranjeros\n",
              "3   Ambos sexos   ambossexos    Sexo                    sexo                \n",
              "6   Hombres       hombres       Sexo                    sexo                \n",
              "9   Mujeres       mujeres       Sexo                    sexo                \n",
              "11  Españoles     espanoles     Españoles/Extranjeros   espanolesextranjeros\n",
              "20  Extranjeros   extranjeros   Españoles/Extranjeros   espanolesextranjeros\n",
              "29  % Extranjeros extranjeros~1 Españoles/Extranjeros   espanolesextranjeros\n",
              "37  0-15 años     015anos       edad (3 grupos de edad) edad3gruposdeedad   \n",
              "73  16-64 años    1664anos      edad (3 grupos de edad) edad3gruposdeedad   \n",
              "109 65 y más      65ymas        edad (3 grupos de edad) edad3gruposdeedad   "
            ]
          },
          "metadata": {}
        }
      ]
    },
    {
      "cell_type": "code",
      "source": [
        "\n",
        "# Hacemos el filtro y pedimos los datos. Por ejemplo, para las mujeres y hombres españoles de todas las edades (mayores de edad = totales) (sexo = mujeres y hombres) (espanolesextranjeras = españolas)\n",
        "\n",
        "filtro <- list(sexo = c(\"mujeres\", \"hombres\"),    # si se quiere filtrar más de una categoría,  =c(  , )\n",
        "               espanolesextranjeros = \"espanoles\",\n",
        "               edad3gruposdeedad = \"totaledades\"\n",
        "               )\n",
        "\n",
        "poblacion <- get_data_table (idTable = \"t20/e245/p08/l0/01001.px\", unnest = TRUE, nlast = 5, filter = filtro)\n",
        "\n",
        "poblacion\n"
      ],
      "metadata": {
        "colab": {
          "base_uri": "https://localhost:8080/",
          "height": 412
        },
        "id": "WcUHroq5zZw_",
        "outputId": "c5423fd3-dcde-4b07-f8e3-294e57b921ae"
      },
      "execution_count": null,
      "outputs": [
        {
          "output_type": "display_data",
          "data": {
            "text/html": [
              "<table class=\"dataframe\">\n",
              "<caption>A data.frame: 10 × 4</caption>\n",
              "<thead>\n",
              "\t<tr><th scope=col>Nombre</th><th scope=col>NombrePeriodo</th><th scope=col>Valor</th><th scope=col>Secreto</th></tr>\n",
              "\t<tr><th scope=col>&lt;chr&gt;</th><th scope=col>&lt;chr&gt;</th><th scope=col>&lt;dbl&gt;</th><th scope=col>&lt;lgl&gt;</th></tr>\n",
              "</thead>\n",
              "<tbody>\n",
              "\t<tr><td>TOTAL EDADES, Españoles, Hombres</td><td>2022</td><td>20487167</td><td>FALSE</td></tr>\n",
              "\t<tr><td>TOTAL EDADES, Españoles, Hombres</td><td>2021</td><td>20497801</td><td>FALSE</td></tr>\n",
              "\t<tr><td>TOTAL EDADES, Españoles, Hombres</td><td>2020</td><td>20535713</td><td>FALSE</td></tr>\n",
              "\t<tr><td>TOTAL EDADES, Españoles, Hombres</td><td>2019</td><td>20522283</td><td>FALSE</td></tr>\n",
              "\t<tr><td>TOTAL EDADES, Españoles, Hombres</td><td>2018</td><td>20522724</td><td>FALSE</td></tr>\n",
              "\t<tr><td>TOTAL EDADES, Españoles, Mujeres</td><td>2022</td><td>21445321</td><td>FALSE</td></tr>\n",
              "\t<tr><td>TOTAL EDADES, Españoles, Mujeres</td><td>2021</td><td>21447158</td><td>FALSE</td></tr>\n",
              "\t<tr><td>TOTAL EDADES, Españoles, Mujeres</td><td>2020</td><td>21480929</td><td>FALSE</td></tr>\n",
              "\t<tr><td>TOTAL EDADES, Españoles, Mujeres</td><td>2019</td><td>21467047</td><td>FALSE</td></tr>\n",
              "\t<tr><td>TOTAL EDADES, Españoles, Mujeres</td><td>2018</td><td>21465565</td><td>FALSE</td></tr>\n",
              "</tbody>\n",
              "</table>\n"
            ],
            "text/markdown": "\nA data.frame: 10 × 4\n\n| Nombre &lt;chr&gt; | NombrePeriodo &lt;chr&gt; | Valor &lt;dbl&gt; | Secreto &lt;lgl&gt; |\n|---|---|---|---|\n| TOTAL EDADES, Españoles, Hombres | 2022 | 20487167 | FALSE |\n| TOTAL EDADES, Españoles, Hombres | 2021 | 20497801 | FALSE |\n| TOTAL EDADES, Españoles, Hombres | 2020 | 20535713 | FALSE |\n| TOTAL EDADES, Españoles, Hombres | 2019 | 20522283 | FALSE |\n| TOTAL EDADES, Españoles, Hombres | 2018 | 20522724 | FALSE |\n| TOTAL EDADES, Españoles, Mujeres | 2022 | 21445321 | FALSE |\n| TOTAL EDADES, Españoles, Mujeres | 2021 | 21447158 | FALSE |\n| TOTAL EDADES, Españoles, Mujeres | 2020 | 21480929 | FALSE |\n| TOTAL EDADES, Españoles, Mujeres | 2019 | 21467047 | FALSE |\n| TOTAL EDADES, Españoles, Mujeres | 2018 | 21465565 | FALSE |\n\n",
            "text/latex": "A data.frame: 10 × 4\n\\begin{tabular}{llll}\n Nombre & NombrePeriodo & Valor & Secreto\\\\\n <chr> & <chr> & <dbl> & <lgl>\\\\\n\\hline\n\t TOTAL EDADES, Españoles, Hombres & 2022 & 20487167 & FALSE\\\\\n\t TOTAL EDADES, Españoles, Hombres & 2021 & 20497801 & FALSE\\\\\n\t TOTAL EDADES, Españoles, Hombres & 2020 & 20535713 & FALSE\\\\\n\t TOTAL EDADES, Españoles, Hombres & 2019 & 20522283 & FALSE\\\\\n\t TOTAL EDADES, Españoles, Hombres & 2018 & 20522724 & FALSE\\\\\n\t TOTAL EDADES, Españoles, Mujeres & 2022 & 21445321 & FALSE\\\\\n\t TOTAL EDADES, Españoles, Mujeres & 2021 & 21447158 & FALSE\\\\\n\t TOTAL EDADES, Españoles, Mujeres & 2020 & 21480929 & FALSE\\\\\n\t TOTAL EDADES, Españoles, Mujeres & 2019 & 21467047 & FALSE\\\\\n\t TOTAL EDADES, Españoles, Mujeres & 2018 & 21465565 & FALSE\\\\\n\\end{tabular}\n",
            "text/plain": [
              "   Nombre                           NombrePeriodo Valor    Secreto\n",
              "1  TOTAL EDADES, Españoles, Hombres 2022          20487167 FALSE  \n",
              "2  TOTAL EDADES, Españoles, Hombres 2021          20497801 FALSE  \n",
              "3  TOTAL EDADES, Españoles, Hombres 2020          20535713 FALSE  \n",
              "4  TOTAL EDADES, Españoles, Hombres 2019          20522283 FALSE  \n",
              "5  TOTAL EDADES, Españoles, Hombres 2018          20522724 FALSE  \n",
              "6  TOTAL EDADES, Españoles, Mujeres 2022          21445321 FALSE  \n",
              "7  TOTAL EDADES, Españoles, Mujeres 2021          21447158 FALSE  \n",
              "8  TOTAL EDADES, Españoles, Mujeres 2020          21480929 FALSE  \n",
              "9  TOTAL EDADES, Españoles, Mujeres 2019          21467047 FALSE  \n",
              "10 TOTAL EDADES, Españoles, Mujeres 2018          21465565 FALSE  "
            ]
          },
          "metadata": {}
        }
      ]
    },
    {
      "cell_type": "markdown",
      "source": [
        "#### 4.2.3 Filtrar datos en datos tpx\n",
        "\n",
        "Para poder filtrar es necesario conocer los códigos alfanuméricos de identificación de las variables y las categorías que queremos filtrar. Por lo tanto, debemos hacer esto:\n"
      ],
      "metadata": {
        "id": "Yck6FglK1SKJ"
      }
    },
    {
      "cell_type": "code",
      "source": [
        "#  Extracción nacional por tipo de material y año (https://www.ine.es/jaxi/Tabla.htm?tpx=33387&L=0) (Id = 33387)\n",
        "\n",
        "metadata <- get_metadata_table_varval(idTable = 33387)\n",
        "head(metadata)"
      ],
      "metadata": {
        "colab": {
          "base_uri": "https://localhost:8080/",
          "height": 286
        },
        "id": "Smh3FhUG1kR3",
        "outputId": "b8359b29-1d2d-4105-83a1-7d644cf7bca9"
      },
      "execution_count": null,
      "outputs": [
        {
          "output_type": "display_data",
          "data": {
            "text/html": [
              "<table class=\"dataframe\">\n",
              "<caption>A data.frame: 6 × 4</caption>\n",
              "<thead>\n",
              "\t<tr><th></th><th scope=col>Nombre</th><th scope=col>Codigo</th><th scope=col>Variable.Nombre</th><th scope=col>Variable.Codigo</th></tr>\n",
              "\t<tr><th></th><th scope=col>&lt;chr&gt;</th><th scope=col>&lt;chr&gt;</th><th scope=col>&lt;chr&gt;</th><th scope=col>&lt;chr&gt;</th></tr>\n",
              "</thead>\n",
              "<tbody>\n",
              "\t<tr><th scope=row>1</th><td>EXTRACCION NACIONAL        </td><td>extraccionnacional   </td><td>tipo de material</td><td>tipodematerial</td></tr>\n",
              "\t<tr><th scope=row>2</th><td>1.  Biomasa                </td><td>1biomasa             </td><td>tipo de material</td><td>tipodematerial</td></tr>\n",
              "\t<tr><th scope=row>3</th><td>1.1.  Cultivos primarios   </td><td>11cultivosprimarios  </td><td>tipo de material</td><td>tipodematerial</td></tr>\n",
              "\t<tr><th scope=row>4</th><td>1.1.1.  Cereales           </td><td>111cereales          </td><td>tipo de material</td><td>tipodematerial</td></tr>\n",
              "\t<tr><th scope=row>5</th><td>1.1.2.  Raices y tubérculos</td><td>112raicesytuberculos </td><td>tipo de material</td><td>tipodematerial</td></tr>\n",
              "\t<tr><th scope=row>6</th><td>1.1.3.  Cultivos azucareros</td><td>113cultivosazucareros</td><td>tipo de material</td><td>tipodematerial</td></tr>\n",
              "</tbody>\n",
              "</table>\n"
            ],
            "text/markdown": "\nA data.frame: 6 × 4\n\n| <!--/--> | Nombre &lt;chr&gt; | Codigo &lt;chr&gt; | Variable.Nombre &lt;chr&gt; | Variable.Codigo &lt;chr&gt; |\n|---|---|---|---|---|\n| 1 | EXTRACCION NACIONAL         | extraccionnacional    | tipo de material | tipodematerial |\n| 2 | 1.  Biomasa                 | 1biomasa              | tipo de material | tipodematerial |\n| 3 | 1.1.  Cultivos primarios    | 11cultivosprimarios   | tipo de material | tipodematerial |\n| 4 | 1.1.1.  Cereales            | 111cereales           | tipo de material | tipodematerial |\n| 5 | 1.1.2.  Raices y tubérculos | 112raicesytuberculos  | tipo de material | tipodematerial |\n| 6 | 1.1.3.  Cultivos azucareros | 113cultivosazucareros | tipo de material | tipodematerial |\n\n",
            "text/latex": "A data.frame: 6 × 4\n\\begin{tabular}{r|llll}\n  & Nombre & Codigo & Variable.Nombre & Variable.Codigo\\\\\n  & <chr> & <chr> & <chr> & <chr>\\\\\n\\hline\n\t1 & EXTRACCION NACIONAL         & extraccionnacional    & tipo de material & tipodematerial\\\\\n\t2 & 1.  Biomasa                 & 1biomasa              & tipo de material & tipodematerial\\\\\n\t3 & 1.1.  Cultivos primarios    & 11cultivosprimarios   & tipo de material & tipodematerial\\\\\n\t4 & 1.1.1.  Cereales            & 111cereales           & tipo de material & tipodematerial\\\\\n\t5 & 1.1.2.  Raices y tubérculos & 112raicesytuberculos  & tipo de material & tipodematerial\\\\\n\t6 & 1.1.3.  Cultivos azucareros & 113cultivosazucareros & tipo de material & tipodematerial\\\\\n\\end{tabular}\n",
            "text/plain": [
              "  Nombre                      Codigo                Variable.Nombre \n",
              "1 EXTRACCION NACIONAL         extraccionnacional    tipo de material\n",
              "2 1.  Biomasa                 1biomasa              tipo de material\n",
              "3 1.1.  Cultivos primarios    11cultivosprimarios   tipo de material\n",
              "4 1.1.1.  Cereales            111cereales           tipo de material\n",
              "5 1.1.2.  Raices y tubérculos 112raicesytuberculos  tipo de material\n",
              "6 1.1.3.  Cultivos azucareros 113cultivosazucareros tipo de material\n",
              "  Variable.Codigo\n",
              "1 tipodematerial \n",
              "2 tipodematerial \n",
              "3 tipodematerial \n",
              "4 tipodematerial \n",
              "5 tipodematerial \n",
              "6 tipodematerial "
            ]
          },
          "metadata": {}
        }
      ]
    },
    {
      "cell_type": "code",
      "source": [
        "\n",
        "filtro <- list(tipodematerial = c(\"1biomasa\", \"2mineralesmetalicosmineralenbruto\",\n",
        "                                  \"3mineralesnometalicos\", \"4combustiblesfosiles\")\n",
        "               )\n",
        "\n",
        "materiales <- get_data_table (idTable = 33387, unnest = TRUE, tip = \"A\", nlast = 1, filter = filtro)\n",
        "materiales"
      ],
      "metadata": {
        "colab": {
          "base_uri": "https://localhost:8080/",
          "height": 224
        },
        "id": "vfJsfrZb10Qn",
        "outputId": "4633d0e9-166f-41b8-fd59-f61b0c953fa2"
      },
      "execution_count": null,
      "outputs": [
        {
          "output_type": "display_data",
          "data": {
            "text/html": [
              "<table class=\"dataframe\">\n",
              "<caption>A data.frame: 4 × 3</caption>\n",
              "<thead>\n",
              "\t<tr><th scope=col>Nombre</th><th scope=col>NombrePeriodo</th><th scope=col>Valor</th></tr>\n",
              "\t<tr><th scope=col>&lt;chr&gt;</th><th scope=col>&lt;chr&gt;</th><th scope=col>&lt;dbl&gt;</th></tr>\n",
              "</thead>\n",
              "<tbody>\n",
              "\t<tr><td>1.  Biomasa                               </td><td>2023 (avance)</td><td>107483869</td></tr>\n",
              "\t<tr><td>2.  Minerales metálicos (mineral en bruto)</td><td>2023 (avance)</td><td> 23233159</td></tr>\n",
              "\t<tr><td>3.  Minerales no metálicos                </td><td>2023 (avance)</td><td>213294377</td></tr>\n",
              "\t<tr><td>4.  Combustibles fósiles                  </td><td>2023 (avance)</td><td>   110206</td></tr>\n",
              "</tbody>\n",
              "</table>\n"
            ],
            "text/markdown": "\nA data.frame: 4 × 3\n\n| Nombre &lt;chr&gt; | NombrePeriodo &lt;chr&gt; | Valor &lt;dbl&gt; |\n|---|---|---|\n| 1.  Biomasa                                | 2023 (avance) | 107483869 |\n| 2.  Minerales metálicos (mineral en bruto) | 2023 (avance) |  23233159 |\n| 3.  Minerales no metálicos                 | 2023 (avance) | 213294377 |\n| 4.  Combustibles fósiles                   | 2023 (avance) |    110206 |\n\n",
            "text/latex": "A data.frame: 4 × 3\n\\begin{tabular}{lll}\n Nombre & NombrePeriodo & Valor\\\\\n <chr> & <chr> & <dbl>\\\\\n\\hline\n\t 1.  Biomasa                                & 2023 (avance) & 107483869\\\\\n\t 2.  Minerales metálicos (mineral en bruto) & 2023 (avance) &  23233159\\\\\n\t 3.  Minerales no metálicos                 & 2023 (avance) & 213294377\\\\\n\t 4.  Combustibles fósiles                   & 2023 (avance) &    110206\\\\\n\\end{tabular}\n",
            "text/plain": [
              "  Nombre                                     NombrePeriodo Valor    \n",
              "1 1.  Biomasa                                2023 (avance) 107483869\n",
              "2 2.  Minerales metálicos (mineral en bruto) 2023 (avance)  23233159\n",
              "3 3.  Minerales no metálicos                 2023 (avance) 213294377\n",
              "4 4.  Combustibles fósiles                   2023 (avance)    110206"
            ]
          },
          "metadata": {}
        }
      ]
    },
    {
      "cell_type": "markdown",
      "source": [
        "## 5. PARA SABER MÁS\n",
        "\n",
        "* [Tutorial de ineapir](https://github.com/es-ine/tutorial-ineapir) y [chuleta (cheatsheet)](https://raw.githubusercontent.com/es-ine/ineapir/main/man/figures/ineapir.pdf)\n",
        "\n",
        "* [Seminario del INE sobre servicios web](https://www.ine.es/ine/eeaapp/4T25_sem06.pdf). 23 de octubre, de 5 horas. El plazo de inscripción está abierto hasta el 15 de octubre.\n"
      ],
      "metadata": {
        "id": "gh70sKVBgMBj"
      }
    }
  ]
}