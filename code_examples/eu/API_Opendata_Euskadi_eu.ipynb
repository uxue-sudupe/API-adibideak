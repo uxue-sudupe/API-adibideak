{
  "nbformat": 4,
  "nbformat_minor": 0,
  "metadata": {
    "colab": {
      "provenance": []
    },
    "kernelspec": {
      "name": "ir",
      "display_name": "R"
    },
    "language_info": {
      "name": "R"
    }
  },
  "cells": [
    {
      "cell_type": "markdown",
      "source": [
        "[![Abrir en Colab](https://colab.research.google.com/assets/colab-badge.svg)](https://colab.research.google.com/github/uxue-sudupe/API-adibideak/blob/main/code_examples/eu/API_Opendata_Euskadi_eu.ipynb)"
      ],
      "metadata": {
        "id": "AzSaO5Hs7zqE"
      }
    },
    {
      "cell_type": "markdown",
      "source": [
        " **Open Data Euskadiko APIak**\n",
        "\n",
        "Open Data Euskadik [zenbait REST API](https://opendata.euskadi.eus/apiak/-/open-data-euskadiko-apiak/) (aplikazioak programatzeko interfazea) jarri ditu erabiltzaileen eskura, gehien eskatzen diren datu publikoen berrerabiltzea errazteko asmoz.\n",
        "\n",
        "APIen funtzionamenduaren deskribapenak OpenAPI estandarra erabiltzen du, eta horrek asko errazten du datuak lortu eta berrerabiltzea."
      ],
      "metadata": {
        "id": "oHbE8scejjNC"
      }
    },
    {
      "cell_type": "code",
      "source": [
        "install.packages(c(\"httr\", \"jsonlite\", \"dplyr\", \"tidyr\"))\n",
        "\n",
        "library(httr)\n",
        "library(jsonlite)\n",
        "library(dplyr)\n",
        "library(tidyr)"
      ],
      "metadata": {
        "colab": {
          "base_uri": "https://localhost:8080/"
        },
        "id": "kGjPxQus9VbD",
        "outputId": "9f79574e-5f90-43bb-9398-49a0af75579d",
        "collapsed": true
      },
      "execution_count": 7,
      "outputs": [
        {
          "output_type": "stream",
          "name": "stderr",
          "text": [
            "Installing packages into ‘/usr/local/lib/R/site-library’\n",
            "(as ‘lib’ is unspecified)\n",
            "\n"
          ]
        }
      ]
    },
    {
      "cell_type": "markdown",
      "source": [
        "# 1. Udalmapen APIa\n",
        "\n",
        "https://opendata.euskadi.eus/api-udalmap/?api=udalmap\n",
        "\n",
        "Udalmap-en APIak 200 udal-informazioko adierazle baino gehiagotara sarbidea ematen du. Adierazle horien helburua da Euskal Autonomia Erkidegoko udalerrietan ekonomia eta lehiakortasunari, gizarte-kohesioari, bizi-kalitateari, ingurumenari eta mugikortasunari buruzko arloetan dagoen errealitatea xehetasunez azaltzea."
      ],
      "metadata": {
        "id": "KrFs30BD8ZfG"
      }
    },
    {
      "cell_type": "markdown",
      "source": [
        " **1.1. Udalmapeko adierazle guztien zerrenda**\n",
        "\n",
        "Udalmapeko adierazle guztien katalogoa lortu daiteke, interesatzen zaigun adierazlea identifikatu eta filtratu ahal izateko"
      ],
      "metadata": {
        "id": "UK5KogkAV0PD"
      }
    },
    {
      "cell_type": "code",
      "source": [
        "\n",
        "erantzuna <- GET(\"https://api.euskadi.eus/udalmap/indicators?lang=BASQUE\")\n",
        "testua<- content(erantzuna, as = \"text\", encoding = \"UTF-8\")\n",
        "\n",
        "adierazleak <- fromJSON(testua, flatten = TRUE)\n",
        "head(adierazleak)"
      ],
      "metadata": {
        "colab": {
          "base_uri": "https://localhost:8080/",
          "height": 636
        },
        "id": "u0HXGfNKucr6",
        "outputId": "53479d77-2f70-4061-c979-30c4f039382c"
      },
      "execution_count": 12,
      "outputs": [
        {
          "output_type": "display_data",
          "data": {
            "text/html": [
              "<table class=\"dataframe\">\n",
              "<caption>A data.frame: 6 × 8</caption>\n",
              "<thead>\n",
              "\t<tr><th></th><th scope=col>id</th><th scope=col>name</th><th scope=col>_links.self.name</th><th scope=col>_links.self.href</th><th scope=col>_links.subgroup.name</th><th scope=col>_links.subgroup.href</th><th scope=col>_links.group.name</th><th scope=col>_links.group.href</th></tr>\n",
              "\t<tr><th></th><th scope=col>&lt;chr&gt;</th><th scope=col>&lt;chr&gt;</th><th scope=col>&lt;chr&gt;</th><th scope=col>&lt;chr&gt;</th><th scope=col>&lt;chr&gt;</th><th scope=col>&lt;chr&gt;</th><th scope=col>&lt;chr&gt;</th><th scope=col>&lt;chr&gt;</th></tr>\n",
              "</thead>\n",
              "<tbody>\n",
              "\t<tr><th scope=row>1</th><td>3 </td><td>Industrisektorean okupatutako 16 urte edo gehiagoko biztanleria (%)                </td><td>Industrisektorean okupatutako 16 urte edo gehiagoko biztanleria (%)                </td><td>https://api.euskadi.eus/udalmap/indicators/3?lang=BASQUE </td><td>Ekonomi egitura                    </td><td>https://api.euskadi.eus/udalmap/subgroups/E.1?lang=BASQUE</td><td>Ekonomia / Lehiakortasuna</td><td>https://api.euskadi.eus/udalmap/groups/E?lang=BASQUE</td></tr>\n",
              "\t<tr><th scope=row>2</th><td>14</td><td>Lanbideen erregistratutako  luzaroko langabetuak  (16-64 urte arteko biztanleen %) </td><td>Lanbideen erregistratutako  luzaroko langabetuak  (16-64 urte arteko biztanleen %) </td><td>https://api.euskadi.eus/udalmap/indicators/14?lang=BASQUE</td><td>Lan merkatua                       </td><td>https://api.euskadi.eus/udalmap/subgroups/E.2?lang=BASQUE</td><td>Ekonomia / Lehiakortasuna</td><td>https://api.euskadi.eus/udalmap/groups/E?lang=BASQUE</td></tr>\n",
              "\t<tr><th scope=row>3</th><td>15</td><td>Kontratu errotazioaren indizea (kontratuak/pertsona)                               </td><td>Kontratu errotazioaren indizea (kontratuak/pertsona)                               </td><td>https://api.euskadi.eus/udalmap/indicators/15?lang=BASQUE</td><td>Lan merkatua                       </td><td>https://api.euskadi.eus/udalmap/subgroups/E.2?lang=BASQUE</td><td>Ekonomia / Lehiakortasuna</td><td>https://api.euskadi.eus/udalmap/groups/E?lang=BASQUE</td></tr>\n",
              "\t<tr><th scope=row>4</th><td>20</td><td>Eraikuntza sektoreko establezimenduak eraikuntza guztiekiko(%)                     </td><td>Eraikuntza sektoreko establezimenduak eraikuntza guztiekiko(%)                     </td><td>https://api.euskadi.eus/udalmap/indicators/20?lang=BASQUE</td><td>Enpresa egituraketa                </td><td>https://api.euskadi.eus/udalmap/subgroups/E.3?lang=BASQUE</td><td>Ekonomia / Lehiakortasuna</td><td>https://api.euskadi.eus/udalmap/groups/E?lang=BASQUE</td></tr>\n",
              "\t<tr><th scope=row>5</th><td>30</td><td><span style=white-space:pre-wrap>Txikizkako merkataritzaren dentsitatea (biztanleen &amp;#x2030;)                       </span></td><td><span style=white-space:pre-wrap>Txikizkako merkataritzaren dentsitatea (biztanleen &amp;#x2030;)                       </span></td><td>https://api.euskadi.eus/udalmap/indicators/30?lang=BASQUE</td><td>Merkataritza eta turismo gaitasuna </td><td>https://api.euskadi.eus/udalmap/subgroups/E.6?lang=BASQUE</td><td>Ekonomia / Lehiakortasuna</td><td>https://api.euskadi.eus/udalmap/groups/E?lang=BASQUE</td></tr>\n",
              "\t<tr><th scope=row>6</th><td>38</td><td><span style=white-space:pre-wrap>Udalaren zor bizia biztanle bakoitzeko (&amp;#x20AC;)                                  </span></td><td><span style=white-space:pre-wrap>Udalaren zor bizia biztanle bakoitzeko (&amp;#x20AC;)                                  </span></td><td>https://api.euskadi.eus/udalmap/indicators/38?lang=BASQUE</td><td>Udaleko ekonomia-finantza kudeaketa</td><td>https://api.euskadi.eus/udalmap/subgroups/E.9?lang=BASQUE</td><td>Ekonomia / Lehiakortasuna</td><td>https://api.euskadi.eus/udalmap/groups/E?lang=BASQUE</td></tr>\n",
              "</tbody>\n",
              "</table>\n"
            ],
            "text/markdown": "\nA data.frame: 6 × 8\n\n| <!--/--> | id &lt;chr&gt; | name &lt;chr&gt; | _links.self.name &lt;chr&gt; | _links.self.href &lt;chr&gt; | _links.subgroup.name &lt;chr&gt; | _links.subgroup.href &lt;chr&gt; | _links.group.name &lt;chr&gt; | _links.group.href &lt;chr&gt; |\n|---|---|---|---|---|---|---|---|---|\n| 1 | 3  | Industrisektorean okupatutako 16 urte edo gehiagoko biztanleria (%)                 | Industrisektorean okupatutako 16 urte edo gehiagoko biztanleria (%)                 | https://api.euskadi.eus/udalmap/indicators/3?lang=BASQUE  | Ekonomi egitura                     | https://api.euskadi.eus/udalmap/subgroups/E.1?lang=BASQUE | Ekonomia / Lehiakortasuna | https://api.euskadi.eus/udalmap/groups/E?lang=BASQUE |\n| 2 | 14 | Lanbideen erregistratutako  luzaroko langabetuak  (16-64 urte arteko biztanleen %)  | Lanbideen erregistratutako  luzaroko langabetuak  (16-64 urte arteko biztanleen %)  | https://api.euskadi.eus/udalmap/indicators/14?lang=BASQUE | Lan merkatua                        | https://api.euskadi.eus/udalmap/subgroups/E.2?lang=BASQUE | Ekonomia / Lehiakortasuna | https://api.euskadi.eus/udalmap/groups/E?lang=BASQUE |\n| 3 | 15 | Kontratu errotazioaren indizea (kontratuak/pertsona)                                | Kontratu errotazioaren indizea (kontratuak/pertsona)                                | https://api.euskadi.eus/udalmap/indicators/15?lang=BASQUE | Lan merkatua                        | https://api.euskadi.eus/udalmap/subgroups/E.2?lang=BASQUE | Ekonomia / Lehiakortasuna | https://api.euskadi.eus/udalmap/groups/E?lang=BASQUE |\n| 4 | 20 | Eraikuntza sektoreko establezimenduak eraikuntza guztiekiko(%)                      | Eraikuntza sektoreko establezimenduak eraikuntza guztiekiko(%)                      | https://api.euskadi.eus/udalmap/indicators/20?lang=BASQUE | Enpresa egituraketa                 | https://api.euskadi.eus/udalmap/subgroups/E.3?lang=BASQUE | Ekonomia / Lehiakortasuna | https://api.euskadi.eus/udalmap/groups/E?lang=BASQUE |\n| 5 | 30 | Txikizkako merkataritzaren dentsitatea (biztanleen &amp;#x2030;)                        | Txikizkako merkataritzaren dentsitatea (biztanleen &amp;#x2030;)                        | https://api.euskadi.eus/udalmap/indicators/30?lang=BASQUE | Merkataritza eta turismo gaitasuna  | https://api.euskadi.eus/udalmap/subgroups/E.6?lang=BASQUE | Ekonomia / Lehiakortasuna | https://api.euskadi.eus/udalmap/groups/E?lang=BASQUE |\n| 6 | 38 | Udalaren zor bizia biztanle bakoitzeko (&amp;#x20AC;)                                   | Udalaren zor bizia biztanle bakoitzeko (&amp;#x20AC;)                                   | https://api.euskadi.eus/udalmap/indicators/38?lang=BASQUE | Udaleko ekonomia-finantza kudeaketa | https://api.euskadi.eus/udalmap/subgroups/E.9?lang=BASQUE | Ekonomia / Lehiakortasuna | https://api.euskadi.eus/udalmap/groups/E?lang=BASQUE |\n\n",
            "text/latex": "A data.frame: 6 × 8\n\\begin{tabular}{r|llllllll}\n  & id & name & \\_links.self.name & \\_links.self.href & \\_links.subgroup.name & \\_links.subgroup.href & \\_links.group.name & \\_links.group.href\\\\\n  & <chr> & <chr> & <chr> & <chr> & <chr> & <chr> & <chr> & <chr>\\\\\n\\hline\n\t1 & 3  & Industrisektorean okupatutako 16 urte edo gehiagoko biztanleria (\\%)                 & Industrisektorean okupatutako 16 urte edo gehiagoko biztanleria (\\%)                 & https://api.euskadi.eus/udalmap/indicators/3?lang=BASQUE  & Ekonomi egitura                     & https://api.euskadi.eus/udalmap/subgroups/E.1?lang=BASQUE & Ekonomia / Lehiakortasuna & https://api.euskadi.eus/udalmap/groups/E?lang=BASQUE\\\\\n\t2 & 14 & Lanbideen erregistratutako  luzaroko langabetuak  (16-64 urte arteko biztanleen \\%)  & Lanbideen erregistratutako  luzaroko langabetuak  (16-64 urte arteko biztanleen \\%)  & https://api.euskadi.eus/udalmap/indicators/14?lang=BASQUE & Lan merkatua                        & https://api.euskadi.eus/udalmap/subgroups/E.2?lang=BASQUE & Ekonomia / Lehiakortasuna & https://api.euskadi.eus/udalmap/groups/E?lang=BASQUE\\\\\n\t3 & 15 & Kontratu errotazioaren indizea (kontratuak/pertsona)                                & Kontratu errotazioaren indizea (kontratuak/pertsona)                                & https://api.euskadi.eus/udalmap/indicators/15?lang=BASQUE & Lan merkatua                        & https://api.euskadi.eus/udalmap/subgroups/E.2?lang=BASQUE & Ekonomia / Lehiakortasuna & https://api.euskadi.eus/udalmap/groups/E?lang=BASQUE\\\\\n\t4 & 20 & Eraikuntza sektoreko establezimenduak eraikuntza guztiekiko(\\%)                      & Eraikuntza sektoreko establezimenduak eraikuntza guztiekiko(\\%)                      & https://api.euskadi.eus/udalmap/indicators/20?lang=BASQUE & Enpresa egituraketa                 & https://api.euskadi.eus/udalmap/subgroups/E.3?lang=BASQUE & Ekonomia / Lehiakortasuna & https://api.euskadi.eus/udalmap/groups/E?lang=BASQUE\\\\\n\t5 & 30 & Txikizkako merkataritzaren dentsitatea (biztanleen \\&\\#x2030;)                        & Txikizkako merkataritzaren dentsitatea (biztanleen \\&\\#x2030;)                        & https://api.euskadi.eus/udalmap/indicators/30?lang=BASQUE & Merkataritza eta turismo gaitasuna  & https://api.euskadi.eus/udalmap/subgroups/E.6?lang=BASQUE & Ekonomia / Lehiakortasuna & https://api.euskadi.eus/udalmap/groups/E?lang=BASQUE\\\\\n\t6 & 38 & Udalaren zor bizia biztanle bakoitzeko (\\&\\#x20AC;)                                   & Udalaren zor bizia biztanle bakoitzeko (\\&\\#x20AC;)                                   & https://api.euskadi.eus/udalmap/indicators/38?lang=BASQUE & Udaleko ekonomia-finantza kudeaketa & https://api.euskadi.eus/udalmap/subgroups/E.9?lang=BASQUE & Ekonomia / Lehiakortasuna & https://api.euskadi.eus/udalmap/groups/E?lang=BASQUE\\\\\n\\end{tabular}\n",
            "text/plain": [
              "  id\n",
              "1 3 \n",
              "2 14\n",
              "3 15\n",
              "4 20\n",
              "5 30\n",
              "6 38\n",
              "  name                                                                               \n",
              "1 Industrisektorean okupatutako 16 urte edo gehiagoko biztanleria (%)                \n",
              "2 Lanbideen erregistratutako  luzaroko langabetuak  (16-64 urte arteko biztanleen %) \n",
              "3 Kontratu errotazioaren indizea (kontratuak/pertsona)                               \n",
              "4 Eraikuntza sektoreko establezimenduak eraikuntza guztiekiko(%)                     \n",
              "5 Txikizkako merkataritzaren dentsitatea (biztanleen &#x2030;)                       \n",
              "6 Udalaren zor bizia biztanle bakoitzeko (&#x20AC;)                                  \n",
              "  _links.self.name                                                                   \n",
              "1 Industrisektorean okupatutako 16 urte edo gehiagoko biztanleria (%)                \n",
              "2 Lanbideen erregistratutako  luzaroko langabetuak  (16-64 urte arteko biztanleen %) \n",
              "3 Kontratu errotazioaren indizea (kontratuak/pertsona)                               \n",
              "4 Eraikuntza sektoreko establezimenduak eraikuntza guztiekiko(%)                     \n",
              "5 Txikizkako merkataritzaren dentsitatea (biztanleen &#x2030;)                       \n",
              "6 Udalaren zor bizia biztanle bakoitzeko (&#x20AC;)                                  \n",
              "  _links.self.href                                         \n",
              "1 https://api.euskadi.eus/udalmap/indicators/3?lang=BASQUE \n",
              "2 https://api.euskadi.eus/udalmap/indicators/14?lang=BASQUE\n",
              "3 https://api.euskadi.eus/udalmap/indicators/15?lang=BASQUE\n",
              "4 https://api.euskadi.eus/udalmap/indicators/20?lang=BASQUE\n",
              "5 https://api.euskadi.eus/udalmap/indicators/30?lang=BASQUE\n",
              "6 https://api.euskadi.eus/udalmap/indicators/38?lang=BASQUE\n",
              "  _links.subgroup.name               \n",
              "1 Ekonomi egitura                    \n",
              "2 Lan merkatua                       \n",
              "3 Lan merkatua                       \n",
              "4 Enpresa egituraketa                \n",
              "5 Merkataritza eta turismo gaitasuna \n",
              "6 Udaleko ekonomia-finantza kudeaketa\n",
              "  _links.subgroup.href                                     \n",
              "1 https://api.euskadi.eus/udalmap/subgroups/E.1?lang=BASQUE\n",
              "2 https://api.euskadi.eus/udalmap/subgroups/E.2?lang=BASQUE\n",
              "3 https://api.euskadi.eus/udalmap/subgroups/E.2?lang=BASQUE\n",
              "4 https://api.euskadi.eus/udalmap/subgroups/E.3?lang=BASQUE\n",
              "5 https://api.euskadi.eus/udalmap/subgroups/E.6?lang=BASQUE\n",
              "6 https://api.euskadi.eus/udalmap/subgroups/E.9?lang=BASQUE\n",
              "  _links.group.name        \n",
              "1 Ekonomia / Lehiakortasuna\n",
              "2 Ekonomia / Lehiakortasuna\n",
              "3 Ekonomia / Lehiakortasuna\n",
              "4 Ekonomia / Lehiakortasuna\n",
              "5 Ekonomia / Lehiakortasuna\n",
              "6 Ekonomia / Lehiakortasuna\n",
              "  _links.group.href                                   \n",
              "1 https://api.euskadi.eus/udalmap/groups/E?lang=BASQUE\n",
              "2 https://api.euskadi.eus/udalmap/groups/E?lang=BASQUE\n",
              "3 https://api.euskadi.eus/udalmap/groups/E?lang=BASQUE\n",
              "4 https://api.euskadi.eus/udalmap/groups/E?lang=BASQUE\n",
              "5 https://api.euskadi.eus/udalmap/groups/E?lang=BASQUE\n",
              "6 https://api.euskadi.eus/udalmap/groups/E?lang=BASQUE"
            ]
          },
          "metadata": {}
        }
      ]
    },
    {
      "cell_type": "markdown",
      "source": [
        " **1.2. Adierazle baten datuak lortu**\n",
        "\n",
        "Interes-adierazlearen IDa dakigunean, datuak eskatuko dizkiogu helbide horri.\n",
        "\n",
        "Adibide bezala \"Baso-azalera publikoa\" (Id = 155) hartuko dugu\n"
      ],
      "metadata": {
        "id": "2FaCtx2GlDrg"
      }
    },
    {
      "cell_type": "code",
      "source": [
        "ind155 <- GET(\"https://api.euskadi.eus/udalmap/indicators/155?lang=BASQUE\")\n",
        "\n",
        "dat_ind155 <- fromJSON(rawToChar(ind155$content))\n",
        "\n",
        "basoak_nested <- dat_ind155$entities %>%  full_join(dat_ind155$regions, by = c(\"id\", \"years\", \"name\")) %>% full_join(dat_ind155$municipalities, by = c(\"id\", \"years\", \"name\"))\n",
        "basoak <- basoak_nested %>% unnest(cols = years)\n",
        "mantendu_beharrekoak <- grep(\"^_link\", names(basoak), invert = TRUE)\n",
        "basoak_garbi <- basoak[, mantendu_beharrekoak]\n",
        "basoak_garbi"
      ],
      "metadata": {
        "colab": {
          "base_uri": "https://localhost:8080/",
          "height": 1000
        },
        "id": "wwoiuLTxGqru",
        "outputId": "8c97ac22-6a57-4dd9-b202-0782e1da864f"
      },
      "execution_count": 15,
      "outputs": [
        {
          "output_type": "display_data",
          "data": {
            "text/html": [
              "<table class=\"dataframe\">\n",
              "<caption>A tibble: 275 × 10</caption>\n",
              "<thead>\n",
              "\t<tr><th scope=col>id</th><th scope=col>name</th><th scope=col>2005</th><th scope=col>2016</th><th scope=col>2018</th><th scope=col>2019</th><th scope=col>2020</th><th scope=col>2021</th><th scope=col>2022</th><th scope=col>2023</th></tr>\n",
              "\t<tr><th scope=col>&lt;chr&gt;</th><th scope=col>&lt;chr&gt;</th><th scope=col>&lt;dbl&gt;</th><th scope=col>&lt;dbl&gt;</th><th scope=col>&lt;dbl&gt;</th><th scope=col>&lt;dbl&gt;</th><th scope=col>&lt;dbl&gt;</th><th scope=col>&lt;dbl&gt;</th><th scope=col>&lt;dbl&gt;</th><th scope=col>&lt;dbl&gt;</th></tr>\n",
              "</thead>\n",
              "<tbody>\n",
              "\t<tr><td>01000</td><td>Araba/Álava                                </td><td>76.26</td><td> 76.47</td><td>76.49</td><td>76.52</td><td>76.51</td><td>76.53</td><td>76.52</td><td>76.51</td></tr>\n",
              "\t<tr><td>00000</td><td>CAE                                        </td><td>41.05</td><td> 41.67</td><td>42.11</td><td>42.06</td><td>41.98</td><td>41.95</td><td>42.13</td><td>42.07</td></tr>\n",
              "\t<tr><td>48000</td><td>Bizkaia                                    </td><td>23.03</td><td> 23.70</td><td>23.88</td><td>23.79</td><td>23.71</td><td>23.64</td><td>24.22</td><td>24.08</td></tr>\n",
              "\t<tr><td>20000</td><td>Gipuzkoa                                   </td><td>19.93</td><td> 21.18</td><td>21.52</td><td>21.52</td><td>21.52</td><td>21.50</td><td>21.49</td><td>21.46</td></tr>\n",
              "\t<tr><td>48100</td><td>Arratia Nerbioi / Arratia-Nervión          </td><td>20.05</td><td> 21.14</td><td>20.54</td><td>20.55</td><td>20.49</td><td>20.43</td><td>20.57</td><td>20.59</td></tr>\n",
              "\t<tr><td>20300</td><td>Debagoiena / Alto Deba                     </td><td> 9.41</td><td> 11.92</td><td>12.23</td><td>12.19</td><td>12.20</td><td>12.18</td><td>12.18</td><td>12.11</td></tr>\n",
              "\t<tr><td>20500</td><td>Goierri                                    </td><td>11.19</td><td> 23.07</td><td>12.37</td><td>12.41</td><td>12.78</td><td>12.76</td><td>12.75</td><td>12.73</td></tr>\n",
              "\t<tr><td>48700</td><td>Plentzia-Mungia                            </td><td> 7.67</td><td>  8.67</td><td> 8.77</td><td> 8.70</td><td> 8.76</td><td> 8.74</td><td> 8.61</td><td> 8.60</td></tr>\n",
              "\t<tr><td>20600</td><td>Tolosaldea / Tolosa                        </td><td>29.99</td><td> 34.05</td><td>30.98</td><td>30.99</td><td>30.97</td><td>30.95</td><td>30.94</td><td>30.94</td></tr>\n",
              "\t<tr><td>48200</td><td>Bilbo Handia / Gran Bilbao                 </td><td>29.00</td><td> 28.59</td><td>28.68</td><td>27.79</td><td>27.47</td><td>27.33</td><td>29.23</td><td>29.50</td></tr>\n",
              "\t<tr><td>48600</td><td>Markina-Ondarroa                           </td><td> 4.59</td><td>  4.81</td><td> 4.90</td><td> 4.89</td><td> 4.89</td><td> 4.86</td><td> 5.24</td><td> 5.23</td></tr>\n",
              "\t<tr><td>20400</td><td>Donostialdea / Donostia-San Sebastián      </td><td>45.85</td><td> 47.22</td><td>47.43</td><td>47.34</td><td>47.02</td><td>47.09</td><td>47.10</td><td>47.02</td></tr>\n",
              "\t<tr><td>01500</td><td>Gorbeia Inguruak / Estribaciones del Gorbea</td><td>69.80</td><td> 70.00</td><td>70.11</td><td>70.10</td><td>70.07</td><td>70.08</td><td>70.12</td><td>70.40</td></tr>\n",
              "\t<tr><td>20700</td><td>Urola-Kostaldea / Urola Costa              </td><td> 5.77</td><td>  6.04</td><td> 6.23</td><td> 6.17</td><td> 6.15</td><td> 6.13</td><td> 6.14</td><td> 6.15</td></tr>\n",
              "\t<tr><td>20100</td><td>Deba Beherea / Bajo Deba                   </td><td> 2.12</td><td>  2.19</td><td> 2.23</td><td> 2.21</td><td> 2.20</td><td> 2.20</td><td> 2.19</td><td> 2.19</td></tr>\n",
              "\t<tr><td>48300</td><td>Durangaldea / Duranguesado                 </td><td>11.77</td><td> 13.50</td><td>13.65</td><td>13.69</td><td>13.41</td><td>13.41</td><td>13.87</td><td>13.88</td></tr>\n",
              "\t<tr><td>48400</td><td>Enkartazioak / Encartaciones               </td><td>61.03</td><td> 61.10</td><td>61.27</td><td>61.10</td><td>61.10</td><td>60.98</td><td>62.34</td><td>62.02</td></tr>\n",
              "\t<tr><td>48500</td><td>Gernika-Bermeo                             </td><td>10.23</td><td> 10.32</td><td>10.33</td><td>10.34</td><td>10.48</td><td>10.47</td><td>10.85</td><td>10.84</td></tr>\n",
              "\t<tr><td>01200</td><td>Arabako Lautada / Llanada Alavesa          </td><td>84.61</td><td> 87.97</td><td>85.65</td><td>85.64</td><td>85.66</td><td>85.66</td><td>85.66</td><td>85.42</td></tr>\n",
              "\t<tr><td>01300</td><td>Arabako Mendialdea / Montaña Alavesa       </td><td>89.55</td><td>101.89</td><td>89.97</td><td>89.98</td><td>90.00</td><td>89.99</td><td>90.01</td><td>89.96</td></tr>\n",
              "\t<tr><td>01100</td><td>Arabako Ibarrak / Valles Alaveses          </td><td>78.79</td><td> 78.62</td><td>78.62</td><td>78.50</td><td>78.49</td><td>78.49</td><td>78.49</td><td>78.43</td></tr>\n",
              "\t<tr><td>20200</td><td>Bidasoa Beherea / Bajo Bidasoa             </td><td>38.67</td><td> 41.21</td><td>41.63</td><td>41.23</td><td>41.06</td><td>41.03</td><td>41.03</td><td>41.07</td></tr>\n",
              "\t<tr><td>01400</td><td>Errioxa Arabarra / Rioja Alavesa           </td><td>60.31</td><td> 59.70</td><td>59.70</td><td>60.07</td><td>59.98</td><td>59.98</td><td>60.25</td><td>60.29</td></tr>\n",
              "\t<tr><td>01600</td><td>Kantauri Arabarra / Cantábrica Alavesa     </td><td>45.55</td><td> 45.83</td><td>45.93</td><td>46.13</td><td>46.17</td><td>46.16</td><td>46.06</td><td>46.18</td></tr>\n",
              "\t<tr><td>48072</td><td>Otxandio                                   </td><td>74.12</td><td> 72.97</td><td>72.90</td><td>73.14</td><td>73.32</td><td>73.03</td><td>73.51</td><td>74.04</td></tr>\n",
              "\t<tr><td>20059</td><td>Oñati                                      </td><td>11.62</td><td> 18.51</td><td>18.80</td><td>18.77</td><td>18.77</td><td>18.76</td><td>18.76</td><td>18.64</td></tr>\n",
              "\t<tr><td>48088</td><td>Ubide                                      </td><td> 0.64</td><td>  0.67</td><td> 0.00</td><td> 0.68</td><td> 0.60</td><td> 0.60</td><td> 0.00</td><td> 0.00</td></tr>\n",
              "\t<tr><td>48074</td><td>Urduña/Orduña                              </td><td>79.72</td><td> 79.85</td><td>79.85</td><td>79.96</td><td>79.96</td><td>79.96</td><td>79.74</td><td>79.88</td></tr>\n",
              "\t<tr><td>20073</td><td>Usurbil                                    </td><td>49.49</td><td> 49.40</td><td>49.61</td><td>49.37</td><td>46.55</td><td>46.55</td><td>46.59</td><td>46.55</td></tr>\n",
              "\t<tr><td>01060</td><td>Yécora/Iekora                              </td><td> 0.00</td><td>  0.00</td><td> 0.00</td><td> 0.00</td><td> 0.00</td><td> 0.00</td><td> 0.00</td><td> 0.00</td></tr>\n",
              "\t<tr><td>⋮</td><td>⋮</td><td>⋮</td><td>⋮</td><td>⋮</td><td>⋮</td><td>⋮</td><td>⋮</td><td>⋮</td><td>⋮</td></tr>\n",
              "\t<tr><td>48066</td><td>Morga                          </td><td> 0.00</td><td> 0.00</td><td> 0.00</td><td> 0.00</td><td> 0.00</td><td> 0.00</td><td> 0.00</td><td> 0.00</td></tr>\n",
              "\t<tr><td>20065</td><td>Soraluze-Placencia de las Armas</td><td> 0.00</td><td> 0.00</td><td> 0.00</td><td> 0.00</td><td> 0.00</td><td> 0.00</td><td> 0.00</td><td> 0.00</td></tr>\n",
              "\t<tr><td>20077</td><td>Urretxu                        </td><td> 0.00</td><td> 0.00</td><td> 0.00</td><td> 0.00</td><td> 0.00</td><td> 0.00</td><td> 0.00</td><td> 0.00</td></tr>\n",
              "\t<tr><td>48080</td><td>Valle de Trápaga-Trapagaran    </td><td>60.27</td><td>64.11</td><td>64.11</td><td>60.15</td><td>60.73</td><td>60.73</td><td>65.45</td><td>69.94</td></tr>\n",
              "\t<tr><td>20075</td><td>Villabona                      </td><td>83.80</td><td>81.48</td><td>81.78</td><td>82.05</td><td>82.05</td><td>82.02</td><td>82.02</td><td>82.02</td></tr>\n",
              "\t<tr><td>20026</td><td>Zerain                         </td><td>13.24</td><td>14.13</td><td>15.00</td><td>15.00</td><td>15.00</td><td>15.00</td><td>15.00</td><td>14.91</td></tr>\n",
              "\t<tr><td>48913</td><td>Zierbena                       </td><td>66.30</td><td>67.35</td><td>65.98</td><td>65.98</td><td>62.14</td><td>62.14</td><td>62.14</td><td>62.14</td></tr>\n",
              "\t<tr><td>20081</td><td>Zumaia                         </td><td> 0.00</td><td> 0.00</td><td> 0.00</td><td> 0.00</td><td> 0.00</td><td> 0.00</td><td> 0.00</td><td> 0.00</td></tr>\n",
              "\t<tr><td>20008</td><td>Amezketa                       </td><td>26.09</td><td>28.72</td><td>29.68</td><td>29.51</td><td>29.51</td><td>29.51</td><td>29.33</td><td>29.33</td></tr>\n",
              "\t<tr><td>48005</td><td>Arakaldo                       </td><td>29.95</td><td>30.10</td><td>30.39</td><td>30.39</td><td>30.39</td><td>30.39</td><td>30.88</td><td>30.88</td></tr>\n",
              "\t<tr><td>01006</td><td>Armiñón                        </td><td> 2.22</td><td> 0.00</td><td> 0.00</td><td> 0.00</td><td> 0.00</td><td> 0.00</td><td> 0.00</td><td> 0.00</td></tr>\n",
              "\t<tr><td>01037</td><td>Arraia-Maeztu                  </td><td>91.38</td><td>91.22</td><td>91.22</td><td>91.22</td><td>91.28</td><td>91.25</td><td>91.26</td><td>90.41</td></tr>\n",
              "\t<tr><td>48009</td><td>Arrankudiaga                   </td><td> 2.22</td><td> 2.17</td><td> 2.19</td><td> 2.19</td><td> 2.18</td><td> 2.16</td><td> 2.40</td><td> 2.45</td></tr>\n",
              "\t<tr><td>48010</td><td>Arrieta                        </td><td>18.78</td><td>16.94</td><td>17.26</td><td>17.16</td><td>18.26</td><td>18.26</td><td>17.21</td><td>17.17</td></tr>\n",
              "\t<tr><td>01004</td><td>Artziniega                     </td><td>75.85</td><td>75.31</td><td>75.79</td><td>75.87</td><td>75.49</td><td>75.49</td><td>75.37</td><td>75.18</td></tr>\n",
              "\t<tr><td>01009</td><td>Asparrena                      </td><td>94.35</td><td>94.95</td><td>94.95</td><td>94.95</td><td>94.98</td><td>94.98</td><td>94.98</td><td>94.92</td></tr>\n",
              "\t<tr><td>20017</td><td>Azkoitia                       </td><td> 0.00</td><td> 0.03</td><td> 0.03</td><td> 0.03</td><td> 0.03</td><td> 0.03</td><td> 0.03</td><td> 0.03</td></tr>\n",
              "\t<tr><td>01013</td><td>Barrundia                      </td><td>81.49</td><td>81.46</td><td>81.42</td><td>81.70</td><td>81.74</td><td>81.74</td><td>81.74</td><td>79.44</td></tr>\n",
              "\t<tr><td>20020</td><td>Beizama                        </td><td>24.96</td><td>24.63</td><td>24.90</td><td>24.92</td><td>24.92</td><td>24.90</td><td>24.94</td><td>25.48</td></tr>\n",
              "\t<tr><td>01014</td><td>Berantevilla                   </td><td> 5.87</td><td> 4.20</td><td> 4.20</td><td> 4.20</td><td> 4.20</td><td> 4.20</td><td> 4.20</td><td> 0.00</td></tr>\n",
              "\t<tr><td>48034</td><td>Ermua                          </td><td> 0.00</td><td> 0.00</td><td> 0.00</td><td> 0.00</td><td> 0.00</td><td> 0.00</td><td> 0.00</td><td> 0.00</td></tr>\n",
              "\t<tr><td>48036</td><td>Galdakao                       </td><td>35.53</td><td>35.23</td><td>35.18</td><td>35.29</td><td>35.35</td><td>34.74</td><td>34.59</td><td>34.59</td></tr>\n",
              "\t<tr><td>48039</td><td>Garai                          </td><td>21.21</td><td>22.96</td><td>23.31</td><td>23.26</td><td>23.03</td><td>23.03</td><td>23.38</td><td>23.38</td></tr>\n",
              "\t<tr><td>20040</td><td>Hernani                        </td><td>26.21</td><td>26.11</td><td>26.30</td><td>26.53</td><td>26.47</td><td>26.47</td><td>26.47</td><td>26.63</td></tr>\n",
              "\t<tr><td>20042</td><td>Ibarra                         </td><td> 8.97</td><td> 8.14</td><td> 9.00</td><td> 9.00</td><td> 9.00</td><td> 9.00</td><td> 8.96</td><td> 8.96</td></tr>\n",
              "\t<tr><td>20044</td><td>Ikaztegieta                    </td><td> 0.00</td><td> 0.00</td><td> 0.00</td><td> 0.00</td><td> 0.00</td><td> 0.00</td><td> 0.00</td><td> 0.00</td></tr>\n",
              "\t<tr><td>48910</td><td>Iurreta                        </td><td> 7.24</td><td> 7.41</td><td> 7.55</td><td> 7.54</td><td> 7.50</td><td> 7.46</td><td> 8.56</td><td> 8.51</td></tr>\n",
              "\t<tr><td>01028</td><td>Labastida/Bastida              </td><td>81.97</td><td>84.04</td><td>84.04</td><td>84.04</td><td>83.54</td><td>83.54</td><td>83.62</td><td>83.62</td></tr>\n",
              "\t<tr><td>01032</td><td>Lanciego/Lantziego             </td><td> 0.00</td><td> 0.00</td><td> 0.00</td><td> 0.00</td><td> 0.00</td><td> 0.00</td><td> 0.00</td><td> 0.00</td></tr>\n",
              "\t<tr><td>48081</td><td>Lezama                         </td><td>21.28</td><td>21.69</td><td>22.05</td><td>22.12</td><td>21.88</td><td>21.88</td><td>21.93</td><td>21.91</td></tr>\n",
              "</tbody>\n",
              "</table>\n"
            ],
            "text/markdown": "\nA tibble: 275 × 10\n\n| id &lt;chr&gt; | name &lt;chr&gt; | 2005 &lt;dbl&gt; | 2016 &lt;dbl&gt; | 2018 &lt;dbl&gt; | 2019 &lt;dbl&gt; | 2020 &lt;dbl&gt; | 2021 &lt;dbl&gt; | 2022 &lt;dbl&gt; | 2023 &lt;dbl&gt; |\n|---|---|---|---|---|---|---|---|---|---|\n| 01000 | Araba/Álava                                 | 76.26 |  76.47 | 76.49 | 76.52 | 76.51 | 76.53 | 76.52 | 76.51 |\n| 00000 | CAE                                         | 41.05 |  41.67 | 42.11 | 42.06 | 41.98 | 41.95 | 42.13 | 42.07 |\n| 48000 | Bizkaia                                     | 23.03 |  23.70 | 23.88 | 23.79 | 23.71 | 23.64 | 24.22 | 24.08 |\n| 20000 | Gipuzkoa                                    | 19.93 |  21.18 | 21.52 | 21.52 | 21.52 | 21.50 | 21.49 | 21.46 |\n| 48100 | Arratia Nerbioi / Arratia-Nervión           | 20.05 |  21.14 | 20.54 | 20.55 | 20.49 | 20.43 | 20.57 | 20.59 |\n| 20300 | Debagoiena / Alto Deba                      |  9.41 |  11.92 | 12.23 | 12.19 | 12.20 | 12.18 | 12.18 | 12.11 |\n| 20500 | Goierri                                     | 11.19 |  23.07 | 12.37 | 12.41 | 12.78 | 12.76 | 12.75 | 12.73 |\n| 48700 | Plentzia-Mungia                             |  7.67 |   8.67 |  8.77 |  8.70 |  8.76 |  8.74 |  8.61 |  8.60 |\n| 20600 | Tolosaldea / Tolosa                         | 29.99 |  34.05 | 30.98 | 30.99 | 30.97 | 30.95 | 30.94 | 30.94 |\n| 48200 | Bilbo Handia / Gran Bilbao                  | 29.00 |  28.59 | 28.68 | 27.79 | 27.47 | 27.33 | 29.23 | 29.50 |\n| 48600 | Markina-Ondarroa                            |  4.59 |   4.81 |  4.90 |  4.89 |  4.89 |  4.86 |  5.24 |  5.23 |\n| 20400 | Donostialdea / Donostia-San Sebastián       | 45.85 |  47.22 | 47.43 | 47.34 | 47.02 | 47.09 | 47.10 | 47.02 |\n| 01500 | Gorbeia Inguruak / Estribaciones del Gorbea | 69.80 |  70.00 | 70.11 | 70.10 | 70.07 | 70.08 | 70.12 | 70.40 |\n| 20700 | Urola-Kostaldea / Urola Costa               |  5.77 |   6.04 |  6.23 |  6.17 |  6.15 |  6.13 |  6.14 |  6.15 |\n| 20100 | Deba Beherea / Bajo Deba                    |  2.12 |   2.19 |  2.23 |  2.21 |  2.20 |  2.20 |  2.19 |  2.19 |\n| 48300 | Durangaldea / Duranguesado                  | 11.77 |  13.50 | 13.65 | 13.69 | 13.41 | 13.41 | 13.87 | 13.88 |\n| 48400 | Enkartazioak / Encartaciones                | 61.03 |  61.10 | 61.27 | 61.10 | 61.10 | 60.98 | 62.34 | 62.02 |\n| 48500 | Gernika-Bermeo                              | 10.23 |  10.32 | 10.33 | 10.34 | 10.48 | 10.47 | 10.85 | 10.84 |\n| 01200 | Arabako Lautada / Llanada Alavesa           | 84.61 |  87.97 | 85.65 | 85.64 | 85.66 | 85.66 | 85.66 | 85.42 |\n| 01300 | Arabako Mendialdea / Montaña Alavesa        | 89.55 | 101.89 | 89.97 | 89.98 | 90.00 | 89.99 | 90.01 | 89.96 |\n| 01100 | Arabako Ibarrak / Valles Alaveses           | 78.79 |  78.62 | 78.62 | 78.50 | 78.49 | 78.49 | 78.49 | 78.43 |\n| 20200 | Bidasoa Beherea / Bajo Bidasoa              | 38.67 |  41.21 | 41.63 | 41.23 | 41.06 | 41.03 | 41.03 | 41.07 |\n| 01400 | Errioxa Arabarra / Rioja Alavesa            | 60.31 |  59.70 | 59.70 | 60.07 | 59.98 | 59.98 | 60.25 | 60.29 |\n| 01600 | Kantauri Arabarra / Cantábrica Alavesa      | 45.55 |  45.83 | 45.93 | 46.13 | 46.17 | 46.16 | 46.06 | 46.18 |\n| 48072 | Otxandio                                    | 74.12 |  72.97 | 72.90 | 73.14 | 73.32 | 73.03 | 73.51 | 74.04 |\n| 20059 | Oñati                                       | 11.62 |  18.51 | 18.80 | 18.77 | 18.77 | 18.76 | 18.76 | 18.64 |\n| 48088 | Ubide                                       |  0.64 |   0.67 |  0.00 |  0.68 |  0.60 |  0.60 |  0.00 |  0.00 |\n| 48074 | Urduña/Orduña                               | 79.72 |  79.85 | 79.85 | 79.96 | 79.96 | 79.96 | 79.74 | 79.88 |\n| 20073 | Usurbil                                     | 49.49 |  49.40 | 49.61 | 49.37 | 46.55 | 46.55 | 46.59 | 46.55 |\n| 01060 | Yécora/Iekora                               |  0.00 |   0.00 |  0.00 |  0.00 |  0.00 |  0.00 |  0.00 |  0.00 |\n| ⋮ | ⋮ | ⋮ | ⋮ | ⋮ | ⋮ | ⋮ | ⋮ | ⋮ | ⋮ |\n| 48066 | Morga                           |  0.00 |  0.00 |  0.00 |  0.00 |  0.00 |  0.00 |  0.00 |  0.00 |\n| 20065 | Soraluze-Placencia de las Armas |  0.00 |  0.00 |  0.00 |  0.00 |  0.00 |  0.00 |  0.00 |  0.00 |\n| 20077 | Urretxu                         |  0.00 |  0.00 |  0.00 |  0.00 |  0.00 |  0.00 |  0.00 |  0.00 |\n| 48080 | Valle de Trápaga-Trapagaran     | 60.27 | 64.11 | 64.11 | 60.15 | 60.73 | 60.73 | 65.45 | 69.94 |\n| 20075 | Villabona                       | 83.80 | 81.48 | 81.78 | 82.05 | 82.05 | 82.02 | 82.02 | 82.02 |\n| 20026 | Zerain                          | 13.24 | 14.13 | 15.00 | 15.00 | 15.00 | 15.00 | 15.00 | 14.91 |\n| 48913 | Zierbena                        | 66.30 | 67.35 | 65.98 | 65.98 | 62.14 | 62.14 | 62.14 | 62.14 |\n| 20081 | Zumaia                          |  0.00 |  0.00 |  0.00 |  0.00 |  0.00 |  0.00 |  0.00 |  0.00 |\n| 20008 | Amezketa                        | 26.09 | 28.72 | 29.68 | 29.51 | 29.51 | 29.51 | 29.33 | 29.33 |\n| 48005 | Arakaldo                        | 29.95 | 30.10 | 30.39 | 30.39 | 30.39 | 30.39 | 30.88 | 30.88 |\n| 01006 | Armiñón                         |  2.22 |  0.00 |  0.00 |  0.00 |  0.00 |  0.00 |  0.00 |  0.00 |\n| 01037 | Arraia-Maeztu                   | 91.38 | 91.22 | 91.22 | 91.22 | 91.28 | 91.25 | 91.26 | 90.41 |\n| 48009 | Arrankudiaga                    |  2.22 |  2.17 |  2.19 |  2.19 |  2.18 |  2.16 |  2.40 |  2.45 |\n| 48010 | Arrieta                         | 18.78 | 16.94 | 17.26 | 17.16 | 18.26 | 18.26 | 17.21 | 17.17 |\n| 01004 | Artziniega                      | 75.85 | 75.31 | 75.79 | 75.87 | 75.49 | 75.49 | 75.37 | 75.18 |\n| 01009 | Asparrena                       | 94.35 | 94.95 | 94.95 | 94.95 | 94.98 | 94.98 | 94.98 | 94.92 |\n| 20017 | Azkoitia                        |  0.00 |  0.03 |  0.03 |  0.03 |  0.03 |  0.03 |  0.03 |  0.03 |\n| 01013 | Barrundia                       | 81.49 | 81.46 | 81.42 | 81.70 | 81.74 | 81.74 | 81.74 | 79.44 |\n| 20020 | Beizama                         | 24.96 | 24.63 | 24.90 | 24.92 | 24.92 | 24.90 | 24.94 | 25.48 |\n| 01014 | Berantevilla                    |  5.87 |  4.20 |  4.20 |  4.20 |  4.20 |  4.20 |  4.20 |  0.00 |\n| 48034 | Ermua                           |  0.00 |  0.00 |  0.00 |  0.00 |  0.00 |  0.00 |  0.00 |  0.00 |\n| 48036 | Galdakao                        | 35.53 | 35.23 | 35.18 | 35.29 | 35.35 | 34.74 | 34.59 | 34.59 |\n| 48039 | Garai                           | 21.21 | 22.96 | 23.31 | 23.26 | 23.03 | 23.03 | 23.38 | 23.38 |\n| 20040 | Hernani                         | 26.21 | 26.11 | 26.30 | 26.53 | 26.47 | 26.47 | 26.47 | 26.63 |\n| 20042 | Ibarra                          |  8.97 |  8.14 |  9.00 |  9.00 |  9.00 |  9.00 |  8.96 |  8.96 |\n| 20044 | Ikaztegieta                     |  0.00 |  0.00 |  0.00 |  0.00 |  0.00 |  0.00 |  0.00 |  0.00 |\n| 48910 | Iurreta                         |  7.24 |  7.41 |  7.55 |  7.54 |  7.50 |  7.46 |  8.56 |  8.51 |\n| 01028 | Labastida/Bastida               | 81.97 | 84.04 | 84.04 | 84.04 | 83.54 | 83.54 | 83.62 | 83.62 |\n| 01032 | Lanciego/Lantziego              |  0.00 |  0.00 |  0.00 |  0.00 |  0.00 |  0.00 |  0.00 |  0.00 |\n| 48081 | Lezama                          | 21.28 | 21.69 | 22.05 | 22.12 | 21.88 | 21.88 | 21.93 | 21.91 |\n\n",
            "text/latex": "A tibble: 275 × 10\n\\begin{tabular}{llllllllll}\n id & name & 2005 & 2016 & 2018 & 2019 & 2020 & 2021 & 2022 & 2023\\\\\n <chr> & <chr> & <dbl> & <dbl> & <dbl> & <dbl> & <dbl> & <dbl> & <dbl> & <dbl>\\\\\n\\hline\n\t 01000 & Araba/Álava                                 & 76.26 &  76.47 & 76.49 & 76.52 & 76.51 & 76.53 & 76.52 & 76.51\\\\\n\t 00000 & CAE                                         & 41.05 &  41.67 & 42.11 & 42.06 & 41.98 & 41.95 & 42.13 & 42.07\\\\\n\t 48000 & Bizkaia                                     & 23.03 &  23.70 & 23.88 & 23.79 & 23.71 & 23.64 & 24.22 & 24.08\\\\\n\t 20000 & Gipuzkoa                                    & 19.93 &  21.18 & 21.52 & 21.52 & 21.52 & 21.50 & 21.49 & 21.46\\\\\n\t 48100 & Arratia Nerbioi / Arratia-Nervión           & 20.05 &  21.14 & 20.54 & 20.55 & 20.49 & 20.43 & 20.57 & 20.59\\\\\n\t 20300 & Debagoiena / Alto Deba                      &  9.41 &  11.92 & 12.23 & 12.19 & 12.20 & 12.18 & 12.18 & 12.11\\\\\n\t 20500 & Goierri                                     & 11.19 &  23.07 & 12.37 & 12.41 & 12.78 & 12.76 & 12.75 & 12.73\\\\\n\t 48700 & Plentzia-Mungia                             &  7.67 &   8.67 &  8.77 &  8.70 &  8.76 &  8.74 &  8.61 &  8.60\\\\\n\t 20600 & Tolosaldea / Tolosa                         & 29.99 &  34.05 & 30.98 & 30.99 & 30.97 & 30.95 & 30.94 & 30.94\\\\\n\t 48200 & Bilbo Handia / Gran Bilbao                  & 29.00 &  28.59 & 28.68 & 27.79 & 27.47 & 27.33 & 29.23 & 29.50\\\\\n\t 48600 & Markina-Ondarroa                            &  4.59 &   4.81 &  4.90 &  4.89 &  4.89 &  4.86 &  5.24 &  5.23\\\\\n\t 20400 & Donostialdea / Donostia-San Sebastián       & 45.85 &  47.22 & 47.43 & 47.34 & 47.02 & 47.09 & 47.10 & 47.02\\\\\n\t 01500 & Gorbeia Inguruak / Estribaciones del Gorbea & 69.80 &  70.00 & 70.11 & 70.10 & 70.07 & 70.08 & 70.12 & 70.40\\\\\n\t 20700 & Urola-Kostaldea / Urola Costa               &  5.77 &   6.04 &  6.23 &  6.17 &  6.15 &  6.13 &  6.14 &  6.15\\\\\n\t 20100 & Deba Beherea / Bajo Deba                    &  2.12 &   2.19 &  2.23 &  2.21 &  2.20 &  2.20 &  2.19 &  2.19\\\\\n\t 48300 & Durangaldea / Duranguesado                  & 11.77 &  13.50 & 13.65 & 13.69 & 13.41 & 13.41 & 13.87 & 13.88\\\\\n\t 48400 & Enkartazioak / Encartaciones                & 61.03 &  61.10 & 61.27 & 61.10 & 61.10 & 60.98 & 62.34 & 62.02\\\\\n\t 48500 & Gernika-Bermeo                              & 10.23 &  10.32 & 10.33 & 10.34 & 10.48 & 10.47 & 10.85 & 10.84\\\\\n\t 01200 & Arabako Lautada / Llanada Alavesa           & 84.61 &  87.97 & 85.65 & 85.64 & 85.66 & 85.66 & 85.66 & 85.42\\\\\n\t 01300 & Arabako Mendialdea / Montaña Alavesa        & 89.55 & 101.89 & 89.97 & 89.98 & 90.00 & 89.99 & 90.01 & 89.96\\\\\n\t 01100 & Arabako Ibarrak / Valles Alaveses           & 78.79 &  78.62 & 78.62 & 78.50 & 78.49 & 78.49 & 78.49 & 78.43\\\\\n\t 20200 & Bidasoa Beherea / Bajo Bidasoa              & 38.67 &  41.21 & 41.63 & 41.23 & 41.06 & 41.03 & 41.03 & 41.07\\\\\n\t 01400 & Errioxa Arabarra / Rioja Alavesa            & 60.31 &  59.70 & 59.70 & 60.07 & 59.98 & 59.98 & 60.25 & 60.29\\\\\n\t 01600 & Kantauri Arabarra / Cantábrica Alavesa      & 45.55 &  45.83 & 45.93 & 46.13 & 46.17 & 46.16 & 46.06 & 46.18\\\\\n\t 48072 & Otxandio                                    & 74.12 &  72.97 & 72.90 & 73.14 & 73.32 & 73.03 & 73.51 & 74.04\\\\\n\t 20059 & Oñati                                       & 11.62 &  18.51 & 18.80 & 18.77 & 18.77 & 18.76 & 18.76 & 18.64\\\\\n\t 48088 & Ubide                                       &  0.64 &   0.67 &  0.00 &  0.68 &  0.60 &  0.60 &  0.00 &  0.00\\\\\n\t 48074 & Urduña/Orduña                               & 79.72 &  79.85 & 79.85 & 79.96 & 79.96 & 79.96 & 79.74 & 79.88\\\\\n\t 20073 & Usurbil                                     & 49.49 &  49.40 & 49.61 & 49.37 & 46.55 & 46.55 & 46.59 & 46.55\\\\\n\t 01060 & Yécora/Iekora                               &  0.00 &   0.00 &  0.00 &  0.00 &  0.00 &  0.00 &  0.00 &  0.00\\\\\n\t ⋮ & ⋮ & ⋮ & ⋮ & ⋮ & ⋮ & ⋮ & ⋮ & ⋮ & ⋮\\\\\n\t 48066 & Morga                           &  0.00 &  0.00 &  0.00 &  0.00 &  0.00 &  0.00 &  0.00 &  0.00\\\\\n\t 20065 & Soraluze-Placencia de las Armas &  0.00 &  0.00 &  0.00 &  0.00 &  0.00 &  0.00 &  0.00 &  0.00\\\\\n\t 20077 & Urretxu                         &  0.00 &  0.00 &  0.00 &  0.00 &  0.00 &  0.00 &  0.00 &  0.00\\\\\n\t 48080 & Valle de Trápaga-Trapagaran     & 60.27 & 64.11 & 64.11 & 60.15 & 60.73 & 60.73 & 65.45 & 69.94\\\\\n\t 20075 & Villabona                       & 83.80 & 81.48 & 81.78 & 82.05 & 82.05 & 82.02 & 82.02 & 82.02\\\\\n\t 20026 & Zerain                          & 13.24 & 14.13 & 15.00 & 15.00 & 15.00 & 15.00 & 15.00 & 14.91\\\\\n\t 48913 & Zierbena                        & 66.30 & 67.35 & 65.98 & 65.98 & 62.14 & 62.14 & 62.14 & 62.14\\\\\n\t 20081 & Zumaia                          &  0.00 &  0.00 &  0.00 &  0.00 &  0.00 &  0.00 &  0.00 &  0.00\\\\\n\t 20008 & Amezketa                        & 26.09 & 28.72 & 29.68 & 29.51 & 29.51 & 29.51 & 29.33 & 29.33\\\\\n\t 48005 & Arakaldo                        & 29.95 & 30.10 & 30.39 & 30.39 & 30.39 & 30.39 & 30.88 & 30.88\\\\\n\t 01006 & Armiñón                         &  2.22 &  0.00 &  0.00 &  0.00 &  0.00 &  0.00 &  0.00 &  0.00\\\\\n\t 01037 & Arraia-Maeztu                   & 91.38 & 91.22 & 91.22 & 91.22 & 91.28 & 91.25 & 91.26 & 90.41\\\\\n\t 48009 & Arrankudiaga                    &  2.22 &  2.17 &  2.19 &  2.19 &  2.18 &  2.16 &  2.40 &  2.45\\\\\n\t 48010 & Arrieta                         & 18.78 & 16.94 & 17.26 & 17.16 & 18.26 & 18.26 & 17.21 & 17.17\\\\\n\t 01004 & Artziniega                      & 75.85 & 75.31 & 75.79 & 75.87 & 75.49 & 75.49 & 75.37 & 75.18\\\\\n\t 01009 & Asparrena                       & 94.35 & 94.95 & 94.95 & 94.95 & 94.98 & 94.98 & 94.98 & 94.92\\\\\n\t 20017 & Azkoitia                        &  0.00 &  0.03 &  0.03 &  0.03 &  0.03 &  0.03 &  0.03 &  0.03\\\\\n\t 01013 & Barrundia                       & 81.49 & 81.46 & 81.42 & 81.70 & 81.74 & 81.74 & 81.74 & 79.44\\\\\n\t 20020 & Beizama                         & 24.96 & 24.63 & 24.90 & 24.92 & 24.92 & 24.90 & 24.94 & 25.48\\\\\n\t 01014 & Berantevilla                    &  5.87 &  4.20 &  4.20 &  4.20 &  4.20 &  4.20 &  4.20 &  0.00\\\\\n\t 48034 & Ermua                           &  0.00 &  0.00 &  0.00 &  0.00 &  0.00 &  0.00 &  0.00 &  0.00\\\\\n\t 48036 & Galdakao                        & 35.53 & 35.23 & 35.18 & 35.29 & 35.35 & 34.74 & 34.59 & 34.59\\\\\n\t 48039 & Garai                           & 21.21 & 22.96 & 23.31 & 23.26 & 23.03 & 23.03 & 23.38 & 23.38\\\\\n\t 20040 & Hernani                         & 26.21 & 26.11 & 26.30 & 26.53 & 26.47 & 26.47 & 26.47 & 26.63\\\\\n\t 20042 & Ibarra                          &  8.97 &  8.14 &  9.00 &  9.00 &  9.00 &  9.00 &  8.96 &  8.96\\\\\n\t 20044 & Ikaztegieta                     &  0.00 &  0.00 &  0.00 &  0.00 &  0.00 &  0.00 &  0.00 &  0.00\\\\\n\t 48910 & Iurreta                         &  7.24 &  7.41 &  7.55 &  7.54 &  7.50 &  7.46 &  8.56 &  8.51\\\\\n\t 01028 & Labastida/Bastida               & 81.97 & 84.04 & 84.04 & 84.04 & 83.54 & 83.54 & 83.62 & 83.62\\\\\n\t 01032 & Lanciego/Lantziego              &  0.00 &  0.00 &  0.00 &  0.00 &  0.00 &  0.00 &  0.00 &  0.00\\\\\n\t 48081 & Lezama                          & 21.28 & 21.69 & 22.05 & 22.12 & 21.88 & 21.88 & 21.93 & 21.91\\\\\n\\end{tabular}\n",
            "text/plain": [
              "    id    name                                        2005  2016   2018  2019 \n",
              "1   01000 Araba/Álava                                 76.26  76.47 76.49 76.52\n",
              "2   00000 CAE                                         41.05  41.67 42.11 42.06\n",
              "3   48000 Bizkaia                                     23.03  23.70 23.88 23.79\n",
              "4   20000 Gipuzkoa                                    19.93  21.18 21.52 21.52\n",
              "5   48100 Arratia Nerbioi / Arratia-Nervión           20.05  21.14 20.54 20.55\n",
              "6   20300 Debagoiena / Alto Deba                       9.41  11.92 12.23 12.19\n",
              "7   20500 Goierri                                     11.19  23.07 12.37 12.41\n",
              "8   48700 Plentzia-Mungia                              7.67   8.67  8.77  8.70\n",
              "9   20600 Tolosaldea / Tolosa                         29.99  34.05 30.98 30.99\n",
              "10  48200 Bilbo Handia / Gran Bilbao                  29.00  28.59 28.68 27.79\n",
              "11  48600 Markina-Ondarroa                             4.59   4.81  4.90  4.89\n",
              "12  20400 Donostialdea / Donostia-San Sebastián       45.85  47.22 47.43 47.34\n",
              "13  01500 Gorbeia Inguruak / Estribaciones del Gorbea 69.80  70.00 70.11 70.10\n",
              "14  20700 Urola-Kostaldea / Urola Costa                5.77   6.04  6.23  6.17\n",
              "15  20100 Deba Beherea / Bajo Deba                     2.12   2.19  2.23  2.21\n",
              "16  48300 Durangaldea / Duranguesado                  11.77  13.50 13.65 13.69\n",
              "17  48400 Enkartazioak / Encartaciones                61.03  61.10 61.27 61.10\n",
              "18  48500 Gernika-Bermeo                              10.23  10.32 10.33 10.34\n",
              "19  01200 Arabako Lautada / Llanada Alavesa           84.61  87.97 85.65 85.64\n",
              "20  01300 Arabako Mendialdea / Montaña Alavesa        89.55 101.89 89.97 89.98\n",
              "21  01100 Arabako Ibarrak / Valles Alaveses           78.79  78.62 78.62 78.50\n",
              "22  20200 Bidasoa Beherea / Bajo Bidasoa              38.67  41.21 41.63 41.23\n",
              "23  01400 Errioxa Arabarra / Rioja Alavesa            60.31  59.70 59.70 60.07\n",
              "24  01600 Kantauri Arabarra / Cantábrica Alavesa      45.55  45.83 45.93 46.13\n",
              "25  48072 Otxandio                                    74.12  72.97 72.90 73.14\n",
              "26  20059 Oñati                                       11.62  18.51 18.80 18.77\n",
              "27  48088 Ubide                                        0.64   0.67  0.00  0.68\n",
              "28  48074 Urduña/Orduña                               79.72  79.85 79.85 79.96\n",
              "29  20073 Usurbil                                     49.49  49.40 49.61 49.37\n",
              "30  01060 Yécora/Iekora                                0.00   0.00  0.00  0.00\n",
              "⋮   ⋮     ⋮                                           ⋮     ⋮      ⋮     ⋮    \n",
              "246 48066 Morga                                        0.00  0.00   0.00  0.00\n",
              "247 20065 Soraluze-Placencia de las Armas              0.00  0.00   0.00  0.00\n",
              "248 20077 Urretxu                                      0.00  0.00   0.00  0.00\n",
              "249 48080 Valle de Trápaga-Trapagaran                 60.27 64.11  64.11 60.15\n",
              "250 20075 Villabona                                   83.80 81.48  81.78 82.05\n",
              "251 20026 Zerain                                      13.24 14.13  15.00 15.00\n",
              "252 48913 Zierbena                                    66.30 67.35  65.98 65.98\n",
              "253 20081 Zumaia                                       0.00  0.00   0.00  0.00\n",
              "254 20008 Amezketa                                    26.09 28.72  29.68 29.51\n",
              "255 48005 Arakaldo                                    29.95 30.10  30.39 30.39\n",
              "256 01006 Armiñón                                      2.22  0.00   0.00  0.00\n",
              "257 01037 Arraia-Maeztu                               91.38 91.22  91.22 91.22\n",
              "258 48009 Arrankudiaga                                 2.22  2.17   2.19  2.19\n",
              "259 48010 Arrieta                                     18.78 16.94  17.26 17.16\n",
              "260 01004 Artziniega                                  75.85 75.31  75.79 75.87\n",
              "261 01009 Asparrena                                   94.35 94.95  94.95 94.95\n",
              "262 20017 Azkoitia                                     0.00  0.03   0.03  0.03\n",
              "263 01013 Barrundia                                   81.49 81.46  81.42 81.70\n",
              "264 20020 Beizama                                     24.96 24.63  24.90 24.92\n",
              "265 01014 Berantevilla                                 5.87  4.20   4.20  4.20\n",
              "266 48034 Ermua                                        0.00  0.00   0.00  0.00\n",
              "267 48036 Galdakao                                    35.53 35.23  35.18 35.29\n",
              "268 48039 Garai                                       21.21 22.96  23.31 23.26\n",
              "269 20040 Hernani                                     26.21 26.11  26.30 26.53\n",
              "270 20042 Ibarra                                       8.97  8.14   9.00  9.00\n",
              "271 20044 Ikaztegieta                                  0.00  0.00   0.00  0.00\n",
              "272 48910 Iurreta                                      7.24  7.41   7.55  7.54\n",
              "273 01028 Labastida/Bastida                           81.97 84.04  84.04 84.04\n",
              "274 01032 Lanciego/Lantziego                           0.00  0.00   0.00  0.00\n",
              "275 48081 Lezama                                      21.28 21.69  22.05 22.12\n",
              "    2020  2021  2022  2023 \n",
              "1   76.51 76.53 76.52 76.51\n",
              "2   41.98 41.95 42.13 42.07\n",
              "3   23.71 23.64 24.22 24.08\n",
              "4   21.52 21.50 21.49 21.46\n",
              "5   20.49 20.43 20.57 20.59\n",
              "6   12.20 12.18 12.18 12.11\n",
              "7   12.78 12.76 12.75 12.73\n",
              "8    8.76  8.74  8.61  8.60\n",
              "9   30.97 30.95 30.94 30.94\n",
              "10  27.47 27.33 29.23 29.50\n",
              "11   4.89  4.86  5.24  5.23\n",
              "12  47.02 47.09 47.10 47.02\n",
              "13  70.07 70.08 70.12 70.40\n",
              "14   6.15  6.13  6.14  6.15\n",
              "15   2.20  2.20  2.19  2.19\n",
              "16  13.41 13.41 13.87 13.88\n",
              "17  61.10 60.98 62.34 62.02\n",
              "18  10.48 10.47 10.85 10.84\n",
              "19  85.66 85.66 85.66 85.42\n",
              "20  90.00 89.99 90.01 89.96\n",
              "21  78.49 78.49 78.49 78.43\n",
              "22  41.06 41.03 41.03 41.07\n",
              "23  59.98 59.98 60.25 60.29\n",
              "24  46.17 46.16 46.06 46.18\n",
              "25  73.32 73.03 73.51 74.04\n",
              "26  18.77 18.76 18.76 18.64\n",
              "27   0.60  0.60  0.00  0.00\n",
              "28  79.96 79.96 79.74 79.88\n",
              "29  46.55 46.55 46.59 46.55\n",
              "30   0.00  0.00  0.00  0.00\n",
              "⋮   ⋮     ⋮     ⋮     ⋮    \n",
              "246  0.00  0.00  0.00  0.00\n",
              "247  0.00  0.00  0.00  0.00\n",
              "248  0.00  0.00  0.00  0.00\n",
              "249 60.73 60.73 65.45 69.94\n",
              "250 82.05 82.02 82.02 82.02\n",
              "251 15.00 15.00 15.00 14.91\n",
              "252 62.14 62.14 62.14 62.14\n",
              "253  0.00  0.00  0.00  0.00\n",
              "254 29.51 29.51 29.33 29.33\n",
              "255 30.39 30.39 30.88 30.88\n",
              "256  0.00  0.00  0.00  0.00\n",
              "257 91.28 91.25 91.26 90.41\n",
              "258  2.18  2.16  2.40  2.45\n",
              "259 18.26 18.26 17.21 17.17\n",
              "260 75.49 75.49 75.37 75.18\n",
              "261 94.98 94.98 94.98 94.92\n",
              "262  0.03  0.03  0.03  0.03\n",
              "263 81.74 81.74 81.74 79.44\n",
              "264 24.92 24.90 24.94 25.48\n",
              "265  4.20  4.20  4.20  0.00\n",
              "266  0.00  0.00  0.00  0.00\n",
              "267 35.35 34.74 34.59 34.59\n",
              "268 23.03 23.03 23.38 23.38\n",
              "269 26.47 26.47 26.47 26.63\n",
              "270  9.00  9.00  8.96  8.96\n",
              "271  0.00  0.00  0.00  0.00\n",
              "272  7.50  7.46  8.56  8.51\n",
              "273 83.54 83.54 83.62 83.62\n",
              "274  0.00  0.00  0.00  0.00\n",
              "275 21.88 21.88 21.93 21.91"
            ]
          },
          "metadata": {}
        }
      ]
    },
    {
      "cell_type": "markdown",
      "source": [
        "# 2. Airearen kalitatearen APIa\n",
        "\n",
        "\n",
        "\n",
        " https://opendata.euskadi.eus/api-air-quality/?api=air-quality\n",
        "\n",
        "Airearen kalitatearen APIari esker, Eusko Jaurlaritzako Airearen Kalitatea Kontrolatzeko Sareak neurtutako kutsadura-mailari buruzko datuak lor daitezke.\n",
        "\n"
      ],
      "metadata": {
        "id": "gl8e83_lLz3o"
      }
    },
    {
      "cell_type": "markdown",
      "source": [
        " **2.1. Sareko estazio guztien zerrenda**\n",
        "\n",
        "Airearen Kalitatea Kontrolatzeko Sarea osatzen duten estazioak jeisteko, hau egingo genuke:"
      ],
      "metadata": {
        "id": "u6Ghm7-PF40j"
      }
    },
    {
      "cell_type": "code",
      "source": [
        "\n",
        "erantzuna <- GET(\"https://api.euskadi.eus/air-quality/stations?lang=BASQUE\")\n",
        "testua<- content(erantzuna, as = \"text\", encoding = \"UTF-8\")\n",
        "\n",
        "estazioak_osoa<- fromJSON(testua, flatten = TRUE)\n",
        "estazioak <- estazioak_osoa$features\n",
        "head(estazioak)"
      ],
      "metadata": {
        "id": "ffzRmCBTJu_G",
        "colab": {
          "base_uri": "https://localhost:8080/",
          "height": 445
        },
        "outputId": "b2ef6435-3b09-45b0-996d-831746660cea"
      },
      "execution_count": 17,
      "outputs": [
        {
          "output_type": "display_data",
          "data": {
            "text/html": [
              "<table class=\"dataframe\">\n",
              "<caption>A data.frame: 6 × 14</caption>\n",
              "<thead>\n",
              "\t<tr><th></th><th scope=col>type</th><th scope=col>geometry.type</th><th scope=col>geometry.coordinates</th><th scope=col>properties.id</th><th scope=col>properties.name</th><th scope=col>properties.address</th><th scope=col>properties.description</th><th scope=col>properties.location.municipality</th><th scope=col>properties.location.county</th><th scope=col>properties.location.municipalityId</th><th scope=col>properties.location.countyId</th><th scope=col>properties._links.self.id</th><th scope=col>properties._links.self.name</th><th scope=col>properties._links.self.href</th></tr>\n",
              "\t<tr><th></th><th scope=col>&lt;chr&gt;</th><th scope=col>&lt;chr&gt;</th><th scope=col>&lt;list&gt;</th><th scope=col>&lt;chr&gt;</th><th scope=col>&lt;chr&gt;</th><th scope=col>&lt;chr&gt;</th><th scope=col>&lt;chr&gt;</th><th scope=col>&lt;chr&gt;</th><th scope=col>&lt;chr&gt;</th><th scope=col>&lt;chr&gt;</th><th scope=col>&lt;chr&gt;</th><th scope=col>&lt;chr&gt;</th><th scope=col>&lt;chr&gt;</th><th scope=col>&lt;chr&gt;</th></tr>\n",
              "</thead>\n",
              "<tbody>\n",
              "\t<tr><th scope=row>1</th><td>Feature</td><td>Point</td><td>-2.619475, 42.518248</td><td>83</td><td>ELCIEGO   </td><td>C/ Gabriel Celaya, 8                                </td><td>NA</td><td>Elciego            </td><td>Araba/Álava</td><td>022</td><td>01</td><td>83</td><td>ELCIEGO   </td><td>https://api.euskadi.eus/air-quality/stations/83</td></tr>\n",
              "\t<tr><th scope=row>2</th><td>Feature</td><td>Point</td><td>-2.963385, 43.144029</td><td>55</td><td>LLODIO    </td><td>C/ Lamuza, s/n                                      </td><td>NA</td><td>Laudio/Llodio      </td><td>Araba/Álava</td><td>036</td><td>01</td><td>55</td><td>LLODIO    </td><td>https://api.euskadi.eus/air-quality/stations/55</td></tr>\n",
              "\t<tr><th scope=row>3</th><td>Feature</td><td>Point</td><td>-2.393703, 42.849013</td><td>76</td><td>AGURAIN   </td><td>C/ Fueros, 11. Subcomisaría de la Ertzaintza.       </td><td>NA</td><td>Agurain/Salvatierra</td><td>Araba/Álava</td><td>051</td><td>01</td><td>76</td><td>AGURAIN   </td><td>https://api.euskadi.eus/air-quality/stations/76</td></tr>\n",
              "\t<tr><th scope=row>4</th><td>Feature</td><td>Point</td><td>-3.231733, 42.875167</td><td>79</td><td>VALDEREJO </td><td>Ctro. de Interpretación. Parque Natural de Valderejo</td><td>NA</td><td>Valdegovía/Gaubea  </td><td>Araba/Álava</td><td>055</td><td>01</td><td>79</td><td>VALDEREJO </td><td>https://api.euskadi.eus/air-quality/stations/79</td></tr>\n",
              "\t<tr><th scope=row>5</th><td>Feature</td><td>Point</td><td>-2.672563, 42.840100</td><td>85</td><td>FARMACIA  </td><td>Paseo Universidad, 7. Fac. Farmacia UPV             </td><td>NA</td><td>Vitoria-Gasteiz    </td><td>Araba/Álava</td><td>059</td><td>01</td><td>85</td><td>FARMACIA  </td><td>https://api.euskadi.eus/air-quality/stations/85</td></tr>\n",
              "\t<tr><th scope=row>6</th><td>Feature</td><td>Point</td><td>-2.667785, 42.856048</td><td>75</td><td>3 DE MARZO</td><td>Plaza Tres de Marzo, s/n                            </td><td>NA</td><td>Vitoria-Gasteiz    </td><td>Araba/Álava</td><td>059</td><td>01</td><td>75</td><td>3 DE MARZO</td><td>https://api.euskadi.eus/air-quality/stations/75</td></tr>\n",
              "</tbody>\n",
              "</table>\n"
            ],
            "text/markdown": "\nA data.frame: 6 × 14\n\n| <!--/--> | type &lt;chr&gt; | geometry.type &lt;chr&gt; | geometry.coordinates &lt;list&gt; | properties.id &lt;chr&gt; | properties.name &lt;chr&gt; | properties.address &lt;chr&gt; | properties.description &lt;chr&gt; | properties.location.municipality &lt;chr&gt; | properties.location.county &lt;chr&gt; | properties.location.municipalityId &lt;chr&gt; | properties.location.countyId &lt;chr&gt; | properties._links.self.id &lt;chr&gt; | properties._links.self.name &lt;chr&gt; | properties._links.self.href &lt;chr&gt; |\n|---|---|---|---|---|---|---|---|---|---|---|---|---|---|---|\n| 1 | Feature | Point | -2.619475, 42.518248 | 83 | ELCIEGO    | C/ Gabriel Celaya, 8                                 | NA | Elciego             | Araba/Álava | 022 | 01 | 83 | ELCIEGO    | https://api.euskadi.eus/air-quality/stations/83 |\n| 2 | Feature | Point | -2.963385, 43.144029 | 55 | LLODIO     | C/ Lamuza, s/n                                       | NA | Laudio/Llodio       | Araba/Álava | 036 | 01 | 55 | LLODIO     | https://api.euskadi.eus/air-quality/stations/55 |\n| 3 | Feature | Point | -2.393703, 42.849013 | 76 | AGURAIN    | C/ Fueros, 11. Subcomisaría de la Ertzaintza.        | NA | Agurain/Salvatierra | Araba/Álava | 051 | 01 | 76 | AGURAIN    | https://api.euskadi.eus/air-quality/stations/76 |\n| 4 | Feature | Point | -3.231733, 42.875167 | 79 | VALDEREJO  | Ctro. de Interpretación. Parque Natural de Valderejo | NA | Valdegovía/Gaubea   | Araba/Álava | 055 | 01 | 79 | VALDEREJO  | https://api.euskadi.eus/air-quality/stations/79 |\n| 5 | Feature | Point | -2.672563, 42.840100 | 85 | FARMACIA   | Paseo Universidad, 7. Fac. Farmacia UPV              | NA | Vitoria-Gasteiz     | Araba/Álava | 059 | 01 | 85 | FARMACIA   | https://api.euskadi.eus/air-quality/stations/85 |\n| 6 | Feature | Point | -2.667785, 42.856048 | 75 | 3 DE MARZO | Plaza Tres de Marzo, s/n                             | NA | Vitoria-Gasteiz     | Araba/Álava | 059 | 01 | 75 | 3 DE MARZO | https://api.euskadi.eus/air-quality/stations/75 |\n\n",
            "text/latex": "A data.frame: 6 × 14\n\\begin{tabular}{r|llllllllllllll}\n  & type & geometry.type & geometry.coordinates & properties.id & properties.name & properties.address & properties.description & properties.location.municipality & properties.location.county & properties.location.municipalityId & properties.location.countyId & properties.\\_links.self.id & properties.\\_links.self.name & properties.\\_links.self.href\\\\\n  & <chr> & <chr> & <list> & <chr> & <chr> & <chr> & <chr> & <chr> & <chr> & <chr> & <chr> & <chr> & <chr> & <chr>\\\\\n\\hline\n\t1 & Feature & Point & -2.619475, 42.518248 & 83 & ELCIEGO    & C/ Gabriel Celaya, 8                                 & NA & Elciego             & Araba/Álava & 022 & 01 & 83 & ELCIEGO    & https://api.euskadi.eus/air-quality/stations/83\\\\\n\t2 & Feature & Point & -2.963385, 43.144029 & 55 & LLODIO     & C/ Lamuza, s/n                                       & NA & Laudio/Llodio       & Araba/Álava & 036 & 01 & 55 & LLODIO     & https://api.euskadi.eus/air-quality/stations/55\\\\\n\t3 & Feature & Point & -2.393703, 42.849013 & 76 & AGURAIN    & C/ Fueros, 11. Subcomisaría de la Ertzaintza.        & NA & Agurain/Salvatierra & Araba/Álava & 051 & 01 & 76 & AGURAIN    & https://api.euskadi.eus/air-quality/stations/76\\\\\n\t4 & Feature & Point & -3.231733, 42.875167 & 79 & VALDEREJO  & Ctro. de Interpretación. Parque Natural de Valderejo & NA & Valdegovía/Gaubea   & Araba/Álava & 055 & 01 & 79 & VALDEREJO  & https://api.euskadi.eus/air-quality/stations/79\\\\\n\t5 & Feature & Point & -2.672563, 42.840100 & 85 & FARMACIA   & Paseo Universidad, 7. Fac. Farmacia UPV              & NA & Vitoria-Gasteiz     & Araba/Álava & 059 & 01 & 85 & FARMACIA   & https://api.euskadi.eus/air-quality/stations/85\\\\\n\t6 & Feature & Point & -2.667785, 42.856048 & 75 & 3 DE MARZO & Plaza Tres de Marzo, s/n                             & NA & Vitoria-Gasteiz     & Araba/Álava & 059 & 01 & 75 & 3 DE MARZO & https://api.euskadi.eus/air-quality/stations/75\\\\\n\\end{tabular}\n",
            "text/plain": [
              "  type    geometry.type geometry.coordinates properties.id properties.name\n",
              "1 Feature Point         -2.619475, 42.518248 83            ELCIEGO        \n",
              "2 Feature Point         -2.963385, 43.144029 55            LLODIO         \n",
              "3 Feature Point         -2.393703, 42.849013 76            AGURAIN        \n",
              "4 Feature Point         -3.231733, 42.875167 79            VALDEREJO      \n",
              "5 Feature Point         -2.672563, 42.840100 85            FARMACIA       \n",
              "6 Feature Point         -2.667785, 42.856048 75            3 DE MARZO     \n",
              "  properties.address                                   properties.description\n",
              "1 C/ Gabriel Celaya, 8                                 NA                    \n",
              "2 C/ Lamuza, s/n                                       NA                    \n",
              "3 C/ Fueros, 11. Subcomisaría de la Ertzaintza.        NA                    \n",
              "4 Ctro. de Interpretación. Parque Natural de Valderejo NA                    \n",
              "5 Paseo Universidad, 7. Fac. Farmacia UPV              NA                    \n",
              "6 Plaza Tres de Marzo, s/n                             NA                    \n",
              "  properties.location.municipality properties.location.county\n",
              "1 Elciego                          Araba/Álava               \n",
              "2 Laudio/Llodio                    Araba/Álava               \n",
              "3 Agurain/Salvatierra              Araba/Álava               \n",
              "4 Valdegovía/Gaubea                Araba/Álava               \n",
              "5 Vitoria-Gasteiz                  Araba/Álava               \n",
              "6 Vitoria-Gasteiz                  Araba/Álava               \n",
              "  properties.location.municipalityId properties.location.countyId\n",
              "1 022                                01                          \n",
              "2 036                                01                          \n",
              "3 051                                01                          \n",
              "4 055                                01                          \n",
              "5 059                                01                          \n",
              "6 059                                01                          \n",
              "  properties._links.self.id properties._links.self.name\n",
              "1 83                        ELCIEGO                    \n",
              "2 55                        LLODIO                     \n",
              "3 76                        AGURAIN                    \n",
              "4 79                        VALDEREJO                  \n",
              "5 85                        FARMACIA                   \n",
              "6 75                        3 DE MARZO                 \n",
              "  properties._links.self.href                    \n",
              "1 https://api.euskadi.eus/air-quality/stations/83\n",
              "2 https://api.euskadi.eus/air-quality/stations/55\n",
              "3 https://api.euskadi.eus/air-quality/stations/76\n",
              "4 https://api.euskadi.eus/air-quality/stations/79\n",
              "5 https://api.euskadi.eus/air-quality/stations/85\n",
              "6 https://api.euskadi.eus/air-quality/stations/75"
            ]
          },
          "metadata": {}
        }
      ]
    },
    {
      "cell_type": "markdown",
      "source": [
        " **2.2. Estazio batetako neurketak jeitsi**\n",
        "\n",
        "Estazio jakin batetako neurketen datuak nahi baditugu, estazio horren id-a behar dugu, eta hasierako eta bukaerako egunak eman."
      ],
      "metadata": {
        "id": "E1cO2_yPLr3O"
      }
    },
    {
      "cell_type": "code",
      "source": [
        "# Gipuzkoako estazioak hartzen baditugu 2023ko abenduaren 1etik 31ra\n",
        "\n",
        "# Datuak\n",
        "emaitza <- GET(\"https://api.euskadi.eus/air-quality/measurements/daily/counties/20/from/2023-12-01/to/2023-12-31?lang=BASQUE\")\n",
        "txt <- content(emaitza, as = \"text\", encoding = \"UTF-8\")\n",
        "x <- fromJSON(txt, simplifyVector = FALSE)\n",
        "\n",
        "# ---- Eraikuntza ----\n",
        "rows_eguneko <- lapply(x, function(day) {\n",
        "  d <- day$date\n",
        "  if (is.null(day$station) || length(day$station) == 0) return(NULL)\n",
        "\n",
        "  rows_estazioko <- lapply(day$station, function(st) {\n",
        "    sid   <- st$id\n",
        "    sname <- st$name\n",
        "\n",
        "    if (is.null(st$measurements) || length(st$measurements) == 0) return(NULL)\n",
        "\n",
        "    rows_neurketako <- lapply(st$measurements, function(m) {\n",
        "      data.frame(\n",
        "        eguna        = d,\n",
        "        estazioa_id   = sid,\n",
        "        estazioa_izena = sname,\n",
        "        kutsatzailea   = m$name,\n",
        "        value        = as.numeric(m$value),\n",
        "        unitatea         = m$unit,\n",
        "        airquality   = if (is.null(m$airquality)) NA_character_ else m$airquality,\n",
        "        stringsAsFactors = FALSE\n",
        "      )\n",
        "    })\n",
        "\n",
        "    do.call(rbind, rows_neurketako)\n",
        "  })\n",
        "\n",
        "  rows_estazioko <- Filter(Negate(is.null), rows_estazioko)\n",
        "  if (length(rows_estazioko) == 0) return(NULL)\n",
        "  do.call(rbind, rows_estazioko)\n",
        "})\n",
        "\n",
        "rows_eguneko <- Filter(Negate(is.null), rows_eguneko)\n",
        "\n",
        "neurketak <-\n",
        "  if (length(rows_eguneko) > 0) do.call(rbind, rows_eguneko) else\n",
        "    data.frame(eguna=character(), estazioa_id=character(), estazioa_izena=character(),\n",
        "               kutsatzailea=character(), value=numeric(), unitatea=character(),\n",
        "               airquality=character(), stringsAsFactors = FALSE)\n",
        "\n",
        "head(neurketak)"
      ],
      "metadata": {
        "colab": {
          "base_uri": "https://localhost:8080/",
          "height": 286
        },
        "id": "bpXbl4tfKjMH",
        "outputId": "fdde99e4-9f09-413c-d9fd-edbc028c56a6"
      },
      "execution_count": 30,
      "outputs": [
        {
          "output_type": "display_data",
          "data": {
            "text/html": [
              "<table class=\"dataframe\">\n",
              "<caption>A data.frame: 6 × 7</caption>\n",
              "<thead>\n",
              "\t<tr><th></th><th scope=col>eguna</th><th scope=col>estazioa_id</th><th scope=col>estazioa_izena</th><th scope=col>kutsatzailea</th><th scope=col>value</th><th scope=col>unitatea</th><th scope=col>airquality</th></tr>\n",
              "\t<tr><th></th><th scope=col>&lt;chr&gt;</th><th scope=col>&lt;chr&gt;</th><th scope=col>&lt;chr&gt;</th><th scope=col>&lt;chr&gt;</th><th scope=col>&lt;dbl&gt;</th><th scope=col>&lt;chr&gt;</th><th scope=col>&lt;chr&gt;</th></tr>\n",
              "</thead>\n",
              "<tbody>\n",
              "\t<tr><th scope=row>1</th><td>2023-12-01</td><td>73</td><td>BEASAIN</td><td>Benceno    </td><td> 0.55</td><td>µg/m3</td><td>NA          </td></tr>\n",
              "\t<tr><th scope=row>2</th><td>2023-12-01</td><td>73</td><td>BEASAIN</td><td>CO         </td><td> 0.27</td><td>mg/m3</td><td>NA          </td></tr>\n",
              "\t<tr><th scope=row>3</th><td>2023-12-01</td><td>73</td><td>BEASAIN</td><td>CO 8h      </td><td> 0.27</td><td>mg/m3</td><td>NA          </td></tr>\n",
              "\t<tr><th scope=row>4</th><td>2023-12-01</td><td>73</td><td>BEASAIN</td><td>Etilbenceno</td><td> 0.45</td><td>µg/m3</td><td>NA          </td></tr>\n",
              "\t<tr><th scope=row>5</th><td>2023-12-01</td><td>73</td><td>BEASAIN</td><td>NO         </td><td> 5.00</td><td>µg/m3</td><td>NA          </td></tr>\n",
              "\t<tr><th scope=row>6</th><td>2023-12-01</td><td>73</td><td>BEASAIN</td><td>NO2        </td><td>25.00</td><td>µg/m3</td><td>Daturik gabe</td></tr>\n",
              "</tbody>\n",
              "</table>\n"
            ],
            "text/markdown": "\nA data.frame: 6 × 7\n\n| <!--/--> | eguna &lt;chr&gt; | estazioa_id &lt;chr&gt; | estazioa_izena &lt;chr&gt; | kutsatzailea &lt;chr&gt; | value &lt;dbl&gt; | unitatea &lt;chr&gt; | airquality &lt;chr&gt; |\n|---|---|---|---|---|---|---|---|\n| 1 | 2023-12-01 | 73 | BEASAIN | Benceno     |  0.55 | µg/m3 | NA           |\n| 2 | 2023-12-01 | 73 | BEASAIN | CO          |  0.27 | mg/m3 | NA           |\n| 3 | 2023-12-01 | 73 | BEASAIN | CO 8h       |  0.27 | mg/m3 | NA           |\n| 4 | 2023-12-01 | 73 | BEASAIN | Etilbenceno |  0.45 | µg/m3 | NA           |\n| 5 | 2023-12-01 | 73 | BEASAIN | NO          |  5.00 | µg/m3 | NA           |\n| 6 | 2023-12-01 | 73 | BEASAIN | NO2         | 25.00 | µg/m3 | Daturik gabe |\n\n",
            "text/latex": "A data.frame: 6 × 7\n\\begin{tabular}{r|lllllll}\n  & eguna & estazioa\\_id & estazioa\\_izena & kutsatzailea & value & unitatea & airquality\\\\\n  & <chr> & <chr> & <chr> & <chr> & <dbl> & <chr> & <chr>\\\\\n\\hline\n\t1 & 2023-12-01 & 73 & BEASAIN & Benceno     &  0.55 & µg/m3 & NA          \\\\\n\t2 & 2023-12-01 & 73 & BEASAIN & CO          &  0.27 & mg/m3 & NA          \\\\\n\t3 & 2023-12-01 & 73 & BEASAIN & CO 8h       &  0.27 & mg/m3 & NA          \\\\\n\t4 & 2023-12-01 & 73 & BEASAIN & Etilbenceno &  0.45 & µg/m3 & NA          \\\\\n\t5 & 2023-12-01 & 73 & BEASAIN & NO          &  5.00 & µg/m3 & NA          \\\\\n\t6 & 2023-12-01 & 73 & BEASAIN & NO2         & 25.00 & µg/m3 & Daturik gabe\\\\\n\\end{tabular}\n",
            "text/plain": [
              "  eguna      estazioa_id estazioa_izena kutsatzailea value unitatea\n",
              "1 2023-12-01 73          BEASAIN        Benceno       0.55 µg/m3   \n",
              "2 2023-12-01 73          BEASAIN        CO            0.27 mg/m3   \n",
              "3 2023-12-01 73          BEASAIN        CO 8h         0.27 mg/m3   \n",
              "4 2023-12-01 73          BEASAIN        Etilbenceno   0.45 µg/m3   \n",
              "5 2023-12-01 73          BEASAIN        NO            5.00 µg/m3   \n",
              "6 2023-12-01 73          BEASAIN        NO2          25.00 µg/m3   \n",
              "  airquality  \n",
              "1 NA          \n",
              "2 NA          \n",
              "3 NA          \n",
              "4 NA          \n",
              "5 NA          \n",
              "6 Daturik gabe"
            ]
          },
          "metadata": {}
        }
      ]
    }
  ]
}