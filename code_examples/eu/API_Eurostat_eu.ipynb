{
  "nbformat": 4,
  "nbformat_minor": 0,
  "metadata": {
    "colab": {
      "provenance": []
    },
    "kernelspec": {
      "name": "ir",
      "display_name": "R"
    },
    "language_info": {
      "name": "R"
    }
  },
  "cells": [
    {
      "cell_type": "markdown",
      "source": [
        "# EUROSTATen datu irekiak - Web zerbitzuak\n",
        "\n",
        "## 1. SARRERA\n",
        "\n",
        "[Nabigatzailearen bidez](https://ec.europa.eu/eurostat/web/main/data)\n",
        " kontsultatzeaz gain, Eurostaten datuak web zerbitzuen bidez ere lor daitezke.\n",
        "\n",
        "\n",
        "*   dataseten azken bertsioa dator beti\n",
        "*   datuak egunean bi aldiz eguneratzen dira (11:00etan eta 23:00etan)\n",
        "*   erantzunak ingelesez, frantsesez eta alemanez ematen ditu\n",
        "*   doakoa da eta ez du API gakorik behar\n",
        "*   datuak berrerabiltzean iturria aipatzea beharrezkoa da\n",
        "\n",
        " Tutorial honek \"Tresna aurreratuak eta zerbitzuak\" barruan datorren [Web zerbitzuak/API](https://ec.europa.eu/eurostat/data/web-services) atala laburbiltzen du.\n",
        "\n",
        "Eurostatek prestatutako [restatapi](https://github.com/eurostat/restatapi) liburutegia erabiliko dugu. R hizkuntzako liburutegi bat da, Eurostat datu-baseko datuak bilatzeko eta eskuratzeko aukera ematen duena, filtro ezberdinak erabiliz."
      ],
      "metadata": {
        "id": "jYPSjUjMyD_H"
      }
    },
    {
      "cell_type": "code",
      "source": [
        "# Erabiliko dugun iburutegia instalatu\n",
        "\n",
        "install.packages(\"restatapi\")\n",
        "\n",
        "library(restatapi)"
      ],
      "metadata": {
        "colab": {
          "base_uri": "https://localhost:8080/"
        },
        "id": "pqAZNQjBsfZh",
        "outputId": "6672548e-dd9f-4d7b-96c4-c78de3e6bbb4"
      },
      "execution_count": 1,
      "outputs": [
        {
          "output_type": "stream",
          "name": "stderr",
          "text": [
            "Installing package into ‘/usr/local/lib/R/site-library’\n",
            "(as ‘lib’ is unspecified)\n",
            "\n",
            "also installing the dependency ‘rjson’\n",
            "\n",
            "\n",
            "restatapi: - version 0.24.2\n",
            "           - config file with the API version 2 loaded from GitHub (the 'current' API version number is 2).\n",
            "           - no parallel computing.\n",
            "           - 'auto' method will be used for file download, can be changed with 'options(restatapi_dmethod=...)'\n",
            "           - the Table of contents (TOC) was not pre-loaded into the deafult cache ('.restatapi_env').\n",
            "\n"
          ]
        }
      ]
    },
    {
      "cell_type": "markdown",
      "source": [
        "## 2. DATU-BANKUKO DATU MULTZOEN ZERRENDA\n",
        "\n",
        "Eurostaten datuak bilatzeko orduan, erabiltzaile batek egingo lukeen lehen gauza \"Data Browser\" zuhaitz moduko aurkibidean edo Eurostaten webgunean gaika antolatutako beste atal batzuetan nabigatzea izango litzateke intereseko datu multzoa topatu arte. Restatapi liburutegiak datasetak bilatzeko modu batzuk eskaintzen ditu R interfazetik irten gabe.\n",
        "\n",
        "\n",
        "Eurostateko datu-multzo guztien aurkibidea edo edukien taula (Table of Contents - toc) lortzeko, `get_eurostat_toc` funtzioa erabiliko dugu.\n"
      ],
      "metadata": {
        "id": "Bg-LR3gNxcGh"
      }
    },
    {
      "cell_type": "code",
      "source": [
        "katalogoa <- get_eurostat_toc()\n",
        "head(katalogoa)"
      ],
      "metadata": {
        "colab": {
          "base_uri": "https://localhost:8080/",
          "height": 740
        },
        "id": "20Lg6oLAzJt6",
        "outputId": "c20cdcec-1362-4c34-e126-81ec08025615"
      },
      "execution_count": 2,
      "outputs": [
        {
          "output_type": "display_data",
          "data": {
            "text/html": [
              "<table class=\"dataframe\">\n",
              "<caption>A data.table: 6 × 14</caption>\n",
              "<thead>\n",
              "\t<tr><th scope=col>title</th><th scope=col>code</th><th scope=col>type</th><th scope=col>lastUpdate</th><th scope=col>lastModified</th><th scope=col>dataStart</th><th scope=col>dataEnd</th><th scope=col>values</th><th scope=col>unit</th><th scope=col>source</th><th scope=col>shortDescription</th><th scope=col>metadata.html</th><th scope=col>metadata.sdmx</th><th scope=col>downloadLink.tsv</th></tr>\n",
              "\t<tr><th scope=col>&lt;chr&gt;</th><th scope=col>&lt;chr&gt;</th><th scope=col>&lt;chr&gt;</th><th scope=col>&lt;chr&gt;</th><th scope=col>&lt;chr&gt;</th><th scope=col>&lt;chr&gt;</th><th scope=col>&lt;chr&gt;</th><th scope=col>&lt;dbl&gt;</th><th scope=col>&lt;chr&gt;</th><th scope=col>&lt;chr&gt;</th><th scope=col>&lt;chr&gt;</th><th scope=col>&lt;chr&gt;</th><th scope=col>&lt;chr&gt;</th><th scope=col>&lt;chr&gt;</th></tr>\n",
              "</thead>\n",
              "<tbody>\n",
              "\t<tr><td><span style=white-space:pre-wrap>Current account - quarterly data                                     </span></td><td>ei_bpm6ca_q </td><td><span style=white-space:pre-wrap>table  </span></td><td>2025.08.19</td><td>2025.08.19</td><td>1991-Q1</td><td>2025-Q2</td><td>292049</td><td></td><td><span style=white-space:pre-wrap>Eurostat                                                                            </span></td><td></td><td>https://ec.europa.eu/eurostat/cache/metadata/en/ei_bp_esms.htm </td><td>https://ec.europa.eu/eurostat/api/dissemination/files?file=metadata/ei_bp_esms.sdmx.zip </td><td>https://ec.europa.eu/eurostat/api/dissemination/sdmx/2.1/data/EI_BPM6CA_Q?format=tsv&amp;compressed=true </td></tr>\n",
              "\t<tr><td><span style=white-space:pre-wrap>Financial account - quarterly data                                   </span></td><td>ei_bpm6fa_q </td><td><span style=white-space:pre-wrap>table  </span></td><td>2025.08.19</td><td>2025.08.19</td><td>1991-Q1</td><td>2025-Q2</td><td> 51698</td><td></td><td><span style=white-space:pre-wrap>Eurostat                                                                            </span></td><td></td><td>https://ec.europa.eu/eurostat/cache/metadata/en/ei_bp_esms.htm </td><td>https://ec.europa.eu/eurostat/api/dissemination/files?file=metadata/ei_bp_esms.sdmx.zip </td><td>https://ec.europa.eu/eurostat/api/dissemination/sdmx/2.1/data/EI_BPM6FA_Q?format=tsv&amp;compressed=true </td></tr>\n",
              "\t<tr><td><span style=white-space:pre-wrap>Current account - monthly data                                       </span></td><td>ei_bpm6ca_m </td><td><span style=white-space:pre-wrap>table  </span></td><td>2025.09.18</td><td>2025.09.18</td><td>1991-01</td><td>2025-07</td><td>243600</td><td></td><td><span style=white-space:pre-wrap>Eurostat                                                                            </span></td><td></td><td>https://ec.europa.eu/eurostat/cache/metadata/en/ei_bp_esms.htm </td><td>https://ec.europa.eu/eurostat/api/dissemination/files?file=metadata/ei_bp_esms.sdmx.zip </td><td>https://ec.europa.eu/eurostat/api/dissemination/sdmx/2.1/data/EI_BPM6CA_M?format=tsv&amp;compressed=true </td></tr>\n",
              "\t<tr><td><span style=white-space:pre-wrap>Financial account - monthly data                                     </span></td><td>ei_bpm6fa_m </td><td><span style=white-space:pre-wrap>table  </span></td><td>2025.09.18</td><td>2025.09.18</td><td>1991-01</td><td>2025-07</td><td> 80202</td><td></td><td><span style=white-space:pre-wrap>Eurostat                                                                            </span></td><td></td><td>https://ec.europa.eu/eurostat/cache/metadata/en/ei_bp_esms.htm </td><td>https://ec.europa.eu/eurostat/api/dissemination/files?file=metadata/ei_bp_esms.sdmx.zip </td><td>https://ec.europa.eu/eurostat/api/dissemination/sdmx/2.1/data/EI_BPM6FA_M?format=tsv&amp;compressed=true </td></tr>\n",
              "\t<tr><td><span style=white-space:pre-wrap>International investment position - quarterly data                   </span></td><td>ei_bpm6iip_q</td><td><span style=white-space:pre-wrap>table  </span></td><td>2025.07.22</td><td>2025.07.22</td><td>1992-Q4</td><td>2025-Q1</td><td> 63669</td><td></td><td><span style=white-space:pre-wrap>Eurostat                                                                            </span></td><td></td><td>https://ec.europa.eu/eurostat/cache/metadata/en/ei_bp_esms.htm </td><td>https://ec.europa.eu/eurostat/api/dissemination/files?file=metadata/ei_bp_esms.sdmx.zip </td><td>https://ec.europa.eu/eurostat/api/dissemination/sdmx/2.1/data/EI_BPM6IIP_Q?format=tsv&amp;compressed=true</td></tr>\n",
              "\t<tr><td>Economic sentiment and confidence indicators by sector - monthly data</td><td>ei_bssi_m_r2</td><td>dataset</td><td>2025.09.29</td><td>2025.09.29</td><td>1980-01</td><td>2025-09</td><td>132542</td><td></td><td>European Commission - Directorate-General for Economic and Financial Affairs (ECFIN)</td><td></td><td>https://ec.europa.eu/eurostat/cache/metadata/en/ei_bcs_esms.htm</td><td>https://ec.europa.eu/eurostat/api/dissemination/files?file=metadata/ei_bcs_esms.sdmx.zip</td><td>https://ec.europa.eu/eurostat/api/dissemination/sdmx/2.1/data/EI_BSSI_M_R2?format=tsv&amp;compressed=true</td></tr>\n",
              "</tbody>\n",
              "</table>\n"
            ],
            "text/markdown": "\nA data.table: 6 × 14\n\n| title &lt;chr&gt; | code &lt;chr&gt; | type &lt;chr&gt; | lastUpdate &lt;chr&gt; | lastModified &lt;chr&gt; | dataStart &lt;chr&gt; | dataEnd &lt;chr&gt; | values &lt;dbl&gt; | unit &lt;chr&gt; | source &lt;chr&gt; | shortDescription &lt;chr&gt; | metadata.html &lt;chr&gt; | metadata.sdmx &lt;chr&gt; | downloadLink.tsv &lt;chr&gt; |\n|---|---|---|---|---|---|---|---|---|---|---|---|---|---|\n| Current account - quarterly data                                      | ei_bpm6ca_q  | table   | 2025.08.19 | 2025.08.19 | 1991-Q1 | 2025-Q2 | 292049 | <!----> | Eurostat                                                                             | <!----> | https://ec.europa.eu/eurostat/cache/metadata/en/ei_bp_esms.htm  | https://ec.europa.eu/eurostat/api/dissemination/files?file=metadata/ei_bp_esms.sdmx.zip  | https://ec.europa.eu/eurostat/api/dissemination/sdmx/2.1/data/EI_BPM6CA_Q?format=tsv&amp;compressed=true  |\n| Financial account - quarterly data                                    | ei_bpm6fa_q  | table   | 2025.08.19 | 2025.08.19 | 1991-Q1 | 2025-Q2 |  51698 | <!----> | Eurostat                                                                             | <!----> | https://ec.europa.eu/eurostat/cache/metadata/en/ei_bp_esms.htm  | https://ec.europa.eu/eurostat/api/dissemination/files?file=metadata/ei_bp_esms.sdmx.zip  | https://ec.europa.eu/eurostat/api/dissemination/sdmx/2.1/data/EI_BPM6FA_Q?format=tsv&amp;compressed=true  |\n| Current account - monthly data                                        | ei_bpm6ca_m  | table   | 2025.09.18 | 2025.09.18 | 1991-01 | 2025-07 | 243600 | <!----> | Eurostat                                                                             | <!----> | https://ec.europa.eu/eurostat/cache/metadata/en/ei_bp_esms.htm  | https://ec.europa.eu/eurostat/api/dissemination/files?file=metadata/ei_bp_esms.sdmx.zip  | https://ec.europa.eu/eurostat/api/dissemination/sdmx/2.1/data/EI_BPM6CA_M?format=tsv&amp;compressed=true  |\n| Financial account - monthly data                                      | ei_bpm6fa_m  | table   | 2025.09.18 | 2025.09.18 | 1991-01 | 2025-07 |  80202 | <!----> | Eurostat                                                                             | <!----> | https://ec.europa.eu/eurostat/cache/metadata/en/ei_bp_esms.htm  | https://ec.europa.eu/eurostat/api/dissemination/files?file=metadata/ei_bp_esms.sdmx.zip  | https://ec.europa.eu/eurostat/api/dissemination/sdmx/2.1/data/EI_BPM6FA_M?format=tsv&amp;compressed=true  |\n| International investment position - quarterly data                    | ei_bpm6iip_q | table   | 2025.07.22 | 2025.07.22 | 1992-Q4 | 2025-Q1 |  63669 | <!----> | Eurostat                                                                             | <!----> | https://ec.europa.eu/eurostat/cache/metadata/en/ei_bp_esms.htm  | https://ec.europa.eu/eurostat/api/dissemination/files?file=metadata/ei_bp_esms.sdmx.zip  | https://ec.europa.eu/eurostat/api/dissemination/sdmx/2.1/data/EI_BPM6IIP_Q?format=tsv&amp;compressed=true |\n| Economic sentiment and confidence indicators by sector - monthly data | ei_bssi_m_r2 | dataset | 2025.09.29 | 2025.09.29 | 1980-01 | 2025-09 | 132542 | <!----> | European Commission - Directorate-General for Economic and Financial Affairs (ECFIN) | <!----> | https://ec.europa.eu/eurostat/cache/metadata/en/ei_bcs_esms.htm | https://ec.europa.eu/eurostat/api/dissemination/files?file=metadata/ei_bcs_esms.sdmx.zip | https://ec.europa.eu/eurostat/api/dissemination/sdmx/2.1/data/EI_BSSI_M_R2?format=tsv&amp;compressed=true |\n\n",
            "text/latex": "A data.table: 6 × 14\n\\begin{tabular}{llllllllllllll}\n title & code & type & lastUpdate & lastModified & dataStart & dataEnd & values & unit & source & shortDescription & metadata.html & metadata.sdmx & downloadLink.tsv\\\\\n <chr> & <chr> & <chr> & <chr> & <chr> & <chr> & <chr> & <dbl> & <chr> & <chr> & <chr> & <chr> & <chr> & <chr>\\\\\n\\hline\n\t Current account - quarterly data                                      & ei\\_bpm6ca\\_q  & table   & 2025.08.19 & 2025.08.19 & 1991-Q1 & 2025-Q2 & 292049 &  & Eurostat                                                                             &  & https://ec.europa.eu/eurostat/cache/metadata/en/ei\\_bp\\_esms.htm  & https://ec.europa.eu/eurostat/api/dissemination/files?file=metadata/ei\\_bp\\_esms.sdmx.zip  & https://ec.europa.eu/eurostat/api/dissemination/sdmx/2.1/data/EI\\_BPM6CA\\_Q?format=tsv\\&compressed=true \\\\\n\t Financial account - quarterly data                                    & ei\\_bpm6fa\\_q  & table   & 2025.08.19 & 2025.08.19 & 1991-Q1 & 2025-Q2 &  51698 &  & Eurostat                                                                             &  & https://ec.europa.eu/eurostat/cache/metadata/en/ei\\_bp\\_esms.htm  & https://ec.europa.eu/eurostat/api/dissemination/files?file=metadata/ei\\_bp\\_esms.sdmx.zip  & https://ec.europa.eu/eurostat/api/dissemination/sdmx/2.1/data/EI\\_BPM6FA\\_Q?format=tsv\\&compressed=true \\\\\n\t Current account - monthly data                                        & ei\\_bpm6ca\\_m  & table   & 2025.09.18 & 2025.09.18 & 1991-01 & 2025-07 & 243600 &  & Eurostat                                                                             &  & https://ec.europa.eu/eurostat/cache/metadata/en/ei\\_bp\\_esms.htm  & https://ec.europa.eu/eurostat/api/dissemination/files?file=metadata/ei\\_bp\\_esms.sdmx.zip  & https://ec.europa.eu/eurostat/api/dissemination/sdmx/2.1/data/EI\\_BPM6CA\\_M?format=tsv\\&compressed=true \\\\\n\t Financial account - monthly data                                      & ei\\_bpm6fa\\_m  & table   & 2025.09.18 & 2025.09.18 & 1991-01 & 2025-07 &  80202 &  & Eurostat                                                                             &  & https://ec.europa.eu/eurostat/cache/metadata/en/ei\\_bp\\_esms.htm  & https://ec.europa.eu/eurostat/api/dissemination/files?file=metadata/ei\\_bp\\_esms.sdmx.zip  & https://ec.europa.eu/eurostat/api/dissemination/sdmx/2.1/data/EI\\_BPM6FA\\_M?format=tsv\\&compressed=true \\\\\n\t International investment position - quarterly data                    & ei\\_bpm6iip\\_q & table   & 2025.07.22 & 2025.07.22 & 1992-Q4 & 2025-Q1 &  63669 &  & Eurostat                                                                             &  & https://ec.europa.eu/eurostat/cache/metadata/en/ei\\_bp\\_esms.htm  & https://ec.europa.eu/eurostat/api/dissemination/files?file=metadata/ei\\_bp\\_esms.sdmx.zip  & https://ec.europa.eu/eurostat/api/dissemination/sdmx/2.1/data/EI\\_BPM6IIP\\_Q?format=tsv\\&compressed=true\\\\\n\t Economic sentiment and confidence indicators by sector - monthly data & ei\\_bssi\\_m\\_r2 & dataset & 2025.09.29 & 2025.09.29 & 1980-01 & 2025-09 & 132542 &  & European Commission - Directorate-General for Economic and Financial Affairs (ECFIN) &  & https://ec.europa.eu/eurostat/cache/metadata/en/ei\\_bcs\\_esms.htm & https://ec.europa.eu/eurostat/api/dissemination/files?file=metadata/ei\\_bcs\\_esms.sdmx.zip & https://ec.europa.eu/eurostat/api/dissemination/sdmx/2.1/data/EI\\_BSSI\\_M\\_R2?format=tsv\\&compressed=true\\\\\n\\end{tabular}\n",
            "text/plain": [
              "  title                                                                \n",
              "1 Current account - quarterly data                                     \n",
              "2 Financial account - quarterly data                                   \n",
              "3 Current account - monthly data                                       \n",
              "4 Financial account - monthly data                                     \n",
              "5 International investment position - quarterly data                   \n",
              "6 Economic sentiment and confidence indicators by sector - monthly data\n",
              "  code         type    lastUpdate lastModified dataStart dataEnd values unit\n",
              "1 ei_bpm6ca_q  table   2025.08.19 2025.08.19   1991-Q1   2025-Q2 292049     \n",
              "2 ei_bpm6fa_q  table   2025.08.19 2025.08.19   1991-Q1   2025-Q2  51698     \n",
              "3 ei_bpm6ca_m  table   2025.09.18 2025.09.18   1991-01   2025-07 243600     \n",
              "4 ei_bpm6fa_m  table   2025.09.18 2025.09.18   1991-01   2025-07  80202     \n",
              "5 ei_bpm6iip_q table   2025.07.22 2025.07.22   1992-Q4   2025-Q1  63669     \n",
              "6 ei_bssi_m_r2 dataset 2025.09.29 2025.09.29   1980-01   2025-09 132542     \n",
              "  source                                                                              \n",
              "1 Eurostat                                                                            \n",
              "2 Eurostat                                                                            \n",
              "3 Eurostat                                                                            \n",
              "4 Eurostat                                                                            \n",
              "5 Eurostat                                                                            \n",
              "6 European Commission - Directorate-General for Economic and Financial Affairs (ECFIN)\n",
              "  shortDescription\n",
              "1                 \n",
              "2                 \n",
              "3                 \n",
              "4                 \n",
              "5                 \n",
              "6                 \n",
              "  metadata.html                                                  \n",
              "1 https://ec.europa.eu/eurostat/cache/metadata/en/ei_bp_esms.htm \n",
              "2 https://ec.europa.eu/eurostat/cache/metadata/en/ei_bp_esms.htm \n",
              "3 https://ec.europa.eu/eurostat/cache/metadata/en/ei_bp_esms.htm \n",
              "4 https://ec.europa.eu/eurostat/cache/metadata/en/ei_bp_esms.htm \n",
              "5 https://ec.europa.eu/eurostat/cache/metadata/en/ei_bp_esms.htm \n",
              "6 https://ec.europa.eu/eurostat/cache/metadata/en/ei_bcs_esms.htm\n",
              "  metadata.sdmx                                                                           \n",
              "1 https://ec.europa.eu/eurostat/api/dissemination/files?file=metadata/ei_bp_esms.sdmx.zip \n",
              "2 https://ec.europa.eu/eurostat/api/dissemination/files?file=metadata/ei_bp_esms.sdmx.zip \n",
              "3 https://ec.europa.eu/eurostat/api/dissemination/files?file=metadata/ei_bp_esms.sdmx.zip \n",
              "4 https://ec.europa.eu/eurostat/api/dissemination/files?file=metadata/ei_bp_esms.sdmx.zip \n",
              "5 https://ec.europa.eu/eurostat/api/dissemination/files?file=metadata/ei_bp_esms.sdmx.zip \n",
              "6 https://ec.europa.eu/eurostat/api/dissemination/files?file=metadata/ei_bcs_esms.sdmx.zip\n",
              "  downloadLink.tsv                                                                                     \n",
              "1 https://ec.europa.eu/eurostat/api/dissemination/sdmx/2.1/data/EI_BPM6CA_Q?format=tsv&compressed=true \n",
              "2 https://ec.europa.eu/eurostat/api/dissemination/sdmx/2.1/data/EI_BPM6FA_Q?format=tsv&compressed=true \n",
              "3 https://ec.europa.eu/eurostat/api/dissemination/sdmx/2.1/data/EI_BPM6CA_M?format=tsv&compressed=true \n",
              "4 https://ec.europa.eu/eurostat/api/dissemination/sdmx/2.1/data/EI_BPM6FA_M?format=tsv&compressed=true \n",
              "5 https://ec.europa.eu/eurostat/api/dissemination/sdmx/2.1/data/EI_BPM6IIP_Q?format=tsv&compressed=true\n",
              "6 https://ec.europa.eu/eurostat/api/dissemination/sdmx/2.1/data/EI_BSSI_M_R2?format=tsv&compressed=true"
            ]
          },
          "metadata": {}
        }
      ]
    },
    {
      "cell_type": "code",
      "source": [
        "# Katalogoaren kopia bat excel formatuan gorde nahi badugu\n",
        "\n",
        "install.packages(\"openxlsx\")\n",
        "library(openxlsx)\n",
        "\n",
        "write.xlsx(katalogoa, file=\"Katalogoa_Eurostat.xlsx\")"
      ],
      "metadata": {
        "colab": {
          "base_uri": "https://localhost:8080/"
        },
        "id": "ejOwrc5NZHRQ",
        "outputId": "786309af-3fac-4ece-b3e4-54b0aa938e86"
      },
      "execution_count": 3,
      "outputs": [
        {
          "output_type": "stream",
          "name": "stderr",
          "text": [
            "Installing package into ‘/usr/local/lib/R/site-library’\n",
            "(as ‘lib’ is unspecified)\n",
            "\n"
          ]
        }
      ]
    },
    {
      "cell_type": "markdown",
      "source": [
        "### 2.1 Hizkuntzak\n",
        "Eurostaten APIak ingelesa itzultzen du hizkuntza parametroari buruz ezer esaten ez bazaio, baina frantsesez eta alemanez ere eskeitzen ditu datuak"
      ],
      "metadata": {
        "id": "wpgtyK7j211T"
      }
    },
    {
      "cell_type": "code",
      "source": [
        "katalogoa_de <- get_eurostat_toc(lang=\"de\") # hizkuntza posibleak: lang= \"en\" / \"de\" / \"fr\"\n",
        "head(katalogoa_de)"
      ],
      "metadata": {
        "colab": {
          "base_uri": "https://localhost:8080/",
          "height": 480
        },
        "id": "Vb6AwOWJ2Zx0",
        "outputId": "1441bce5-11b6-4cd6-e8c1-6fefeaf1e5ef"
      },
      "execution_count": 4,
      "outputs": [
        {
          "output_type": "display_data",
          "data": {
            "text/html": [
              "<table class=\"dataframe\">\n",
              "<caption>A data.table: 6 × 14</caption>\n",
              "<thead>\n",
              "\t<tr><th scope=col>title</th><th scope=col>code</th><th scope=col>type</th><th scope=col>lastUpdate</th><th scope=col>lastModified</th><th scope=col>dataStart</th><th scope=col>dataEnd</th><th scope=col>values</th><th scope=col>unit</th><th scope=col>source</th><th scope=col>shortDescription</th><th scope=col>metadata.html</th><th scope=col>metadata.sdmx</th><th scope=col>downloadLink.tsv</th></tr>\n",
              "\t<tr><th scope=col>&lt;chr&gt;</th><th scope=col>&lt;chr&gt;</th><th scope=col>&lt;chr&gt;</th><th scope=col>&lt;chr&gt;</th><th scope=col>&lt;chr&gt;</th><th scope=col>&lt;chr&gt;</th><th scope=col>&lt;chr&gt;</th><th scope=col>&lt;dbl&gt;</th><th scope=col>&lt;chr&gt;</th><th scope=col>&lt;chr&gt;</th><th scope=col>&lt;chr&gt;</th><th scope=col>&lt;chr&gt;</th><th scope=col>&lt;chr&gt;</th><th scope=col>&lt;chr&gt;</th></tr>\n",
              "</thead>\n",
              "<tbody>\n",
              "\t<tr><td><span style=white-space:pre-wrap>Leistungsbilanz - vierteljährliche Daten                                                </span></td><td>ei_bpm6ca_q </td><td><span style=white-space:pre-wrap>table  </span></td><td>2025.08.19</td><td>2025.08.19</td><td>1991-Q1</td><td>2025-Q2</td><td>292049</td><td></td><td><span style=white-space:pre-wrap>Eurostat                                                                  </span></td><td></td><td>https://ec.europa.eu/eurostat/cache/metadata/en/ei_bp_esms.htm </td><td>https://ec.europa.eu/eurostat/api/dissemination/files?file=metadata/ei_bp_esms.sdmx.zip </td><td>https://ec.europa.eu/eurostat/api/dissemination/sdmx/2.1/data/EI_BPM6CA_Q?format=tsv&amp;compressed=true </td></tr>\n",
              "\t<tr><td><span style=white-space:pre-wrap>Finanzierungskonto - vierteljährliche Daten                                             </span></td><td>ei_bpm6fa_q </td><td><span style=white-space:pre-wrap>table  </span></td><td>2025.08.19</td><td>2025.08.19</td><td>1991-Q1</td><td>2025-Q2</td><td> 51698</td><td></td><td><span style=white-space:pre-wrap>Eurostat                                                                  </span></td><td></td><td>https://ec.europa.eu/eurostat/cache/metadata/en/ei_bp_esms.htm </td><td>https://ec.europa.eu/eurostat/api/dissemination/files?file=metadata/ei_bp_esms.sdmx.zip </td><td>https://ec.europa.eu/eurostat/api/dissemination/sdmx/2.1/data/EI_BPM6FA_Q?format=tsv&amp;compressed=true </td></tr>\n",
              "\t<tr><td><span style=white-space:pre-wrap>Leistungsbilanz - monatliche Daten                                                      </span></td><td>ei_bpm6ca_m </td><td><span style=white-space:pre-wrap>table  </span></td><td>2025.09.18</td><td>2025.09.18</td><td>1991-01</td><td>2025-07</td><td>243600</td><td></td><td><span style=white-space:pre-wrap>Eurostat                                                                  </span></td><td></td><td>https://ec.europa.eu/eurostat/cache/metadata/en/ei_bp_esms.htm </td><td>https://ec.europa.eu/eurostat/api/dissemination/files?file=metadata/ei_bp_esms.sdmx.zip </td><td>https://ec.europa.eu/eurostat/api/dissemination/sdmx/2.1/data/EI_BPM6CA_M?format=tsv&amp;compressed=true </td></tr>\n",
              "\t<tr><td><span style=white-space:pre-wrap>Finanzierungskonto - monatliche Daten                                                   </span></td><td>ei_bpm6fa_m </td><td><span style=white-space:pre-wrap>table  </span></td><td>2025.09.18</td><td>2025.09.18</td><td>1991-01</td><td>2025-07</td><td> 80202</td><td></td><td><span style=white-space:pre-wrap>Eurostat                                                                  </span></td><td></td><td>https://ec.europa.eu/eurostat/cache/metadata/en/ei_bp_esms.htm </td><td>https://ec.europa.eu/eurostat/api/dissemination/files?file=metadata/ei_bp_esms.sdmx.zip </td><td>https://ec.europa.eu/eurostat/api/dissemination/sdmx/2.1/data/EI_BPM6FA_M?format=tsv&amp;compressed=true </td></tr>\n",
              "\t<tr><td><span style=white-space:pre-wrap>Auslandsvermögensstatus - vierteljährliche Daten                                        </span></td><td>ei_bpm6iip_q</td><td><span style=white-space:pre-wrap>table  </span></td><td>2025.07.22</td><td>2025.07.22</td><td>1992-Q4</td><td>2025-Q1</td><td> 63669</td><td></td><td><span style=white-space:pre-wrap>Eurostat                                                                  </span></td><td></td><td>https://ec.europa.eu/eurostat/cache/metadata/en/ei_bp_esms.htm </td><td>https://ec.europa.eu/eurostat/api/dissemination/files?file=metadata/ei_bp_esms.sdmx.zip </td><td>https://ec.europa.eu/eurostat/api/dissemination/sdmx/2.1/data/EI_BPM6IIP_Q?format=tsv&amp;compressed=true</td></tr>\n",
              "\t<tr><td>Indikatoren der wirtschaftlichen Einschätzung und Vertrauensindikator - monatliche Daten</td><td>ei_bssi_m_r2</td><td>dataset</td><td>2025.09.29</td><td>2025.09.29</td><td>1980-01</td><td>2025-09</td><td>132542</td><td></td><td>Europäischen Kommission - Generaldirektion Wirtschaft und Finanzen (ECFIN)</td><td></td><td>https://ec.europa.eu/eurostat/cache/metadata/en/ei_bcs_esms.htm</td><td>https://ec.europa.eu/eurostat/api/dissemination/files?file=metadata/ei_bcs_esms.sdmx.zip</td><td>https://ec.europa.eu/eurostat/api/dissemination/sdmx/2.1/data/EI_BSSI_M_R2?format=tsv&amp;compressed=true</td></tr>\n",
              "</tbody>\n",
              "</table>\n"
            ],
            "text/markdown": "\nA data.table: 6 × 14\n\n| title &lt;chr&gt; | code &lt;chr&gt; | type &lt;chr&gt; | lastUpdate &lt;chr&gt; | lastModified &lt;chr&gt; | dataStart &lt;chr&gt; | dataEnd &lt;chr&gt; | values &lt;dbl&gt; | unit &lt;chr&gt; | source &lt;chr&gt; | shortDescription &lt;chr&gt; | metadata.html &lt;chr&gt; | metadata.sdmx &lt;chr&gt; | downloadLink.tsv &lt;chr&gt; |\n|---|---|---|---|---|---|---|---|---|---|---|---|---|---|\n| Leistungsbilanz - vierteljährliche Daten                                                 | ei_bpm6ca_q  | table   | 2025.08.19 | 2025.08.19 | 1991-Q1 | 2025-Q2 | 292049 | <!----> | Eurostat                                                                   | <!----> | https://ec.europa.eu/eurostat/cache/metadata/en/ei_bp_esms.htm  | https://ec.europa.eu/eurostat/api/dissemination/files?file=metadata/ei_bp_esms.sdmx.zip  | https://ec.europa.eu/eurostat/api/dissemination/sdmx/2.1/data/EI_BPM6CA_Q?format=tsv&amp;compressed=true  |\n| Finanzierungskonto - vierteljährliche Daten                                              | ei_bpm6fa_q  | table   | 2025.08.19 | 2025.08.19 | 1991-Q1 | 2025-Q2 |  51698 | <!----> | Eurostat                                                                   | <!----> | https://ec.europa.eu/eurostat/cache/metadata/en/ei_bp_esms.htm  | https://ec.europa.eu/eurostat/api/dissemination/files?file=metadata/ei_bp_esms.sdmx.zip  | https://ec.europa.eu/eurostat/api/dissemination/sdmx/2.1/data/EI_BPM6FA_Q?format=tsv&amp;compressed=true  |\n| Leistungsbilanz - monatliche Daten                                                       | ei_bpm6ca_m  | table   | 2025.09.18 | 2025.09.18 | 1991-01 | 2025-07 | 243600 | <!----> | Eurostat                                                                   | <!----> | https://ec.europa.eu/eurostat/cache/metadata/en/ei_bp_esms.htm  | https://ec.europa.eu/eurostat/api/dissemination/files?file=metadata/ei_bp_esms.sdmx.zip  | https://ec.europa.eu/eurostat/api/dissemination/sdmx/2.1/data/EI_BPM6CA_M?format=tsv&amp;compressed=true  |\n| Finanzierungskonto - monatliche Daten                                                    | ei_bpm6fa_m  | table   | 2025.09.18 | 2025.09.18 | 1991-01 | 2025-07 |  80202 | <!----> | Eurostat                                                                   | <!----> | https://ec.europa.eu/eurostat/cache/metadata/en/ei_bp_esms.htm  | https://ec.europa.eu/eurostat/api/dissemination/files?file=metadata/ei_bp_esms.sdmx.zip  | https://ec.europa.eu/eurostat/api/dissemination/sdmx/2.1/data/EI_BPM6FA_M?format=tsv&amp;compressed=true  |\n| Auslandsvermögensstatus - vierteljährliche Daten                                         | ei_bpm6iip_q | table   | 2025.07.22 | 2025.07.22 | 1992-Q4 | 2025-Q1 |  63669 | <!----> | Eurostat                                                                   | <!----> | https://ec.europa.eu/eurostat/cache/metadata/en/ei_bp_esms.htm  | https://ec.europa.eu/eurostat/api/dissemination/files?file=metadata/ei_bp_esms.sdmx.zip  | https://ec.europa.eu/eurostat/api/dissemination/sdmx/2.1/data/EI_BPM6IIP_Q?format=tsv&amp;compressed=true |\n| Indikatoren der wirtschaftlichen Einschätzung und Vertrauensindikator - monatliche Daten | ei_bssi_m_r2 | dataset | 2025.09.29 | 2025.09.29 | 1980-01 | 2025-09 | 132542 | <!----> | Europäischen Kommission - Generaldirektion Wirtschaft und Finanzen (ECFIN) | <!----> | https://ec.europa.eu/eurostat/cache/metadata/en/ei_bcs_esms.htm | https://ec.europa.eu/eurostat/api/dissemination/files?file=metadata/ei_bcs_esms.sdmx.zip | https://ec.europa.eu/eurostat/api/dissemination/sdmx/2.1/data/EI_BSSI_M_R2?format=tsv&amp;compressed=true |\n\n",
            "text/latex": "A data.table: 6 × 14\n\\begin{tabular}{llllllllllllll}\n title & code & type & lastUpdate & lastModified & dataStart & dataEnd & values & unit & source & shortDescription & metadata.html & metadata.sdmx & downloadLink.tsv\\\\\n <chr> & <chr> & <chr> & <chr> & <chr> & <chr> & <chr> & <dbl> & <chr> & <chr> & <chr> & <chr> & <chr> & <chr>\\\\\n\\hline\n\t Leistungsbilanz - vierteljährliche Daten                                                 & ei\\_bpm6ca\\_q  & table   & 2025.08.19 & 2025.08.19 & 1991-Q1 & 2025-Q2 & 292049 &  & Eurostat                                                                   &  & https://ec.europa.eu/eurostat/cache/metadata/en/ei\\_bp\\_esms.htm  & https://ec.europa.eu/eurostat/api/dissemination/files?file=metadata/ei\\_bp\\_esms.sdmx.zip  & https://ec.europa.eu/eurostat/api/dissemination/sdmx/2.1/data/EI\\_BPM6CA\\_Q?format=tsv\\&compressed=true \\\\\n\t Finanzierungskonto - vierteljährliche Daten                                              & ei\\_bpm6fa\\_q  & table   & 2025.08.19 & 2025.08.19 & 1991-Q1 & 2025-Q2 &  51698 &  & Eurostat                                                                   &  & https://ec.europa.eu/eurostat/cache/metadata/en/ei\\_bp\\_esms.htm  & https://ec.europa.eu/eurostat/api/dissemination/files?file=metadata/ei\\_bp\\_esms.sdmx.zip  & https://ec.europa.eu/eurostat/api/dissemination/sdmx/2.1/data/EI\\_BPM6FA\\_Q?format=tsv\\&compressed=true \\\\\n\t Leistungsbilanz - monatliche Daten                                                       & ei\\_bpm6ca\\_m  & table   & 2025.09.18 & 2025.09.18 & 1991-01 & 2025-07 & 243600 &  & Eurostat                                                                   &  & https://ec.europa.eu/eurostat/cache/metadata/en/ei\\_bp\\_esms.htm  & https://ec.europa.eu/eurostat/api/dissemination/files?file=metadata/ei\\_bp\\_esms.sdmx.zip  & https://ec.europa.eu/eurostat/api/dissemination/sdmx/2.1/data/EI\\_BPM6CA\\_M?format=tsv\\&compressed=true \\\\\n\t Finanzierungskonto - monatliche Daten                                                    & ei\\_bpm6fa\\_m  & table   & 2025.09.18 & 2025.09.18 & 1991-01 & 2025-07 &  80202 &  & Eurostat                                                                   &  & https://ec.europa.eu/eurostat/cache/metadata/en/ei\\_bp\\_esms.htm  & https://ec.europa.eu/eurostat/api/dissemination/files?file=metadata/ei\\_bp\\_esms.sdmx.zip  & https://ec.europa.eu/eurostat/api/dissemination/sdmx/2.1/data/EI\\_BPM6FA\\_M?format=tsv\\&compressed=true \\\\\n\t Auslandsvermögensstatus - vierteljährliche Daten                                         & ei\\_bpm6iip\\_q & table   & 2025.07.22 & 2025.07.22 & 1992-Q4 & 2025-Q1 &  63669 &  & Eurostat                                                                   &  & https://ec.europa.eu/eurostat/cache/metadata/en/ei\\_bp\\_esms.htm  & https://ec.europa.eu/eurostat/api/dissemination/files?file=metadata/ei\\_bp\\_esms.sdmx.zip  & https://ec.europa.eu/eurostat/api/dissemination/sdmx/2.1/data/EI\\_BPM6IIP\\_Q?format=tsv\\&compressed=true\\\\\n\t Indikatoren der wirtschaftlichen Einschätzung und Vertrauensindikator - monatliche Daten & ei\\_bssi\\_m\\_r2 & dataset & 2025.09.29 & 2025.09.29 & 1980-01 & 2025-09 & 132542 &  & Europäischen Kommission - Generaldirektion Wirtschaft und Finanzen (ECFIN) &  & https://ec.europa.eu/eurostat/cache/metadata/en/ei\\_bcs\\_esms.htm & https://ec.europa.eu/eurostat/api/dissemination/files?file=metadata/ei\\_bcs\\_esms.sdmx.zip & https://ec.europa.eu/eurostat/api/dissemination/sdmx/2.1/data/EI\\_BSSI\\_M\\_R2?format=tsv\\&compressed=true\\\\\n\\end{tabular}\n",
            "text/plain": [
              "  title                                                                                   \n",
              "1 Leistungsbilanz - vierteljährliche Daten                                                \n",
              "2 Finanzierungskonto - vierteljährliche Daten                                             \n",
              "3 Leistungsbilanz - monatliche Daten                                                      \n",
              "4 Finanzierungskonto - monatliche Daten                                                   \n",
              "5 Auslandsvermögensstatus - vierteljährliche Daten                                        \n",
              "6 Indikatoren der wirtschaftlichen Einschätzung und Vertrauensindikator - monatliche Daten\n",
              "  code         type    lastUpdate lastModified dataStart dataEnd values unit\n",
              "1 ei_bpm6ca_q  table   2025.08.19 2025.08.19   1991-Q1   2025-Q2 292049     \n",
              "2 ei_bpm6fa_q  table   2025.08.19 2025.08.19   1991-Q1   2025-Q2  51698     \n",
              "3 ei_bpm6ca_m  table   2025.09.18 2025.09.18   1991-01   2025-07 243600     \n",
              "4 ei_bpm6fa_m  table   2025.09.18 2025.09.18   1991-01   2025-07  80202     \n",
              "5 ei_bpm6iip_q table   2025.07.22 2025.07.22   1992-Q4   2025-Q1  63669     \n",
              "6 ei_bssi_m_r2 dataset 2025.09.29 2025.09.29   1980-01   2025-09 132542     \n",
              "  source                                                                    \n",
              "1 Eurostat                                                                  \n",
              "2 Eurostat                                                                  \n",
              "3 Eurostat                                                                  \n",
              "4 Eurostat                                                                  \n",
              "5 Eurostat                                                                  \n",
              "6 Europäischen Kommission - Generaldirektion Wirtschaft und Finanzen (ECFIN)\n",
              "  shortDescription\n",
              "1                 \n",
              "2                 \n",
              "3                 \n",
              "4                 \n",
              "5                 \n",
              "6                 \n",
              "  metadata.html                                                  \n",
              "1 https://ec.europa.eu/eurostat/cache/metadata/en/ei_bp_esms.htm \n",
              "2 https://ec.europa.eu/eurostat/cache/metadata/en/ei_bp_esms.htm \n",
              "3 https://ec.europa.eu/eurostat/cache/metadata/en/ei_bp_esms.htm \n",
              "4 https://ec.europa.eu/eurostat/cache/metadata/en/ei_bp_esms.htm \n",
              "5 https://ec.europa.eu/eurostat/cache/metadata/en/ei_bp_esms.htm \n",
              "6 https://ec.europa.eu/eurostat/cache/metadata/en/ei_bcs_esms.htm\n",
              "  metadata.sdmx                                                                           \n",
              "1 https://ec.europa.eu/eurostat/api/dissemination/files?file=metadata/ei_bp_esms.sdmx.zip \n",
              "2 https://ec.europa.eu/eurostat/api/dissemination/files?file=metadata/ei_bp_esms.sdmx.zip \n",
              "3 https://ec.europa.eu/eurostat/api/dissemination/files?file=metadata/ei_bp_esms.sdmx.zip \n",
              "4 https://ec.europa.eu/eurostat/api/dissemination/files?file=metadata/ei_bp_esms.sdmx.zip \n",
              "5 https://ec.europa.eu/eurostat/api/dissemination/files?file=metadata/ei_bp_esms.sdmx.zip \n",
              "6 https://ec.europa.eu/eurostat/api/dissemination/files?file=metadata/ei_bcs_esms.sdmx.zip\n",
              "  downloadLink.tsv                                                                                     \n",
              "1 https://ec.europa.eu/eurostat/api/dissemination/sdmx/2.1/data/EI_BPM6CA_Q?format=tsv&compressed=true \n",
              "2 https://ec.europa.eu/eurostat/api/dissemination/sdmx/2.1/data/EI_BPM6FA_Q?format=tsv&compressed=true \n",
              "3 https://ec.europa.eu/eurostat/api/dissemination/sdmx/2.1/data/EI_BPM6CA_M?format=tsv&compressed=true \n",
              "4 https://ec.europa.eu/eurostat/api/dissemination/sdmx/2.1/data/EI_BPM6FA_M?format=tsv&compressed=true \n",
              "5 https://ec.europa.eu/eurostat/api/dissemination/sdmx/2.1/data/EI_BPM6IIP_Q?format=tsv&compressed=true\n",
              "6 https://ec.europa.eu/eurostat/api/dissemination/sdmx/2.1/data/EI_BSSI_M_R2?format=tsv&compressed=true"
            ]
          },
          "metadata": {}
        }
      ]
    },
    {
      "cell_type": "markdown",
      "source": [
        "### 2.2 Hitzen bilaketa\n",
        "\n",
        "Hitz edo esaldiren bat bilatu nahi badugu edukien taulan `search_eurostat_toc` funtzioa erabili dezakegu, eta espresio hori betetzen duen datu multzoen  zerrenda itzuliko digu."
      ],
      "metadata": {
        "id": "NSudSVCza5Qm"
      }
    },
    {
      "cell_type": "code",
      "source": [
        "# \"energie\" hitza azaltzen den datu multzoak nahi ditugu, frantsesez, eta letrak maiuskulan edo minuskulan dauden kontuan hartu gabe\n",
        "\n",
        "energie_fr <-search_eurostat_toc(\"energie\", lang=\"fr\", ignore.case=TRUE)\n",
        "energie_fr"
      ],
      "metadata": {
        "colab": {
          "base_uri": "https://localhost:8080/",
          "height": 1000
        },
        "id": "qOX-rmnUc7fI",
        "outputId": "52abc475-4cc4-4f3d-a976-9413f501ed0c"
      },
      "execution_count": 5,
      "outputs": [
        {
          "output_type": "display_data",
          "data": {
            "text/html": [
              "<table class=\"dataframe\">\n",
              "<caption>A data.table: 4 × 14</caption>\n",
              "<thead>\n",
              "\t<tr><th scope=col>title</th><th scope=col>code</th><th scope=col>type</th><th scope=col>lastUpdate</th><th scope=col>lastModified</th><th scope=col>dataStart</th><th scope=col>dataEnd</th><th scope=col>values</th><th scope=col>unit</th><th scope=col>source</th><th scope=col>shortDescription</th><th scope=col>metadata.html</th><th scope=col>metadata.sdmx</th><th scope=col>downloadLink.tsv</th></tr>\n",
              "\t<tr><th scope=col>&lt;chr&gt;</th><th scope=col>&lt;chr&gt;</th><th scope=col>&lt;chr&gt;</th><th scope=col>&lt;chr&gt;</th><th scope=col>&lt;chr&gt;</th><th scope=col>&lt;chr&gt;</th><th scope=col>&lt;chr&gt;</th><th scope=col>&lt;dbl&gt;</th><th scope=col>&lt;chr&gt;</th><th scope=col>&lt;chr&gt;</th><th scope=col>&lt;chr&gt;</th><th scope=col>&lt;chr&gt;</th><th scope=col>&lt;chr&gt;</th><th scope=col>&lt;chr&gt;</th></tr>\n",
              "</thead>\n",
              "<tbody>\n",
              "\t<tr><td><span style=white-space:pre-wrap>Energie - données mensuelles                                                                 </span></td><td><span style=white-space:pre-wrap>ei_isen_m  </span></td><td><span style=white-space:pre-wrap>table  </span></td><td>2025.10.03</td><td>2025.09.25</td><td>2008-01</td><td>2025-08</td><td>88818</td><td></td><td><span style=white-space:pre-wrap>Eurostat                                                                </span></td><td><span style=white-space:pre-wrap>                                                                                                                                                                                                                                                                                                                                                                                                                                                                                                                                                                                                                                                        </span></td><td><span style=white-space:pre-wrap>https://ec.europa.eu/eurostat/cache/metadata/en/ei_is_esms.htm         </span></td><td><span style=white-space:pre-wrap>https://ec.europa.eu/eurostat/api/dissemination/files?file=metadata/ei_is_esms.sdmx.zip         </span></td><td><span style=white-space:pre-wrap>https://ec.europa.eu/eurostat/api/dissemination/sdmx/2.1/data/EI_ISEN_M?format=tsv&amp;compressed=true  </span></td></tr>\n",
              "\t<tr><td><span style=white-space:pre-wrap>Energie - séries historiques (2004-2007, ancienne méthodologie et source)                    </span></td><td>med_eg_all </td><td>dataset</td><td>2014.12.08</td><td>2025.07.03</td><td><span style=white-space:pre-wrap>1990   </span></td><td><span style=white-space:pre-wrap>2011   </span></td><td><span style=white-space:pre-wrap>  927</span></td><td></td><td>National statistical authorities of each of the countries or territories</td><td><span style=white-space:pre-wrap>                                                                                                                                                                                                                                                                                                                                                                                                                                                                                                                                                                                                                                                        </span></td><td><span style=white-space:pre-wrap>https://ec.europa.eu/eurostat/cache/metadata/en/med_esms.htm           </span></td><td><span style=white-space:pre-wrap>https://ec.europa.eu/eurostat/api/dissemination/files?file=metadata/med_esms.sdmx.zip           </span></td><td>https://ec.europa.eu/eurostat/api/dissemination/sdmx/2.1/data/MED_EG_ALL?format=tsv&amp;compressed=true </td></tr>\n",
              "\t<tr><td><span style=white-space:pre-wrap>Energiesteuern                                                                               </span></td><td><span style=white-space:pre-wrap>ten00139   </span></td><td><span style=white-space:pre-wrap>table  </span></td><td>2025.08.26</td><td>2025.08.26</td><td><span style=white-space:pre-wrap>2012   </span></td><td><span style=white-space:pre-wrap>2023   </span></td><td><span style=white-space:pre-wrap>  420</span></td><td></td><td><span style=white-space:pre-wrap>Eurostat                                                                </span></td><td>&lt;p&gt;Recettes fiscales sur l’énergie en millions d’euros pour toutes les activités de la NACE plus les ménages et les non-résidents et non affectées. Concerne essentiellement les taxes sur la production d’énergie et sur les produits énergétiques utilisés à la fois pour les transports (en particulier l’essence et le gazole) et pour les usages fixes (en particulier les fiouls, le gaz naturel, le charbon et l’électricité). Les taxes sur les biocarburants et l’énergie produite à partir de sources renouvelables sont incluses, de même que les taxes sur les stocks de produits énergétiques. Comprend également les taxes sur le CO2.&lt;/p&gt;</td><td>https://ec.europa.eu/eurostat/cache/metadata/en/env_ac_taxind2_esms.htm</td><td>https://ec.europa.eu/eurostat/api/dissemination/files?file=metadata/env_ac_taxind2_esms.sdmx.zip</td><td><span style=white-space:pre-wrap>https://ec.europa.eu/eurostat/api/dissemination/sdmx/2.1/data/TEN00139?format=tsv&amp;compressed=true   </span></td></tr>\n",
              "\t<tr><td>Energie disponible, approvisionnement d’énergie et consommation d’énergie finale par habitant</td><td>nrg_ind_esc</td><td>dataset</td><td>2024.12.19</td><td>2024.12.19</td><td><span style=white-space:pre-wrap>1990   </span></td><td><span style=white-space:pre-wrap>2023   </span></td><td>49428</td><td></td><td><span style=white-space:pre-wrap>Eurostat                                                                </span></td><td><span style=white-space:pre-wrap>                                                                                                                                                                                                                                                                                                                                                                                                                                                                                                                                                                                                                                                        </span></td><td><span style=white-space:pre-wrap>https://ec.europa.eu/eurostat/cache/metadata/en/nrg_quant_esms.htm     </span></td><td><span style=white-space:pre-wrap>https://ec.europa.eu/eurostat/api/dissemination/files?file=metadata/nrg_quant_esms.sdmx.zip     </span></td><td>https://ec.europa.eu/eurostat/api/dissemination/sdmx/2.1/data/NRG_IND_ESC?format=tsv&amp;compressed=true</td></tr>\n",
              "</tbody>\n",
              "</table>\n"
            ],
            "text/markdown": "\nA data.table: 4 × 14\n\n| title &lt;chr&gt; | code &lt;chr&gt; | type &lt;chr&gt; | lastUpdate &lt;chr&gt; | lastModified &lt;chr&gt; | dataStart &lt;chr&gt; | dataEnd &lt;chr&gt; | values &lt;dbl&gt; | unit &lt;chr&gt; | source &lt;chr&gt; | shortDescription &lt;chr&gt; | metadata.html &lt;chr&gt; | metadata.sdmx &lt;chr&gt; | downloadLink.tsv &lt;chr&gt; |\n|---|---|---|---|---|---|---|---|---|---|---|---|---|---|\n| Energie - données mensuelles                                                                  | ei_isen_m   | table   | 2025.10.03 | 2025.09.25 | 2008-01 | 2025-08 | 88818 | <!----> | Eurostat                                                                 | <!----> | https://ec.europa.eu/eurostat/cache/metadata/en/ei_is_esms.htm          | https://ec.europa.eu/eurostat/api/dissemination/files?file=metadata/ei_is_esms.sdmx.zip          | https://ec.europa.eu/eurostat/api/dissemination/sdmx/2.1/data/EI_ISEN_M?format=tsv&amp;compressed=true   |\n| Energie - séries historiques (2004-2007, ancienne méthodologie et source)                     | med_eg_all  | dataset | 2014.12.08 | 2025.07.03 | 1990    | 2011    |   927 | <!----> | National statistical authorities of each of the countries or territories | <!----> | https://ec.europa.eu/eurostat/cache/metadata/en/med_esms.htm            | https://ec.europa.eu/eurostat/api/dissemination/files?file=metadata/med_esms.sdmx.zip            | https://ec.europa.eu/eurostat/api/dissemination/sdmx/2.1/data/MED_EG_ALL?format=tsv&amp;compressed=true  |\n| Energiesteuern                                                                                | ten00139    | table   | 2025.08.26 | 2025.08.26 | 2012    | 2023    |   420 | <!----> | Eurostat                                                                 | &lt;p&gt;Recettes fiscales sur l’énergie en millions d’euros pour toutes les activités de la NACE plus les ménages et les non-résidents et non affectées. Concerne essentiellement les taxes sur la production d’énergie et sur les produits énergétiques utilisés à la fois pour les transports (en particulier l’essence et le gazole) et pour les usages fixes (en particulier les fiouls, le gaz naturel, le charbon et l’électricité). Les taxes sur les biocarburants et l’énergie produite à partir de sources renouvelables sont incluses, de même que les taxes sur les stocks de produits énergétiques. Comprend également les taxes sur le CO2.&lt;/p&gt; | https://ec.europa.eu/eurostat/cache/metadata/en/env_ac_taxind2_esms.htm | https://ec.europa.eu/eurostat/api/dissemination/files?file=metadata/env_ac_taxind2_esms.sdmx.zip | https://ec.europa.eu/eurostat/api/dissemination/sdmx/2.1/data/TEN00139?format=tsv&amp;compressed=true    |\n| Energie disponible, approvisionnement d’énergie et consommation d’énergie finale par habitant | nrg_ind_esc | dataset | 2024.12.19 | 2024.12.19 | 1990    | 2023    | 49428 | <!----> | Eurostat                                                                 | <!----> | https://ec.europa.eu/eurostat/cache/metadata/en/nrg_quant_esms.htm      | https://ec.europa.eu/eurostat/api/dissemination/files?file=metadata/nrg_quant_esms.sdmx.zip      | https://ec.europa.eu/eurostat/api/dissemination/sdmx/2.1/data/NRG_IND_ESC?format=tsv&amp;compressed=true |\n\n",
            "text/latex": "A data.table: 4 × 14\n\\begin{tabular}{llllllllllllll}\n title & code & type & lastUpdate & lastModified & dataStart & dataEnd & values & unit & source & shortDescription & metadata.html & metadata.sdmx & downloadLink.tsv\\\\\n <chr> & <chr> & <chr> & <chr> & <chr> & <chr> & <chr> & <dbl> & <chr> & <chr> & <chr> & <chr> & <chr> & <chr>\\\\\n\\hline\n\t Energie - données mensuelles                                                                  & ei\\_isen\\_m   & table   & 2025.10.03 & 2025.09.25 & 2008-01 & 2025-08 & 88818 &  & Eurostat                                                                 &                                                                                                                                                                                                                                                                                                                                                                                                                                                                                                                                                                                                                                                          & https://ec.europa.eu/eurostat/cache/metadata/en/ei\\_is\\_esms.htm          & https://ec.europa.eu/eurostat/api/dissemination/files?file=metadata/ei\\_is\\_esms.sdmx.zip          & https://ec.europa.eu/eurostat/api/dissemination/sdmx/2.1/data/EI\\_ISEN\\_M?format=tsv\\&compressed=true  \\\\\n\t Energie - séries historiques (2004-2007, ancienne méthodologie et source)                     & med\\_eg\\_all  & dataset & 2014.12.08 & 2025.07.03 & 1990    & 2011    &   927 &  & National statistical authorities of each of the countries or territories &                                                                                                                                                                                                                                                                                                                                                                                                                                                                                                                                                                                                                                                          & https://ec.europa.eu/eurostat/cache/metadata/en/med\\_esms.htm            & https://ec.europa.eu/eurostat/api/dissemination/files?file=metadata/med\\_esms.sdmx.zip            & https://ec.europa.eu/eurostat/api/dissemination/sdmx/2.1/data/MED\\_EG\\_ALL?format=tsv\\&compressed=true \\\\\n\t Energiesteuern                                                                                & ten00139    & table   & 2025.08.26 & 2025.08.26 & 2012    & 2023    &   420 &  & Eurostat                                                                 & <p>Recettes fiscales sur l’énergie en millions d’euros pour toutes les activités de la NACE plus les ménages et les non-résidents et non affectées. Concerne essentiellement les taxes sur la production d’énergie et sur les produits énergétiques utilisés à la fois pour les transports (en particulier l’essence et le gazole) et pour les usages fixes (en particulier les fiouls, le gaz naturel, le charbon et l’électricité). Les taxes sur les biocarburants et l’énergie produite à partir de sources renouvelables sont incluses, de même que les taxes sur les stocks de produits énergétiques. Comprend également les taxes sur le CO2.</p> & https://ec.europa.eu/eurostat/cache/metadata/en/env\\_ac\\_taxind2\\_esms.htm & https://ec.europa.eu/eurostat/api/dissemination/files?file=metadata/env\\_ac\\_taxind2\\_esms.sdmx.zip & https://ec.europa.eu/eurostat/api/dissemination/sdmx/2.1/data/TEN00139?format=tsv\\&compressed=true   \\\\\n\t Energie disponible, approvisionnement d’énergie et consommation d’énergie finale par habitant & nrg\\_ind\\_esc & dataset & 2024.12.19 & 2024.12.19 & 1990    & 2023    & 49428 &  & Eurostat                                                                 &                                                                                                                                                                                                                                                                                                                                                                                                                                                                                                                                                                                                                                                          & https://ec.europa.eu/eurostat/cache/metadata/en/nrg\\_quant\\_esms.htm      & https://ec.europa.eu/eurostat/api/dissemination/files?file=metadata/nrg\\_quant\\_esms.sdmx.zip      & https://ec.europa.eu/eurostat/api/dissemination/sdmx/2.1/data/NRG\\_IND\\_ESC?format=tsv\\&compressed=true\\\\\n\\end{tabular}\n",
            "text/plain": [
              "  title                                                                                        \n",
              "1 Energie - données mensuelles                                                                 \n",
              "2 Energie - séries historiques (2004-2007, ancienne méthodologie et source)                    \n",
              "3 Energiesteuern                                                                               \n",
              "4 Energie disponible, approvisionnement d’énergie et consommation d’énergie finale par habitant\n",
              "  code        type    lastUpdate lastModified dataStart dataEnd values unit\n",
              "1 ei_isen_m   table   2025.10.03 2025.09.25   2008-01   2025-08 88818      \n",
              "2 med_eg_all  dataset 2014.12.08 2025.07.03   1990      2011      927      \n",
              "3 ten00139    table   2025.08.26 2025.08.26   2012      2023      420      \n",
              "4 nrg_ind_esc dataset 2024.12.19 2024.12.19   1990      2023    49428      \n",
              "  source                                                                  \n",
              "1 Eurostat                                                                \n",
              "2 National statistical authorities of each of the countries or territories\n",
              "3 Eurostat                                                                \n",
              "4 Eurostat                                                                \n",
              "  shortDescription                                                                                                                                                                                                                                                                                                                                                                                                                                                                                                                                                                                                                                        \n",
              "1                                                                                                                                                                                                                                                                                                                                                                                                                                                                                                                                                                                                                                                         \n",
              "2                                                                                                                                                                                                                                                                                                                                                                                                                                                                                                                                                                                                                                                         \n",
              "3 <p>Recettes fiscales sur l’énergie en millions d’euros pour toutes les activités de la NACE plus les ménages et les non-résidents et non affectées. Concerne essentiellement les taxes sur la production d’énergie et sur les produits énergétiques utilisés à la fois pour les transports (en particulier l’essence et le gazole) et pour les usages fixes (en particulier les fiouls, le gaz naturel, le charbon et l’électricité). Les taxes sur les biocarburants et l’énergie produite à partir de sources renouvelables sont incluses, de même que les taxes sur les stocks de produits énergétiques. Comprend également les taxes sur le CO2.</p>\n",
              "4                                                                                                                                                                                                                                                                                                                                                                                                                                                                                                                                                                                                                                                         \n",
              "  metadata.html                                                          \n",
              "1 https://ec.europa.eu/eurostat/cache/metadata/en/ei_is_esms.htm         \n",
              "2 https://ec.europa.eu/eurostat/cache/metadata/en/med_esms.htm           \n",
              "3 https://ec.europa.eu/eurostat/cache/metadata/en/env_ac_taxind2_esms.htm\n",
              "4 https://ec.europa.eu/eurostat/cache/metadata/en/nrg_quant_esms.htm     \n",
              "  metadata.sdmx                                                                                   \n",
              "1 https://ec.europa.eu/eurostat/api/dissemination/files?file=metadata/ei_is_esms.sdmx.zip         \n",
              "2 https://ec.europa.eu/eurostat/api/dissemination/files?file=metadata/med_esms.sdmx.zip           \n",
              "3 https://ec.europa.eu/eurostat/api/dissemination/files?file=metadata/env_ac_taxind2_esms.sdmx.zip\n",
              "4 https://ec.europa.eu/eurostat/api/dissemination/files?file=metadata/nrg_quant_esms.sdmx.zip     \n",
              "  downloadLink.tsv                                                                                    \n",
              "1 https://ec.europa.eu/eurostat/api/dissemination/sdmx/2.1/data/EI_ISEN_M?format=tsv&compressed=true  \n",
              "2 https://ec.europa.eu/eurostat/api/dissemination/sdmx/2.1/data/MED_EG_ALL?format=tsv&compressed=true \n",
              "3 https://ec.europa.eu/eurostat/api/dissemination/sdmx/2.1/data/TEN00139?format=tsv&compressed=true   \n",
              "4 https://ec.europa.eu/eurostat/api/dissemination/sdmx/2.1/data/NRG_IND_ESC?format=tsv&compressed=true"
            ]
          },
          "metadata": {}
        }
      ]
    },
    {
      "cell_type": "markdown",
      "source": [
        "## 3. METADATUAK BILATU ETA DESKARGATU\n",
        "\n",
        "Eurostaten datasetak SDMX formatuan daude. Dataset batek estatistika-datuak ditu (adibidez, denborazko serieak, adierazleak, balioak, etab.), aldez aurretik zehaztutako egitura baten arabera kodetuta. Egitura horri Data Structure Definition (DSD) deitzen zaio.\n",
        "\n",
        "Zer definitzen du DSDak?\n",
        "\n",
        "1.   Dimentsioak (adibidez: herrialdea, urtea, adierazlea)\n",
        "2.   Atributuak (adibidez: neurri-unitatea, maiztasuna, iturria)\n",
        "3.   Lotutako kontzeptuak eta kodeak (Code Lists, Concept Schemes)\n",
        "\n",
        " `get_eurostat_dsd` funtzioak dataset jakin baten Datuen Egituraren Definizioa (DSD) itzultzen du."
      ],
      "metadata": {
        "id": "qoTA4NSsnE0E"
      }
    },
    {
      "cell_type": "markdown",
      "source": [
        "### 3.1 Datuen Egituraren Definizioa (DSD)\n",
        "\n",
        " `get_eurostat_dsd` funtzioak dataset jakin baten Datuen Egituraren Definizioa (DSD) itzultzen du."
      ],
      "metadata": {
        "id": "8Ta1Nn4KyJWZ"
      }
    },
    {
      "cell_type": "code",
      "source": [
        "# \"Enplegua eta jarduera sexuaren eta adinaren arabera - urteko datuak\" datasetaren DSD-a\n",
        "# Hauek egitura metadatuak dira, erreferentziako metadatuak (metodologikoak) ikusteko: https://ec.europa.eu/eurostat/cache/metadata/en/lfsi_esms.htm\n",
        "\n",
        "lfsi_dsd <- get_eurostat_dsd(\"lfsi_emp_a\")\n",
        "lfsi_dsd"
      ],
      "metadata": {
        "colab": {
          "base_uri": "https://localhost:8080/",
          "height": 1000
        },
        "id": "Zv9ygGextMVR",
        "outputId": "693086ec-f9f3-408d-d97e-3997eb22982a"
      },
      "execution_count": 6,
      "outputs": [
        {
          "output_type": "display_data",
          "data": {
            "text/html": [
              "<table class=\"dataframe\">\n",
              "<caption>A data.table: 51 × 3</caption>\n",
              "<thead>\n",
              "\t<tr><th scope=col>concept</th><th scope=col>code</th><th scope=col>name</th></tr>\n",
              "\t<tr><th scope=col>&lt;chr&gt;</th><th scope=col>&lt;chr&gt;</th><th scope=col>&lt;chr&gt;</th></tr>\n",
              "</thead>\n",
              "<tbody>\n",
              "\t<tr><td>freq    </td><td>A        </td><td>Annual                                                   </td></tr>\n",
              "\t<tr><td>indic_em</td><td>ACT      </td><td>Persons in the labour force (former name: active persons)</td></tr>\n",
              "\t<tr><td>indic_em</td><td>EMP_LFS  </td><td>Total employment (resident population concept - LFS)     </td></tr>\n",
              "\t<tr><td>sex     </td><td>T        </td><td>Total                                                    </td></tr>\n",
              "\t<tr><td>sex     </td><td>M        </td><td>Males                                                    </td></tr>\n",
              "\t<tr><td>sex     </td><td>F        </td><td>Females                                                  </td></tr>\n",
              "\t<tr><td>age     </td><td>Y15-24   </td><td>From 15 to 24 years                                      </td></tr>\n",
              "\t<tr><td>age     </td><td>Y15-29   </td><td>From 15 to 29 years                                      </td></tr>\n",
              "\t<tr><td>age     </td><td>Y15-64   </td><td>From 15 to 64 years                                      </td></tr>\n",
              "\t<tr><td>age     </td><td>Y20-64   </td><td>From 20 to 64 years                                      </td></tr>\n",
              "\t<tr><td>age     </td><td>Y25-54   </td><td>From 25 to 54 years                                      </td></tr>\n",
              "\t<tr><td>age     </td><td>Y55-64   </td><td>From 55 to 64 years                                      </td></tr>\n",
              "\t<tr><td>unit    </td><td>THS_PER  </td><td>Thousand persons                                         </td></tr>\n",
              "\t<tr><td>unit    </td><td>PC_POP   </td><td>Percentage of total population                           </td></tr>\n",
              "\t<tr><td>geo     </td><td>EU27_2020</td><td>European Union - 27 countries (from 2020)                </td></tr>\n",
              "\t<tr><td>geo     </td><td>EA20     </td><td>Euro area – 20 countries (from 2023)                     </td></tr>\n",
              "\t<tr><td>geo     </td><td>BE       </td><td>Belgium                                                  </td></tr>\n",
              "\t<tr><td>geo     </td><td>BG       </td><td>Bulgaria                                                 </td></tr>\n",
              "\t<tr><td>geo     </td><td>CZ       </td><td>Czechia                                                  </td></tr>\n",
              "\t<tr><td>geo     </td><td>DK       </td><td>Denmark                                                  </td></tr>\n",
              "\t<tr><td>geo     </td><td>DE       </td><td>Germany                                                  </td></tr>\n",
              "\t<tr><td>geo     </td><td>EE       </td><td>Estonia                                                  </td></tr>\n",
              "\t<tr><td>geo     </td><td>IE       </td><td>Ireland                                                  </td></tr>\n",
              "\t<tr><td>geo     </td><td>EL       </td><td>Greece                                                   </td></tr>\n",
              "\t<tr><td>geo     </td><td>ES       </td><td>Spain                                                    </td></tr>\n",
              "\t<tr><td>geo     </td><td>FR       </td><td>France                                                   </td></tr>\n",
              "\t<tr><td>geo     </td><td>HR       </td><td>Croatia                                                  </td></tr>\n",
              "\t<tr><td>geo     </td><td>IT       </td><td>Italy                                                    </td></tr>\n",
              "\t<tr><td>geo     </td><td>CY       </td><td>Cyprus                                                   </td></tr>\n",
              "\t<tr><td>geo     </td><td>LV       </td><td>Latvia                                                   </td></tr>\n",
              "\t<tr><td>geo     </td><td>LT       </td><td>Lithuania                                                </td></tr>\n",
              "\t<tr><td>geo     </td><td>LU       </td><td>Luxembourg                                               </td></tr>\n",
              "\t<tr><td>geo     </td><td>HU       </td><td>Hungary                                                  </td></tr>\n",
              "\t<tr><td>geo     </td><td>MT       </td><td>Malta                                                    </td></tr>\n",
              "\t<tr><td>geo     </td><td>NL       </td><td>Netherlands                                              </td></tr>\n",
              "\t<tr><td>geo     </td><td>AT       </td><td>Austria                                                  </td></tr>\n",
              "\t<tr><td>geo     </td><td>PL       </td><td>Poland                                                   </td></tr>\n",
              "\t<tr><td>geo     </td><td>PT       </td><td>Portugal                                                 </td></tr>\n",
              "\t<tr><td>geo     </td><td>RO       </td><td>Romania                                                  </td></tr>\n",
              "\t<tr><td>geo     </td><td>SI       </td><td>Slovenia                                                 </td></tr>\n",
              "\t<tr><td>geo     </td><td>SK       </td><td>Slovakia                                                 </td></tr>\n",
              "\t<tr><td>geo     </td><td>FI       </td><td>Finland                                                  </td></tr>\n",
              "\t<tr><td>geo     </td><td>SE       </td><td>Sweden                                                   </td></tr>\n",
              "\t<tr><td>geo     </td><td>IS       </td><td>Iceland                                                  </td></tr>\n",
              "\t<tr><td>geo     </td><td>NO       </td><td>Norway                                                   </td></tr>\n",
              "\t<tr><td>geo     </td><td>CH       </td><td>Switzerland                                              </td></tr>\n",
              "\t<tr><td>geo     </td><td>BA       </td><td>Bosnia and Herzegovina                                   </td></tr>\n",
              "\t<tr><td>geo     </td><td>ME       </td><td>Montenegro                                               </td></tr>\n",
              "\t<tr><td>geo     </td><td>MK       </td><td>North Macedonia                                          </td></tr>\n",
              "\t<tr><td>geo     </td><td>RS       </td><td>Serbia                                                   </td></tr>\n",
              "\t<tr><td>geo     </td><td>TR       </td><td>Türkiye                                                  </td></tr>\n",
              "</tbody>\n",
              "</table>\n"
            ],
            "text/markdown": "\nA data.table: 51 × 3\n\n| concept &lt;chr&gt; | code &lt;chr&gt; | name &lt;chr&gt; |\n|---|---|---|\n| freq     | A         | Annual                                                    |\n| indic_em | ACT       | Persons in the labour force (former name: active persons) |\n| indic_em | EMP_LFS   | Total employment (resident population concept - LFS)      |\n| sex      | T         | Total                                                     |\n| sex      | M         | Males                                                     |\n| sex      | F         | Females                                                   |\n| age      | Y15-24    | From 15 to 24 years                                       |\n| age      | Y15-29    | From 15 to 29 years                                       |\n| age      | Y15-64    | From 15 to 64 years                                       |\n| age      | Y20-64    | From 20 to 64 years                                       |\n| age      | Y25-54    | From 25 to 54 years                                       |\n| age      | Y55-64    | From 55 to 64 years                                       |\n| unit     | THS_PER   | Thousand persons                                          |\n| unit     | PC_POP    | Percentage of total population                            |\n| geo      | EU27_2020 | European Union - 27 countries (from 2020)                 |\n| geo      | EA20      | Euro area – 20 countries (from 2023)                      |\n| geo      | BE        | Belgium                                                   |\n| geo      | BG        | Bulgaria                                                  |\n| geo      | CZ        | Czechia                                                   |\n| geo      | DK        | Denmark                                                   |\n| geo      | DE        | Germany                                                   |\n| geo      | EE        | Estonia                                                   |\n| geo      | IE        | Ireland                                                   |\n| geo      | EL        | Greece                                                    |\n| geo      | ES        | Spain                                                     |\n| geo      | FR        | France                                                    |\n| geo      | HR        | Croatia                                                   |\n| geo      | IT        | Italy                                                     |\n| geo      | CY        | Cyprus                                                    |\n| geo      | LV        | Latvia                                                    |\n| geo      | LT        | Lithuania                                                 |\n| geo      | LU        | Luxembourg                                                |\n| geo      | HU        | Hungary                                                   |\n| geo      | MT        | Malta                                                     |\n| geo      | NL        | Netherlands                                               |\n| geo      | AT        | Austria                                                   |\n| geo      | PL        | Poland                                                    |\n| geo      | PT        | Portugal                                                  |\n| geo      | RO        | Romania                                                   |\n| geo      | SI        | Slovenia                                                  |\n| geo      | SK        | Slovakia                                                  |\n| geo      | FI        | Finland                                                   |\n| geo      | SE        | Sweden                                                    |\n| geo      | IS        | Iceland                                                   |\n| geo      | NO        | Norway                                                    |\n| geo      | CH        | Switzerland                                               |\n| geo      | BA        | Bosnia and Herzegovina                                    |\n| geo      | ME        | Montenegro                                                |\n| geo      | MK        | North Macedonia                                           |\n| geo      | RS        | Serbia                                                    |\n| geo      | TR        | Türkiye                                                   |\n\n",
            "text/latex": "A data.table: 51 × 3\n\\begin{tabular}{lll}\n concept & code & name\\\\\n <chr> & <chr> & <chr>\\\\\n\\hline\n\t freq     & A         & Annual                                                   \\\\\n\t indic\\_em & ACT       & Persons in the labour force (former name: active persons)\\\\\n\t indic\\_em & EMP\\_LFS   & Total employment (resident population concept - LFS)     \\\\\n\t sex      & T         & Total                                                    \\\\\n\t sex      & M         & Males                                                    \\\\\n\t sex      & F         & Females                                                  \\\\\n\t age      & Y15-24    & From 15 to 24 years                                      \\\\\n\t age      & Y15-29    & From 15 to 29 years                                      \\\\\n\t age      & Y15-64    & From 15 to 64 years                                      \\\\\n\t age      & Y20-64    & From 20 to 64 years                                      \\\\\n\t age      & Y25-54    & From 25 to 54 years                                      \\\\\n\t age      & Y55-64    & From 55 to 64 years                                      \\\\\n\t unit     & THS\\_PER   & Thousand persons                                         \\\\\n\t unit     & PC\\_POP    & Percentage of total population                           \\\\\n\t geo      & EU27\\_2020 & European Union - 27 countries (from 2020)                \\\\\n\t geo      & EA20      & Euro area – 20 countries (from 2023)                     \\\\\n\t geo      & BE        & Belgium                                                  \\\\\n\t geo      & BG        & Bulgaria                                                 \\\\\n\t geo      & CZ        & Czechia                                                  \\\\\n\t geo      & DK        & Denmark                                                  \\\\\n\t geo      & DE        & Germany                                                  \\\\\n\t geo      & EE        & Estonia                                                  \\\\\n\t geo      & IE        & Ireland                                                  \\\\\n\t geo      & EL        & Greece                                                   \\\\\n\t geo      & ES        & Spain                                                    \\\\\n\t geo      & FR        & France                                                   \\\\\n\t geo      & HR        & Croatia                                                  \\\\\n\t geo      & IT        & Italy                                                    \\\\\n\t geo      & CY        & Cyprus                                                   \\\\\n\t geo      & LV        & Latvia                                                   \\\\\n\t geo      & LT        & Lithuania                                                \\\\\n\t geo      & LU        & Luxembourg                                               \\\\\n\t geo      & HU        & Hungary                                                  \\\\\n\t geo      & MT        & Malta                                                    \\\\\n\t geo      & NL        & Netherlands                                              \\\\\n\t geo      & AT        & Austria                                                  \\\\\n\t geo      & PL        & Poland                                                   \\\\\n\t geo      & PT        & Portugal                                                 \\\\\n\t geo      & RO        & Romania                                                  \\\\\n\t geo      & SI        & Slovenia                                                 \\\\\n\t geo      & SK        & Slovakia                                                 \\\\\n\t geo      & FI        & Finland                                                  \\\\\n\t geo      & SE        & Sweden                                                   \\\\\n\t geo      & IS        & Iceland                                                  \\\\\n\t geo      & NO        & Norway                                                   \\\\\n\t geo      & CH        & Switzerland                                              \\\\\n\t geo      & BA        & Bosnia and Herzegovina                                   \\\\\n\t geo      & ME        & Montenegro                                               \\\\\n\t geo      & MK        & North Macedonia                                          \\\\\n\t geo      & RS        & Serbia                                                   \\\\\n\t geo      & TR        & Türkiye                                                  \\\\\n\\end{tabular}\n",
            "text/plain": [
              "   concept  code      name                                                     \n",
              "1  freq     A         Annual                                                   \n",
              "2  indic_em ACT       Persons in the labour force (former name: active persons)\n",
              "3  indic_em EMP_LFS   Total employment (resident population concept - LFS)     \n",
              "4  sex      T         Total                                                    \n",
              "5  sex      M         Males                                                    \n",
              "6  sex      F         Females                                                  \n",
              "7  age      Y15-24    From 15 to 24 years                                      \n",
              "8  age      Y15-29    From 15 to 29 years                                      \n",
              "9  age      Y15-64    From 15 to 64 years                                      \n",
              "10 age      Y20-64    From 20 to 64 years                                      \n",
              "11 age      Y25-54    From 25 to 54 years                                      \n",
              "12 age      Y55-64    From 55 to 64 years                                      \n",
              "13 unit     THS_PER   Thousand persons                                         \n",
              "14 unit     PC_POP    Percentage of total population                           \n",
              "15 geo      EU27_2020 European Union - 27 countries (from 2020)                \n",
              "16 geo      EA20      Euro area – 20 countries (from 2023)                     \n",
              "17 geo      BE        Belgium                                                  \n",
              "18 geo      BG        Bulgaria                                                 \n",
              "19 geo      CZ        Czechia                                                  \n",
              "20 geo      DK        Denmark                                                  \n",
              "21 geo      DE        Germany                                                  \n",
              "22 geo      EE        Estonia                                                  \n",
              "23 geo      IE        Ireland                                                  \n",
              "24 geo      EL        Greece                                                   \n",
              "25 geo      ES        Spain                                                    \n",
              "26 geo      FR        France                                                   \n",
              "27 geo      HR        Croatia                                                  \n",
              "28 geo      IT        Italy                                                    \n",
              "29 geo      CY        Cyprus                                                   \n",
              "30 geo      LV        Latvia                                                   \n",
              "31 geo      LT        Lithuania                                                \n",
              "32 geo      LU        Luxembourg                                               \n",
              "33 geo      HU        Hungary                                                  \n",
              "34 geo      MT        Malta                                                    \n",
              "35 geo      NL        Netherlands                                              \n",
              "36 geo      AT        Austria                                                  \n",
              "37 geo      PL        Poland                                                   \n",
              "38 geo      PT        Portugal                                                 \n",
              "39 geo      RO        Romania                                                  \n",
              "40 geo      SI        Slovenia                                                 \n",
              "41 geo      SK        Slovakia                                                 \n",
              "42 geo      FI        Finland                                                  \n",
              "43 geo      SE        Sweden                                                   \n",
              "44 geo      IS        Iceland                                                  \n",
              "45 geo      NO        Norway                                                   \n",
              "46 geo      CH        Switzerland                                              \n",
              "47 geo      BA        Bosnia and Herzegovina                                   \n",
              "48 geo      ME        Montenegro                                               \n",
              "49 geo      MK        North Macedonia                                          \n",
              "50 geo      RS        Serbia                                                   \n",
              "51 geo      TR        Türkiye                                                  "
            ]
          },
          "metadata": {}
        }
      ]
    },
    {
      "cell_type": "markdown",
      "source": [
        "### 3.2 Kontzeptu baten kode zerrenda osoa\n",
        "\n",
        "`get_eurostat_codelist` funtzioak kontzeptu jakin baten balio posible guztiak itzultzen ditu"
      ],
      "metadata": {
        "id": "VS0z4d9myacz"
      }
    },
    {
      "cell_type": "code",
      "source": [
        "freq <- get_eurostat_codelist(\"freq\")\n",
        "freq\n",
        "\n",
        "indic_em <- get_eurostat_codelist(\"indic_em\")\n",
        "indic_em"
      ],
      "metadata": {
        "colab": {
          "base_uri": "https://localhost:8080/",
          "height": 1000
        },
        "id": "qFo_5m-9nCFl",
        "outputId": "bd0987d3-d06c-42c2-9629-a5429631ad17"
      },
      "execution_count": 7,
      "outputs": [
        {
          "output_type": "display_data",
          "data": {
            "text/html": [
              "<table class=\"dataframe\">\n",
              "<caption>A data.table: 11 × 2</caption>\n",
              "<thead>\n",
              "\t<tr><th scope=col>code</th><th scope=col>name</th></tr>\n",
              "\t<tr><th scope=col>&lt;chr&gt;</th><th scope=col>&lt;chr&gt;</th></tr>\n",
              "</thead>\n",
              "<tbody>\n",
              "\t<tr><td>P  </td><td>Pluri-annual           </td></tr>\n",
              "\t<tr><td>A  </td><td>Annual                 </td></tr>\n",
              "\t<tr><td>S  </td><td>Half-yearly, semesterly</td></tr>\n",
              "\t<tr><td>Q  </td><td>Quarterly              </td></tr>\n",
              "\t<tr><td>M  </td><td>Monthly                </td></tr>\n",
              "\t<tr><td>W  </td><td>Weekly                 </td></tr>\n",
              "\t<tr><td>B  </td><td>Daily - business week  </td></tr>\n",
              "\t<tr><td>D  </td><td>Daily                  </td></tr>\n",
              "\t<tr><td>H  </td><td>Hourly                 </td></tr>\n",
              "\t<tr><td>I  </td><td>Irregular / A-periodic </td></tr>\n",
              "\t<tr><td>NAP</td><td>Not applicable         </td></tr>\n",
              "</tbody>\n",
              "</table>\n"
            ],
            "text/markdown": "\nA data.table: 11 × 2\n\n| code &lt;chr&gt; | name &lt;chr&gt; |\n|---|---|\n| P   | Pluri-annual            |\n| A   | Annual                  |\n| S   | Half-yearly, semesterly |\n| Q   | Quarterly               |\n| M   | Monthly                 |\n| W   | Weekly                  |\n| B   | Daily - business week   |\n| D   | Daily                   |\n| H   | Hourly                  |\n| I   | Irregular / A-periodic  |\n| NAP | Not applicable          |\n\n",
            "text/latex": "A data.table: 11 × 2\n\\begin{tabular}{ll}\n code & name\\\\\n <chr> & <chr>\\\\\n\\hline\n\t P   & Pluri-annual           \\\\\n\t A   & Annual                 \\\\\n\t S   & Half-yearly, semesterly\\\\\n\t Q   & Quarterly              \\\\\n\t M   & Monthly                \\\\\n\t W   & Weekly                 \\\\\n\t B   & Daily - business week  \\\\\n\t D   & Daily                  \\\\\n\t H   & Hourly                 \\\\\n\t I   & Irregular / A-periodic \\\\\n\t NAP & Not applicable         \\\\\n\\end{tabular}\n",
            "text/plain": [
              "   code name                   \n",
              "1  P    Pluri-annual           \n",
              "2  A    Annual                 \n",
              "3  S    Half-yearly, semesterly\n",
              "4  Q    Quarterly              \n",
              "5  M    Monthly                \n",
              "6  W    Weekly                 \n",
              "7  B    Daily - business week  \n",
              "8  D    Daily                  \n",
              "9  H    Hourly                 \n",
              "10 I    Irregular / A-periodic \n",
              "11 NAP  Not applicable         "
            ]
          },
          "metadata": {}
        },
        {
          "output_type": "display_data",
          "data": {
            "text/html": [
              "<table class=\"dataframe\">\n",
              "<caption>A data.table: 38 × 2</caption>\n",
              "<thead>\n",
              "\t<tr><th scope=col>code</th><th scope=col>name</th></tr>\n",
              "\t<tr><th scope=col>&lt;chr&gt;</th><th scope=col>&lt;chr&gt;</th></tr>\n",
              "</thead>\n",
              "<tbody>\n",
              "\t<tr><td>TOTAL   </td><td>Total                                                                                                                           </td></tr>\n",
              "\t<tr><td>SAL     </td><td>Employees                                                                                                                       </td></tr>\n",
              "\t<tr><td>OJA     </td><td>Online job advertisements                                                                                                       </td></tr>\n",
              "\t<tr><td>OJAR    </td><td>Online job advertisement rate                                                                                                   </td></tr>\n",
              "\t<tr><td>LMD     </td><td>Labour market demand                                                                                                            </td></tr>\n",
              "\t<tr><td>LSH     </td><td>Labour shortages                                                                                                                </td></tr>\n",
              "\t<tr><td>UNE     </td><td>Unemployment (ILO)                                                                                                              </td></tr>\n",
              "\t<tr><td>UNE_MM  </td><td>Mismatch unemployment                                                                                                           </td></tr>\n",
              "\t<tr><td>UNE_GAP </td><td>Unemployment gap                                                                                                                </td></tr>\n",
              "\t<tr><td>ACT     </td><td>Persons in the labour force (former name: active persons)                                                                       </td></tr>\n",
              "\t<tr><td>EMP_LFS </td><td>Total employment (resident population concept - LFS)                                                                            </td></tr>\n",
              "\t<tr><td>EMP_CLT </td><td>Cultural employment                                                                                                             </td></tr>\n",
              "\t<tr><td>UEMP    </td><td>Underemployed part-time workers                                                                                                 </td></tr>\n",
              "\t<tr><td>SEEK_NAV</td><td>Persons seeking work but not immediately available                                                                              </td></tr>\n",
              "\t<tr><td>NSEE_AV </td><td>Persons available to work but not seeking                                                                                       </td></tr>\n",
              "\t<tr><td>LTU     </td><td>Long-term unemployment                                                                                                          </td></tr>\n",
              "\t<tr><td>VLTU    </td><td>Very long-term unemployment                                                                                                     </td></tr>\n",
              "\t<tr><td>JOBVAC  </td><td>Number of job vacancies                                                                                                         </td></tr>\n",
              "\t<tr><td>JOBOCC  </td><td>Number of occupied jobs                                                                                                         </td></tr>\n",
              "\t<tr><td>JOBRATE </td><td>Job vacancy rate                                                                                                                </td></tr>\n",
              "\t<tr><td>CH_Q_Q  </td><td>Job vacancy rate quarter on quarter change                                                                                      </td></tr>\n",
              "\t<tr><td>CH_Y_Y  </td><td>Job vacancy rate year on year change                                                                                            </td></tr>\n",
              "\t<tr><td>SLACK   </td><td>Labour market slack                                                                                                             </td></tr>\n",
              "\t<tr><td>SC071   </td><td>Children aged 0-17 living in jobless households: share of persons aged 0-17 who are living in households where no-one is working</td></tr>\n",
              "\t<tr><td>SC072   </td><td>People aged 18-59 living in jobless households: share of persons aged 18-59 who are living in households where no-one works     </td></tr>\n",
              "\t<tr><td>SC073   </td><td>Women aged 18-59 living in jobless households: share of women aged 18-59 who are living in households where no-one works        </td></tr>\n",
              "\t<tr><td>SC074   </td><td>Men aged 18-59 living in jobless households: share of men aged 18-59 who are living in households where no-one works            </td></tr>\n",
              "\t<tr><td>E_E     </td><td>Transition employment - employment                                                                                              </td></tr>\n",
              "\t<tr><td>E_U     </td><td>Transition employment - unemployment                                                                                            </td></tr>\n",
              "\t<tr><td>E_I     </td><td>Transition employment - outside the labour force                                                                                </td></tr>\n",
              "\t<tr><td>U_E     </td><td>Transition unemployment - employment                                                                                            </td></tr>\n",
              "\t<tr><td>U_U     </td><td>Transition unemployment - unemployment                                                                                          </td></tr>\n",
              "\t<tr><td>U_I     </td><td>Transition unemployment - outside the labour force                                                                              </td></tr>\n",
              "\t<tr><td>I_E     </td><td>Transition outside the labour force - employment                                                                                </td></tr>\n",
              "\t<tr><td>I_U     </td><td>Transition outside the labour force - unemployment                                                                              </td></tr>\n",
              "\t<tr><td>I_I     </td><td>Transition outside the labour force - outside the labour force                                                                  </td></tr>\n",
              "\t<tr><td>INAC    </td><td>Persons outside the labour force                                                                                                </td></tr>\n",
              "\t<tr><td>OTH     </td><td>Others                                                                                                                          </td></tr>\n",
              "</tbody>\n",
              "</table>\n"
            ],
            "text/markdown": "\nA data.table: 38 × 2\n\n| code &lt;chr&gt; | name &lt;chr&gt; |\n|---|---|\n| TOTAL    | Total                                                                                                                            |\n| SAL      | Employees                                                                                                                        |\n| OJA      | Online job advertisements                                                                                                        |\n| OJAR     | Online job advertisement rate                                                                                                    |\n| LMD      | Labour market demand                                                                                                             |\n| LSH      | Labour shortages                                                                                                                 |\n| UNE      | Unemployment (ILO)                                                                                                               |\n| UNE_MM   | Mismatch unemployment                                                                                                            |\n| UNE_GAP  | Unemployment gap                                                                                                                 |\n| ACT      | Persons in the labour force (former name: active persons)                                                                        |\n| EMP_LFS  | Total employment (resident population concept - LFS)                                                                             |\n| EMP_CLT  | Cultural employment                                                                                                              |\n| UEMP     | Underemployed part-time workers                                                                                                  |\n| SEEK_NAV | Persons seeking work but not immediately available                                                                               |\n| NSEE_AV  | Persons available to work but not seeking                                                                                        |\n| LTU      | Long-term unemployment                                                                                                           |\n| VLTU     | Very long-term unemployment                                                                                                      |\n| JOBVAC   | Number of job vacancies                                                                                                          |\n| JOBOCC   | Number of occupied jobs                                                                                                          |\n| JOBRATE  | Job vacancy rate                                                                                                                 |\n| CH_Q_Q   | Job vacancy rate quarter on quarter change                                                                                       |\n| CH_Y_Y   | Job vacancy rate year on year change                                                                                             |\n| SLACK    | Labour market slack                                                                                                              |\n| SC071    | Children aged 0-17 living in jobless households: share of persons aged 0-17 who are living in households where no-one is working |\n| SC072    | People aged 18-59 living in jobless households: share of persons aged 18-59 who are living in households where no-one works      |\n| SC073    | Women aged 18-59 living in jobless households: share of women aged 18-59 who are living in households where no-one works         |\n| SC074    | Men aged 18-59 living in jobless households: share of men aged 18-59 who are living in households where no-one works             |\n| E_E      | Transition employment - employment                                                                                               |\n| E_U      | Transition employment - unemployment                                                                                             |\n| E_I      | Transition employment - outside the labour force                                                                                 |\n| U_E      | Transition unemployment - employment                                                                                             |\n| U_U      | Transition unemployment - unemployment                                                                                           |\n| U_I      | Transition unemployment - outside the labour force                                                                               |\n| I_E      | Transition outside the labour force - employment                                                                                 |\n| I_U      | Transition outside the labour force - unemployment                                                                               |\n| I_I      | Transition outside the labour force - outside the labour force                                                                   |\n| INAC     | Persons outside the labour force                                                                                                 |\n| OTH      | Others                                                                                                                           |\n\n",
            "text/latex": "A data.table: 38 × 2\n\\begin{tabular}{ll}\n code & name\\\\\n <chr> & <chr>\\\\\n\\hline\n\t TOTAL    & Total                                                                                                                           \\\\\n\t SAL      & Employees                                                                                                                       \\\\\n\t OJA      & Online job advertisements                                                                                                       \\\\\n\t OJAR     & Online job advertisement rate                                                                                                   \\\\\n\t LMD      & Labour market demand                                                                                                            \\\\\n\t LSH      & Labour shortages                                                                                                                \\\\\n\t UNE      & Unemployment (ILO)                                                                                                              \\\\\n\t UNE\\_MM   & Mismatch unemployment                                                                                                           \\\\\n\t UNE\\_GAP  & Unemployment gap                                                                                                                \\\\\n\t ACT      & Persons in the labour force (former name: active persons)                                                                       \\\\\n\t EMP\\_LFS  & Total employment (resident population concept - LFS)                                                                            \\\\\n\t EMP\\_CLT  & Cultural employment                                                                                                             \\\\\n\t UEMP     & Underemployed part-time workers                                                                                                 \\\\\n\t SEEK\\_NAV & Persons seeking work but not immediately available                                                                              \\\\\n\t NSEE\\_AV  & Persons available to work but not seeking                                                                                       \\\\\n\t LTU      & Long-term unemployment                                                                                                          \\\\\n\t VLTU     & Very long-term unemployment                                                                                                     \\\\\n\t JOBVAC   & Number of job vacancies                                                                                                         \\\\\n\t JOBOCC   & Number of occupied jobs                                                                                                         \\\\\n\t JOBRATE  & Job vacancy rate                                                                                                                \\\\\n\t CH\\_Q\\_Q   & Job vacancy rate quarter on quarter change                                                                                      \\\\\n\t CH\\_Y\\_Y   & Job vacancy rate year on year change                                                                                            \\\\\n\t SLACK    & Labour market slack                                                                                                             \\\\\n\t SC071    & Children aged 0-17 living in jobless households: share of persons aged 0-17 who are living in households where no-one is working\\\\\n\t SC072    & People aged 18-59 living in jobless households: share of persons aged 18-59 who are living in households where no-one works     \\\\\n\t SC073    & Women aged 18-59 living in jobless households: share of women aged 18-59 who are living in households where no-one works        \\\\\n\t SC074    & Men aged 18-59 living in jobless households: share of men aged 18-59 who are living in households where no-one works            \\\\\n\t E\\_E      & Transition employment - employment                                                                                              \\\\\n\t E\\_U      & Transition employment - unemployment                                                                                            \\\\\n\t E\\_I      & Transition employment - outside the labour force                                                                                \\\\\n\t U\\_E      & Transition unemployment - employment                                                                                            \\\\\n\t U\\_U      & Transition unemployment - unemployment                                                                                          \\\\\n\t U\\_I      & Transition unemployment - outside the labour force                                                                              \\\\\n\t I\\_E      & Transition outside the labour force - employment                                                                                \\\\\n\t I\\_U      & Transition outside the labour force - unemployment                                                                              \\\\\n\t I\\_I      & Transition outside the labour force - outside the labour force                                                                  \\\\\n\t INAC     & Persons outside the labour force                                                                                                \\\\\n\t OTH      & Others                                                                                                                          \\\\\n\\end{tabular}\n",
            "text/plain": [
              "   code    \n",
              "1  TOTAL   \n",
              "2  SAL     \n",
              "3  OJA     \n",
              "4  OJAR    \n",
              "5  LMD     \n",
              "6  LSH     \n",
              "7  UNE     \n",
              "8  UNE_MM  \n",
              "9  UNE_GAP \n",
              "10 ACT     \n",
              "11 EMP_LFS \n",
              "12 EMP_CLT \n",
              "13 UEMP    \n",
              "14 SEEK_NAV\n",
              "15 NSEE_AV \n",
              "16 LTU     \n",
              "17 VLTU    \n",
              "18 JOBVAC  \n",
              "19 JOBOCC  \n",
              "20 JOBRATE \n",
              "21 CH_Q_Q  \n",
              "22 CH_Y_Y  \n",
              "23 SLACK   \n",
              "24 SC071   \n",
              "25 SC072   \n",
              "26 SC073   \n",
              "27 SC074   \n",
              "28 E_E     \n",
              "29 E_U     \n",
              "30 E_I     \n",
              "31 U_E     \n",
              "32 U_U     \n",
              "33 U_I     \n",
              "34 I_E     \n",
              "35 I_U     \n",
              "36 I_I     \n",
              "37 INAC    \n",
              "38 OTH     \n",
              "   name                                                                                                                            \n",
              "1  Total                                                                                                                           \n",
              "2  Employees                                                                                                                       \n",
              "3  Online job advertisements                                                                                                       \n",
              "4  Online job advertisement rate                                                                                                   \n",
              "5  Labour market demand                                                                                                            \n",
              "6  Labour shortages                                                                                                                \n",
              "7  Unemployment (ILO)                                                                                                              \n",
              "8  Mismatch unemployment                                                                                                           \n",
              "9  Unemployment gap                                                                                                                \n",
              "10 Persons in the labour force (former name: active persons)                                                                       \n",
              "11 Total employment (resident population concept - LFS)                                                                            \n",
              "12 Cultural employment                                                                                                             \n",
              "13 Underemployed part-time workers                                                                                                 \n",
              "14 Persons seeking work but not immediately available                                                                              \n",
              "15 Persons available to work but not seeking                                                                                       \n",
              "16 Long-term unemployment                                                                                                          \n",
              "17 Very long-term unemployment                                                                                                     \n",
              "18 Number of job vacancies                                                                                                         \n",
              "19 Number of occupied jobs                                                                                                         \n",
              "20 Job vacancy rate                                                                                                                \n",
              "21 Job vacancy rate quarter on quarter change                                                                                      \n",
              "22 Job vacancy rate year on year change                                                                                            \n",
              "23 Labour market slack                                                                                                             \n",
              "24 Children aged 0-17 living in jobless households: share of persons aged 0-17 who are living in households where no-one is working\n",
              "25 People aged 18-59 living in jobless households: share of persons aged 18-59 who are living in households where no-one works     \n",
              "26 Women aged 18-59 living in jobless households: share of women aged 18-59 who are living in households where no-one works        \n",
              "27 Men aged 18-59 living in jobless households: share of men aged 18-59 who are living in households where no-one works            \n",
              "28 Transition employment - employment                                                                                              \n",
              "29 Transition employment - unemployment                                                                                            \n",
              "30 Transition employment - outside the labour force                                                                                \n",
              "31 Transition unemployment - employment                                                                                            \n",
              "32 Transition unemployment - unemployment                                                                                          \n",
              "33 Transition unemployment - outside the labour force                                                                              \n",
              "34 Transition outside the labour force - employment                                                                                \n",
              "35 Transition outside the labour force - unemployment                                                                              \n",
              "36 Transition outside the labour force - outside the labour force                                                                  \n",
              "37 Persons outside the labour force                                                                                                \n",
              "38 Others                                                                                                                          "
            ]
          },
          "metadata": {}
        }
      ]
    },
    {
      "cell_type": "markdown",
      "source": [
        "## 4. DATUAK BILATU ETA DESKARGATU\n",
        "\n",
        "Datuak jeisteko `get_eurostat_data` funtzioa erabiliko dugu. Derrigorrezkoa da datasetaren identifikazio kodea (id) ipintzea. \"id\" kodea katalogotik eskuratu dezakegu (2. puntuan) edo Eurostaten web orrian bilatuta."
      ],
      "metadata": {
        "id": "yXQ8MzkxqCDJ"
      }
    },
    {
      "cell_type": "markdown",
      "source": [
        "### 4.1 Dataset osoa jeitsi\n",
        "\n",
        "Dataset osoa jeisteko,  datasetaren identifikazio kodea (id) ipintzearekin nahikoa da. Datuak kode bezala jeitsi daitezke eta deskribapenekin, oharrekin edo oharrik gabe."
      ],
      "metadata": {
        "id": "ebjU5eqb4zt6"
      }
    },
    {
      "cell_type": "code",
      "source": [
        "# \"Enplegua eta jarduera sexuaren eta adinaren arabera - urteko datuak (lfsi_emp_a)\"\n",
        "\n",
        "\n",
        "lfsi_datuak <- get_eurostat_data(\"lfsi_emp_a\")    # keep_flags=TRUE  oharrak ere jeitsi nahi badira\n",
        "head(lfsi_datuak)\n",
        "\n",
        "lfsi_testuekin <- get_eurostat_data(\"lfsi_emp_a\", label=TRUE)  # deskribapena edo etiketekin (ingelesez)\n",
        "head(lfsi_testuekin)"
      ],
      "metadata": {
        "colab": {
          "base_uri": "https://localhost:8080/",
          "height": 555
        },
        "id": "pgFJo5nT39JL",
        "outputId": "eb1087a6-a0d0-4cb0-c5c2-531c4db43c93"
      },
      "execution_count": 8,
      "outputs": [
        {
          "output_type": "display_data",
          "data": {
            "text/html": [
              "<table class=\"dataframe\">\n",
              "<caption>A data.table: 6 × 7</caption>\n",
              "<thead>\n",
              "\t<tr><th scope=col>indic_em</th><th scope=col>sex</th><th scope=col>age</th><th scope=col>unit</th><th scope=col>geo</th><th scope=col>time</th><th scope=col>values</th></tr>\n",
              "\t<tr><th scope=col>&lt;fct&gt;</th><th scope=col>&lt;fct&gt;</th><th scope=col>&lt;fct&gt;</th><th scope=col>&lt;fct&gt;</th><th scope=col>&lt;fct&gt;</th><th scope=col>&lt;fct&gt;</th><th scope=col>&lt;dbl&gt;</th></tr>\n",
              "</thead>\n",
              "<tbody>\n",
              "\t<tr><td>ACT</td><td>F</td><td>Y15-24</td><td>PC_POP</td><td>AT</td><td>2009</td><td>56.5</td></tr>\n",
              "\t<tr><td>ACT</td><td>F</td><td>Y15-24</td><td>PC_POP</td><td>AT</td><td>2010</td><td>54.2</td></tr>\n",
              "\t<tr><td>ACT</td><td>F</td><td>Y15-24</td><td>PC_POP</td><td>AT</td><td>2011</td><td>55.1</td></tr>\n",
              "\t<tr><td>ACT</td><td>F</td><td>Y15-24</td><td>PC_POP</td><td>AT</td><td>2012</td><td>55.6</td></tr>\n",
              "\t<tr><td>ACT</td><td>F</td><td>Y15-24</td><td>PC_POP</td><td>AT</td><td>2013</td><td>55.6</td></tr>\n",
              "\t<tr><td>ACT</td><td>F</td><td>Y15-24</td><td>PC_POP</td><td>AT</td><td>2014</td><td>55.6</td></tr>\n",
              "</tbody>\n",
              "</table>\n"
            ],
            "text/markdown": "\nA data.table: 6 × 7\n\n| indic_em &lt;fct&gt; | sex &lt;fct&gt; | age &lt;fct&gt; | unit &lt;fct&gt; | geo &lt;fct&gt; | time &lt;fct&gt; | values &lt;dbl&gt; |\n|---|---|---|---|---|---|---|\n| ACT | F | Y15-24 | PC_POP | AT | 2009 | 56.5 |\n| ACT | F | Y15-24 | PC_POP | AT | 2010 | 54.2 |\n| ACT | F | Y15-24 | PC_POP | AT | 2011 | 55.1 |\n| ACT | F | Y15-24 | PC_POP | AT | 2012 | 55.6 |\n| ACT | F | Y15-24 | PC_POP | AT | 2013 | 55.6 |\n| ACT | F | Y15-24 | PC_POP | AT | 2014 | 55.6 |\n\n",
            "text/latex": "A data.table: 6 × 7\n\\begin{tabular}{lllllll}\n indic\\_em & sex & age & unit & geo & time & values\\\\\n <fct> & <fct> & <fct> & <fct> & <fct> & <fct> & <dbl>\\\\\n\\hline\n\t ACT & F & Y15-24 & PC\\_POP & AT & 2009 & 56.5\\\\\n\t ACT & F & Y15-24 & PC\\_POP & AT & 2010 & 54.2\\\\\n\t ACT & F & Y15-24 & PC\\_POP & AT & 2011 & 55.1\\\\\n\t ACT & F & Y15-24 & PC\\_POP & AT & 2012 & 55.6\\\\\n\t ACT & F & Y15-24 & PC\\_POP & AT & 2013 & 55.6\\\\\n\t ACT & F & Y15-24 & PC\\_POP & AT & 2014 & 55.6\\\\\n\\end{tabular}\n",
            "text/plain": [
              "  indic_em sex age    unit   geo time values\n",
              "1 ACT      F   Y15-24 PC_POP AT  2009 56.5  \n",
              "2 ACT      F   Y15-24 PC_POP AT  2010 54.2  \n",
              "3 ACT      F   Y15-24 PC_POP AT  2011 55.1  \n",
              "4 ACT      F   Y15-24 PC_POP AT  2012 55.6  \n",
              "5 ACT      F   Y15-24 PC_POP AT  2013 55.6  \n",
              "6 ACT      F   Y15-24 PC_POP AT  2014 55.6  "
            ]
          },
          "metadata": {}
        },
        {
          "output_type": "display_data",
          "data": {
            "text/html": [
              "<table class=\"dataframe\">\n",
              "<caption>A data.table: 6 × 7</caption>\n",
              "<thead>\n",
              "\t<tr><th scope=col>indic_em</th><th scope=col>sex</th><th scope=col>age</th><th scope=col>unit</th><th scope=col>geo</th><th scope=col>time</th><th scope=col>values</th></tr>\n",
              "\t<tr><th scope=col>&lt;fct&gt;</th><th scope=col>&lt;fct&gt;</th><th scope=col>&lt;fct&gt;</th><th scope=col>&lt;fct&gt;</th><th scope=col>&lt;fct&gt;</th><th scope=col>&lt;fct&gt;</th><th scope=col>&lt;dbl&gt;</th></tr>\n",
              "</thead>\n",
              "<tbody>\n",
              "\t<tr><td>Persons in the labour force (former name: active persons)</td><td>Females</td><td>From 15 to 24 years</td><td>Percentage of total population</td><td>Austria</td><td>2009</td><td>56.5</td></tr>\n",
              "\t<tr><td>Persons in the labour force (former name: active persons)</td><td>Females</td><td>From 15 to 24 years</td><td>Percentage of total population</td><td>Austria</td><td>2010</td><td>54.2</td></tr>\n",
              "\t<tr><td>Persons in the labour force (former name: active persons)</td><td>Females</td><td>From 15 to 24 years</td><td>Percentage of total population</td><td>Austria</td><td>2011</td><td>55.1</td></tr>\n",
              "\t<tr><td>Persons in the labour force (former name: active persons)</td><td>Females</td><td>From 15 to 24 years</td><td>Percentage of total population</td><td>Austria</td><td>2012</td><td>55.6</td></tr>\n",
              "\t<tr><td>Persons in the labour force (former name: active persons)</td><td>Females</td><td>From 15 to 24 years</td><td>Percentage of total population</td><td>Austria</td><td>2013</td><td>55.6</td></tr>\n",
              "\t<tr><td>Persons in the labour force (former name: active persons)</td><td>Females</td><td>From 15 to 24 years</td><td>Percentage of total population</td><td>Austria</td><td>2014</td><td>55.6</td></tr>\n",
              "</tbody>\n",
              "</table>\n"
            ],
            "text/markdown": "\nA data.table: 6 × 7\n\n| indic_em &lt;fct&gt; | sex &lt;fct&gt; | age &lt;fct&gt; | unit &lt;fct&gt; | geo &lt;fct&gt; | time &lt;fct&gt; | values &lt;dbl&gt; |\n|---|---|---|---|---|---|---|\n| Persons in the labour force (former name: active persons) | Females | From 15 to 24 years | Percentage of total population | Austria | 2009 | 56.5 |\n| Persons in the labour force (former name: active persons) | Females | From 15 to 24 years | Percentage of total population | Austria | 2010 | 54.2 |\n| Persons in the labour force (former name: active persons) | Females | From 15 to 24 years | Percentage of total population | Austria | 2011 | 55.1 |\n| Persons in the labour force (former name: active persons) | Females | From 15 to 24 years | Percentage of total population | Austria | 2012 | 55.6 |\n| Persons in the labour force (former name: active persons) | Females | From 15 to 24 years | Percentage of total population | Austria | 2013 | 55.6 |\n| Persons in the labour force (former name: active persons) | Females | From 15 to 24 years | Percentage of total population | Austria | 2014 | 55.6 |\n\n",
            "text/latex": "A data.table: 6 × 7\n\\begin{tabular}{lllllll}\n indic\\_em & sex & age & unit & geo & time & values\\\\\n <fct> & <fct> & <fct> & <fct> & <fct> & <fct> & <dbl>\\\\\n\\hline\n\t Persons in the labour force (former name: active persons) & Females & From 15 to 24 years & Percentage of total population & Austria & 2009 & 56.5\\\\\n\t Persons in the labour force (former name: active persons) & Females & From 15 to 24 years & Percentage of total population & Austria & 2010 & 54.2\\\\\n\t Persons in the labour force (former name: active persons) & Females & From 15 to 24 years & Percentage of total population & Austria & 2011 & 55.1\\\\\n\t Persons in the labour force (former name: active persons) & Females & From 15 to 24 years & Percentage of total population & Austria & 2012 & 55.6\\\\\n\t Persons in the labour force (former name: active persons) & Females & From 15 to 24 years & Percentage of total population & Austria & 2013 & 55.6\\\\\n\t Persons in the labour force (former name: active persons) & Females & From 15 to 24 years & Percentage of total population & Austria & 2014 & 55.6\\\\\n\\end{tabular}\n",
            "text/plain": [
              "  indic_em                                                  sex    \n",
              "1 Persons in the labour force (former name: active persons) Females\n",
              "2 Persons in the labour force (former name: active persons) Females\n",
              "3 Persons in the labour force (former name: active persons) Females\n",
              "4 Persons in the labour force (former name: active persons) Females\n",
              "5 Persons in the labour force (former name: active persons) Females\n",
              "6 Persons in the labour force (former name: active persons) Females\n",
              "  age                 unit                           geo     time values\n",
              "1 From 15 to 24 years Percentage of total population Austria 2009 56.5  \n",
              "2 From 15 to 24 years Percentage of total population Austria 2010 54.2  \n",
              "3 From 15 to 24 years Percentage of total population Austria 2011 55.1  \n",
              "4 From 15 to 24 years Percentage of total population Austria 2012 55.6  \n",
              "5 From 15 to 24 years Percentage of total population Austria 2013 55.6  \n",
              "6 From 15 to 24 years Percentage of total population Austria 2014 55.6  "
            ]
          },
          "metadata": {}
        }
      ]
    },
    {
      "cell_type": "markdown",
      "source": [
        "### 4.2 Datuak filtratu\n",
        "\n",
        "Datuak filtratzeko ere `get_eurostat_data` funtzioa erabiliko dugu. Filtroak dimentsio guztientzat edo batzuentzat bakarrik ipini daitezke, eta kategoria bat edo gehiago aukeratu. Beharrezkoa izango da aldagaien/dimentsioen kodea jakitea, 3.puntuan ikusi duguna."
      ],
      "metadata": {
        "id": "pEFH_abn5GQw"
      }
    },
    {
      "cell_type": "code",
      "source": [
        "nama_10r_3gdp_dsd <- get_eurostat_dsd(\"nama_10r_3gdp\")\n",
        "nama_10r_3gdp_dsd"
      ],
      "metadata": {
        "colab": {
          "base_uri": "https://localhost:8080/",
          "height": 1000
        },
        "id": "BzDNwJuCg7Og",
        "outputId": "f0bd3560-9f03-44bb-9c7c-c3ef9cc25e3f"
      },
      "execution_count": 9,
      "outputs": [
        {
          "output_type": "display_data",
          "data": {
            "text/html": [
              "<table class=\"dataframe\">\n",
              "<caption>A data.table: 1822 × 3</caption>\n",
              "<thead>\n",
              "\t<tr><th scope=col>concept</th><th scope=col>code</th><th scope=col>name</th></tr>\n",
              "\t<tr><th scope=col>&lt;chr&gt;</th><th scope=col>&lt;chr&gt;</th><th scope=col>&lt;chr&gt;</th></tr>\n",
              "</thead>\n",
              "<tbody>\n",
              "\t<tr><td>freq</td><td>A                </td><td>Annual                                                                                                       </td></tr>\n",
              "\t<tr><td>unit</td><td>MIO_EUR          </td><td>Million euro                                                                                                 </td></tr>\n",
              "\t<tr><td>unit</td><td>EUR_HAB          </td><td>Euro per inhabitant                                                                                          </td></tr>\n",
              "\t<tr><td>unit</td><td>EUR_HAB_EU27_2020</td><td>Euro per inhabitant in percentage of the EU27 (from 2020) average                                            </td></tr>\n",
              "\t<tr><td>unit</td><td>MIO_NAC          </td><td>Million units of national currency                                                                           </td></tr>\n",
              "\t<tr><td>unit</td><td>MIO_PPS_EU27_2020</td><td>Million purchasing power standards (PPS, EU27 from 2020)                                                     </td></tr>\n",
              "\t<tr><td>unit</td><td>PPS_EU27_2020_HAB</td><td>Purchasing power standard (PPS, EU27 from 2020), per inhabitant                                              </td></tr>\n",
              "\t<tr><td>unit</td><td>PPS_HAB_EU27_2020</td><td>Purchasing power standard (PPS, EU27 from 2020), per inhabitant in percentage of the EU27 (from 2020) average</td></tr>\n",
              "\t<tr><td>geo </td><td>EU27_2020        </td><td>European Union - 27 countries (from 2020)                                                                    </td></tr>\n",
              "\t<tr><td>geo </td><td>BE               </td><td>Belgium                                                                                                      </td></tr>\n",
              "\t<tr><td>geo </td><td>BE1              </td><td>Région de Bruxelles-Capitale/Brussels Hoofdstedelijk Gewest                                                  </td></tr>\n",
              "\t<tr><td>geo </td><td>BE10             </td><td>Région de Bruxelles-Capitale/Brussels Hoofdstedelijk Gewest                                                  </td></tr>\n",
              "\t<tr><td>geo </td><td>BE100            </td><td>Arr. de Bruxelles-Capitale/Arr. Brussel-Hoofdstad                                                            </td></tr>\n",
              "\t<tr><td>geo </td><td>BE2              </td><td>Vlaams Gewest                                                                                                </td></tr>\n",
              "\t<tr><td>geo </td><td>BE21             </td><td>Prov. Antwerpen                                                                                              </td></tr>\n",
              "\t<tr><td>geo </td><td>BE211            </td><td>Arr. Antwerpen                                                                                               </td></tr>\n",
              "\t<tr><td>geo </td><td>BE212            </td><td>Arr. Mechelen                                                                                                </td></tr>\n",
              "\t<tr><td>geo </td><td>BE213            </td><td>Arr. Turnhout                                                                                                </td></tr>\n",
              "\t<tr><td>geo </td><td>BE22             </td><td>Prov. Limburg (BE)                                                                                           </td></tr>\n",
              "\t<tr><td>geo </td><td>BE223            </td><td>Arr. Tongeren                                                                                                </td></tr>\n",
              "\t<tr><td>geo </td><td>BE224            </td><td>Arr. Hasselt                                                                                                 </td></tr>\n",
              "\t<tr><td>geo </td><td>BE225            </td><td>Arr. Maaseik                                                                                                 </td></tr>\n",
              "\t<tr><td>geo </td><td>BE23             </td><td>Prov. Oost-Vlaanderen                                                                                        </td></tr>\n",
              "\t<tr><td>geo </td><td>BE231            </td><td>Arr. Aalst                                                                                                   </td></tr>\n",
              "\t<tr><td>geo </td><td>BE232            </td><td>Arr. Dendermonde                                                                                             </td></tr>\n",
              "\t<tr><td>geo </td><td>BE233            </td><td>Arr. Eeklo                                                                                                   </td></tr>\n",
              "\t<tr><td>geo </td><td>BE234            </td><td>Arr. Gent                                                                                                    </td></tr>\n",
              "\t<tr><td>geo </td><td>BE235            </td><td>Arr. Oudenaarde                                                                                              </td></tr>\n",
              "\t<tr><td>geo </td><td>BE236            </td><td>Arr. Sint-Niklaas                                                                                            </td></tr>\n",
              "\t<tr><td>geo </td><td>BE24             </td><td>Prov. Vlaams-Brabant                                                                                         </td></tr>\n",
              "\t<tr><td>⋮</td><td>⋮</td><td>⋮</td></tr>\n",
              "\t<tr><td>geo</td><td>TRA13</td><td>Bayburt                         </td></tr>\n",
              "\t<tr><td>geo</td><td>TRA2 </td><td>Ağrı, Kars, Iğdır, Ardahan      </td></tr>\n",
              "\t<tr><td>geo</td><td>TRA21</td><td>Ağrı                            </td></tr>\n",
              "\t<tr><td>geo</td><td>TRA22</td><td>Kars                            </td></tr>\n",
              "\t<tr><td>geo</td><td>TRA23</td><td>Iğdır                           </td></tr>\n",
              "\t<tr><td>geo</td><td>TRA24</td><td>Ardahan                         </td></tr>\n",
              "\t<tr><td>geo</td><td>TRB  </td><td>Ortadoğu Anadolu                </td></tr>\n",
              "\t<tr><td>geo</td><td>TRB1 </td><td>Malatya, Elazığ, Bingöl, Tunceli</td></tr>\n",
              "\t<tr><td>geo</td><td>TRB11</td><td>Malatya                         </td></tr>\n",
              "\t<tr><td>geo</td><td>TRB12</td><td>Elazığ                          </td></tr>\n",
              "\t<tr><td>geo</td><td>TRB13</td><td>Bingöl                          </td></tr>\n",
              "\t<tr><td>geo</td><td>TRB14</td><td>Tunceli                         </td></tr>\n",
              "\t<tr><td>geo</td><td>TRB2 </td><td>Van, Muş, Bitlis, Hakkari       </td></tr>\n",
              "\t<tr><td>geo</td><td>TRB21</td><td>Van                             </td></tr>\n",
              "\t<tr><td>geo</td><td>TRB22</td><td>Muş                             </td></tr>\n",
              "\t<tr><td>geo</td><td>TRB23</td><td>Bitlis                          </td></tr>\n",
              "\t<tr><td>geo</td><td>TRB24</td><td>Hakkari                         </td></tr>\n",
              "\t<tr><td>geo</td><td>TRC  </td><td>Güneydoğu Anadolu               </td></tr>\n",
              "\t<tr><td>geo</td><td>TRC1 </td><td>Gaziantep, Adıyaman, Kilis      </td></tr>\n",
              "\t<tr><td>geo</td><td>TRC11</td><td>Gaziantep                       </td></tr>\n",
              "\t<tr><td>geo</td><td>TRC12</td><td>Adıyaman                        </td></tr>\n",
              "\t<tr><td>geo</td><td>TRC13</td><td>Kilis                           </td></tr>\n",
              "\t<tr><td>geo</td><td>TRC2 </td><td>Şanlıurfa, Diyarbakır           </td></tr>\n",
              "\t<tr><td>geo</td><td>TRC21</td><td>Şanlıurfa                       </td></tr>\n",
              "\t<tr><td>geo</td><td>TRC22</td><td>Diyarbakır                      </td></tr>\n",
              "\t<tr><td>geo</td><td>TRC3 </td><td>Mardin, Batman, Şırnak, Siirt   </td></tr>\n",
              "\t<tr><td>geo</td><td>TRC31</td><td>Mardin                          </td></tr>\n",
              "\t<tr><td>geo</td><td>TRC32</td><td>Batman                          </td></tr>\n",
              "\t<tr><td>geo</td><td>TRC33</td><td>Şırnak                          </td></tr>\n",
              "\t<tr><td>geo</td><td>TRC34</td><td>Siirt                           </td></tr>\n",
              "</tbody>\n",
              "</table>\n"
            ],
            "text/markdown": "\nA data.table: 1822 × 3\n\n| concept &lt;chr&gt; | code &lt;chr&gt; | name &lt;chr&gt; |\n|---|---|---|\n| freq | A                 | Annual                                                                                                        |\n| unit | MIO_EUR           | Million euro                                                                                                  |\n| unit | EUR_HAB           | Euro per inhabitant                                                                                           |\n| unit | EUR_HAB_EU27_2020 | Euro per inhabitant in percentage of the EU27 (from 2020) average                                             |\n| unit | MIO_NAC           | Million units of national currency                                                                            |\n| unit | MIO_PPS_EU27_2020 | Million purchasing power standards (PPS, EU27 from 2020)                                                      |\n| unit | PPS_EU27_2020_HAB | Purchasing power standard (PPS, EU27 from 2020), per inhabitant                                               |\n| unit | PPS_HAB_EU27_2020 | Purchasing power standard (PPS, EU27 from 2020), per inhabitant in percentage of the EU27 (from 2020) average |\n| geo  | EU27_2020         | European Union - 27 countries (from 2020)                                                                     |\n| geo  | BE                | Belgium                                                                                                       |\n| geo  | BE1               | Région de Bruxelles-Capitale/Brussels Hoofdstedelijk Gewest                                                   |\n| geo  | BE10              | Région de Bruxelles-Capitale/Brussels Hoofdstedelijk Gewest                                                   |\n| geo  | BE100             | Arr. de Bruxelles-Capitale/Arr. Brussel-Hoofdstad                                                             |\n| geo  | BE2               | Vlaams Gewest                                                                                                 |\n| geo  | BE21              | Prov. Antwerpen                                                                                               |\n| geo  | BE211             | Arr. Antwerpen                                                                                                |\n| geo  | BE212             | Arr. Mechelen                                                                                                 |\n| geo  | BE213             | Arr. Turnhout                                                                                                 |\n| geo  | BE22              | Prov. Limburg (BE)                                                                                            |\n| geo  | BE223             | Arr. Tongeren                                                                                                 |\n| geo  | BE224             | Arr. Hasselt                                                                                                  |\n| geo  | BE225             | Arr. Maaseik                                                                                                  |\n| geo  | BE23              | Prov. Oost-Vlaanderen                                                                                         |\n| geo  | BE231             | Arr. Aalst                                                                                                    |\n| geo  | BE232             | Arr. Dendermonde                                                                                              |\n| geo  | BE233             | Arr. Eeklo                                                                                                    |\n| geo  | BE234             | Arr. Gent                                                                                                     |\n| geo  | BE235             | Arr. Oudenaarde                                                                                               |\n| geo  | BE236             | Arr. Sint-Niklaas                                                                                             |\n| geo  | BE24              | Prov. Vlaams-Brabant                                                                                          |\n| ⋮ | ⋮ | ⋮ |\n| geo | TRA13 | Bayburt                          |\n| geo | TRA2  | Ağrı, Kars, Iğdır, Ardahan       |\n| geo | TRA21 | Ağrı                             |\n| geo | TRA22 | Kars                             |\n| geo | TRA23 | Iğdır                            |\n| geo | TRA24 | Ardahan                          |\n| geo | TRB   | Ortadoğu Anadolu                 |\n| geo | TRB1  | Malatya, Elazığ, Bingöl, Tunceli |\n| geo | TRB11 | Malatya                          |\n| geo | TRB12 | Elazığ                           |\n| geo | TRB13 | Bingöl                           |\n| geo | TRB14 | Tunceli                          |\n| geo | TRB2  | Van, Muş, Bitlis, Hakkari        |\n| geo | TRB21 | Van                              |\n| geo | TRB22 | Muş                              |\n| geo | TRB23 | Bitlis                           |\n| geo | TRB24 | Hakkari                          |\n| geo | TRC   | Güneydoğu Anadolu                |\n| geo | TRC1  | Gaziantep, Adıyaman, Kilis       |\n| geo | TRC11 | Gaziantep                        |\n| geo | TRC12 | Adıyaman                         |\n| geo | TRC13 | Kilis                            |\n| geo | TRC2  | Şanlıurfa, Diyarbakır            |\n| geo | TRC21 | Şanlıurfa                        |\n| geo | TRC22 | Diyarbakır                       |\n| geo | TRC3  | Mardin, Batman, Şırnak, Siirt    |\n| geo | TRC31 | Mardin                           |\n| geo | TRC32 | Batman                           |\n| geo | TRC33 | Şırnak                           |\n| geo | TRC34 | Siirt                            |\n\n",
            "text/latex": "A data.table: 1822 × 3\n\\begin{tabular}{lll}\n concept & code & name\\\\\n <chr> & <chr> & <chr>\\\\\n\\hline\n\t freq & A                 & Annual                                                                                                       \\\\\n\t unit & MIO\\_EUR           & Million euro                                                                                                 \\\\\n\t unit & EUR\\_HAB           & Euro per inhabitant                                                                                          \\\\\n\t unit & EUR\\_HAB\\_EU27\\_2020 & Euro per inhabitant in percentage of the EU27 (from 2020) average                                            \\\\\n\t unit & MIO\\_NAC           & Million units of national currency                                                                           \\\\\n\t unit & MIO\\_PPS\\_EU27\\_2020 & Million purchasing power standards (PPS, EU27 from 2020)                                                     \\\\\n\t unit & PPS\\_EU27\\_2020\\_HAB & Purchasing power standard (PPS, EU27 from 2020), per inhabitant                                              \\\\\n\t unit & PPS\\_HAB\\_EU27\\_2020 & Purchasing power standard (PPS, EU27 from 2020), per inhabitant in percentage of the EU27 (from 2020) average\\\\\n\t geo  & EU27\\_2020         & European Union - 27 countries (from 2020)                                                                    \\\\\n\t geo  & BE                & Belgium                                                                                                      \\\\\n\t geo  & BE1               & Région de Bruxelles-Capitale/Brussels Hoofdstedelijk Gewest                                                  \\\\\n\t geo  & BE10              & Région de Bruxelles-Capitale/Brussels Hoofdstedelijk Gewest                                                  \\\\\n\t geo  & BE100             & Arr. de Bruxelles-Capitale/Arr. Brussel-Hoofdstad                                                            \\\\\n\t geo  & BE2               & Vlaams Gewest                                                                                                \\\\\n\t geo  & BE21              & Prov. Antwerpen                                                                                              \\\\\n\t geo  & BE211             & Arr. Antwerpen                                                                                               \\\\\n\t geo  & BE212             & Arr. Mechelen                                                                                                \\\\\n\t geo  & BE213             & Arr. Turnhout                                                                                                \\\\\n\t geo  & BE22              & Prov. Limburg (BE)                                                                                           \\\\\n\t geo  & BE223             & Arr. Tongeren                                                                                                \\\\\n\t geo  & BE224             & Arr. Hasselt                                                                                                 \\\\\n\t geo  & BE225             & Arr. Maaseik                                                                                                 \\\\\n\t geo  & BE23              & Prov. Oost-Vlaanderen                                                                                        \\\\\n\t geo  & BE231             & Arr. Aalst                                                                                                   \\\\\n\t geo  & BE232             & Arr. Dendermonde                                                                                             \\\\\n\t geo  & BE233             & Arr. Eeklo                                                                                                   \\\\\n\t geo  & BE234             & Arr. Gent                                                                                                    \\\\\n\t geo  & BE235             & Arr. Oudenaarde                                                                                              \\\\\n\t geo  & BE236             & Arr. Sint-Niklaas                                                                                            \\\\\n\t geo  & BE24              & Prov. Vlaams-Brabant                                                                                         \\\\\n\t ⋮ & ⋮ & ⋮\\\\\n\t geo & TRA13 & Bayburt                         \\\\\n\t geo & TRA2  & Ağrı, Kars, Iğdır, Ardahan      \\\\\n\t geo & TRA21 & Ağrı                            \\\\\n\t geo & TRA22 & Kars                            \\\\\n\t geo & TRA23 & Iğdır                           \\\\\n\t geo & TRA24 & Ardahan                         \\\\\n\t geo & TRB   & Ortadoğu Anadolu                \\\\\n\t geo & TRB1  & Malatya, Elazığ, Bingöl, Tunceli\\\\\n\t geo & TRB11 & Malatya                         \\\\\n\t geo & TRB12 & Elazığ                          \\\\\n\t geo & TRB13 & Bingöl                          \\\\\n\t geo & TRB14 & Tunceli                         \\\\\n\t geo & TRB2  & Van, Muş, Bitlis, Hakkari       \\\\\n\t geo & TRB21 & Van                             \\\\\n\t geo & TRB22 & Muş                             \\\\\n\t geo & TRB23 & Bitlis                          \\\\\n\t geo & TRB24 & Hakkari                         \\\\\n\t geo & TRC   & Güneydoğu Anadolu               \\\\\n\t geo & TRC1  & Gaziantep, Adıyaman, Kilis      \\\\\n\t geo & TRC11 & Gaziantep                       \\\\\n\t geo & TRC12 & Adıyaman                        \\\\\n\t geo & TRC13 & Kilis                           \\\\\n\t geo & TRC2  & Şanlıurfa, Diyarbakır           \\\\\n\t geo & TRC21 & Şanlıurfa                       \\\\\n\t geo & TRC22 & Diyarbakır                      \\\\\n\t geo & TRC3  & Mardin, Batman, Şırnak, Siirt   \\\\\n\t geo & TRC31 & Mardin                          \\\\\n\t geo & TRC32 & Batman                          \\\\\n\t geo & TRC33 & Şırnak                          \\\\\n\t geo & TRC34 & Siirt                           \\\\\n\\end{tabular}\n",
            "text/plain": [
              "     concept code             \n",
              "1    freq    A                \n",
              "2    unit    MIO_EUR          \n",
              "3    unit    EUR_HAB          \n",
              "4    unit    EUR_HAB_EU27_2020\n",
              "5    unit    MIO_NAC          \n",
              "6    unit    MIO_PPS_EU27_2020\n",
              "7    unit    PPS_EU27_2020_HAB\n",
              "8    unit    PPS_HAB_EU27_2020\n",
              "9    geo     EU27_2020        \n",
              "10   geo     BE               \n",
              "11   geo     BE1              \n",
              "12   geo     BE10             \n",
              "13   geo     BE100            \n",
              "14   geo     BE2              \n",
              "15   geo     BE21             \n",
              "16   geo     BE211            \n",
              "17   geo     BE212            \n",
              "18   geo     BE213            \n",
              "19   geo     BE22             \n",
              "20   geo     BE223            \n",
              "21   geo     BE224            \n",
              "22   geo     BE225            \n",
              "23   geo     BE23             \n",
              "24   geo     BE231            \n",
              "25   geo     BE232            \n",
              "26   geo     BE233            \n",
              "27   geo     BE234            \n",
              "28   geo     BE235            \n",
              "29   geo     BE236            \n",
              "30   geo     BE24             \n",
              "⋮    ⋮       ⋮                \n",
              "1793 geo     TRA13            \n",
              "1794 geo     TRA2             \n",
              "1795 geo     TRA21            \n",
              "1796 geo     TRA22            \n",
              "1797 geo     TRA23            \n",
              "1798 geo     TRA24            \n",
              "1799 geo     TRB              \n",
              "1800 geo     TRB1             \n",
              "1801 geo     TRB11            \n",
              "1802 geo     TRB12            \n",
              "1803 geo     TRB13            \n",
              "1804 geo     TRB14            \n",
              "1805 geo     TRB2             \n",
              "1806 geo     TRB21            \n",
              "1807 geo     TRB22            \n",
              "1808 geo     TRB23            \n",
              "1809 geo     TRB24            \n",
              "1810 geo     TRC              \n",
              "1811 geo     TRC1             \n",
              "1812 geo     TRC11            \n",
              "1813 geo     TRC12            \n",
              "1814 geo     TRC13            \n",
              "1815 geo     TRC2             \n",
              "1816 geo     TRC21            \n",
              "1817 geo     TRC22            \n",
              "1818 geo     TRC3             \n",
              "1819 geo     TRC31            \n",
              "1820 geo     TRC32            \n",
              "1821 geo     TRC33            \n",
              "1822 geo     TRC34            \n",
              "     name                                                                                                         \n",
              "1    Annual                                                                                                       \n",
              "2    Million euro                                                                                                 \n",
              "3    Euro per inhabitant                                                                                          \n",
              "4    Euro per inhabitant in percentage of the EU27 (from 2020) average                                            \n",
              "5    Million units of national currency                                                                           \n",
              "6    Million purchasing power standards (PPS, EU27 from 2020)                                                     \n",
              "7    Purchasing power standard (PPS, EU27 from 2020), per inhabitant                                              \n",
              "8    Purchasing power standard (PPS, EU27 from 2020), per inhabitant in percentage of the EU27 (from 2020) average\n",
              "9    European Union - 27 countries (from 2020)                                                                    \n",
              "10   Belgium                                                                                                      \n",
              "11   Région de Bruxelles-Capitale/Brussels Hoofdstedelijk Gewest                                                  \n",
              "12   Région de Bruxelles-Capitale/Brussels Hoofdstedelijk Gewest                                                  \n",
              "13   Arr. de Bruxelles-Capitale/Arr. Brussel-Hoofdstad                                                            \n",
              "14   Vlaams Gewest                                                                                                \n",
              "15   Prov. Antwerpen                                                                                              \n",
              "16   Arr. Antwerpen                                                                                               \n",
              "17   Arr. Mechelen                                                                                                \n",
              "18   Arr. Turnhout                                                                                                \n",
              "19   Prov. Limburg (BE)                                                                                           \n",
              "20   Arr. Tongeren                                                                                                \n",
              "21   Arr. Hasselt                                                                                                 \n",
              "22   Arr. Maaseik                                                                                                 \n",
              "23   Prov. Oost-Vlaanderen                                                                                        \n",
              "24   Arr. Aalst                                                                                                   \n",
              "25   Arr. Dendermonde                                                                                             \n",
              "26   Arr. Eeklo                                                                                                   \n",
              "27   Arr. Gent                                                                                                    \n",
              "28   Arr. Oudenaarde                                                                                              \n",
              "29   Arr. Sint-Niklaas                                                                                            \n",
              "30   Prov. Vlaams-Brabant                                                                                         \n",
              "⋮    ⋮                                                                                                            \n",
              "1793 Bayburt                                                                                                      \n",
              "1794 Ağrı, Kars, Iğdır, Ardahan                                                                                   \n",
              "1795 Ağrı                                                                                                         \n",
              "1796 Kars                                                                                                         \n",
              "1797 Iğdır                                                                                                        \n",
              "1798 Ardahan                                                                                                      \n",
              "1799 Ortadoğu Anadolu                                                                                             \n",
              "1800 Malatya, Elazığ, Bingöl, Tunceli                                                                             \n",
              "1801 Malatya                                                                                                      \n",
              "1802 Elazığ                                                                                                       \n",
              "1803 Bingöl                                                                                                       \n",
              "1804 Tunceli                                                                                                      \n",
              "1805 Van, Muş, Bitlis, Hakkari                                                                                    \n",
              "1806 Van                                                                                                          \n",
              "1807 Muş                                                                                                          \n",
              "1808 Bitlis                                                                                                       \n",
              "1809 Hakkari                                                                                                      \n",
              "1810 Güneydoğu Anadolu                                                                                            \n",
              "1811 Gaziantep, Adıyaman, Kilis                                                                                   \n",
              "1812 Gaziantep                                                                                                    \n",
              "1813 Adıyaman                                                                                                     \n",
              "1814 Kilis                                                                                                        \n",
              "1815 Şanlıurfa, Diyarbakır                                                                                        \n",
              "1816 Şanlıurfa                                                                                                    \n",
              "1817 Diyarbakır                                                                                                   \n",
              "1818 Mardin, Batman, Şırnak, Siirt                                                                                \n",
              "1819 Mardin                                                                                                       \n",
              "1820 Batman                                                                                                       \n",
              "1821 Şırnak                                                                                                       \n",
              "1822 Siirt                                                                                                        "
            ]
          },
          "metadata": {}
        }
      ]
    },
    {
      "cell_type": "code",
      "source": [
        "# Barne Produktu Gordina (BPG) merkatuko prezio arruntetan NUTS 3 eskualdearen arabera (nama_10r_3gdp)\n",
        "\n",
        "bpg_lurraldeak <-get_eurostat_data(\"nama_10r_3gdp\",\n",
        "                       filters=list(unit=\"EUR_HAB\",                                             # balore bakarra nahi dugunean \"=\"\n",
        "                                    geo= c(\"EU27_2020\", \"ES21\", \"ES211\", \"ES212\", \"ES213\")      # balore bat baino gehiago nahi ditugunean \"=c(  ,  )\"\n",
        "                                    ),\n",
        "                        date_filter=\"2022\",                                             # denbora filtratzeko era asko dago: date_filter=\"2010<\", date_filter=\"2009-03:2011-06-05\"\n",
        "                        label=TRUE,                                                   # label ipintzen ez bada edo label= FALSE, kodeak azalduko dira\n",
        "                        keep_flags=TRUE)                                              # oharrak nahi badira, keep_flags=TRUE\n",
        "\n",
        "bpg_lurraldeak"
      ],
      "metadata": {
        "colab": {
          "base_uri": "https://localhost:8080/",
          "height": 255
        },
        "id": "1rt_7kJSua-6",
        "outputId": "e031b854-5d1c-4421-f3fa-007f3b53723b"
      },
      "execution_count": 10,
      "outputs": [
        {
          "output_type": "display_data",
          "data": {
            "text/html": [
              "<table class=\"dataframe\">\n",
              "<caption>A data.table: 5 × 5</caption>\n",
              "<thead>\n",
              "\t<tr><th scope=col>geo</th><th scope=col>unit</th><th scope=col>time</th><th scope=col>values</th><th scope=col>flags</th></tr>\n",
              "\t<tr><th scope=col>&lt;fct&gt;</th><th scope=col>&lt;fct&gt;</th><th scope=col>&lt;fct&gt;</th><th scope=col>&lt;dbl&gt;</th><th scope=col>&lt;fct&gt;</th></tr>\n",
              "</thead>\n",
              "<tbody>\n",
              "\t<tr><td>País Vasco                               </td><td>Euro per inhabitant</td><td>2022</td><td>36400</td><td>p</td></tr>\n",
              "\t<tr><td>Araba/Álava                              </td><td>Euro per inhabitant</td><td>2022</td><td>38600</td><td>p</td></tr>\n",
              "\t<tr><td>Gipuzkoa                                 </td><td>Euro per inhabitant</td><td>2022</td><td>36900</td><td>p</td></tr>\n",
              "\t<tr><td>Bizkaia                                  </td><td>Euro per inhabitant</td><td>2022</td><td>35500</td><td>p</td></tr>\n",
              "\t<tr><td>European Union - 27 countries (from 2020)</td><td>Euro per inhabitant</td><td>2022</td><td>36000</td><td> </td></tr>\n",
              "</tbody>\n",
              "</table>\n"
            ],
            "text/markdown": "\nA data.table: 5 × 5\n\n| geo &lt;fct&gt; | unit &lt;fct&gt; | time &lt;fct&gt; | values &lt;dbl&gt; | flags &lt;fct&gt; |\n|---|---|---|---|---|\n| País Vasco                                | Euro per inhabitant | 2022 | 36400 | p |\n| Araba/Álava                               | Euro per inhabitant | 2022 | 38600 | p |\n| Gipuzkoa                                  | Euro per inhabitant | 2022 | 36900 | p |\n| Bizkaia                                   | Euro per inhabitant | 2022 | 35500 | p |\n| European Union - 27 countries (from 2020) | Euro per inhabitant | 2022 | 36000 | <!----> |\n\n",
            "text/latex": "A data.table: 5 × 5\n\\begin{tabular}{lllll}\n geo & unit & time & values & flags\\\\\n <fct> & <fct> & <fct> & <dbl> & <fct>\\\\\n\\hline\n\t País Vasco                                & Euro per inhabitant & 2022 & 36400 & p\\\\\n\t Araba/Álava                               & Euro per inhabitant & 2022 & 38600 & p\\\\\n\t Gipuzkoa                                  & Euro per inhabitant & 2022 & 36900 & p\\\\\n\t Bizkaia                                   & Euro per inhabitant & 2022 & 35500 & p\\\\\n\t European Union - 27 countries (from 2020) & Euro per inhabitant & 2022 & 36000 &  \\\\\n\\end{tabular}\n",
            "text/plain": [
              "  geo                                       unit                time values\n",
              "1 País Vasco                                Euro per inhabitant 2022 36400 \n",
              "2 Araba/Álava                               Euro per inhabitant 2022 38600 \n",
              "3 Gipuzkoa                                  Euro per inhabitant 2022 36900 \n",
              "4 Bizkaia                                   Euro per inhabitant 2022 35500 \n",
              "5 European Union - 27 countries (from 2020) Euro per inhabitant 2022 36000 \n",
              "  flags\n",
              "1 p    \n",
              "2 p    \n",
              "3 p    \n",
              "4 p    \n",
              "5      "
            ]
          },
          "metadata": {}
        }
      ]
    },
    {
      "cell_type": "markdown",
      "source": [
        "## 5. STATISTICS API\n",
        "restatapi liburutegiak SDMX API erabiltzen du. SDMX (Statistical Data and Metadata eXchange) eta XML estandarretan oinarritzen da Eurostat datu-baseko datu multzoak bilatu, filtratu eta eskuratzeko, eta datu taula osoak deskargatzeko, TSV (tab-separated values) formatua erabiltzen du.\n",
        "\n",
        "Hala ere, restatapi erabili gabe ere datuak lor daitezke, Statistics API erabilita.\n",
        "Kasu horretan, APIaren URL batera egiten da eskaera eta datuak JSON formatuan jasotzen dira (jsonstat zehazki)."
      ],
      "metadata": {
        "id": "HW_di3z7ufqK"
      }
    },
    {
      "cell_type": "code",
      "source": [
        "# Liburutegiak instalatu\n",
        "\n",
        "install.packages(c(\"httr\", \"rjstat\"))\n",
        "\n",
        "library(httr)\n",
        "library(rjstat)"
      ],
      "metadata": {
        "colab": {
          "base_uri": "https://localhost:8080/"
        },
        "id": "3aZ_0FM-yY7x",
        "outputId": "3ef27f54-661c-4312-903c-8add497fed18"
      },
      "execution_count": 11,
      "outputs": [
        {
          "output_type": "stream",
          "name": "stderr",
          "text": [
            "Installing packages into ‘/usr/local/lib/R/site-library’\n",
            "(as ‘lib’ is unspecified)\n",
            "\n",
            "also installing the dependency ‘checkmate’\n",
            "\n",
            "\n"
          ]
        }
      ]
    },
    {
      "cell_type": "markdown",
      "source": [
        "### 5.1 Dataset osoa jeitsi\n",
        "\n",
        "Dataset osoa jeisteko,  datasetaren identifikazio kodea (id) ipini behar da URL honen bukaeran:\n",
        "\n",
        "`https://ec.europa.eu/eurostat/api/dissemination/statistics/1.0/data/{id}`\n",
        "\n",
        "GET funtzioa erabiltzen da URLari datuak eskatzeko. Datuak jsonstat formatuan jeisten dira, eta fromJSONstat funtzioa erabiliko dugu taula bihurtzeko."
      ],
      "metadata": {
        "id": "7Eta1N_1kmpw"
      }
    },
    {
      "cell_type": "code",
      "execution_count": 12,
      "metadata": {
        "colab": {
          "base_uri": "https://localhost:8080/",
          "height": 286
        },
        "id": "rhvH35WTx9BS",
        "outputId": "67ad722a-b141-40d3-f527-73b309104096"
      },
      "outputs": [
        {
          "output_type": "display_data",
          "data": {
            "text/html": [
              "<table class=\"dataframe\">\n",
              "<caption>A data.frame: 6 × 6</caption>\n",
              "<thead>\n",
              "\t<tr><th></th><th scope=col>freq</th><th scope=col>unit</th><th scope=col>na_item</th><th scope=col>geo</th><th scope=col>time</th><th scope=col>value</th></tr>\n",
              "\t<tr><th></th><th scope=col>&lt;chr&gt;</th><th scope=col>&lt;chr&gt;</th><th scope=col>&lt;chr&gt;</th><th scope=col>&lt;chr&gt;</th><th scope=col>&lt;chr&gt;</th><th scope=col>&lt;dbl&gt;</th></tr>\n",
              "</thead>\n",
              "<tbody>\n",
              "\t<tr><th scope=row>1</th><td>A</td><td>PC_EU27_2020_HAB_MEUR_CP</td><td>B1GQ</td><td>EU27_2020</td><td>1975</td><td>NA</td></tr>\n",
              "\t<tr><th scope=row>2</th><td>A</td><td>PC_EU27_2020_HAB_MEUR_CP</td><td>B1GQ</td><td>EU27_2020</td><td>1976</td><td>NA</td></tr>\n",
              "\t<tr><th scope=row>3</th><td>A</td><td>PC_EU27_2020_HAB_MEUR_CP</td><td>B1GQ</td><td>EU27_2020</td><td>1977</td><td>NA</td></tr>\n",
              "\t<tr><th scope=row>4</th><td>A</td><td>PC_EU27_2020_HAB_MEUR_CP</td><td>B1GQ</td><td>EU27_2020</td><td>1978</td><td>NA</td></tr>\n",
              "\t<tr><th scope=row>5</th><td>A</td><td>PC_EU27_2020_HAB_MEUR_CP</td><td>B1GQ</td><td>EU27_2020</td><td>1979</td><td>NA</td></tr>\n",
              "\t<tr><th scope=row>6</th><td>A</td><td>PC_EU27_2020_HAB_MEUR_CP</td><td>B1GQ</td><td>EU27_2020</td><td>1980</td><td>NA</td></tr>\n",
              "</tbody>\n",
              "</table>\n"
            ],
            "text/markdown": "\nA data.frame: 6 × 6\n\n| <!--/--> | freq &lt;chr&gt; | unit &lt;chr&gt; | na_item &lt;chr&gt; | geo &lt;chr&gt; | time &lt;chr&gt; | value &lt;dbl&gt; |\n|---|---|---|---|---|---|---|\n| 1 | A | PC_EU27_2020_HAB_MEUR_CP | B1GQ | EU27_2020 | 1975 | NA |\n| 2 | A | PC_EU27_2020_HAB_MEUR_CP | B1GQ | EU27_2020 | 1976 | NA |\n| 3 | A | PC_EU27_2020_HAB_MEUR_CP | B1GQ | EU27_2020 | 1977 | NA |\n| 4 | A | PC_EU27_2020_HAB_MEUR_CP | B1GQ | EU27_2020 | 1978 | NA |\n| 5 | A | PC_EU27_2020_HAB_MEUR_CP | B1GQ | EU27_2020 | 1979 | NA |\n| 6 | A | PC_EU27_2020_HAB_MEUR_CP | B1GQ | EU27_2020 | 1980 | NA |\n\n",
            "text/latex": "A data.frame: 6 × 6\n\\begin{tabular}{r|llllll}\n  & freq & unit & na\\_item & geo & time & value\\\\\n  & <chr> & <chr> & <chr> & <chr> & <chr> & <dbl>\\\\\n\\hline\n\t1 & A & PC\\_EU27\\_2020\\_HAB\\_MEUR\\_CP & B1GQ & EU27\\_2020 & 1975 & NA\\\\\n\t2 & A & PC\\_EU27\\_2020\\_HAB\\_MEUR\\_CP & B1GQ & EU27\\_2020 & 1976 & NA\\\\\n\t3 & A & PC\\_EU27\\_2020\\_HAB\\_MEUR\\_CP & B1GQ & EU27\\_2020 & 1977 & NA\\\\\n\t4 & A & PC\\_EU27\\_2020\\_HAB\\_MEUR\\_CP & B1GQ & EU27\\_2020 & 1978 & NA\\\\\n\t5 & A & PC\\_EU27\\_2020\\_HAB\\_MEUR\\_CP & B1GQ & EU27\\_2020 & 1979 & NA\\\\\n\t6 & A & PC\\_EU27\\_2020\\_HAB\\_MEUR\\_CP & B1GQ & EU27\\_2020 & 1980 & NA\\\\\n\\end{tabular}\n",
            "text/plain": [
              "  freq unit                     na_item geo       time value\n",
              "1 A    PC_EU27_2020_HAB_MEUR_CP B1GQ    EU27_2020 1975 NA   \n",
              "2 A    PC_EU27_2020_HAB_MEUR_CP B1GQ    EU27_2020 1976 NA   \n",
              "3 A    PC_EU27_2020_HAB_MEUR_CP B1GQ    EU27_2020 1977 NA   \n",
              "4 A    PC_EU27_2020_HAB_MEUR_CP B1GQ    EU27_2020 1978 NA   \n",
              "5 A    PC_EU27_2020_HAB_MEUR_CP B1GQ    EU27_2020 1979 NA   \n",
              "6 A    PC_EU27_2020_HAB_MEUR_CP B1GQ    EU27_2020 1980 NA   "
            ]
          },
          "metadata": {}
        }
      ],
      "source": [
        "\n",
        "url <- \"https://ec.europa.eu/eurostat/api/dissemination/statistics/1.0/data/nama_10_pc\"\n",
        "\n",
        "datuak <- GET(url)\n",
        "\n",
        "json_data <- content(datuak, \"text\", encoding = \"UTF-8\")\n",
        "NAMA <- fromJSONstat(json_data, naming = \"id\")   # naming=\"id\" kodeentzat eta naming=\"label\" testuentzat\n",
        "head(NAMA)"
      ]
    },
    {
      "cell_type": "markdown",
      "source": [
        "### 5.2 Datasetaren zati bat bakarri jeitsi (datuak filtratuz)\n",
        "\n",
        "Aurreko puntuan ikusitako URLari filtroak gehitzen zaizkio, kateatuta, helbidean bertan:\n",
        "\n",
        "`https://ec.europa.eu/eurostat/api/dissemination/statistics/1.0/data/{id}?{formatua}&{lang}&{filtroak}`\n",
        "\n",
        "GET funtzioa erabiltzen da URLari datuak eskatzeko. Datuak jsonstat formatuan jeisten dira, eta fromJSONstat funtzioa erabiliko dugu taula bihurtzeko.\n",
        "\n",
        "Filtroak zehazteko orduan, oso erabilgarria da [query builder](https://ec.europa.eu/eurostat/web/query-builder/tool) tresna.\n"
      ],
      "metadata": {
        "id": "PIsaEHjE9eUp"
      }
    },
    {
      "cell_type": "code",
      "source": [
        "\n",
        "url <- \"https://ec.europa.eu/eurostat/api/dissemination/statistics/1.0/data/nama_10_pc?format=JSON&sinceTimePeriod=2015&geo=EU27_2020&geo=ES&geo=FR&geo=HR&unit=PC_EU27_2020_HAB_MEUR_CP&na_item=B1GQ&lang=EN\"\n",
        "\n",
        "datuak <- GET(url)\n",
        "\n",
        "json_data <- content(datuak, \"text\", encoding = \"UTF-8\")\n",
        "NAMA_filtratuta<- fromJSONstat(json_data, naming = \"id\")   # naming=\"id\" kodeentzat eta naming=\"label\" testuentzat\n",
        "head(NAMA_filtratuta)"
      ],
      "metadata": {
        "id": "WWIINCBPyDq3",
        "colab": {
          "base_uri": "https://localhost:8080/",
          "height": 286
        },
        "outputId": "e161b9f7-f81b-45bf-bb38-4956a9352272"
      },
      "execution_count": 13,
      "outputs": [
        {
          "output_type": "display_data",
          "data": {
            "text/html": [
              "<table class=\"dataframe\">\n",
              "<caption>A data.frame: 6 × 6</caption>\n",
              "<thead>\n",
              "\t<tr><th></th><th scope=col>freq</th><th scope=col>unit</th><th scope=col>na_item</th><th scope=col>geo</th><th scope=col>time</th><th scope=col>value</th></tr>\n",
              "\t<tr><th></th><th scope=col>&lt;chr&gt;</th><th scope=col>&lt;chr&gt;</th><th scope=col>&lt;chr&gt;</th><th scope=col>&lt;chr&gt;</th><th scope=col>&lt;chr&gt;</th><th scope=col>&lt;dbl&gt;</th></tr>\n",
              "</thead>\n",
              "<tbody>\n",
              "\t<tr><th scope=row>1</th><td>A</td><td>PC_EU27_2020_HAB_MEUR_CP</td><td>B1GQ</td><td>EU27_2020</td><td>2015</td><td>100</td></tr>\n",
              "\t<tr><th scope=row>2</th><td>A</td><td>PC_EU27_2020_HAB_MEUR_CP</td><td>B1GQ</td><td>EU27_2020</td><td>2016</td><td>100</td></tr>\n",
              "\t<tr><th scope=row>3</th><td>A</td><td>PC_EU27_2020_HAB_MEUR_CP</td><td>B1GQ</td><td>EU27_2020</td><td>2017</td><td>100</td></tr>\n",
              "\t<tr><th scope=row>4</th><td>A</td><td>PC_EU27_2020_HAB_MEUR_CP</td><td>B1GQ</td><td>EU27_2020</td><td>2018</td><td>100</td></tr>\n",
              "\t<tr><th scope=row>5</th><td>A</td><td>PC_EU27_2020_HAB_MEUR_CP</td><td>B1GQ</td><td>EU27_2020</td><td>2019</td><td>100</td></tr>\n",
              "\t<tr><th scope=row>6</th><td>A</td><td>PC_EU27_2020_HAB_MEUR_CP</td><td>B1GQ</td><td>EU27_2020</td><td>2020</td><td>100</td></tr>\n",
              "</tbody>\n",
              "</table>\n"
            ],
            "text/markdown": "\nA data.frame: 6 × 6\n\n| <!--/--> | freq &lt;chr&gt; | unit &lt;chr&gt; | na_item &lt;chr&gt; | geo &lt;chr&gt; | time &lt;chr&gt; | value &lt;dbl&gt; |\n|---|---|---|---|---|---|---|\n| 1 | A | PC_EU27_2020_HAB_MEUR_CP | B1GQ | EU27_2020 | 2015 | 100 |\n| 2 | A | PC_EU27_2020_HAB_MEUR_CP | B1GQ | EU27_2020 | 2016 | 100 |\n| 3 | A | PC_EU27_2020_HAB_MEUR_CP | B1GQ | EU27_2020 | 2017 | 100 |\n| 4 | A | PC_EU27_2020_HAB_MEUR_CP | B1GQ | EU27_2020 | 2018 | 100 |\n| 5 | A | PC_EU27_2020_HAB_MEUR_CP | B1GQ | EU27_2020 | 2019 | 100 |\n| 6 | A | PC_EU27_2020_HAB_MEUR_CP | B1GQ | EU27_2020 | 2020 | 100 |\n\n",
            "text/latex": "A data.frame: 6 × 6\n\\begin{tabular}{r|llllll}\n  & freq & unit & na\\_item & geo & time & value\\\\\n  & <chr> & <chr> & <chr> & <chr> & <chr> & <dbl>\\\\\n\\hline\n\t1 & A & PC\\_EU27\\_2020\\_HAB\\_MEUR\\_CP & B1GQ & EU27\\_2020 & 2015 & 100\\\\\n\t2 & A & PC\\_EU27\\_2020\\_HAB\\_MEUR\\_CP & B1GQ & EU27\\_2020 & 2016 & 100\\\\\n\t3 & A & PC\\_EU27\\_2020\\_HAB\\_MEUR\\_CP & B1GQ & EU27\\_2020 & 2017 & 100\\\\\n\t4 & A & PC\\_EU27\\_2020\\_HAB\\_MEUR\\_CP & B1GQ & EU27\\_2020 & 2018 & 100\\\\\n\t5 & A & PC\\_EU27\\_2020\\_HAB\\_MEUR\\_CP & B1GQ & EU27\\_2020 & 2019 & 100\\\\\n\t6 & A & PC\\_EU27\\_2020\\_HAB\\_MEUR\\_CP & B1GQ & EU27\\_2020 & 2020 & 100\\\\\n\\end{tabular}\n",
            "text/plain": [
              "  freq unit                     na_item geo       time value\n",
              "1 A    PC_EU27_2020_HAB_MEUR_CP B1GQ    EU27_2020 2015 100  \n",
              "2 A    PC_EU27_2020_HAB_MEUR_CP B1GQ    EU27_2020 2016 100  \n",
              "3 A    PC_EU27_2020_HAB_MEUR_CP B1GQ    EU27_2020 2017 100  \n",
              "4 A    PC_EU27_2020_HAB_MEUR_CP B1GQ    EU27_2020 2018 100  \n",
              "5 A    PC_EU27_2020_HAB_MEUR_CP B1GQ    EU27_2020 2019 100  \n",
              "6 A    PC_EU27_2020_HAB_MEUR_CP B1GQ    EU27_2020 2020 100  "
            ]
          },
          "metadata": {}
        }
      ]
    },
    {
      "cell_type": "markdown",
      "source": [
        "## 6. GEHIAGO JAKITEKO\n",
        "\n",
        "*   [restatapi-ren erreferentziako manuala](https://cran.r-project.org/web/packages/restatapi/refman/restatapi.html)\n",
        "\n",
        "[Eurostaten github kontuko](https://github.com/eurostat/README) tresna batzuk:\n",
        "\n",
        "*    [pyrostat](https://github.com/eurostat/pyrostat) Eurostaten APIrako python liburutegia\n",
        "*    [PowerBI-connector](https://github.com/eurostat/PowerBI-connector): Eurostaten APIa PowerBIri konektatzea errazten duen tresna\n",
        "*    [statistics-coded](https://github.com/eurostat/statistics-coded): Eurostat Statistics Explained artikuluetan aurkeztutako grafiko eta taulak erreproduzitzeko notebook-ak. Datuak API bidez eskatzen dira. R eta python-en.\n",
        "\n",
        "Datuak eta metadatuak trukatzeko estandarrak:\n",
        "*    [DCAT-AP aplikazio profila](https://datos.gob.es/es/conocimiento/recursos-disponibles-para-conocer-mas-sobre-dcat-ap)\n",
        "*    [DCAT-AP-ES aplikazio profila Espainiarako](https://datos.gob.es/es/blog/dcat-ap-es-un-paso-adelante-en-la-interoperabilidad-de-datos-abiertos)\n",
        "\n",
        "*    [SDMX - Statistical Data and Metadata eXchange](https://sdmx.org/) eta  [Europako sdmx erregistroa](https://webgate.ec.europa.eu/fusionregistry/)"
      ],
      "metadata": {
        "id": "gh70sKVBgMBj"
      }
    }
  ]
}